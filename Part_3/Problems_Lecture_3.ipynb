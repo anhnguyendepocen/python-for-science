{
 "cells": [
  {
   "cell_type": "markdown",
   "metadata": {},
   "source": [
    "# Beginner Python and Math for Data Science\n",
    "## Lecture 3\n",
    "### If Statements, Loops, Functions and Code Management "
   ]
  },
  {
   "cell_type": "markdown",
   "metadata": {},
   "source": [
    "### Problem 1:\n",
    "\n",
    "Write a program to check if a value is positive, zero, or negative. \n",
    "\n",
    "- The program should print the result (i.e. \"Value is positive\")\n",
    "- Check your program works by creating a positive, zero, and negative variable and ensure the program outputs the correct response every time\n",
    "- Use if statements"
   ]
  },
  {
   "cell_type": "code",
   "execution_count": 54,
   "metadata": {},
   "outputs": [
    {
     "name": "stdout",
     "output_type": "stream",
     "text": [
      "value is positive\n"
     ]
    }
   ],
   "source": [
    "# test for positive number \n",
    "value = 10\n",
    "if value < 0:\n",
    "    print('value is negative.')\n",
    "elif value == 0:\n",
    "    print('value is zero')\n",
    "else:\n",
    "    print('value is positive')"
   ]
  },
  {
   "cell_type": "code",
   "execution_count": 55,
   "metadata": {},
   "outputs": [
    {
     "name": "stdout",
     "output_type": "stream",
     "text": [
      "value is negative.\n"
     ]
    }
   ],
   "source": [
    "# test for negative number \n",
    "value = -3\n",
    "if value < 0:\n",
    "    print('value is negative.')\n",
    "elif value == 0:\n",
    "    print('value is zero')\n",
    "else:\n",
    "    print('value is positive')"
   ]
  },
  {
   "cell_type": "code",
   "execution_count": 56,
   "metadata": {},
   "outputs": [
    {
     "name": "stdout",
     "output_type": "stream",
     "text": [
      "value is zero\n"
     ]
    }
   ],
   "source": [
    "# test for zero\n",
    "value = 0\n",
    "if value < 0:\n",
    "    print('value is negative.')\n",
    "elif value == 0:\n",
    "    print('value is zero')\n",
    "else:\n",
    "    print('value is positive')"
   ]
  },
  {
   "cell_type": "markdown",
   "metadata": {},
   "source": [
    "### Problem 2:\n",
    "\n",
    "Write a program to check if a year is a leap year (see below for the method to determine if a year is a leap year):\n",
    "\n",
    "1. If the year is evenly divisible by 4, go to step 2. Otherwise, go to step 5.\n",
    "2. If the year is evenly divisible by 100, go to step 3. Otherwise, go to step 4.\n",
    "3. If the year is evenly divisible by 400, go to step 4. Otherwise, go to step 5.\n",
    "4. The year is a leap year (it has 366 days).\n",
    "5. The year is not a leap year (it has 365 days).\n",
    "\n",
    "Notes:\n",
    "1. Use nested if-else statements in your answer \n",
    "2. Test your program using the year 2018"
   ]
  },
  {
   "cell_type": "code",
   "execution_count": 57,
   "metadata": {},
   "outputs": [
    {
     "name": "stdout",
     "output_type": "stream",
     "text": [
      "2018 is not a leap year\n"
     ]
    }
   ],
   "source": [
    "year = 2018\n",
    "if (year % 4) == 0:\n",
    "    if (year % 100) == 0:\n",
    "        if (year % 400) == 0:\n",
    "            print(\"{0} is a leap year\".format(year))\n",
    "        else:\n",
    "            print(\"{0} is not a leap year\".format(year))\n",
    "    else:\n",
    "        print(\"{0} is not a leap year\".format(year))\n",
    "else:\n",
    "    print(\"{0} is not a leap year\".format(year))"
   ]
  },
  {
   "cell_type": "markdown",
   "metadata": {},
   "source": [
    "### Problem 3\n",
    "\n",
    "Write a program to calculate the maximum value of a list: `[3, 36, 154, 2, 145]` \n",
    "\n",
    "- You should used a `for` loop in your answer\n",
    "- You should use an `if` statement in your answer\n",
    "- Do not use any built-in Python functions\n",
    "- Print the maximum value of the list at the end of your program"
   ]
  },
  {
   "cell_type": "code",
   "execution_count": 58,
   "metadata": {},
   "outputs": [
    {
     "name": "stdout",
     "output_type": "stream",
     "text": [
      "154\n"
     ]
    }
   ],
   "source": [
    "my_list = [3, 36, 154, 2, 145]\n",
    "\n",
    "max_num = my_list[0]\n",
    "for num in my_list:\n",
    "    if num > max_num:\n",
    "        max_num = num\n",
    "        \n",
    "print(max_num)"
   ]
  },
  {
   "cell_type": "markdown",
   "metadata": {},
   "source": [
    "### Problem 4\n",
    "\n",
    "Write a program to find and print the duplicates in the following list `[1,3,3,4,5,6,6]`. Store the duplicate values in a new list and print this new list. \n",
    "- You may need to use an \"If-Else Statement\" in your answer\n",
    "- You may want to leverage the `set()` type (recall its purpose from Lecture 2)\n",
    "- Ensure your program works properly by changing the list with one that has only unique elements"
   ]
  },
  {
   "cell_type": "code",
   "execution_count": 59,
   "metadata": {},
   "outputs": [
    {
     "name": "stdout",
     "output_type": "stream",
     "text": [
      "1 is not a duplicate\n",
      "3 is a duplicate\n",
      "3 is a duplicate\n",
      "4 is not a duplicate\n",
      "5 is not a duplicate\n",
      "6 is a duplicate\n",
      "6 is a duplicate\n",
      "[3, 6]\n"
     ]
    }
   ],
   "source": [
    "# test 1 \n",
    "my_list = [1,3,3,4,5,6,6]\n",
    "new_list = set()\n",
    "\n",
    "for i in my_list:\n",
    "    if my_list.count(i) >= 2:\n",
    "        print(\"{} is a duplicate\".format(i))\n",
    "        new_list.add(i)\n",
    "    else:\n",
    "        print(\"{} is not a duplicate\".format(i))\n",
    "\n",
    "print(list(new_list))"
   ]
  },
  {
   "cell_type": "code",
   "execution_count": 60,
   "metadata": {},
   "outputs": [
    {
     "name": "stdout",
     "output_type": "stream",
     "text": [
      "1 is not a duplicate\n",
      "3 is not a duplicate\n",
      "4 is not a duplicate\n",
      "5 is not a duplicate\n",
      "6 is not a duplicate\n",
      "[]\n"
     ]
    }
   ],
   "source": [
    "# test 2\n",
    "my_list = [1,3,4,5,6]\n",
    "new_list = set()\n",
    "\n",
    "for i in my_list:\n",
    "    if my_list.count(i) >= 2:\n",
    "        print(\"{} is a duplicate\".format(i))\n",
    "        new_list.add(i)\n",
    "    else:\n",
    "        print(\"{} is not a duplicate\".format(i))\n",
    "\n",
    "print(list(new_list))"
   ]
  },
  {
   "cell_type": "markdown",
   "metadata": {},
   "source": [
    "### Problem 5 \n",
    "\n",
    "Write a Function to return the minimum and maximum of a non-empty list. For example, try finding the minimum and maximum of the list `[1,3,5,10,12,2,0]`. Your function should return both values as a `tuple` in the form of (`min`, `max`) as such (0, 10). \n",
    "\n",
    "- Call the function `minimax` and it should accept one argument - the list (call it `x`)\n",
    "- You will need a `for` loop to traverse the list that is passed in \n",
    "- Hint: Set the `min` and `max` as the first value in the list and iterate starting at position `1` to check if you should reassign your `min` and `max` variables. If you don't need to reset them, just move on to the next iteration. If you do need to reset them, reassign them appropriately\n",
    "- Check that your function works by passing in the list above and ensure it returns `(0, 10)`. Try with some other lists \n",
    "- Assume the list passed in is non-empty to make things easier "
   ]
  },
  {
   "cell_type": "code",
   "execution_count": 61,
   "metadata": {},
   "outputs": [],
   "source": [
    "# minimax function\n",
    "def minimax(x):\n",
    "    minimum = maximum = x[0]\n",
    "    for i in x[1:]:\n",
    "        if i < minimum: \n",
    "            minimum = i \n",
    "        else: \n",
    "            if i > maximum: maximum = i\n",
    "    return (minimum,maximum)"
   ]
  },
  {
   "cell_type": "code",
   "execution_count": 62,
   "metadata": {},
   "outputs": [
    {
     "data": {
      "text/plain": [
       "(0, 12)"
      ]
     },
     "execution_count": 62,
     "metadata": {},
     "output_type": "execute_result"
    }
   ],
   "source": [
    "my_list = [1,3,5,10,12,2,0]\n",
    "minimax(my_list)"
   ]
  }
 ],
 "metadata": {
  "kernelspec": {
   "display_name": "Python 3",
   "language": "python",
   "name": "python3"
  },
  "language_info": {
   "codemirror_mode": {
    "name": "ipython",
    "version": 3
   },
   "file_extension": ".py",
   "mimetype": "text/x-python",
   "name": "python",
   "nbconvert_exporter": "python",
   "pygments_lexer": "ipython3",
   "version": "3.6.5"
  }
 },
 "nbformat": 4,
 "nbformat_minor": 2
}
