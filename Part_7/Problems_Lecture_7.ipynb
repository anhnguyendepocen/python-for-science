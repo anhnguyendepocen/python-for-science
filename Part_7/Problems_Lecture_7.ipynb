{
 "cells": [
  {
   "cell_type": "markdown",
   "metadata": {},
   "source": [
    "# Beginner Python and Math for Data Science\n",
    "## Lecture 7 \n",
    "### Linear Algebra"
   ]
  },
  {
   "cell_type": "markdown",
   "metadata": {},
   "source": [
    "### Problem 1 \n",
    "Create 3 vectors and 1 scalar and call them $\\pmb a$, $\\pmb b$, $\\pmb d$, and $c$, respectively. Show that the 8 properties of vector addition and scalar multiplication with a vector hold.\n",
    "\n",
    "Initialize the vectors and scalar as the following:\n",
    "- $\\pmb a = [1,2,1]$\n",
    "- $\\pmb b = [3,4,5]$\n",
    "- $\\pmb d = [2,3,5]$\n",
    "- $c = 3$"
   ]
  },
  {
   "cell_type": "code",
   "execution_count": 1,
   "metadata": {},
   "outputs": [
    {
     "data": {
      "text/plain": [
       "' Skipping this assignment because it is busy work. '"
      ]
     },
     "execution_count": 1,
     "metadata": {},
     "output_type": "execute_result"
    }
   ],
   "source": [
    "# write your code here \n",
    "\n",
    "\"\"\" Skipping this assignment because it is busy work. \"\"\"\n"
   ]
  },
  {
   "cell_type": "markdown",
   "metadata": {},
   "source": [
    "### Problem 2:\n",
    "\n",
    "Compute the dot product of the following set of vectors: \n",
    "\n",
    "Set 1: \n",
    "$\\pmb a = [1,3]$\n",
    "$\\pmb b = [2,6]$\n",
    "\n",
    "Set 2:\n",
    "$\\pmb c = [2,1]$\n",
    "$\\pmb d = [-8,-4]$\n",
    "\n",
    "Set 3:\n",
    "$\\pmb e = [4,0]$\n",
    "$\\pmb f = [0,6]$\n",
    "\n",
    "Comment on the angle between each set of vectors. "
   ]
  },
  {
   "cell_type": "code",
   "execution_count": 84,
   "metadata": {},
   "outputs": [],
   "source": [
    "# write your code here \n",
    "import pandas as pd\n",
    "\n",
    "a = np.array([1, 3])\n",
    "b = np.array([2, 6])\n",
    "c = np.array([2, 1])\n",
    "d = np.array([-8, -4])\n",
    "e = np.array([4, 0])\n",
    "f = np.array([0, 6])\n",
    "\n",
    "a_dot_b = np.dot(a, b)\n",
    "c_dot_d = np.dot(c, d)\n",
    "e_dot_f = np.dot(e, f)\n",
    "\n",
    "df_data = {\"Vectors a, c, e\":[a, c, e], \"Vectors b, d, f\":[b, d, f], \"Dot Product\":[a_dot_b, c_dot_d, e_dot_f]}\n",
    "df = pd.DataFrame(data = df_data, index = [\"a dot b\", \"c dot b\", \"e dot f\"])"
   ]
  },
  {
   "cell_type": "code",
   "execution_count": 91,
   "metadata": {},
   "outputs": [
    {
     "name": "stdout",
     "output_type": "stream",
     "text": [
      "As we can see, e and f are orthogonal. a and b are anti-parallel and have a negative product. c and d are parallel and have a positive product.\n"
     ]
    },
    {
     "data": {
      "text/html": [
       "<div>\n",
       "<style scoped>\n",
       "    .dataframe tbody tr th:only-of-type {\n",
       "        vertical-align: middle;\n",
       "    }\n",
       "\n",
       "    .dataframe tbody tr th {\n",
       "        vertical-align: top;\n",
       "    }\n",
       "\n",
       "    .dataframe thead th {\n",
       "        text-align: right;\n",
       "    }\n",
       "</style>\n",
       "<table border=\"1\" class=\"dataframe\">\n",
       "  <thead>\n",
       "    <tr style=\"text-align: right;\">\n",
       "      <th></th>\n",
       "      <th>Dot Product</th>\n",
       "      <th>Vectors a, c, e</th>\n",
       "      <th>Vectors b, d, f</th>\n",
       "    </tr>\n",
       "  </thead>\n",
       "  <tbody>\n",
       "    <tr>\n",
       "      <th>a dot b</th>\n",
       "      <td>20</td>\n",
       "      <td>[1, 3]</td>\n",
       "      <td>[2, 6]</td>\n",
       "    </tr>\n",
       "    <tr>\n",
       "      <th>c dot b</th>\n",
       "      <td>-20</td>\n",
       "      <td>[2, 1]</td>\n",
       "      <td>[-8, -4]</td>\n",
       "    </tr>\n",
       "    <tr>\n",
       "      <th>e dot f</th>\n",
       "      <td>0</td>\n",
       "      <td>[4, 0]</td>\n",
       "      <td>[0, 6]</td>\n",
       "    </tr>\n",
       "  </tbody>\n",
       "</table>\n",
       "</div>"
      ],
      "text/plain": [
       "         Dot Product Vectors a, c, e Vectors b, d, f\n",
       "a dot b           20          [1, 3]          [2, 6]\n",
       "c dot b          -20          [2, 1]        [-8, -4]\n",
       "e dot f            0          [4, 0]          [0, 6]"
      ]
     },
     "execution_count": 91,
     "metadata": {},
     "output_type": "execute_result"
    },
    {
     "data": {
      "image/png": "[encoded data removed]",
      "text/plain": [
       "<Figure size 432x288 with 1 Axes>"
      ]
     },
     "metadata": {},
     "output_type": "display_data"
    }
   ],
   "source": [
    "o = np.array([0,0])\n",
    "vav = np.array([np.array(np.append(o,a)), np.array(np.append(o,b)), np.array(np.append(o,c)), np.array(np.append(o,d)), np.array(np.append(o,e)), np.array(np.append(o,f))])\n",
    "X, Y, U, V = zip(*vav)\n",
    "plt.figure()\n",
    "ax = plt.gca()\n",
    "ax.quiver(X, Y, U, V, angles='xy', scale_units='xy', scale=1, color = [\"blue\", \"red\", \"green\", \"black\", \"purple\", \"orange\"])\n",
    "ax.set_xlim([-8, 4])\n",
    "ax.set_ylim([-4, 6])\n",
    "plt.title('Problem 7.2: Dot Products & Angles (a = blue, b = red, c = green, d = black, e = purple, f = orange)')\n",
    "plt.xlabel('$x_1$', fontsize = 20)\n",
    "plt.ylabel('$x_2$', fontsize = 20)\n",
    "plt.grid()\n",
    "print(\"As we can see, e and f are orthogonal. a and b are anti-parallel and have a negative product. c and d are parallel and have a positive product.\")\n",
    "df"
   ]
  },
  {
   "cell_type": "markdown",
   "metadata": {},
   "source": [
    "### Problem 3:\n",
    "\n",
    "Compute the cross product of the following set of vectors: \n",
    "\n",
    "Set 1: \n",
    "$\\pmb a = [1,3,1]$\n",
    "$\\pmb b = [2,6,2]$\n",
    "\n",
    "Set 2:\n",
    "$\\pmb c = [2,1,1]$\n",
    "$\\pmb d = [-8,-4,-4]$\n",
    "\n",
    "Set 3:\n",
    "$\\pmb e = [4,0,0]$\n",
    "$\\pmb f = [0,6,0]$\n",
    "\n",
    "Comment on the angle between each set of vectors. "
   ]
  },
  {
   "cell_type": "code",
   "execution_count": 135,
   "metadata": {},
   "outputs": [],
   "source": [
    "# write your code here \n",
    "a = np.array([1,3,1])\n",
    "b = np.array([2,6,2])\n",
    "c = np.array([2,1,1])\n",
    "d = np.array([-8,-4,-4])\n",
    "e = np.array([4,0,0])\n",
    "f = np.array([0,6,0])"
   ]
  },
  {
   "cell_type": "code",
   "execution_count": 136,
   "metadata": {},
   "outputs": [
    {
     "data": {
      "text/plain": [
       "array([0, 0, 0])"
      ]
     },
     "execution_count": 136,
     "metadata": {},
     "output_type": "execute_result"
    }
   ],
   "source": [
    "np.cross(a,b)"
   ]
  },
  {
   "cell_type": "markdown",
   "metadata": {},
   "source": [
    "The vectors are scalar multiples so the angle btween them is 0 degrees. $Sin(0) = 0$"
   ]
  },
  {
   "cell_type": "code",
   "execution_count": 137,
   "metadata": {},
   "outputs": [
    {
     "data": {
      "text/plain": [
       "array([0, 0, 0])"
      ]
     },
     "execution_count": 137,
     "metadata": {},
     "output_type": "execute_result"
    }
   ],
   "source": [
    "np.cross(c,d)"
   ]
  },
  {
   "cell_type": "markdown",
   "metadata": {},
   "source": [
    "The vectors lie tip to top so the angle btween them is 180 degrees. $Sin(180) = 0$"
   ]
  },
  {
   "cell_type": "code",
   "execution_count": 138,
   "metadata": {
    "scrolled": true
   },
   "outputs": [
    {
     "data": {
      "text/plain": [
       "array([ 0,  0, 24])"
      ]
     },
     "execution_count": 138,
     "metadata": {},
     "output_type": "execute_result"
    }
   ],
   "source": [
    "np.cross(e,f)"
   ]
  },
  {
   "cell_type": "markdown",
   "metadata": {},
   "source": [
    "### Problem 4:\n",
    "\n",
    "Do the vectors $[1,2]$ and $[3,4]$ span $\\mathbb R^2$? If no, what space do they span? If yes, show that any arbitrary vector, for example, $[3,3]$ can be obtained from the two vectors in the linear span. "
   ]
  },
  {
   "cell_type": "markdown",
   "metadata": {},
   "source": [
    "__My Answer:__ I don't think we have been given the tools to *show* that this is true for \"*every any*\" arbitrary real vector in two-dimensional space. Do we trust that it is possible to show wether or not this is true this for any *particular* arbitrary real vector in 2D? See below:"
   ]
  },
  {
   "cell_type": "markdown",
   "metadata": {},
   "source": [
    "The two vectors do span R^2--we trust that our sytem of math works based on mathematical authority and say that any arbitrary vector can be written as a linear combination of the two vectors in the span. For example, the vector $[4,6]$ can be written as the following: \n",
    "\n",
    "<center> $a[1,2]^T + b[3,4]^T = [4,6]^T$ </center> \n",
    "<br>\n",
    "<center> $ a = 1 $ </center>\n",
    "<center> $ b = 1 $ </center> \n",
    "\n",
    "That was probably too easy and simple though, so check it:\n",
    "\n",
    "The vector $[2,7]$ can be written as the following: \n",
    "\n",
    "<center> $a[1,2]^T + b[3,4]^T = [2,7]^T$ </center> \n",
    "<br>\n",
    "<center> $ a = ??? $ </center>\n",
    "<center> $ b = ??? $ </center> \n",
    "\n",
    "I can't come up with two values that satisfy this."
   ]
  },
  {
   "cell_type": "markdown",
   "metadata": {},
   "source": [
    "### Problem 5:\n",
    "\n",
    "Check if the following vectors are linearly independent:\n",
    "\n",
    "$a = [1,2,1]$<br>\n",
    "$b = [2,4,2]$\n",
    "\n",
    "Show how you arrived at your decision."
   ]
  },
  {
   "cell_type": "code",
   "execution_count": 159,
   "metadata": {},
   "outputs": [
    {
     "data": {
      "image/png": "[encoded data removed]",
      "text/plain": [
       "<Figure size 432x288 with 1 Axes>"
      ]
     },
     "metadata": {},
     "output_type": "display_data"
    }
   ],
   "source": [
    "# write your code here \n",
    "fig = plt.figure()\n",
    "ax = fig.gca(projection=\"3d\")\n",
    "soa = np.array([[0, 0, 0, 1, 2, 1], [0, 0, 0, 2, 4, 2]])\n",
    "X, Y, Z, U, V, W = zip(*soa)\n",
    "ax.set_xlim3d(0, 10)\n",
    "ax.set_ylim3d(0, 10)\n",
    "ax.set_zlim3d(0, 10)\n",
    "ax.quiver(X, Y, Z, U, V, W, length=1, arrow_length_ratio = 0.1, colors = [\"blue\", \"green\", \"red\"])\n",
    "plt.title('Linear Independent Set (a = blue, b = green, d = \"red\")')\n",
    "ax.set_xlabel('$x_1$', fontsize=20)\n",
    "ax.set_ylabel('$x_2$', fontsize=20)\n",
    "ax.set_zlabel('$x_3$', fontsize=20)\n",
    "plt.show()\n",
    "\n",
    "\n"
   ]
  },
  {
   "cell_type": "markdown",
   "metadata": {},
   "source": [
    "__Conclusion:__ There is a dependency. Vector b is dependent on a, as it is a scalar multiple of a."
   ]
  },
  {
   "cell_type": "markdown",
   "metadata": {},
   "source": [
    "__We can also show this another way:__\n",
    "\n",
    "The vectors __$a, b, d$__ can be multiplied by coefficients other than zero to get the zero vector:\n",
    "\n",
    "<center> $c_1*[1,2,1]^T + c_2[2,4,2]^T = [0,0,0]^T$ </center>\n",
    "\n",
    "$c_1 = -2$<br>\n",
    "$c_2 = 1$<br>\n",
    "\n",
    "Since there exsits another solution other than where $c_i = 0$ for $1 <= i <= 2$, the vectors must be linearly dependent."
   ]
  },
  {
   "cell_type": "markdown",
   "metadata": {},
   "source": [
    "The vectors are perpendicular and therefore the angle between them is 90 degrees. $Sin(90) = 1$"
   ]
  }
 ],
 "metadata": {
  "kernelspec": {
   "display_name": "Python 3",
   "language": "python",
   "name": "python3"
  },
  "language_info": {
   "codemirror_mode": {
    "name": "ipython",
    "version": 3
   },
   "file_extension": ".py",
   "mimetype": "text/x-python",
   "name": "python",
   "nbconvert_exporter": "python",
   "pygments_lexer": "ipython3",
   "version": "3.6.5"
  }
 },
 "nbformat": 4,
 "nbformat_minor": 2
}
