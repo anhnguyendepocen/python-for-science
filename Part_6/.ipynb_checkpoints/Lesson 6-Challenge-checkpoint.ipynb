{
 "cells": [
  {
   "cell_type": "markdown",
   "metadata": {},
   "source": [
    "# Beginner Python and Math for Data Science\n",
    "## Lecture 6 - Challenge\n",
    "### Matplotlib"
   ]
  },
  {
   "cell_type": "markdown",
   "metadata": {},
   "source": [
    "### Real Data Set\n",
    "Let's switch gear and work with a real data set from homes being sold in the Seattle area.\n",
    "\n",
    "Let's start by reading and exploring the data."
   ]
  },
  {
   "cell_type": "code",
   "execution_count": 1,
   "metadata": {},
   "outputs": [],
   "source": [
    "import matplotlib.pyplot as plt\n",
    "import numpy as np\n",
    "import pandas as pd\n",
    "\n",
    "# this statement allows the visuals to render within your Jupyter Notebook\n",
    "%matplotlib inline "
   ]
  },
  {
   "cell_type": "code",
   "execution_count": 2,
   "metadata": {},
   "outputs": [],
   "source": [
    "data = pd.read_csv('data/SeattleHomePrices.csv')"
   ]
  },
  {
   "cell_type": "code",
   "execution_count": 3,
   "metadata": {},
   "outputs": [
    {
     "data": {
      "text/html": [
       "<div>\n",
       "<style scoped>\n",
       "    .dataframe tbody tr th:only-of-type {\n",
       "        vertical-align: middle;\n",
       "    }\n",
       "\n",
       "    .dataframe tbody tr th {\n",
       "        vertical-align: top;\n",
       "    }\n",
       "\n",
       "    .dataframe thead th {\n",
       "        text-align: right;\n",
       "    }\n",
       "</style>\n",
       "<table border=\"1\" class=\"dataframe\">\n",
       "  <thead>\n",
       "    <tr style=\"text-align: right;\">\n",
       "      <th></th>\n",
       "      <th>SALE TYPE</th>\n",
       "      <th>SOLD DATE</th>\n",
       "      <th>PROPERTY TYPE</th>\n",
       "      <th>ADDRESS</th>\n",
       "      <th>CITY</th>\n",
       "      <th>STATE</th>\n",
       "      <th>ZIP</th>\n",
       "      <th>PRICE</th>\n",
       "      <th>BEDS</th>\n",
       "      <th>BATHS</th>\n",
       "      <th>...</th>\n",
       "      <th>STATUS</th>\n",
       "      <th>NEXT OPEN HOUSE START TIME</th>\n",
       "      <th>NEXT OPEN HOUSE END TIME</th>\n",
       "      <th>URL (SEE http://www.redfin.com/buy-a-home/comparative-market-analysis FOR INFO ON PRICING)</th>\n",
       "      <th>SOURCE</th>\n",
       "      <th>MLS#</th>\n",
       "      <th>FAVORITE</th>\n",
       "      <th>INTERESTED</th>\n",
       "      <th>LATITUDE</th>\n",
       "      <th>LONGITUDE</th>\n",
       "    </tr>\n",
       "  </thead>\n",
       "  <tbody>\n",
       "    <tr>\n",
       "      <th>0</th>\n",
       "      <td>MLS Listing</td>\n",
       "      <td>NaN</td>\n",
       "      <td>Condo/Co-op</td>\n",
       "      <td>510 Lee St #7</td>\n",
       "      <td>Seattle</td>\n",
       "      <td>WA</td>\n",
       "      <td>98109</td>\n",
       "      <td>459000</td>\n",
       "      <td>2</td>\n",
       "      <td>1.00</td>\n",
       "      <td>...</td>\n",
       "      <td>Active</td>\n",
       "      <td>February-3-2018 11:00 AM</td>\n",
       "      <td>February-3-2018 01:00 PM</td>\n",
       "      <td>http://www.redfin.com/WA/Seattle/510-Lee-St-98...</td>\n",
       "      <td>NWMLS</td>\n",
       "      <td>1237585</td>\n",
       "      <td>N</td>\n",
       "      <td>Y</td>\n",
       "      <td>47.631632</td>\n",
       "      <td>-122.347049</td>\n",
       "    </tr>\n",
       "    <tr>\n",
       "      <th>1</th>\n",
       "      <td>MLS Listing</td>\n",
       "      <td>NaN</td>\n",
       "      <td>Single Family Residential</td>\n",
       "      <td>352 NE 53rd St</td>\n",
       "      <td>Seattle</td>\n",
       "      <td>WA</td>\n",
       "      <td>98105</td>\n",
       "      <td>648000</td>\n",
       "      <td>3</td>\n",
       "      <td>1.75</td>\n",
       "      <td>...</td>\n",
       "      <td>Active</td>\n",
       "      <td>February-1-2018 05:00 PM</td>\n",
       "      <td>February-1-2018 07:00 PM</td>\n",
       "      <td>http://www.redfin.com/WA/Seattle/352-NE-53rd-S...</td>\n",
       "      <td>NWMLS</td>\n",
       "      <td>1239016</td>\n",
       "      <td>N</td>\n",
       "      <td>Y</td>\n",
       "      <td>47.667321</td>\n",
       "      <td>-122.323260</td>\n",
       "    </tr>\n",
       "    <tr>\n",
       "      <th>2</th>\n",
       "      <td>MLS Listing</td>\n",
       "      <td>NaN</td>\n",
       "      <td>Single Family Residential</td>\n",
       "      <td>11025 21st Ave SW</td>\n",
       "      <td>Seattle</td>\n",
       "      <td>WA</td>\n",
       "      <td>98146</td>\n",
       "      <td>440000</td>\n",
       "      <td>3</td>\n",
       "      <td>1.75</td>\n",
       "      <td>...</td>\n",
       "      <td>Active</td>\n",
       "      <td>February-3-2018 02:00 PM</td>\n",
       "      <td>February-3-2018 04:00 PM</td>\n",
       "      <td>http://www.redfin.com/WA/Seattle/11025-21st-Av...</td>\n",
       "      <td>NWMLS</td>\n",
       "      <td>1238951</td>\n",
       "      <td>N</td>\n",
       "      <td>Y</td>\n",
       "      <td>47.504199</td>\n",
       "      <td>-122.360753</td>\n",
       "    </tr>\n",
       "    <tr>\n",
       "      <th>3</th>\n",
       "      <td>MLS Listing</td>\n",
       "      <td>NaN</td>\n",
       "      <td>Single Family Residential</td>\n",
       "      <td>6846 24th Ave NE</td>\n",
       "      <td>Seattle</td>\n",
       "      <td>WA</td>\n",
       "      <td>98115</td>\n",
       "      <td>715000</td>\n",
       "      <td>3</td>\n",
       "      <td>1.00</td>\n",
       "      <td>...</td>\n",
       "      <td>Active</td>\n",
       "      <td>January-31-2018 11:00 AM</td>\n",
       "      <td>January-31-2018 01:00 PM</td>\n",
       "      <td>http://www.redfin.com/WA/Seattle/6846-24th-Ave...</td>\n",
       "      <td>NWMLS</td>\n",
       "      <td>1235253</td>\n",
       "      <td>N</td>\n",
       "      <td>Y</td>\n",
       "      <td>47.679050</td>\n",
       "      <td>-122.301420</td>\n",
       "    </tr>\n",
       "    <tr>\n",
       "      <th>4</th>\n",
       "      <td>MLS Listing</td>\n",
       "      <td>NaN</td>\n",
       "      <td>Condo/Co-op</td>\n",
       "      <td>401 9th Ave N #618</td>\n",
       "      <td>Seattle</td>\n",
       "      <td>WA</td>\n",
       "      <td>98109</td>\n",
       "      <td>749900</td>\n",
       "      <td>1</td>\n",
       "      <td>1.50</td>\n",
       "      <td>...</td>\n",
       "      <td>Active</td>\n",
       "      <td>NaN</td>\n",
       "      <td>NaN</td>\n",
       "      <td>http://www.redfin.com/WA/Seattle/401-9th-Ave-N...</td>\n",
       "      <td>NWMLS</td>\n",
       "      <td>1238328</td>\n",
       "      <td>N</td>\n",
       "      <td>Y</td>\n",
       "      <td>47.622291</td>\n",
       "      <td>-122.339972</td>\n",
       "    </tr>\n",
       "  </tbody>\n",
       "</table>\n",
       "<p>5 rows × 27 columns</p>\n",
       "</div>"
      ],
      "text/plain": [
       "     SALE TYPE  SOLD DATE              PROPERTY TYPE             ADDRESS  \\\n",
       "0  MLS Listing        NaN                Condo/Co-op       510 Lee St #7   \n",
       "1  MLS Listing        NaN  Single Family Residential      352 NE 53rd St   \n",
       "2  MLS Listing        NaN  Single Family Residential   11025 21st Ave SW   \n",
       "3  MLS Listing        NaN  Single Family Residential    6846 24th Ave NE   \n",
       "4  MLS Listing        NaN                Condo/Co-op  401 9th Ave N #618   \n",
       "\n",
       "      CITY STATE    ZIP   PRICE  BEDS  BATHS     ...      STATUS  \\\n",
       "0  Seattle    WA  98109  459000     2   1.00     ...      Active   \n",
       "1  Seattle    WA  98105  648000     3   1.75     ...      Active   \n",
       "2  Seattle    WA  98146  440000     3   1.75     ...      Active   \n",
       "3  Seattle    WA  98115  715000     3   1.00     ...      Active   \n",
       "4  Seattle    WA  98109  749900     1   1.50     ...      Active   \n",
       "\n",
       "   NEXT OPEN HOUSE START TIME  NEXT OPEN HOUSE END TIME  \\\n",
       "0    February-3-2018 11:00 AM  February-3-2018 01:00 PM   \n",
       "1    February-1-2018 05:00 PM  February-1-2018 07:00 PM   \n",
       "2    February-3-2018 02:00 PM  February-3-2018 04:00 PM   \n",
       "3    January-31-2018 11:00 AM  January-31-2018 01:00 PM   \n",
       "4                         NaN                       NaN   \n",
       "\n",
       "   URL (SEE http://www.redfin.com/buy-a-home/comparative-market-analysis FOR INFO ON PRICING)  \\\n",
       "0  http://www.redfin.com/WA/Seattle/510-Lee-St-98...                                            \n",
       "1  http://www.redfin.com/WA/Seattle/352-NE-53rd-S...                                            \n",
       "2  http://www.redfin.com/WA/Seattle/11025-21st-Av...                                            \n",
       "3  http://www.redfin.com/WA/Seattle/6846-24th-Ave...                                            \n",
       "4  http://www.redfin.com/WA/Seattle/401-9th-Ave-N...                                            \n",
       "\n",
       "   SOURCE     MLS#  FAVORITE INTERESTED   LATITUDE   LONGITUDE  \n",
       "0   NWMLS  1237585         N          Y  47.631632 -122.347049  \n",
       "1   NWMLS  1239016         N          Y  47.667321 -122.323260  \n",
       "2   NWMLS  1238951         N          Y  47.504199 -122.360753  \n",
       "3   NWMLS  1235253         N          Y  47.679050 -122.301420  \n",
       "4   NWMLS  1238328         N          Y  47.622291 -122.339972  \n",
       "\n",
       "[5 rows x 27 columns]"
      ]
     },
     "execution_count": 3,
     "metadata": {},
     "output_type": "execute_result"
    }
   ],
   "source": [
    "data.head()"
   ]
  },
  {
   "cell_type": "markdown",
   "metadata": {},
   "source": [
    "### Problem 1\n",
    "Let's use a subset of the data set that only contains the following columns: PROPERTY TYPE, ZIP, PRICE, BEDS, BATHS, SQUARE FEET, DAYS ON MARKET. Save it in a Pandas Dataframe named small_data."
   ]
  },
  {
   "cell_type": "code",
   "execution_count": 4,
   "metadata": {},
   "outputs": [],
   "source": [
    "small_data = data[['PROPERTY TYPE', 'ZIP', 'PRICE', 'BEDS', 'BATHS', 'SQUARE FEET', 'DAYS ON MARKET']]"
   ]
  },
  {
   "cell_type": "markdown",
   "metadata": {},
   "source": [
    "### Problem 2\n",
    "\n",
    "    *Show a sample of 5 houses\n",
    "    *Get a summary of the numerical values"
   ]
  },
  {
   "cell_type": "code",
   "execution_count": 5,
   "metadata": {},
   "outputs": [
    {
     "data": {
      "text/html": [
       "<div>\n",
       "<style scoped>\n",
       "    .dataframe tbody tr th:only-of-type {\n",
       "        vertical-align: middle;\n",
       "    }\n",
       "\n",
       "    .dataframe tbody tr th {\n",
       "        vertical-align: top;\n",
       "    }\n",
       "\n",
       "    .dataframe thead th {\n",
       "        text-align: right;\n",
       "    }\n",
       "</style>\n",
       "<table border=\"1\" class=\"dataframe\">\n",
       "  <thead>\n",
       "    <tr style=\"text-align: right;\">\n",
       "      <th></th>\n",
       "      <th>PROPERTY TYPE</th>\n",
       "      <th>ZIP</th>\n",
       "      <th>PRICE</th>\n",
       "      <th>BEDS</th>\n",
       "      <th>BATHS</th>\n",
       "      <th>SQUARE FEET</th>\n",
       "      <th>DAYS ON MARKET</th>\n",
       "    </tr>\n",
       "  </thead>\n",
       "  <tbody>\n",
       "    <tr>\n",
       "      <th>305</th>\n",
       "      <td>Single Family Residential</td>\n",
       "      <td>98126</td>\n",
       "      <td>1395000</td>\n",
       "      <td>3</td>\n",
       "      <td>2.50</td>\n",
       "      <td>1873.0</td>\n",
       "      <td>55</td>\n",
       "    </tr>\n",
       "    <tr>\n",
       "      <th>194</th>\n",
       "      <td>Moorage</td>\n",
       "      <td>98103</td>\n",
       "      <td>110000</td>\n",
       "      <td>0</td>\n",
       "      <td>NaN</td>\n",
       "      <td>330.0</td>\n",
       "      <td>9</td>\n",
       "    </tr>\n",
       "    <tr>\n",
       "      <th>41</th>\n",
       "      <td>Single Family Residential</td>\n",
       "      <td>98122</td>\n",
       "      <td>865555</td>\n",
       "      <td>2</td>\n",
       "      <td>1.75</td>\n",
       "      <td>1840.0</td>\n",
       "      <td>1</td>\n",
       "    </tr>\n",
       "    <tr>\n",
       "      <th>259</th>\n",
       "      <td>Single Family Residential</td>\n",
       "      <td>98108</td>\n",
       "      <td>659000</td>\n",
       "      <td>6</td>\n",
       "      <td>2.75</td>\n",
       "      <td>2520.0</td>\n",
       "      <td>25</td>\n",
       "    </tr>\n",
       "    <tr>\n",
       "      <th>214</th>\n",
       "      <td>Single Family Residential</td>\n",
       "      <td>98119</td>\n",
       "      <td>1495000</td>\n",
       "      <td>4</td>\n",
       "      <td>3.00</td>\n",
       "      <td>2480.0</td>\n",
       "      <td>13</td>\n",
       "    </tr>\n",
       "  </tbody>\n",
       "</table>\n",
       "</div>"
      ],
      "text/plain": [
       "                 PROPERTY TYPE    ZIP    PRICE  BEDS  BATHS  SQUARE FEET  \\\n",
       "305  Single Family Residential  98126  1395000     3   2.50       1873.0   \n",
       "194                    Moorage  98103   110000     0    NaN        330.0   \n",
       "41   Single Family Residential  98122   865555     2   1.75       1840.0   \n",
       "259  Single Family Residential  98108   659000     6   2.75       2520.0   \n",
       "214  Single Family Residential  98119  1495000     4   3.00       2480.0   \n",
       "\n",
       "     DAYS ON MARKET  \n",
       "305              55  \n",
       "194               9  \n",
       "41                1  \n",
       "259              25  \n",
       "214              13  "
      ]
     },
     "execution_count": 5,
     "metadata": {},
     "output_type": "execute_result"
    }
   ],
   "source": [
    "small_data.sample(5)"
   ]
  },
  {
   "cell_type": "code",
   "execution_count": 6,
   "metadata": {},
   "outputs": [
    {
     "data": {
      "text/html": [
       "<div>\n",
       "<style scoped>\n",
       "    .dataframe tbody tr th:only-of-type {\n",
       "        vertical-align: middle;\n",
       "    }\n",
       "\n",
       "    .dataframe tbody tr th {\n",
       "        vertical-align: top;\n",
       "    }\n",
       "\n",
       "    .dataframe thead th {\n",
       "        text-align: right;\n",
       "    }\n",
       "</style>\n",
       "<table border=\"1\" class=\"dataframe\">\n",
       "  <thead>\n",
       "    <tr style=\"text-align: right;\">\n",
       "      <th></th>\n",
       "      <th>ZIP</th>\n",
       "      <th>PRICE</th>\n",
       "      <th>BEDS</th>\n",
       "      <th>BATHS</th>\n",
       "      <th>SQUARE FEET</th>\n",
       "      <th>DAYS ON MARKET</th>\n",
       "    </tr>\n",
       "  </thead>\n",
       "  <tbody>\n",
       "    <tr>\n",
       "      <th>count</th>\n",
       "      <td>350.000000</td>\n",
       "      <td>3.500000e+02</td>\n",
       "      <td>350.000000</td>\n",
       "      <td>324.000000</td>\n",
       "      <td>327.000000</td>\n",
       "      <td>350.000000</td>\n",
       "    </tr>\n",
       "    <tr>\n",
       "      <th>mean</th>\n",
       "      <td>98125.342857</td>\n",
       "      <td>9.730178e+05</td>\n",
       "      <td>2.888571</td>\n",
       "      <td>2.219907</td>\n",
       "      <td>2039.064220</td>\n",
       "      <td>19.880000</td>\n",
       "    </tr>\n",
       "    <tr>\n",
       "      <th>std</th>\n",
       "      <td>25.070723</td>\n",
       "      <td>9.797377e+05</td>\n",
       "      <td>1.842397</td>\n",
       "      <td>1.208547</td>\n",
       "      <td>1572.550774</td>\n",
       "      <td>23.239069</td>\n",
       "    </tr>\n",
       "    <tr>\n",
       "      <th>min</th>\n",
       "      <td>98101.000000</td>\n",
       "      <td>7.500000e+04</td>\n",
       "      <td>0.000000</td>\n",
       "      <td>0.750000</td>\n",
       "      <td>240.000000</td>\n",
       "      <td>1.000000</td>\n",
       "    </tr>\n",
       "    <tr>\n",
       "      <th>25%</th>\n",
       "      <td>98107.000000</td>\n",
       "      <td>5.121750e+05</td>\n",
       "      <td>2.000000</td>\n",
       "      <td>1.500000</td>\n",
       "      <td>1090.000000</td>\n",
       "      <td>5.000000</td>\n",
       "    </tr>\n",
       "    <tr>\n",
       "      <th>50%</th>\n",
       "      <td>98118.000000</td>\n",
       "      <td>7.294440e+05</td>\n",
       "      <td>3.000000</td>\n",
       "      <td>2.000000</td>\n",
       "      <td>1640.000000</td>\n",
       "      <td>8.000000</td>\n",
       "    </tr>\n",
       "    <tr>\n",
       "      <th>75%</th>\n",
       "      <td>98126.000000</td>\n",
       "      <td>1.095000e+06</td>\n",
       "      <td>4.000000</td>\n",
       "      <td>2.750000</td>\n",
       "      <td>2565.000000</td>\n",
       "      <td>26.000000</td>\n",
       "    </tr>\n",
       "    <tr>\n",
       "      <th>max</th>\n",
       "      <td>98199.000000</td>\n",
       "      <td>1.000000e+07</td>\n",
       "      <td>11.000000</td>\n",
       "      <td>11.000000</td>\n",
       "      <td>17011.000000</td>\n",
       "      <td>114.000000</td>\n",
       "    </tr>\n",
       "  </tbody>\n",
       "</table>\n",
       "</div>"
      ],
      "text/plain": [
       "                ZIP         PRICE        BEDS       BATHS   SQUARE FEET  \\\n",
       "count    350.000000  3.500000e+02  350.000000  324.000000    327.000000   \n",
       "mean   98125.342857  9.730178e+05    2.888571    2.219907   2039.064220   \n",
       "std       25.070723  9.797377e+05    1.842397    1.208547   1572.550774   \n",
       "min    98101.000000  7.500000e+04    0.000000    0.750000    240.000000   \n",
       "25%    98107.000000  5.121750e+05    2.000000    1.500000   1090.000000   \n",
       "50%    98118.000000  7.294440e+05    3.000000    2.000000   1640.000000   \n",
       "75%    98126.000000  1.095000e+06    4.000000    2.750000   2565.000000   \n",
       "max    98199.000000  1.000000e+07   11.000000   11.000000  17011.000000   \n",
       "\n",
       "       DAYS ON MARKET  \n",
       "count      350.000000  \n",
       "mean        19.880000  \n",
       "std         23.239069  \n",
       "min          1.000000  \n",
       "25%          5.000000  \n",
       "50%          8.000000  \n",
       "75%         26.000000  \n",
       "max        114.000000  "
      ]
     },
     "execution_count": 6,
     "metadata": {},
     "output_type": "execute_result"
    }
   ],
   "source": [
    "small_data.describe()"
   ]
  },
  {
   "cell_type": "markdown",
   "metadata": {},
   "source": [
    "### Problem 3\n",
    "Our data set contains 350 houses.  However, there are some NULL values in SQUARE FEET and BATHS.  Let's drop the houses with at least 1 NULL value in any of the columns of the dataset.\n",
    "\n",
    "**Hint:** Pandas dropna"
   ]
  },
  {
   "cell_type": "code",
   "execution_count": 7,
   "metadata": {},
   "outputs": [
    {
     "name": "stderr",
     "output_type": "stream",
     "text": [
      "/Library/Frameworks/Python.framework/Versions/3.6/lib/python3.6/site-packages/ipykernel_launcher.py:1: SettingWithCopyWarning: \n",
      "A value is trying to be set on a copy of a slice from a DataFrame\n",
      "\n",
      "See the caveats in the documentation: http://pandas.pydata.org/pandas-docs/stable/indexing.html#indexing-view-versus-copy\n",
      "  \"\"\"Entry point for launching an IPython kernel.\n"
     ]
    }
   ],
   "source": [
    "small_data.dropna(inplace = True)"
   ]
  },
  {
   "cell_type": "markdown",
   "metadata": {},
   "source": [
    "### Problem 4\n",
    "Create a histograms that shows the distribution of the number of BEDS"
   ]
  },
  {
   "cell_type": "code",
   "execution_count": 8,
   "metadata": {},
   "outputs": [
    {
     "data": {
      "image/png": "[encoded data removed]",
      "text/plain": [
       "<Figure size 720x360 with 1 Axes>"
      ]
     },
     "metadata": {},
     "output_type": "display_data"
    }
   ],
   "source": [
    "plt.figure(figsize=[10,5])\n",
    "\n",
    "# plt.hist(small_data['BEDS'])\n",
    "plt.hist(small_data['BEDS'],small_data['BEDS'].max())\n",
    "plt.title('Distribution of Number of Bedrooms');"
   ]
  },
  {
   "cell_type": "code",
   "execution_count": 9,
   "metadata": {},
   "outputs": [
    {
     "ename": "SyntaxError",
     "evalue": "unexpected EOF while parsing (<ipython-input-9-ecfb3ceea281>, line 1)",
     "output_type": "error",
     "traceback": [
      "\u001b[0;36m  File \u001b[0;32m\"<ipython-input-9-ecfb3ceea281>\"\u001b[0;36m, line \u001b[0;32m1\u001b[0m\n\u001b[0;31m    plt.hist(small_data['BEDS']\u001b[0m\n\u001b[0m                               ^\u001b[0m\n\u001b[0;31mSyntaxError\u001b[0m\u001b[0;31m:\u001b[0m unexpected EOF while parsing\n"
     ]
    }
   ],
   "source": [
    "plt.hist(small_data['BEDS']"
   ]
  },
  {
   "cell_type": "markdown",
   "metadata": {},
   "source": [
    "### Problem 5\n",
    "\n",
    "Create a pie chart that shows the percenatge of houses with more than 2 bathrooms, compared to 2 or less bathrooms."
   ]
  },
  {
   "cell_type": "code",
   "execution_count": 10,
   "metadata": {},
   "outputs": [
    {
     "data": {
      "image/png": "[encoded data removed]",
      "text/plain": [
       "<Figure size 360x360 with 1 Axes>"
      ]
     },
     "metadata": {},
     "output_type": "display_data"
    }
   ],
   "source": [
    "greater = len(small_data[small_data['BATHS']>2])\n",
    "lessthan = len(small_data[small_data['BATHS']<=2])\n",
    "\n",
    "plt.figure(figsize=[5,5])\n",
    "plt.pie([greater,lessthan],labels=['Greater','Less Than']);"
   ]
  },
  {
   "cell_type": "markdown",
   "metadata": {},
   "source": [
    "### Problem 6\n",
    "\n",
    "Create two scatter plots that shows the PRICE in the $y$ axis and the SQUARE FEET in the $x$-axis. Use partial opacity to improve the readability of your graphs.\n",
    "\n",
    "1) One scatter plot should be in a normal scale.\n",
    "\n",
    "2) The other scatter plot should have a log-log scale."
   ]
  },
  {
   "cell_type": "code",
   "execution_count": 11,
   "metadata": {},
   "outputs": [
    {
     "data": {
      "image/png": "[encoded data removed]",
      "text/plain": [
       "<Figure size 720x360 with 2 Axes>"
      ]
     },
     "metadata": {},
     "output_type": "display_data"
    }
   ],
   "source": [
    "plt.figure(figsize=(10,5))\n",
    "\n",
    "plt.subplot(1,2,1)\n",
    "plt.scatter(small_data['SQUARE FEET'],small_data['PRICE'],alpha = 0.5,s=10);\n",
    "\n",
    "plt.subplot(1,2,2)\n",
    "plt.loglog(small_data['SQUARE FEET'],small_data['PRICE'],'r.',alpha = 0.5);"
   ]
  },
  {
   "cell_type": "markdown",
   "metadata": {},
   "source": [
    "### Problem 7 (Challenge)\n",
    "\n",
    "Create a bar chart that shows the different PROPERTY TYPEs in the $x$-axis, and the average days on the market on the $y$-axis."
   ]
  },
  {
   "cell_type": "code",
   "execution_count": 14,
   "metadata": {},
   "outputs": [
    {
     "data": {
      "image/png": "[encoded data removed]",
      "text/plain": [
       "<Figure size 432x288 with 1 Axes>"
      ]
     },
     "metadata": {},
     "output_type": "display_data"
    }
   ],
   "source": [
    "PropType = small_data.groupby(['PROPERTY TYPE'])['DAYS ON MARKET'].mean()\n",
    "plt.bar(range(len(PropType)),PropType.values)\n",
    "plt.xticks(range(len(PropType)),PropType.index,rotation = 90)\n",
    "plt.grid();"
   ]
  },
  {
   "cell_type": "code",
   "execution_count": null,
   "metadata": {},
   "outputs": [],
   "source": []
  }
 ],
 "metadata": {
  "kernelspec": {
   "display_name": "Python 3",
   "language": "python",
   "name": "python3"
  },
  "language_info": {
   "codemirror_mode": {
    "name": "ipython",
    "version": 3
   },
   "file_extension": ".py",
   "mimetype": "text/x-python",
   "name": "python",
   "nbconvert_exporter": "python",
   "pygments_lexer": "ipython3",
   "version": "3.6.5"
  }
 },
 "nbformat": 4,
 "nbformat_minor": 2
}
