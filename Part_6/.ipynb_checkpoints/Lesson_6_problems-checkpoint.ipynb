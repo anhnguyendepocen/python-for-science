{
 "cells": [
  {
   "cell_type": "markdown",
   "metadata": {},
   "source": [
    "# Beginner Python and Math for Data Science\n",
    "## Lecture 6\n",
    "### Matplotlib\n",
    "\n",
    "These are the Lesson 6 problems copied for convenience. Some have been edited / reworked."
   ]
  },
  {
   "cell_type": "markdown",
   "metadata": {},
   "source": [
    "### Problem 1\n",
    "\n",
    "Create a dataset that contains the values from 0 to 10 in increments of 0.01 for the $x$ value, and $sin(2*pi*x)$ for the $y$ value.\n",
    "\n",
    "**Hint:** Look at numpy for the function sin()"
   ]
  },
  {
   "cell_type": "code",
   "execution_count": null,
   "metadata": {
    "collapsed": true
   },
   "outputs": [],
   "source": [
    "step = 0.01\n",
    "x = np.arange(0,10+step,step)\n",
    "y = np.sin(2*np.pi*x)"
   ]
  },
  {
   "cell_type": "markdown",
   "metadata": {},
   "source": [
    "### Problem 2\n",
    "Using the same dataset from the previous problem, create a line chart displaying $x$ versus $y$.  Include a title and labels for the $x$ and $y$ axis.  Play with the format of the text."
   ]
  },
  {
   "cell_type": "code",
   "execution_count": null,
   "metadata": {
    "collapsed": true
   },
   "outputs": [],
   "source": [
    "plt.plot(x,y)\n",
    "plt.title('Sine Wave Line Chart', fontsize= 20,family='monospace')\n",
    "plt.xlabel('X-Axis', fontsize= 15,family='monospace')\n",
    "plt.ylabel('Y-Axis', fontsize= 15,family='monospace');"
   ]
  },
  {
   "cell_type": "markdown",
   "metadata": {},
   "source": [
    "### Problem 3\n",
    "Using the sine wave data set from the previous problem, create a line chart that contains grids.  In the $x$-axis we want 6 ticks at intervals of 2, i.e. 0, 2, 4 ..., 10.  On the $y$-axis we want two ticks, one at +1 and the other at -1 with the labels \"Peak\" and \"Valley\", respectively."
   ]
  },
  {
   "cell_type": "code",
   "execution_count": null,
   "metadata": {
    "collapsed": true
   },
   "outputs": [],
   "source": [
    "plt.plot(x,y)\n",
    "plt.grid()\n",
    "ticks_x = np.linspace(0, 10, 6)\n",
    "ticks_y = [-1,1]\n",
    "vals_y = ['Valley','Peak']\n",
    "plt.xticks(ticks_x)\n",
    "plt.yticks(ticks_y, vals_y);"
   ]
  },
  {
   "cell_type": "markdown",
   "metadata": {},
   "source": [
    "### Problem 4\n",
    "Create a dataset that contains $2*cos(pi*x)$ for the $y2$ value.  Plot $x$ versus the $y$ and $y2$ values on the same chart.  Assign unique linewidth, color, and style to each line.  Make sure to include a legend."
   ]
  },
  {
   "cell_type": "code",
   "execution_count": null,
   "metadata": {
    "collapsed": true
   },
   "outputs": [],
   "source": [
    "y2 = 2*np.cos(np.pi*x)\n",
    "plt.plot(x,y,'g--',linewidth = 3)\n",
    "plt.plot(x,y2,color='r',linestyle=':',linewidth = 2)\n",
    "plt.legend(['Sine','Cosine']);"
   ]
  },
  {
   "cell_type": "markdown",
   "metadata": {},
   "source": [
    "### Problem 5\n",
    "Using the same dataset from the previous problem, create a histogram of variable $y$, and use 15 bins."
   ]
  },
  {
   "cell_type": "code",
   "execution_count": null,
   "metadata": {
    "collapsed": true
   },
   "outputs": [],
   "source": [
    "plt.hist(y,15);"
   ]
  },
  {
   "cell_type": "markdown",
   "metadata": {},
   "source": [
    "### Problem 6\n",
    "Create a scatter plot of $y2$ versus $y$.  Modify the figure size, the marker type and size, and the transparency."
   ]
  },
  {
   "cell_type": "code",
   "execution_count": null,
   "metadata": {
    "collapsed": true
   },
   "outputs": [],
   "source": [
    "plt.figure(figsize=[8,5])\n",
    "plt.scatter(y2,y,alpha = 0.1,marker = 'v',s=50);"
   ]
  },
  {
   "cell_type": "markdown",
   "metadata": {},
   "source": [
    "### Problem 7\n",
    "Create a set of 4 plots in 2 rows and 2 columns.  The plots should contain:\n",
    "\n",
    "1) Top Left: Line Plot of $x$ versus $y$. Make the axis range from -3 to 13 in the x-axis, and -3 to 3 in the y-axis.\n",
    "\n",
    "2) Top Right: Plot of $y2$ using a dashed line.\n",
    "\n",
    "3) Bottom Left: Scatter Plot of $y$ versus $y^2$. With a title of 'y-squared'.\n",
    "\n",
    "4) Bottom Right: Scatter Plot of $y$ versus $y^2$ using log scale on the y-axis."
   ]
  },
  {
   "cell_type": "code",
   "execution_count": null,
   "metadata": {
    "collapsed": true
   },
   "outputs": [],
   "source": [
    "plt.figure(figsize = [15, 10])\n",
    "\n",
    "plt.subplot(2,2,1)\n",
    "plt.plot(x,y)\n",
    "plt.axis([-3,13,-3,3])\n",
    "\n",
    "plt.subplot(2,2,2)\n",
    "plt.plot(x,y2,'--')\n",
    "\n",
    "plt.subplot(2,2,3)\n",
    "plt.scatter(y,y**2)\n",
    "plt.title('y-squared')\n",
    "\n",
    "plt.subplot(2,2,4)\n",
    "plt.semilogy(y,y**2);"
   ]
  },
  {
   "cell_type": "markdown",
   "metadata": {},
   "source": [
    "### Problem 8\n",
    "Plot the $x$ versus $y$ sine wave. \n",
    "\n",
    "1) Make an annotation on the first peak, \n",
    "\n",
    "3) Add a text somewhere in the middle of the image\n",
    "\n",
    "Make sure to format the text, colors, etc."
   ]
  },
  {
   "cell_type": "code",
   "execution_count": 328,
   "metadata": {},
   "outputs": [
    {
     "data": {
      "image/png": "[encoded data removed]",
      "text/plain": [
       "<Figure size 432x288 with 1 Axes>"
      ]
     },
     "metadata": {},
     "output_type": "display_data"
    }
   ],
   "source": [
    "plt.plot(x,y)\n",
    "\n",
    "plt.annotate('Peak', xy=(x[y.argmax()], y[y.argmax()]), xytext=(1, 0.5),\n",
    "             arrowprops=dict(facecolor='blue'),fontsize = 15, backgroundcolor = 'yellow');\n",
    "\n",
    "plt.text(6,0,'Some Text',fontsize = 20,backgroundcolor = 'red',color = 'blue'); # x and y position of start of text"
   ]
  },
  {
   "cell_type": "code",
   "execution_count": null,
   "metadata": {
    "collapsed": true
   },
   "outputs": [],
   "source": []
  }
 ],
 "metadata": {
  "kernelspec": {
   "display_name": "Python 3",
   "language": "python",
   "name": "python3"
  },
  "language_info": {
   "codemirror_mode": {
    "name": "ipython",
    "version": 3
   },
   "file_extension": ".py",
   "mimetype": "text/x-python",
   "name": "python",
   "nbconvert_exporter": "python",
   "pygments_lexer": "ipython3",
   "version": "3.6.5"
  }
 },
 "nbformat": 4,
 "nbformat_minor": 2
}
