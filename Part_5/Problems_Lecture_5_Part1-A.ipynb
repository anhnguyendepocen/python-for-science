{
 "cells": [
  {
   "cell_type": "markdown",
   "metadata": {},
   "source": [
    "# Beginner Python and Math for Data Science\n",
    "## Lecture 5 - Part 1\n",
    "### Introduction to Pandas "
   ]
  },
  {
   "cell_type": "markdown",
   "metadata": {},
   "source": [
    "### Problem 1:\n",
    "\n",
    "Create a Pandas series called *prob1_ser* using a dictionary, that has the country name as index and population as the values.  Here is the data set (from 2017):\n",
    "\n",
    "    * China     1,409,517,397\n",
    "    * India     1,339,180,127\n",
    "    * USA         324,459,463\n",
    "    * Indonesia   263,991,379\n",
    "    * Brazil      209,288,278\n",
    "\n",
    "Give the data a name equal to $Population$."
   ]
  },
  {
   "cell_type": "code",
   "execution_count": 51,
   "metadata": {},
   "outputs": [
    {
     "data": {
      "text/plain": [
       "Bazil         209288278\n",
       "China        1409517397\n",
       "India        1339180127\n",
       "Indonesia     263991379\n",
       "That was           Easy\n",
       "USA           324459463\n",
       "dtype: object"
      ]
     },
     "execution_count": 51,
     "metadata": {},
     "output_type": "execute_result"
    }
   ],
   "source": [
    "### Write code here\n",
    "natl_pops = {'China':1409517397, 'India':1339180127, 'USA':324459463, 'Indonesia':263991379, 'Bazil':209288278, 'That was':'Easy'}\n",
    "prob1_ser = pd.Series(natl_pops) # also ok to do prob1_ser.name = 'natl_pops'\n",
    "prob1_ser"
   ]
  },
  {
   "cell_type": "markdown",
   "metadata": {},
   "source": [
    "__What is this?!__ Pandas automatically orders the array in alphabetical order of the dictionary's index values? Cool!"
   ]
  },
  {
   "cell_type": "markdown",
   "metadata": {},
   "source": [
    "### Problem 2:\n",
    "\n",
    "Create a Pandas DataFrame called *prob2_df* using a list of dictionaries that has 3 columns and 5 rows.  The column names are *Country Name*, *Population* and *Size* (which is in $km^2$).\n",
    "\n",
    "      Country Name   Population          Size\n",
    "    \n",
    "    * China\t   1,409,517,397     9,572,900\n",
    "    * India       1,339,180,127     3,287,263\n",
    "    * USA           324,459,463     9,629,091\n",
    "    * Indonesia     263,991,379     1,904,556\n",
    "    * Brazil        209,288,278     8,511,965"
   ]
  },
  {
   "cell_type": "code",
   "execution_count": 84,
   "metadata": {},
   "outputs": [
    {
     "data": {
      "text/html": [
       "<div>\n",
       "<style scoped>\n",
       "    .dataframe tbody tr th:only-of-type {\n",
       "        vertical-align: middle;\n",
       "    }\n",
       "\n",
       "    .dataframe tbody tr th {\n",
       "        vertical-align: top;\n",
       "    }\n",
       "\n",
       "    .dataframe thead th {\n",
       "        text-align: right;\n",
       "    }\n",
       "</style>\n",
       "<table border=\"1\" class=\"dataframe\">\n",
       "  <thead>\n",
       "    <tr style=\"text-align: right;\">\n",
       "      <th></th>\n",
       "      <th>Country Name</th>\n",
       "      <th>Population</th>\n",
       "      <th>Size</th>\n",
       "    </tr>\n",
       "  </thead>\n",
       "  <tbody>\n",
       "    <tr>\n",
       "      <th>0</th>\n",
       "      <td>China</td>\n",
       "      <td>1409517397</td>\n",
       "      <td>9572900</td>\n",
       "    </tr>\n",
       "    <tr>\n",
       "      <th>1</th>\n",
       "      <td>India</td>\n",
       "      <td>1339180127</td>\n",
       "      <td>3287263</td>\n",
       "    </tr>\n",
       "    <tr>\n",
       "      <th>2</th>\n",
       "      <td>Usa</td>\n",
       "      <td>324459463</td>\n",
       "      <td>9629091</td>\n",
       "    </tr>\n",
       "    <tr>\n",
       "      <th>3</th>\n",
       "      <td>Indonesia</td>\n",
       "      <td>263991379</td>\n",
       "      <td>1904556</td>\n",
       "    </tr>\n",
       "    <tr>\n",
       "      <th>4</th>\n",
       "      <td>Brazil</td>\n",
       "      <td>209288278</td>\n",
       "      <td>8511965</td>\n",
       "    </tr>\n",
       "  </tbody>\n",
       "</table>\n",
       "</div>"
      ],
      "text/plain": [
       "  Country Name  Population     Size\n",
       "0        China  1409517397  9572900\n",
       "1        India  1339180127  3287263\n",
       "2          Usa   324459463  9629091\n",
       "3    Indonesia   263991379  1904556\n",
       "4       Brazil   209288278  8511965"
      ]
     },
     "execution_count": 84,
     "metadata": {},
     "output_type": "execute_result"
    }
   ],
   "source": [
    "### Write code here\n",
    "prob2_df = pd.DataFrame(\n",
    "                [{'Country Name':'China', 'Population':1409517397, 'Size':9572900},\n",
    "                 {'Country Name':'India', 'Population':1339180127, 'Size':3287263},\n",
    "                 {'Country Name':'Usa', 'Population':324459463, 'Size':9629091},\n",
    "                 {'Country Name':'Indonesia', 'Population':263991379, 'Size':1904556},\n",
    "                 {'Country Name':'Brazil', 'Population':209288278, 'Size':8511965}],)\n",
    "\n",
    "prob2_df"
   ]
  },
  {
   "cell_type": "markdown",
   "metadata": {},
   "source": [
    "More fantastic examples of creating DataFrames from other objects, such as lists, can be found here along with examples of Row-Oriented vs Column Oriented DataFrames: http://pbpython.com/pandas-list-dict.html"
   ]
  },
  {
   "cell_type": "markdown",
   "metadata": {},
   "source": [
    "# Note: All code for the creation and editing of CSV files was added to the curriculum BY THE STUDENT, for the student's sake.\n",
    "\n",
    "And is used extensively for the remainder of this part of the curriculum to customize and explore the provided content."
   ]
  },
  {
   "cell_type": "markdown",
   "metadata": {},
   "source": [
    "##### Writing CSV files"
   ]
  },
  {
   "cell_type": "code",
   "execution_count": 86,
   "metadata": {},
   "outputs": [],
   "source": [
    "#delete file first to avoid any errors from experimenting and writing over it repeatedly\n",
    "import os\n",
    "try: os.remove('csv_file_for_pandas.csv')\n",
    "except: pass"
   ]
  },
  {
   "cell_type": "code",
   "execution_count": 87,
   "metadata": {},
   "outputs": [],
   "source": [
    "my_csv = open('csv_file_for_pandas.csv', 'w+', newline='') #opening in the 'w+' mode truncates the file\n",
    "#alternatively, open it in 'w' mode and use my_csv.truncate()\n",
    "my_csv.truncate() # we'll do it anyway for good measure\n",
    "csv_writer = csv.writer(my_csv)\n",
    "csv_writer.writerow(['','First','Middle','Beard Style'])\n",
    "csv_writer.writerow(['Dad','Allen','James','Wizard'])\n",
    "csv_writer.writerow(['Son','Ryan','Patrick','Battle Dwarf'])\n",
    "csv_writer.writerow(['Mom','Michele','Leigh','None'])\n",
    "csv_writer.writerow(['Son','Allen','Michael','Middle-class Hobbit'])\n",
    "csv_writer.writerow(['Dog','BamBam','Doggo','N/A'])\n",
    "my_csv.close()\n"
   ]
  },
  {
   "cell_type": "code",
   "execution_count": 88,
   "metadata": {},
   "outputs": [
    {
     "name": "stdout",
     "output_type": "stream",
     "text": [
      "<_csv.reader object at 0x111e4beb8>\n"
     ]
    },
    {
     "data": {
      "text/plain": [
       "[['', 'First', 'Middle', 'Beard Style'],\n",
       " ['Dad', 'Allen', 'James', 'Wizard'],\n",
       " ['Son', 'Ryan', 'Patrick', 'Battle Dwarf'],\n",
       " ['Mom', 'Michele', 'Leigh', 'None'],\n",
       " ['Son', 'Allen', 'Michael', 'Middle-class Hobbit'],\n",
       " ['Dog', 'BamBam', 'Doggo', 'N/A']]"
      ]
     },
     "execution_count": 88,
     "metadata": {},
     "output_type": "execute_result"
    }
   ],
   "source": [
    "my_csv = open(\"csv_file_for_pandas.csv\") \n",
    "csv_reader = csv.reader(my_csv)\n",
    "csv_data = list(csv_reader)\n",
    "print(csv_reader)\n",
    "csv_data"
   ]
  },
  {
   "cell_type": "markdown",
   "metadata": {},
   "source": [
    "### Problem 3:\n",
    "\n",
    "Using a Pandas DataFrame and csv module, create a csv file with numerical data and strings for the row and column headers. Print the:\n",
    "    \n",
    "    * Number of rows and columns\n",
    "    * Column Names\n",
    "    * A sample of 2 rows\n",
    "    * A summary of the values"
   ]
  },
  {
   "cell_type": "code",
   "execution_count": 107,
   "metadata": {},
   "outputs": [],
   "source": [
    "### Write code here\n",
    "try: os.remove('csv_file_2.csv')\n",
    "except: pass\n",
    "my_csv2 = open('csv_file_2.csv', 'w+', newline='')\n",
    "writer = csv.writer(my_csv2)\n",
    "writer.writerow(['Name','Games Played','Games Won','Game Time'])\n",
    "writer.writerow(['Cookie Monster','75','2','6'])\n",
    "writer.writerow(['Darth Vader','6','100','0'])\n",
    "writer.writerow(['Link','100','100','100'])\n",
    "writer.writerow(['Max','14','11','237'])\n",
    "my_csv2.close()"
   ]
  },
  {
   "cell_type": "code",
   "execution_count": 120,
   "metadata": {},
   "outputs": [
    {
     "name": "stdout",
     "output_type": "stream",
     "text": [
      "Number of rows: 4 \n",
      "\n",
      "Number of columns: 3 \n",
      "\n",
      "Column titles: ['Games Played' 'Games Won' 'Game Time'] \n",
      "\n",
      "Data sample: \n",
      "              Games Played  Games Won  Game Time\n",
      "Name                                           \n",
      "Darth Vader             6        100          0\n",
      "Link                  100        100        100 \n",
      "\n",
      "Data summary: \n",
      "        Games Played   Games Won   Game Time\n",
      "count      4.000000    4.000000    4.000000\n",
      "mean      48.750000   53.250000   85.750000\n",
      "std       46.009963   54.107147  110.744074\n",
      "min        6.000000    2.000000    0.000000\n",
      "25%       12.000000    8.750000    4.500000\n",
      "50%       44.500000   55.500000   53.000000\n",
      "75%       81.250000  100.000000  134.250000\n",
      "max      100.000000  100.000000  237.000000\n"
     ]
    }
   ],
   "source": [
    "my_df = pd.read_csv('csv_file_2.csv', index_col = 0)\n",
    "print(\"Number of rows:\",my_df.shape[0],\"\\n\")\n",
    "print(\"Number of columns:\",my_df.shape[1],\"\\n\")\n",
    "print(\"Column titles:\", my_df.columns.values,\"\\n\")\n",
    "print(\"Data sample:\", \"\\n\", my_df.sample(2),\"\\n\")\n",
    "print(\"Data summary:\", \"\\n\", my_df.describe())\n",
    "\n"
   ]
  },
  {
   "cell_type": "markdown",
   "metadata": {},
   "source": [
    "### Problem 4:\n",
    "\n",
    "Using the Pandas DataFrame previously created (*prob2_df*), print the:\n",
    "    \n",
    "    * Data in the column \"Population\"\n",
    "    * The second row\n",
    "    * The size of the country in the last row"
   ]
  },
  {
   "cell_type": "code",
   "execution_count": 147,
   "metadata": {},
   "outputs": [
    {
     "name": "stdout",
     "output_type": "stream",
     "text": [
      "0    1409517397\n",
      "1    1339180127\n",
      "2     324459463\n",
      "3     263991379\n",
      "4     209288278\n",
      "Name: Population, dtype: int64 \n",
      "\n",
      "\n",
      "  Country Name  Population     Size\n",
      "1        India  1339180127  3287263 \n",
      "\n",
      "\n",
      "The population of Brazil is: 8511965\n"
     ]
    }
   ],
   "source": [
    "### Write code here\n",
    "\n",
    "print(prob2_df.iloc[:,1], \"\\n\\n\")\n",
    "print(prob2_df.iloc[[1],:], \"\\n\\n\")\n",
    "print(\"The population of Brazil is:\",prob2_df.iat[4,2])"
   ]
  },
  {
   "cell_type": "markdown",
   "metadata": {},
   "source": [
    "### Problem 5:\n",
    "\n",
    "Using the Pandas DataFrame previously created (*prob2_df*), print:\n",
    "    \n",
    "    * A series that shows True or False for countries with Sizes greater than 3,500,000\n",
    "    * A series that shows True or False for countries with Sizes greater than 3,500,000 and Populations smaller than 350,000,000\n",
    "    * A data frame that only shows the rows for countries with Sizes greater than 3,500,000 and Populations smaller than 350,000,000"
   ]
  },
  {
   "cell_type": "code",
   "execution_count": 194,
   "metadata": {},
   "outputs": [
    {
     "name": "stdout",
     "output_type": "stream",
     "text": [
      "0     True\n",
      "1    False\n",
      "2     True\n",
      "3    False\n",
      "4     True\n",
      "Name: Size, dtype: bool \n",
      "\n",
      "0    False\n",
      "1    False\n",
      "2     True\n",
      "3    False\n",
      "4     True\n",
      "dtype: bool \n",
      "\n",
      "  Country Name  Population     Size\n",
      "2          Usa   324459463  9629091\n",
      "4       Brazil   209288278  8511965 \n",
      "\n"
     ]
    }
   ],
   "source": [
    "#print(prob2_df, \"\\n\")\n",
    "print(prob2_df.loc[:, \"Size\"] > 3500000, \"\\n\")\n",
    "print((prob2_df.loc[:, \"Size\"] > 3500000) & (prob2_df.loc[:, \"Population\"] < 350000000), \"\\n\")\n",
    "print(prob2_df[(prob2_df.loc[:, \"Size\"] > 3500000) & (prob2_df.loc[:, \"Population\"] < 350000000)], \"\\n\")\n",
    "\n",
    "# reference from above, where these methods were first exemplified:\n",
    "# my_df.loc[:, \"Games Won\"] > 30\n",
    "# my_df.loc[my_df.loc[:, \"Games Won\"] >30]"
   ]
  },
  {
   "cell_type": "markdown",
   "metadata": {},
   "source": [
    "### Problem 6:\n",
    "\n",
    "Using the Pandas DataFrame previously created (*prob2_df*):\n",
    "    \n",
    "    * Change Brazil's population to 250,000,000\n",
    "    * Change China's size to 9,580,000"
   ]
  },
  {
   "cell_type": "code",
   "execution_count": 226,
   "metadata": {},
   "outputs": [
    {
     "data": {
      "text/html": [
       "<div>\n",
       "<style scoped>\n",
       "    .dataframe tbody tr th:only-of-type {\n",
       "        vertical-align: middle;\n",
       "    }\n",
       "\n",
       "    .dataframe tbody tr th {\n",
       "        vertical-align: top;\n",
       "    }\n",
       "\n",
       "    .dataframe thead th {\n",
       "        text-align: right;\n",
       "    }\n",
       "</style>\n",
       "<table border=\"1\" class=\"dataframe\">\n",
       "  <thead>\n",
       "    <tr style=\"text-align: right;\">\n",
       "      <th></th>\n",
       "      <th>Country Name</th>\n",
       "      <th>Population</th>\n",
       "      <th>Size</th>\n",
       "    </tr>\n",
       "  </thead>\n",
       "  <tbody>\n",
       "    <tr>\n",
       "      <th>0</th>\n",
       "      <td>China</td>\n",
       "      <td>1409517397</td>\n",
       "      <td>9572900</td>\n",
       "    </tr>\n",
       "    <tr>\n",
       "      <th>1</th>\n",
       "      <td>India</td>\n",
       "      <td>1339180127</td>\n",
       "      <td>3287263</td>\n",
       "    </tr>\n",
       "    <tr>\n",
       "      <th>2</th>\n",
       "      <td>USA</td>\n",
       "      <td>324459463</td>\n",
       "      <td>9629091</td>\n",
       "    </tr>\n",
       "    <tr>\n",
       "      <th>3</th>\n",
       "      <td>Indonesia</td>\n",
       "      <td>263991379</td>\n",
       "      <td>1904556</td>\n",
       "    </tr>\n",
       "    <tr>\n",
       "      <th>4</th>\n",
       "      <td>Brazil</td>\n",
       "      <td>209288278</td>\n",
       "      <td>8511965</td>\n",
       "    </tr>\n",
       "  </tbody>\n",
       "</table>\n",
       "</div>"
      ],
      "text/plain": [
       "  Country Name  Population     Size\n",
       "0        China  1409517397  9572900\n",
       "1        India  1339180127  3287263\n",
       "2          USA   324459463  9629091\n",
       "3    Indonesia   263991379  1904556\n",
       "4       Brazil   209288278  8511965"
      ]
     },
     "execution_count": 226,
     "metadata": {},
     "output_type": "execute_result"
    }
   ],
   "source": [
    "#before:\n",
    "prob2_dict = [{\"Country Name\":\"China\", \"Population\" : 1409517397, \"Size\" : 9572900},\n",
    "              {\"Country Name\":\"India\", \"Population\" : 1339180127, \"Size\" : 3287263},\n",
    "              {\"Country Name\":\"USA\", \"Population\" : 324459463, \"Size\" : 9629091},\n",
    "              {\"Country Name\":\"Indonesia\", \"Population\" : 263991379, \"Size\" : 1904556},\n",
    "              {\"Country Name\":\"Brazil\", \"Population\" : 209288278, \"Size\" : 8511965}]\n",
    "prob2_df = pd.DataFrame(prob2_dict)\n",
    "prob2_df"
   ]
  },
  {
   "cell_type": "code",
   "execution_count": 228,
   "metadata": {},
   "outputs": [
    {
     "data": {
      "text/html": [
       "<div>\n",
       "<style scoped>\n",
       "    .dataframe tbody tr th:only-of-type {\n",
       "        vertical-align: middle;\n",
       "    }\n",
       "\n",
       "    .dataframe tbody tr th {\n",
       "        vertical-align: top;\n",
       "    }\n",
       "\n",
       "    .dataframe thead th {\n",
       "        text-align: right;\n",
       "    }\n",
       "</style>\n",
       "<table border=\"1\" class=\"dataframe\">\n",
       "  <thead>\n",
       "    <tr style=\"text-align: right;\">\n",
       "      <th></th>\n",
       "      <th>Country Name</th>\n",
       "      <th>Population</th>\n",
       "      <th>Size</th>\n",
       "    </tr>\n",
       "  </thead>\n",
       "  <tbody>\n",
       "    <tr>\n",
       "      <th>0</th>\n",
       "      <td>China</td>\n",
       "      <td>1409517397</td>\n",
       "      <td>9580000</td>\n",
       "    </tr>\n",
       "    <tr>\n",
       "      <th>1</th>\n",
       "      <td>India</td>\n",
       "      <td>1339180127</td>\n",
       "      <td>3287263</td>\n",
       "    </tr>\n",
       "    <tr>\n",
       "      <th>2</th>\n",
       "      <td>USA</td>\n",
       "      <td>324459463</td>\n",
       "      <td>9629091</td>\n",
       "    </tr>\n",
       "    <tr>\n",
       "      <th>3</th>\n",
       "      <td>Indonesia</td>\n",
       "      <td>263991379</td>\n",
       "      <td>1904556</td>\n",
       "    </tr>\n",
       "    <tr>\n",
       "      <th>4</th>\n",
       "      <td>Brazil</td>\n",
       "      <td>209288278</td>\n",
       "      <td>250000000</td>\n",
       "    </tr>\n",
       "  </tbody>\n",
       "</table>\n",
       "</div>"
      ],
      "text/plain": [
       "  Country Name  Population       Size\n",
       "0        China  1409517397    9580000\n",
       "1        India  1339180127    3287263\n",
       "2          USA   324459463    9629091\n",
       "3    Indonesia   263991379    1904556\n",
       "4       Brazil   209288278  250000000"
      ]
     },
     "execution_count": 228,
     "metadata": {},
     "output_type": "execute_result"
    }
   ],
   "source": [
    "### Write code here\n",
    "#after:\n",
    "\n",
    "prob2_df.at[4,\"Size\"], prob2_df.at[0,\"Size\"] = 250000000, 9580000\n",
    "prob2_df\n"
   ]
  },
  {
   "cell_type": "markdown",
   "metadata": {},
   "source": [
    "### Problem 7:\n",
    "\n",
    "Using the Pandas DataFrame previously created (*prob2_df*):\n",
    "    \n",
    "    * Rename the indices to the first three letters of each country (e.g. 'Chi', 'Ind', 'USA', etc.) and assign the output to a new data frame called prob7_df"
   ]
  },
  {
   "cell_type": "code",
   "execution_count": 262,
   "metadata": {},
   "outputs": [
    {
     "data": {
      "text/html": [
       "<div>\n",
       "<style scoped>\n",
       "    .dataframe tbody tr th:only-of-type {\n",
       "        vertical-align: middle;\n",
       "    }\n",
       "\n",
       "    .dataframe tbody tr th {\n",
       "        vertical-align: top;\n",
       "    }\n",
       "\n",
       "    .dataframe thead th {\n",
       "        text-align: right;\n",
       "    }\n",
       "</style>\n",
       "<table border=\"1\" class=\"dataframe\">\n",
       "  <thead>\n",
       "    <tr style=\"text-align: right;\">\n",
       "      <th></th>\n",
       "      <th>Country Name</th>\n",
       "      <th>Population</th>\n",
       "      <th>Size</th>\n",
       "    </tr>\n",
       "  </thead>\n",
       "  <tbody>\n",
       "    <tr>\n",
       "      <th>0</th>\n",
       "      <td>China</td>\n",
       "      <td>1409517397</td>\n",
       "      <td>9572900</td>\n",
       "    </tr>\n",
       "    <tr>\n",
       "      <th>1</th>\n",
       "      <td>India</td>\n",
       "      <td>1339180127</td>\n",
       "      <td>3287263</td>\n",
       "    </tr>\n",
       "    <tr>\n",
       "      <th>2</th>\n",
       "      <td>USA</td>\n",
       "      <td>324459463</td>\n",
       "      <td>9629091</td>\n",
       "    </tr>\n",
       "    <tr>\n",
       "      <th>3</th>\n",
       "      <td>Indonesia</td>\n",
       "      <td>263991379</td>\n",
       "      <td>1904556</td>\n",
       "    </tr>\n",
       "    <tr>\n",
       "      <th>4</th>\n",
       "      <td>Brazil</td>\n",
       "      <td>209288278</td>\n",
       "      <td>8511965</td>\n",
       "    </tr>\n",
       "  </tbody>\n",
       "</table>\n",
       "</div>"
      ],
      "text/plain": [
       "  Country Name  Population     Size\n",
       "0        China  1409517397  9572900\n",
       "1        India  1339180127  3287263\n",
       "2          USA   324459463  9629091\n",
       "3    Indonesia   263991379  1904556\n",
       "4       Brazil   209288278  8511965"
      ]
     },
     "execution_count": 262,
     "metadata": {},
     "output_type": "execute_result"
    }
   ],
   "source": [
    "#before:\n",
    "prob2_dict = [{\"Country Name\":\"China\", \"Population\" : 1409517397, \"Size\" : 9572900},\n",
    "              {\"Country Name\":\"India\", \"Population\" : 1339180127, \"Size\" : 3287263},\n",
    "              {\"Country Name\":\"USA\", \"Population\" : 324459463, \"Size\" : 9629091},\n",
    "              {\"Country Name\":\"Indonesia\", \"Population\" : 263991379, \"Size\" : 1904556},\n",
    "              {\"Country Name\":\"Brazil\", \"Population\" : 209288278, \"Size\" : 8511965}]\n",
    "prob2_df = pd.DataFrame(prob2_dict)\n",
    "prob2_df"
   ]
  },
  {
   "cell_type": "code",
   "execution_count": 263,
   "metadata": {},
   "outputs": [
    {
     "data": {
      "text/html": [
       "<div>\n",
       "<style scoped>\n",
       "    .dataframe tbody tr th:only-of-type {\n",
       "        vertical-align: middle;\n",
       "    }\n",
       "\n",
       "    .dataframe tbody tr th {\n",
       "        vertical-align: top;\n",
       "    }\n",
       "\n",
       "    .dataframe thead th {\n",
       "        text-align: right;\n",
       "    }\n",
       "</style>\n",
       "<table border=\"1\" class=\"dataframe\">\n",
       "  <thead>\n",
       "    <tr style=\"text-align: right;\">\n",
       "      <th></th>\n",
       "      <th>Country Name</th>\n",
       "      <th>Population</th>\n",
       "      <th>Size</th>\n",
       "    </tr>\n",
       "  </thead>\n",
       "  <tbody>\n",
       "    <tr>\n",
       "      <th>0</th>\n",
       "      <td>Chi</td>\n",
       "      <td>1409517397</td>\n",
       "      <td>9572900</td>\n",
       "    </tr>\n",
       "    <tr>\n",
       "      <th>1</th>\n",
       "      <td>Ind</td>\n",
       "      <td>1339180127</td>\n",
       "      <td>3287263</td>\n",
       "    </tr>\n",
       "    <tr>\n",
       "      <th>2</th>\n",
       "      <td>USA</td>\n",
       "      <td>324459463</td>\n",
       "      <td>9629091</td>\n",
       "    </tr>\n",
       "    <tr>\n",
       "      <th>3</th>\n",
       "      <td>Ind</td>\n",
       "      <td>263991379</td>\n",
       "      <td>1904556</td>\n",
       "    </tr>\n",
       "    <tr>\n",
       "      <th>4</th>\n",
       "      <td>Bra</td>\n",
       "      <td>209288278</td>\n",
       "      <td>8511965</td>\n",
       "    </tr>\n",
       "  </tbody>\n",
       "</table>\n",
       "</div>"
      ],
      "text/plain": [
       "  Country Name  Population     Size\n",
       "0          Chi  1409517397  9572900\n",
       "1          Ind  1339180127  3287263\n",
       "2          USA   324459463  9629091\n",
       "3          Ind   263991379  1904556\n",
       "4          Bra   209288278  8511965"
      ]
     },
     "execution_count": 263,
     "metadata": {},
     "output_type": "execute_result"
    }
   ],
   "source": [
    "### Write code here\n",
    "\n",
    "prob7_df, prob7_df['Country Name'] = prob2_df.copy(deep = True), prob2_df['Country Name'].apply(lambda x: x[0:3])\n",
    "prob7_df"
   ]
  },
  {
   "cell_type": "markdown",
   "metadata": {},
   "source": [
    "Very pleased with this beautiful example of efficiency in Python, which employs a lambda function to deep copy the library in a single line of code."
   ]
  },
  {
   "cell_type": "markdown",
   "metadata": {},
   "source": [
    "### Problem 8:\n",
    "\n",
    "Using the Pandas DataFrame previously created (*prob7_df*):\n",
    "    \n",
    "    * Drop China from the data frame\n",
    "    * Add a new country at the bottom (Russia, Population = 143,989,754, Size = 17,098,246\n",
    "    * Save the answer on prob8_df"
   ]
  },
  {
   "cell_type": "code",
   "execution_count": 334,
   "metadata": {},
   "outputs": [
    {
     "data": {
      "text/html": [
       "<div>\n",
       "<style scoped>\n",
       "    .dataframe tbody tr th:only-of-type {\n",
       "        vertical-align: middle;\n",
       "    }\n",
       "\n",
       "    .dataframe tbody tr th {\n",
       "        vertical-align: top;\n",
       "    }\n",
       "\n",
       "    .dataframe thead th {\n",
       "        text-align: right;\n",
       "    }\n",
       "</style>\n",
       "<table border=\"1\" class=\"dataframe\">\n",
       "  <thead>\n",
       "    <tr style=\"text-align: right;\">\n",
       "      <th></th>\n",
       "      <th>Country Name</th>\n",
       "      <th>Population</th>\n",
       "      <th>Size</th>\n",
       "    </tr>\n",
       "  </thead>\n",
       "  <tbody>\n",
       "    <tr>\n",
       "      <th>0</th>\n",
       "      <td>India</td>\n",
       "      <td>1339180127</td>\n",
       "      <td>3287263</td>\n",
       "    </tr>\n",
       "    <tr>\n",
       "      <th>1</th>\n",
       "      <td>USA</td>\n",
       "      <td>324459463</td>\n",
       "      <td>9629091</td>\n",
       "    </tr>\n",
       "    <tr>\n",
       "      <th>2</th>\n",
       "      <td>Indonesia</td>\n",
       "      <td>263991379</td>\n",
       "      <td>1904556</td>\n",
       "    </tr>\n",
       "    <tr>\n",
       "      <th>3</th>\n",
       "      <td>Brazil</td>\n",
       "      <td>209288278</td>\n",
       "      <td>8511965</td>\n",
       "    </tr>\n",
       "    <tr>\n",
       "      <th>4</th>\n",
       "      <td>Russia</td>\n",
       "      <td>143989754</td>\n",
       "      <td>17098246</td>\n",
       "    </tr>\n",
       "  </tbody>\n",
       "</table>\n",
       "</div>"
      ],
      "text/plain": [
       "  Country Name  Population      Size\n",
       "0        India  1339180127   3287263\n",
       "1          USA   324459463   9629091\n",
       "2    Indonesia   263991379   1904556\n",
       "3       Brazil   209288278   8511965\n",
       "4       Russia   143989754  17098246"
      ]
     },
     "execution_count": 334,
     "metadata": {},
     "output_type": "execute_result"
    }
   ],
   "source": [
    "### Write code here\n",
    "new_entry_series = pd.Series([\"Russia\", \"143989754\", \"17098246\"], index = [\"Country Name\", \"Population\", \"Size\"])\n",
    "prob8_df = prob8_df.append(new_entry_series, ignore_index = True)\n",
    "prob8_df = prob2_df.drop(0)\n",
    "prob8_df\n"
   ]
  },
  {
   "cell_type": "markdown",
   "metadata": {},
   "source": [
    "### Problem 9:\n",
    "\n",
    "Using the Pandas DataFrame previously created (*prob8_df*):\n",
    "    \n",
    "    * Sort by Population ascending and in place"
   ]
  },
  {
   "cell_type": "code",
   "execution_count": 373,
   "metadata": {},
   "outputs": [
    {
     "ename": "TypeError",
     "evalue": "'<' not supported between instances of 'str' and 'int'",
     "output_type": "error",
     "traceback": [
      "\u001b[0;31m---------------------------------------------------------------------------\u001b[0m",
      "\u001b[0;31mTypeError\u001b[0m                                 Traceback (most recent call last)",
      "\u001b[0;32m<ipython-input-373-1725dd2507c8>\u001b[0m in \u001b[0;36m<module>\u001b[0;34m()\u001b[0m\n\u001b[1;32m      2\u001b[0m \u001b[0;31m### The Boolean operators > < don't know what to do. So we must convert the column to integers\u001b[0m\u001b[0;34m\u001b[0m\u001b[0;34m\u001b[0m\u001b[0m\n\u001b[1;32m      3\u001b[0m \u001b[0;34m\u001b[0m\u001b[0m\n\u001b[0;32m----> 4\u001b[0;31m \u001b[0mprob8_df\u001b[0m\u001b[0;34m.\u001b[0m\u001b[0msort_values\u001b[0m\u001b[0;34m(\u001b[0m\u001b[0mby\u001b[0m\u001b[0;34m=\u001b[0m\u001b[0;34m\"Population\"\u001b[0m\u001b[0;34m,\u001b[0m \u001b[0mascending\u001b[0m\u001b[0;34m=\u001b[0m\u001b[0;32mTrue\u001b[0m\u001b[0;34m)\u001b[0m\u001b[0;34m\u001b[0m\u001b[0m\n\u001b[0m",
      "\u001b[0;32m/Library/Frameworks/Python.framework/Versions/3.6/lib/python3.6/site-packages/pandas/core/frame.py\u001b[0m in \u001b[0;36msort_values\u001b[0;34m(self, by, axis, ascending, inplace, kind, na_position)\u001b[0m\n\u001b[1;32m   3632\u001b[0m \u001b[0;34m\u001b[0m\u001b[0m\n\u001b[1;32m   3633\u001b[0m             indexer = nargsort(k, kind=kind, ascending=ascending,\n\u001b[0;32m-> 3634\u001b[0;31m                                na_position=na_position)\n\u001b[0m\u001b[1;32m   3635\u001b[0m \u001b[0;34m\u001b[0m\u001b[0m\n\u001b[1;32m   3636\u001b[0m         new_data = self._data.take(indexer,\n",
      "\u001b[0;32m/Library/Frameworks/Python.framework/Versions/3.6/lib/python3.6/site-packages/pandas/core/sorting.py\u001b[0m in \u001b[0;36mnargsort\u001b[0;34m(items, kind, ascending, na_position)\u001b[0m\n\u001b[1;32m    248\u001b[0m         \u001b[0mnon_nans\u001b[0m \u001b[0;34m=\u001b[0m \u001b[0mnon_nans\u001b[0m\u001b[0;34m[\u001b[0m\u001b[0;34m:\u001b[0m\u001b[0;34m:\u001b[0m\u001b[0;34m-\u001b[0m\u001b[0;36m1\u001b[0m\u001b[0;34m]\u001b[0m\u001b[0;34m\u001b[0m\u001b[0m\n\u001b[1;32m    249\u001b[0m         \u001b[0mnon_nan_idx\u001b[0m \u001b[0;34m=\u001b[0m \u001b[0mnon_nan_idx\u001b[0m\u001b[0;34m[\u001b[0m\u001b[0;34m:\u001b[0m\u001b[0;34m:\u001b[0m\u001b[0;34m-\u001b[0m\u001b[0;36m1\u001b[0m\u001b[0;34m]\u001b[0m\u001b[0;34m\u001b[0m\u001b[0m\n\u001b[0;32m--> 250\u001b[0;31m     \u001b[0mindexer\u001b[0m \u001b[0;34m=\u001b[0m \u001b[0mnon_nan_idx\u001b[0m\u001b[0;34m[\u001b[0m\u001b[0mnon_nans\u001b[0m\u001b[0;34m.\u001b[0m\u001b[0margsort\u001b[0m\u001b[0;34m(\u001b[0m\u001b[0mkind\u001b[0m\u001b[0;34m=\u001b[0m\u001b[0mkind\u001b[0m\u001b[0;34m)\u001b[0m\u001b[0;34m]\u001b[0m\u001b[0;34m\u001b[0m\u001b[0m\n\u001b[0m\u001b[1;32m    251\u001b[0m     \u001b[0;32mif\u001b[0m \u001b[0;32mnot\u001b[0m \u001b[0mascending\u001b[0m\u001b[0;34m:\u001b[0m\u001b[0;34m\u001b[0m\u001b[0m\n\u001b[1;32m    252\u001b[0m         \u001b[0mindexer\u001b[0m \u001b[0;34m=\u001b[0m \u001b[0mindexer\u001b[0m\u001b[0;34m[\u001b[0m\u001b[0;34m:\u001b[0m\u001b[0;34m:\u001b[0m\u001b[0;34m-\u001b[0m\u001b[0;36m1\u001b[0m\u001b[0;34m]\u001b[0m\u001b[0;34m\u001b[0m\u001b[0m\n",
      "\u001b[0;31mTypeError\u001b[0m: '<' not supported between instances of 'str' and 'int'"
     ]
    }
   ],
   "source": [
    "### Uh-oh! We start off with an error. Why? Because the values in the Population column are objects.\n",
    "### The Boolean operators > < don't know what to do. So we must convert the column to integers\n",
    "\n",
    "prob8_df.sort_values(by=\"Population\", ascending=True)"
   ]
  },
  {
   "cell_type": "code",
   "execution_count": 368,
   "metadata": {},
   "outputs": [
    {
     "data": {
      "text/plain": [
       "Country Name    object\n",
       "Population      object\n",
       "Size            object\n",
       "dtype: object"
      ]
     },
     "execution_count": 368,
     "metadata": {},
     "output_type": "execute_result"
    }
   ],
   "source": [
    "### Since this data is coming from a CSV spreadsheet the dtype 'O' (object)\n",
    "\n",
    "prob9_df = prob8_df.copy(deep = True)\n",
    "\n",
    "prob9_df[\"Population\"] = prob9_df[\"Population\"].infer_objects()\n",
    "prob9_df.dtypes"
   ]
  },
  {
   "cell_type": "code",
   "execution_count": 369,
   "metadata": {},
   "outputs": [
    {
     "data": {
      "text/plain": [
       "Country Name    object\n",
       "Population       int64\n",
       "Size            object\n",
       "dtype: object"
      ]
     },
     "execution_count": 369,
     "metadata": {},
     "output_type": "execute_result"
    }
   ],
   "source": [
    "# Obviously that didn't work, so we try another method:\n",
    "\n",
    "prob9_df[\"Population\"] = prob9_df[\"Population\"].apply(pd.to_numeric, errors = 'ignore') #using 'coerce' will attempt to force the conversion, but we will use ignore and follow up by checking the dtype as to avoid any data loss\n",
    "\n",
    "prob9_df.dtypes"
   ]
  },
  {
   "cell_type": "code",
   "execution_count": 370,
   "metadata": {},
   "outputs": [
    {
     "data": {
      "text/plain": [
       "Country Name    object\n",
       "Population       int64\n",
       "Size            object\n",
       "dtype: object"
      ]
     },
     "execution_count": 370,
     "metadata": {},
     "output_type": "execute_result"
    }
   ],
   "source": [
    "# SUCCESS! There is also another method that will successfully force the conversion:\n",
    "prob9_df = prob8_df.copy(deep = True)\n",
    "\n",
    "prob9_df[\"Population\"] = prob9_df[\"Population\"].astype(int)\n",
    "\n",
    "prob9_df.dtypes"
   ]
  },
  {
   "cell_type": "code",
   "execution_count": 386,
   "metadata": {},
   "outputs": [
    {
     "data": {
      "text/html": [
       "<div>\n",
       "<style scoped>\n",
       "    .dataframe tbody tr th:only-of-type {\n",
       "        vertical-align: middle;\n",
       "    }\n",
       "\n",
       "    .dataframe tbody tr th {\n",
       "        vertical-align: top;\n",
       "    }\n",
       "\n",
       "    .dataframe thead th {\n",
       "        text-align: right;\n",
       "    }\n",
       "</style>\n",
       "<table border=\"1\" class=\"dataframe\">\n",
       "  <thead>\n",
       "    <tr style=\"text-align: right;\">\n",
       "      <th></th>\n",
       "      <th>Country Name</th>\n",
       "      <th>Population</th>\n",
       "      <th>Size</th>\n",
       "    </tr>\n",
       "  </thead>\n",
       "  <tbody>\n",
       "    <tr>\n",
       "      <th>4</th>\n",
       "      <td>Russia</td>\n",
       "      <td>143989754</td>\n",
       "      <td>17098246</td>\n",
       "    </tr>\n",
       "    <tr>\n",
       "      <th>3</th>\n",
       "      <td>Brazil</td>\n",
       "      <td>209288278</td>\n",
       "      <td>8511965</td>\n",
       "    </tr>\n",
       "    <tr>\n",
       "      <th>2</th>\n",
       "      <td>Indonesia</td>\n",
       "      <td>263991379</td>\n",
       "      <td>1904556</td>\n",
       "    </tr>\n",
       "    <tr>\n",
       "      <th>1</th>\n",
       "      <td>USA</td>\n",
       "      <td>324459463</td>\n",
       "      <td>9629091</td>\n",
       "    </tr>\n",
       "    <tr>\n",
       "      <th>0</th>\n",
       "      <td>India</td>\n",
       "      <td>1339180127</td>\n",
       "      <td>3287263</td>\n",
       "    </tr>\n",
       "  </tbody>\n",
       "</table>\n",
       "</div>"
      ],
      "text/plain": [
       "  Country Name  Population      Size\n",
       "4       Russia   143989754  17098246\n",
       "3       Brazil   209288278   8511965\n",
       "2    Indonesia   263991379   1904556\n",
       "1          USA   324459463   9629091\n",
       "0        India  1339180127   3287263"
      ]
     },
     "execution_count": 386,
     "metadata": {},
     "output_type": "execute_result"
    }
   ],
   "source": [
    "### FINALLY we win:\n",
    "\n",
    "prob9_df = prob9_df.sort_values(by=\"Population\", ascending=True)\n",
    "prob9_df"
   ]
  }
 ],
 "metadata": {
  "kernelspec": {
   "display_name": "Python 3",
   "language": "python",
   "name": "python3"
  },
  "language_info": {
   "codemirror_mode": {
    "name": "ipython",
    "version": 3
   },
   "file_extension": ".py",
   "mimetype": "text/x-python",
   "name": "python",
   "nbconvert_exporter": "python",
   "pygments_lexer": "ipython3",
   "version": "3.7.0"
  },
  "toc": {
   "base_numbering": 1,
   "nav_menu": {},
   "number_sections": true,
   "sideBar": true,
   "skip_h1_title": false,
   "title_cell": "Table of Contents",
   "title_sidebar": "Contents",
   "toc_cell": false,
   "toc_position": {},
   "toc_section_display": true,
   "toc_window_display": false
  }
 },
 "nbformat": 4,
 "nbformat_minor": 2
}
