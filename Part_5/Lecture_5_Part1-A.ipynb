{
 "cells": [
  {
   "cell_type": "markdown",
   "metadata": {
    "toc": true
   },
   "source": [
    "<h1>Table of Contents<span class=\"tocSkip\"></span></h1>\n",
    "<div class=\"toc\"><ul class=\"toc-item\"><li><span><a href=\"#Lecture-5---Part-1\" data-toc-modified-id=\"Lecture-5---Part-1-1\">Lecture 5 - Part 1</a></span><ul class=\"toc-item\"><li><span><a href=\"#Introduction-to-Pandas\" data-toc-modified-id=\"Introduction-to-Pandas-1.1\">Introduction to Pandas</a></span></li><li><span><a href=\"#5.1-Pandas-Introduction-and-Uses\" data-toc-modified-id=\"5.1-Pandas-Introduction-and-Uses-1.2\">5.1 Pandas Introduction and Uses</a></span><ul class=\"toc-item\"><li><span><a href=\"#5.1.1-What-is-Pandas?\" data-toc-modified-id=\"5.1.1-What-is-Pandas?-1.2.1\">5.1.1 What is Pandas?</a></span></li><li><span><a href=\"#5.1.2-Pandas-Basics\" data-toc-modified-id=\"5.1.2-Pandas-Basics-1.2.2\">5.1.2 Pandas Basics</a></span></li><li><span><a href=\"#5.1.2.1-Pandas-Data-Structures\" data-toc-modified-id=\"5.1.2.1-Pandas-Data-Structures-1.2.3\">5.1.2.1 Pandas Data Structures</a></span><ul class=\"toc-item\"><li><span><a href=\"#Part-1-(Creating-Series-in-Pandas):\" data-toc-modified-id=\"Part-1-(Creating-Series-in-Pandas):-1.2.3.1\">Part 1 (Creating Series in Pandas):</a></span><ul class=\"toc-item\"><li><span><a href=\"#Example-1.1-(Creating-Series-from-Python-Dictionary):\" data-toc-modified-id=\"Example-1.1-(Creating-Series-from-Python-Dictionary):-1.2.3.1.1\">Example 1.1 (Creating Series from Python Dictionary):</a></span></li><li><span><a href=\"#Example-1.2-(Creating-Series-from-NumPy-Array):\" data-toc-modified-id=\"Example-1.2-(Creating-Series-from-NumPy-Array):-1.2.3.1.2\">Example 1.2 (Creating Series from NumPy Array):</a></span></li><li><span><a href=\"#Example-1.3-(Creating-Series-from-Scalar-Value):\" data-toc-modified-id=\"Example-1.3-(Creating-Series-from-Scalar-Value):-1.2.3.1.3\">Example 1.3 (Creating Series from Scalar Value):</a></span></li><li><span><a href=\"#Example-1.4-(Using-the-Series-Name-Attribute):\" data-toc-modified-id=\"Example-1.4-(Using-the-Series-Name-Attribute):-1.2.3.1.4\">Example 1.4 (Using the Series Name Attribute):</a></span></li><li><span><a href=\"#Problem-1:\" data-toc-modified-id=\"Problem-1:-1.2.3.1.5\">Problem 1:</a></span></li></ul></li><li><span><a href=\"#Part-2-(Creating-DataFrames-in-Pandas):\" data-toc-modified-id=\"Part-2-(Creating-DataFrames-in-Pandas):-1.2.3.2\">Part 2 (Creating DataFrames in Pandas):</a></span><ul class=\"toc-item\"><li><span><a href=\"#Example-2.1-(Creating-DataFrames-from-Dictionaries):\" data-toc-modified-id=\"Example-2.1-(Creating-DataFrames-from-Dictionaries):-1.2.3.2.1\">Example 2.1 (Creating DataFrames from Dictionaries):</a></span></li><li><span><a href=\"#Example-2.2-(Creating-DataFrames-from-NumPy-Arrays):\" data-toc-modified-id=\"Example-2.2-(Creating-DataFrames-from-NumPy-Arrays):-1.2.3.2.2\">Example 2.2 (Creating DataFrames from NumPy Arrays):</a></span></li><li><span><a href=\"#Example-2.3-(Creating-DataFrames-from-Series-Objects):\" data-toc-modified-id=\"Example-2.3-(Creating-DataFrames-from-Series-Objects):-1.2.3.2.3\">Example 2.3 (Creating DataFrames from Series Objects):</a></span></li><li><span><a href=\"#Example-2.4-(Creating-DataFrames-from-other-DataFrames):\" data-toc-modified-id=\"Example-2.4-(Creating-DataFrames-from-other-DataFrames):-1.2.3.2.4\">Example 2.4 (Creating DataFrames from other DataFrames):</a></span></li><li><span><a href=\"#Example-2.5-(Creating-DataFrames-from-List-of-Dictionaries):\" data-toc-modified-id=\"Example-2.5-(Creating-DataFrames-from-List-of-Dictionaries):-1.2.3.2.5\">Example 2.5 (Creating DataFrames from List of Dictionaries):</a></span></li><li><span><a href=\"#Example-2.6-(Creating-DataFrames-from-CSV):\" data-toc-modified-id=\"Example-2.6-(Creating-DataFrames-from-CSV):-1.2.3.2.6\">Example 2.6 (Creating DataFrames from CSV):</a></span></li><li><span><a href=\"#Problem-2:\" data-toc-modified-id=\"Problem-2:-1.2.3.2.7\">Problem 2:</a></span></li></ul></li></ul></li><li><span><a href=\"#5.1.2.2-Inspecting-Pandas-Data-Structures\" data-toc-modified-id=\"5.1.2.2-Inspecting-Pandas-Data-Structures-1.2.4\">5.1.2.2 Inspecting Pandas Data Structures</a></span><ul class=\"toc-item\"><li><span><a href=\"#Part-1-(Inspecting-Pandas-Series):\" data-toc-modified-id=\"Part-1-(Inspecting-Pandas-Series):-1.2.4.1\">Part 1 (Inspecting Pandas Series):</a></span><ul class=\"toc-item\"><li><span><a href=\"#Example-1.1-(Dimensions):\" data-toc-modified-id=\"Example-1.1-(Dimensions):-1.2.4.1.1\">Example 1.1 (Dimensions):</a></span></li><li><span><a href=\"#Example-1.2-(Row-Labels):\" data-toc-modified-id=\"Example-1.2-(Row-Labels):-1.2.4.1.2\">Example 1.2 (Row Labels):</a></span></li><li><span><a href=\"#Example-1.3-(Name-Labels):\" data-toc-modified-id=\"Example-1.3-(Name-Labels):-1.2.4.1.3\">Example 1.3 (Name Labels):</a></span></li><li><span><a href=\"#Example-1.4-(Data-Values):\" data-toc-modified-id=\"Example-1.4-(Data-Values):-1.2.4.1.4\">Example 1.4 (Data Values):</a></span></li><li><span><a href=\"#Example-1.5-(Data-Type):\" data-toc-modified-id=\"Example-1.5-(Data-Type):-1.2.4.1.5\">Example 1.5 (Data Type):</a></span></li><li><span><a href=\"#Example-1.6-(Data-Quick-Look):\" data-toc-modified-id=\"Example-1.6-(Data-Quick-Look):-1.2.4.1.6\">Example 1.6 (Data Quick Look):</a></span></li><li><span><a href=\"#Example-1.7-(Data-Summary):\" data-toc-modified-id=\"Example-1.7-(Data-Summary):-1.2.4.1.7\">Example 1.7 (Data Summary):</a></span></li></ul></li><li><span><a href=\"#Side-Work:-Working-with-CSV-files-and-JSON-Data\" data-toc-modified-id=\"Side-Work:-Working-with-CSV-files-and-JSON-Data-1.2.4.2\">Side Work: Working with CSV files and JSON Data</a></span><ul class=\"toc-item\"><li><span><a href=\"#Reader-Objects\" data-toc-modified-id=\"Reader-Objects-1.2.4.2.1\">Reader Objects</a></span></li><li><span><a href=\"#Reading-with-a-For-Loop\" data-toc-modified-id=\"Reading-with-a-For-Loop-1.2.4.2.2\">Reading with a For Loop</a></span></li><li><span><a href=\"#Writing-and-Editing-CSV-Files\" data-toc-modified-id=\"Writing-and-Editing-CSV-Files-1.2.4.2.3\">Writing and Editing CSV Files</a></span></li></ul></li><li><span><a href=\"#Part-2-(Inspecting-Pandas-DataFrames):\" data-toc-modified-id=\"Part-2-(Inspecting-Pandas-DataFrames):-1.2.4.3\">Part 2 (Inspecting Pandas DataFrames):</a></span><ul class=\"toc-item\"><li><span><a href=\"#Example-2.1-(Dimensions):\" data-toc-modified-id=\"Example-2.1-(Dimensions):-1.2.4.3.1\">Example 2.1 (Dimensions):</a></span></li><li><span><a href=\"#Example-2.2-(Row-Labels):\" data-toc-modified-id=\"Example-2.2-(Row-Labels):-1.2.4.3.2\">Example 2.2 (Row Labels):</a></span></li><li><span><a href=\"#Example-2.3-(Column-Labels):\" data-toc-modified-id=\"Example-2.3-(Column-Labels):-1.2.4.3.3\">Example 2.3 (Column Labels):</a></span></li><li><span><a href=\"#Example-2.4-(Data-Values):\" data-toc-modified-id=\"Example-2.4-(Data-Values):-1.2.4.3.4\">Example 2.4 (Data Values):</a></span></li><li><span><a href=\"#Example-2.5-(Data-Type):\" data-toc-modified-id=\"Example-2.5-(Data-Type):-1.2.4.3.5\">Example 2.5 (Data Type):</a></span></li><li><span><a href=\"#Example-2.6-(Data-Quick-Look):\" data-toc-modified-id=\"Example-2.6-(Data-Quick-Look):-1.2.4.3.6\">Example 2.6 (Data Quick Look):</a></span></li><li><span><a href=\"#Example-2.7-(Data-Summary):\" data-toc-modified-id=\"Example-2.7-(Data-Summary):-1.2.4.3.7\">Example 2.7 (Data Summary):</a></span></li><li><span><a href=\"#Example-2.8-(Info):\" data-toc-modified-id=\"Example-2.8-(Info):-1.2.4.3.8\">Example 2.8 (Info):</a></span></li><li><span><a href=\"#Problem-3:\" data-toc-modified-id=\"Problem-3:-1.2.4.3.9\">Problem 3:</a></span></li></ul></li></ul></li><li><span><a href=\"#5.1.3-Indexing-Pandas-Data-Structures:\" data-toc-modified-id=\"5.1.3-Indexing-Pandas-Data-Structures:-1.2.5\">5.1.3 Indexing Pandas Data Structures:</a></span><ul class=\"toc-item\"><li><span><a href=\"#Part-1-(Indexing-Method-1---Select-by-Column-Name):\" data-toc-modified-id=\"Part-1-(Indexing-Method-1---Select-by-Column-Name):-1.2.5.1\">Part 1 (Indexing Method 1 - Select by Column Name):</a></span><ul class=\"toc-item\"><li><span><a href=\"#Example-1.1-(Access-1-Column-by-Name---Method-1):\" data-toc-modified-id=\"Example-1.1-(Access-1-Column-by-Name---Method-1):-1.2.5.1.1\">Example 1.1 (Access 1 Column by Name - Method 1):</a></span></li><li><span><a href=\"#Example-1.2-(Access-1-Column-by-Name---Method-2):\" data-toc-modified-id=\"Example-1.2-(Access-1-Column-by-Name---Method-2):-1.2.5.1.2\">Example 1.2 (Access 1 Column by Name - Method 2):</a></span></li><li><span><a href=\"#Example-1.3-(Access-2-Columns-by-Names):\" data-toc-modified-id=\"Example-1.3-(Access-2-Columns-by-Names):-1.2.5.1.3\">Example 1.3 (Access 2 Columns by Names):</a></span></li></ul></li><li><span><a href=\"#Part-2-(Indexing-Method-2---Select-by-Label):\" data-toc-modified-id=\"Part-2-(Indexing-Method-2---Select-by-Label):-1.2.5.2\">Part 2 (Indexing Method 2 - Select by Label):</a></span><ul class=\"toc-item\"><li><span><a href=\"#Example-2.1-(Access-with-Single-Label---Series):\" data-toc-modified-id=\"Example-2.1-(Access-with-Single-Label---Series):-1.2.5.2.1\">Example 2.1 (Access with Single Label - Series):</a></span></li><li><span><a href=\"#Example-2.2-(Access-with-Single-Label---DataFrame):\" data-toc-modified-id=\"Example-2.2-(Access-with-Single-Label---DataFrame):-1.2.5.2.2\">Example 2.2 (Access with Single Label - DataFrame):</a></span></li><li><span><a href=\"#Example-2.3-(Access-with-List-of-Labels---Series):\" data-toc-modified-id=\"Example-2.3-(Access-with-List-of-Labels---Series):-1.2.5.2.3\">Example 2.3 (Access with List of Labels - Series):</a></span></li><li><span><a href=\"#Example-2.4-(Access-with-List-of-Labels---DataFrame):\" data-toc-modified-id=\"Example-2.4-(Access-with-List-of-Labels---DataFrame):-1.2.5.2.4\">Example 2.4 (Access with List of Labels - DataFrame):</a></span></li><li><span><a href=\"#Example-2.5-(Access-with-Slice-Object---Series):\" data-toc-modified-id=\"Example-2.5-(Access-with-Slice-Object---Series):-1.2.5.2.5\">Example 2.5 (Access with Slice Object - Series):</a></span></li><li><span><a href=\"#Example-2.6-(Access-with-Slice-Object---DataFrame):\" data-toc-modified-id=\"Example-2.6-(Access-with-Slice-Object---DataFrame):-1.2.5.2.6\">Example 2.6 (Access with Slice Object - DataFrame):</a></span></li><li><span><a href=\"#Example-2.7-(Access-with-Boolean-Array---Series):\" data-toc-modified-id=\"Example-2.7-(Access-with-Boolean-Array---Series):-1.2.5.2.7\">Example 2.7 (Access with Boolean Array - Series):</a></span></li><li><span><a href=\"#Example-2.8-(Access-with-Boolean-Array---DataFrame):\" data-toc-modified-id=\"Example-2.8-(Access-with-Boolean-Array---DataFrame):-1.2.5.2.8\">Example 2.8 (Access with Boolean Array - DataFrame):</a></span></li><li><span><a href=\"#Example-2.9-(Access-Scalar-Values):\" data-toc-modified-id=\"Example-2.9-(Access-Scalar-Values):-1.2.5.2.9\">Example 2.9 (Access Scalar Values):</a></span></li></ul></li><li><span><a href=\"#Part-3-(Indexing-Method-3---Select-by-Integer-Location):\" data-toc-modified-id=\"Part-3-(Indexing-Method-3---Select-by-Integer-Location):-1.2.5.3\">Part 3 (Indexing Method 3 - Select by Integer Location):</a></span><ul class=\"toc-item\"><li><span><a href=\"#Example-3.1-(-Access-with-Integer---Series):\" data-toc-modified-id=\"Example-3.1-(-Access-with-Integer---Series):-1.2.5.3.1\">Example 3.1 ( Access with Integer - Series):</a></span></li><li><span><a href=\"#Example-3.2-(Access-with-Integer---DataFrame):\" data-toc-modified-id=\"Example-3.2-(Access-with-Integer---DataFrame):-1.2.5.3.2\">Example 3.2 (Access with Integer - DataFrame):</a></span></li><li><span><a href=\"#Example-3.3-(Access-with-List-of-Integers---Series):\" data-toc-modified-id=\"Example-3.3-(Access-with-List-of-Integers---Series):-1.2.5.3.3\">Example 3.3 (Access with List of Integers - Series):</a></span></li><li><span><a href=\"#Example-3.4-(Access-with-List-of-Integers---DataFrame):\" data-toc-modified-id=\"Example-3.4-(Access-with-List-of-Integers---DataFrame):-1.2.5.3.4\">Example 3.4 (Access with List of Integers - DataFrame):</a></span></li><li><span><a href=\"#Example-3.5-(Access-with-Slice-Object---Series):\" data-toc-modified-id=\"Example-3.5-(Access-with-Slice-Object---Series):-1.2.5.3.5\">Example 3.5 (Access with Slice Object - Series):</a></span></li><li><span><a href=\"#Example-3.6-(Access-with-Slice-Object---DataFrame):\" data-toc-modified-id=\"Example-3.6-(Access-with-Slice-Object---DataFrame):-1.2.5.3.6\">Example 3.6 (Access with Slice Object - DataFrame):</a></span></li><li><span><a href=\"#Example-3.7-(Access-with-Boolean-Array---Series):\" data-toc-modified-id=\"Example-3.7-(Access-with-Boolean-Array---Series):-1.2.5.3.7\">Example 3.7 (Access with Boolean Array - Series):</a></span></li><li><span><a href=\"#Example-3.8-(Access-with-Boolean-Array---DataFrame):\" data-toc-modified-id=\"Example-3.8-(Access-with-Boolean-Array---DataFrame):-1.2.5.3.8\">Example 3.8 (Access with Boolean Array - DataFrame):</a></span></li><li><span><a href=\"#Example-3.9-(Access-Scalar-Values):\" data-toc-modified-id=\"Example-3.9-(Access-Scalar-Values):-1.2.5.3.9\">Example 3.9 (Access Scalar Values):</a></span></li><li><span><a href=\"#Problem-4:\" data-toc-modified-id=\"Problem-4:-1.2.5.3.10\">Problem 4:</a></span></li></ul></li><li><span><a href=\"#Part-4-(Indexing-Method-4---Slicing-Ranges):\" data-toc-modified-id=\"Part-4-(Indexing-Method-4---Slicing-Ranges):-1.2.5.4\">Part 4 (Indexing Method 4 - Slicing Ranges):</a></span><ul class=\"toc-item\"><li><span><a href=\"#Example-4.1-(Slicing-Ranges---Series):\" data-toc-modified-id=\"Example-4.1-(Slicing-Ranges---Series):-1.2.5.4.1\">Example 4.1 (Slicing Ranges - Series):</a></span></li><li><span><a href=\"#Example-4.2-(Slicing-Ranges---DataFrames):\" data-toc-modified-id=\"Example-4.2-(Slicing-Ranges---DataFrames):-1.2.5.4.2\">Example 4.2 (Slicing Ranges - DataFrames):</a></span></li></ul></li><li><span><a href=\"#Part-5-(Indexing-Method-5---Boolean-Indexing):\" data-toc-modified-id=\"Part-5-(Indexing-Method-5---Boolean-Indexing):-1.2.5.5\">Part 5 (Indexing Method 5 - Boolean Indexing):</a></span><ul class=\"toc-item\"><li><span><a href=\"#Example-5.1-(Boolean-Indexing---Series):\" data-toc-modified-id=\"Example-5.1-(Boolean-Indexing---Series):-1.2.5.5.1\">Example 5.1 (Boolean Indexing - Series):</a></span></li><li><span><a href=\"#Example-5.2-(Boolean-Indexing---DataFrames):\" data-toc-modified-id=\"Example-5.2-(Boolean-Indexing---DataFrames):-1.2.5.5.2\">Example 5.2 (Boolean Indexing - DataFrames):</a></span></li><li><span><a href=\"#Problem-5:\" data-toc-modified-id=\"Problem-5:-1.2.5.5.3\">Problem 5:</a></span></li></ul></li></ul></li></ul></li></ul></li><li><span><a href=\"#Part-6-(Indexing-Method-6---Using-isin):\" data-toc-modified-id=\"Part-6-(Indexing-Method-6---Using-isin):-2\">Part 6 (Indexing Method 6 - Using isin):</a></span><ul class=\"toc-item\"><li><ul class=\"toc-item\"><li><ul class=\"toc-item\"><li><ul class=\"toc-item\"><li><span><a href=\"#Example-6.1-(Using-isin---Series):\" data-toc-modified-id=\"Example-6.1-(Using-isin---Series):-2.0.0.0.1\">Example 6.1 (Using isin - Series):</a></span></li><li><span><a href=\"#Example-6.2-(Using-isin---DataFrames):\" data-toc-modified-id=\"Example-6.2-(Using-isin---DataFrames):-2.0.0.0.2\">Example 6.2 (Using isin - DataFrames):</a></span></li></ul></li></ul></li><li><span><a href=\"#5.1.4-Manipulating-Pandas-Data-Structures:\" data-toc-modified-id=\"5.1.4-Manipulating-Pandas-Data-Structures:-2.0.1\">5.1.4 Manipulating Pandas Data Structures:</a></span></li><li><span><a href=\"#5.1.4.1-Simple-Manipulation-of-Pandas-Data-Structures:\" data-toc-modified-id=\"5.1.4.1-Simple-Manipulation-of-Pandas-Data-Structures:-2.0.2\">5.1.4.1 Simple Manipulation of Pandas Data Structures:</a></span><ul class=\"toc-item\"><li><span><a href=\"#Part-1-(Setting-Values):\" data-toc-modified-id=\"Part-1-(Setting-Values):-2.0.2.1\">Part 1 (Setting Values):</a></span><ul class=\"toc-item\"><li><span><a href=\"#Example-1.1-(Setting-Values---Slicing-Ranges):\" data-toc-modified-id=\"Example-1.1-(Setting-Values---Slicing-Ranges):-2.0.2.1.1\">Example 1.1 (Setting Values - Slicing Ranges):</a></span></li><li><span><a href=\"#Example-1.1.1-(Series):\" data-toc-modified-id=\"Example-1.1.1-(Series):-2.0.2.1.2\">Example 1.1.1 (Series):</a></span></li><li><span><a href=\"#Example-1.1.2-(DataFrame):\" data-toc-modified-id=\"Example-1.1.2-(DataFrame):-2.0.2.1.3\">Example 1.1.2 (DataFrame):</a></span></li><li><span><a href=\"#Example-1.2-(Setting-Values---By-Labels):\" data-toc-modified-id=\"Example-1.2-(Setting-Values---By-Labels):-2.0.2.1.4\">Example 1.2 (Setting Values - By Labels):</a></span></li><li><span><a href=\"#Example-1.2.1-(Series):\" data-toc-modified-id=\"Example-1.2.1-(Series):-2.0.2.1.5\">Example 1.2.1 (Series):</a></span></li><li><span><a href=\"#Example-1.2.2-(DataFrame):\" data-toc-modified-id=\"Example-1.2.2-(DataFrame):-2.0.2.1.6\">Example 1.2.2 (DataFrame):</a></span></li><li><span><a href=\"#Example-1.3-(Setting-Values---By-Position):\" data-toc-modified-id=\"Example-1.3-(Setting-Values---By-Position):-2.0.2.1.7\">Example 1.3 (Setting Values - By Position):</a></span></li><li><span><a href=\"#Example-1.3.1-(Series):\" data-toc-modified-id=\"Example-1.3.1-(Series):-2.0.2.1.8\">Example 1.3.1 (Series):</a></span></li><li><span><a href=\"#Example-1.3.2-(DataFrame):\" data-toc-modified-id=\"Example-1.3.2-(DataFrame):-2.0.2.1.9\">Example 1.3.2 (DataFrame):</a></span></li><li><span><a href=\"#Problem-6:\" data-toc-modified-id=\"Problem-6:-2.0.2.1.10\">Problem 6:</a></span></li></ul></li><li><span><a href=\"#Part-2-(Manipulating-Rows):\" data-toc-modified-id=\"Part-2-(Manipulating-Rows):-2.0.2.2\">Part 2 (Manipulating Rows):</a></span><ul class=\"toc-item\"><li><span><a href=\"#Example-2.1-(Changing-Row-Index---Method-1):\" data-toc-modified-id=\"Example-2.1-(Changing-Row-Index---Method-1):-2.0.2.2.1\">Example 2.1 (Changing Row Index - Method 1):</a></span></li><li><span><a href=\"#Example-2.1.1-(Series):\" data-toc-modified-id=\"Example-2.1.1-(Series):-2.0.2.2.2\">Example 2.1.1 (Series):</a></span></li><li><span><a href=\"#Example-2.1.2-(DataFrame):\" data-toc-modified-id=\"Example-2.1.2-(DataFrame):-2.0.2.2.3\">Example 2.1.2 (DataFrame):</a></span></li><li><span><a href=\"#Problem-7:\" data-toc-modified-id=\"Problem-7:-2.0.2.2.4\">Problem 7:</a></span></li><li><span><a href=\"#Example-2.2-(Changing-Row-Index---Method-2):\" data-toc-modified-id=\"Example-2.2-(Changing-Row-Index---Method-2):-2.0.2.2.5\">Example 2.2 (Changing Row Index - Method 2):</a></span></li><li><span><a href=\"#Example-2.2.1-(Series):\" data-toc-modified-id=\"Example-2.2.1-(Series):-2.0.2.2.6\">Example 2.2.1 (Series):</a></span></li><li><span><a href=\"#Example-2.2.2-(DataFrames):\" data-toc-modified-id=\"Example-2.2.2-(DataFrames):-2.0.2.2.7\">Example 2.2.2 (DataFrames):</a></span></li><li><span><a href=\"#Example-2.3-(Changing-Row-Index---Method-3):\" data-toc-modified-id=\"Example-2.3-(Changing-Row-Index---Method-3):-2.0.2.2.8\">Example 2.3 (Changing Row Index - Method 3):</a></span></li><li><span><a href=\"#Example-2.3.1-(Series):\" data-toc-modified-id=\"Example-2.3.1-(Series):-2.0.2.2.9\">Example 2.3.1 (Series):</a></span></li><li><span><a href=\"#Example-2.3.2-(DataFrames):\" data-toc-modified-id=\"Example-2.3.2-(DataFrames):-2.0.2.2.10\">Example 2.3.2 (DataFrames):</a></span></li><li><span><a href=\"#Example-2.4-(Adding-Rows---Method-1):\" data-toc-modified-id=\"Example-2.4-(Adding-Rows---Method-1):-2.0.2.2.11\">Example 2.4 (Adding Rows - Method 1):</a></span></li><li><span><a href=\"#Example-2.4.1-(DataFrame):\" data-toc-modified-id=\"Example-2.4.1-(DataFrame):-2.0.2.2.12\">Example 2.4.1 (DataFrame):</a></span></li><li><span><a href=\"#Example-2.5-(Adding-Rows---Method-2):\" data-toc-modified-id=\"Example-2.5-(Adding-Rows---Method-2):-2.0.2.2.13\">Example 2.5 (Adding Rows - Method 2):</a></span></li><li><span><a href=\"#Example-2.5.1-(DataFrame):\" data-toc-modified-id=\"Example-2.5.1-(DataFrame):-2.0.2.2.14\">Example 2.5.1 (DataFrame):</a></span></li><li><span><a href=\"#Example-2.6-(Removing-Rows---Method-1):\" data-toc-modified-id=\"Example-2.6-(Removing-Rows---Method-1):-2.0.2.2.15\">Example 2.6 (Removing Rows - Method 1):</a></span></li><li><span><a href=\"#Example-2.6.1-(Series):\" data-toc-modified-id=\"Example-2.6.1-(Series):-2.0.2.2.16\">Example 2.6.1 (Series):</a></span></li><li><span><a href=\"#Example-2.6.2-(DataFrames):\" data-toc-modified-id=\"Example-2.6.2-(DataFrames):-2.0.2.2.17\">Example 2.6.2 (DataFrames):</a></span></li><li><span><a href=\"#Problem-8:\" data-toc-modified-id=\"Problem-8:-2.0.2.2.18\">Problem 8:</a></span></li><li><span><a href=\"#Example-2.7-(Sorting-Rows---Method-1):\" data-toc-modified-id=\"Example-2.7-(Sorting-Rows---Method-1):-2.0.2.2.19\">Example 2.7 (Sorting Rows - Method 1):</a></span></li><li><span><a href=\"#Example-2.7.1-(DataFrames):\" data-toc-modified-id=\"Example-2.7.1-(DataFrames):-2.0.2.2.20\">Example 2.7.1 (DataFrames):</a></span></li><li><span><a href=\"#Example-2.8-(Sorting-Rows---Method-2):\" data-toc-modified-id=\"Example-2.8-(Sorting-Rows---Method-2):-2.0.2.2.21\">Example 2.8 (Sorting Rows - Method 2):</a></span></li><li><span><a href=\"#Example-2.8.1-(DataFrames):\" data-toc-modified-id=\"Example-2.8.1-(DataFrames):-2.0.2.2.22\">Example 2.8.1 (DataFrames):</a></span></li><li><span><a href=\"#Problem-9:\" data-toc-modified-id=\"Problem-9:-2.0.2.2.23\">Problem 9:</a></span></li></ul></li><li><span><a href=\"#Part-3-(Manipulating-Columns):\" data-toc-modified-id=\"Part-3-(Manipulating-Columns):-2.0.2.3\">Part 3 (Manipulating Columns):</a></span><ul class=\"toc-item\"><li><span><a href=\"#Example-3.1-(Changing-Column-Names---Method-1):\" data-toc-modified-id=\"Example-3.1-(Changing-Column-Names---Method-1):-2.0.2.3.1\">Example 3.1 (Changing Column Names - Method 1):</a></span></li><li><span><a href=\"#Example-3.2-(Changing-Column-Names---Method-2):\" data-toc-modified-id=\"Example-3.2-(Changing-Column-Names---Method-2):-2.0.2.3.2\">Example 3.2 (Changing Column Names - Method 2):</a></span></li><li><span><a href=\"#Example-3.3-(Changing-Column-Names---Method-3):\" data-toc-modified-id=\"Example-3.3-(Changing-Column-Names---Method-3):-2.0.2.3.3\">Example 3.3 (Changing Column Names - Method 3):</a></span></li><li><span><a href=\"#Example-3.4-(Adding-Columns---Method-1):\" data-toc-modified-id=\"Example-3.4-(Adding-Columns---Method-1):-2.0.2.3.4\">Example 3.4 (Adding Columns - Method 1):</a></span></li><li><span><a href=\"#Example-3.5-(Adding-Columns---Method-2):\" data-toc-modified-id=\"Example-3.5-(Adding-Columns---Method-2):-2.0.2.3.5\">Example 3.5 (Adding Columns - Method 2):</a></span></li><li><span><a href=\"#Example-3.6-(Removing-Columns---Method-1):\" data-toc-modified-id=\"Example-3.6-(Removing-Columns---Method-1):-2.0.2.3.6\">Example 3.6 (Removing Columns - Method 1):</a></span></li><li><span><a href=\"#Example-3.7-(Removing-Columns---Method-2):\" data-toc-modified-id=\"Example-3.7-(Removing-Columns---Method-2):-2.0.2.3.7\">Example 3.7 (Removing Columns - Method 2):</a></span></li><li><span><a href=\"#Example-3.8-(Removing-Columns---Method-3):\" data-toc-modified-id=\"Example-3.8-(Removing-Columns---Method-3):-2.0.2.3.8\">Example 3.8 (Removing Columns - Method 3):</a></span></li><li><span><a href=\"#Example-3.9-(Sorting-Columns---Method-1):\" data-toc-modified-id=\"Example-3.9-(Sorting-Columns---Method-1):-2.0.2.3.9\">Example 3.9 (Sorting Columns - Method 1):</a></span></li><li><span><a href=\"#Problem-10:\" data-toc-modified-id=\"Problem-10:-2.0.2.3.10\">Problem 10:</a></span></li></ul></li></ul></li></ul></li></ul></li></ul></div>"
   ]
  },
  {
   "cell_type": "markdown",
   "metadata": {},
   "source": [
    "# Lecture 5 - Part 1\n",
    "## Introduction to Pandas "
   ]
  },
  {
   "cell_type": "markdown",
   "metadata": {},
   "source": [
    "__Purpose:__ The purpose of this lecture is to explore the extremely powerful Python package - Pandas. We will learn what Pandas is, why it is so useful for Data Scientists, how to use Pandas Series and DataFrames for indexing and manipulation tasks and more advanced capabilities like grouping, aggregating, and sorting.  \n",
    "\n",
    "__At the end of this lecture you will be able to:__\n",
    "> 1. Understand what the Pandas Package is and what it can be used for \n",
    "> 2. Understand the concept of a Pandas Series and Pandas DataFrame and how they can be created, accessed, and manipulated\n",
    "> 3. Perform indexing and manipulation (concatenating/merging/joining/reshaping) tasks on Pandas DataFrames\n",
    "> 4. Perform advanced tasks on Pandas DataFrames such as aggregating and grouping \n",
    "> 5. Use Pandas built-in capabilities for Time Series data "
   ]
  },
  {
   "cell_type": "markdown",
   "metadata": {},
   "source": [
    "## 5.1 Pandas Introduction and Uses"
   ]
  },
  {
   "cell_type": "markdown",
   "metadata": {},
   "source": [
    "### 5.1.1 What is Pandas?"
   ]
  },
  {
   "cell_type": "markdown",
   "metadata": {},
   "source": [
    "__Overview:__\n",
    "- __[Pandas](http://pandas.pydata.org/pandas-docs/stable/index.html):__ Pandas is a Python package that provides fast and flexible data structures that are designed to make working with [relational](https://en.wikipedia.org/wiki/Relational_database) or \"labeled\" data easy and intuitive\n",
    "- In the words of [Wes McKinney](https://en.wikipedia.org/wiki/Wes_McKinney), who created Pandas in 2008, and published [this](http://www.dlr.de/sc/Portaldata/15/Resources/dokumente/pyhpc2011/submissions/pyhpc2011_submission_9.pdf) paper in 2011 at PyHPC describing the usefulness and need for Pandas (which was a play on [__Pan__ el __Da__ ta](https://en.wikipedia.org/wiki/Panel_data) )\n",
    "\n",
    "_\"Pandas enables people to analyze and work with data who are not expert computer scientists...the code is intuitive and accessible. Pandas helps people move beyond just using Excel for data analysis\"_ \n",
    "\n",
    "- When Python was first developed, it was very difficult to perform tasks such as importing CSV files, dealing with spreadsheet-like datasets with rows and columns and merging tables \n",
    "- Therefore, Pandas was developed to solve these problems and with the introduction of the DataFrame, Pandas made it possible to do intuitive analysis and exploration in Python that was not possible and still not possible in other languages \n",
    "- In recent years, the Pandas Package has become a staple in the Data Scientist's toolbox for some of the following reasons. In fact, Python is one of the most popular programming languages for Data Scientists specifically because of packages such as Pandas and Matplotlib (Lecture 6)\n",
    "> 1. As a Data Scientist, it is common to work with tabular data where the data in each column is different, known as __hetereogenously-typed data__ (similar to a SQL table or Excel spreadsheet). Pandas DataFrame replicates tabular data and allows you to do everything you would in a spreadsheet, but better and faster \n",
    "> 2. As a Data Scientist, it is common to work with time series data that may be ordered or unordered and Pandas has extensive capabilities to treat dates, times, etc. \n",
    "> 3. The most time-consuming part of any Data Scientist's job is __[Data Munging](https://en.wikipedia.org/wiki/Data_wrangling)__ (Data Cleaning/Wrangling) and Pandas provides all the necessary tools at your fingertips to do this quicker and cleaner \n",
    "> 4. Exploratory Data Analysis is often overlooked in Data Science, but remains one of the most important tasks of a Data Scientist and Pandas provides many easy and intuitive methods to perform data manipulation \n",
    "\n",
    "- Now you understand why Data Scientists use the Pandas Package, but what is it about the Pandas Package that allow us, as users of the Pandas Package, to realize these benefits? \n",
    "> 1. __Missing Data:__ Pandas handles missing data well (represented as NaN - recall NumPy missing value)\n",
    "> 2. __Size Mutability:__ Pandas DataFrames are size mutable which means columns and rows can be inserted and deleted \n",
    "> 3. __Data Aligment:__ Pandas allows you to align an object to a specific set of labels OR allow Pandas align the data for you\n",
    "> 4. __Grouping Data:__ Pandas `groupby` function allows both aggregating and transforming of data \n",
    "> 5. __Data Access:__ Pandas has extensive capabilities of slicing, indexing and subsetting large data sets \n",
    "> 6. __Reshaping Data:__ Pandas has extensive capabilities of merging, joining, and reshaping data \n",
    "> 7. __Input/Output:__ Pandas allows easy import and export of flat files such as CSV \n",
    "> 8. __Time-Series:__ Pandas has specific Time-Series functionality to work with dates"
   ]
  },
  {
   "cell_type": "markdown",
   "metadata": {},
   "source": [
    "### 5.1.2 Pandas Basics"
   ]
  },
  {
   "cell_type": "markdown",
   "metadata": {},
   "source": [
    "### 5.1.2.1 Pandas Data Structures "
   ]
  },
  {
   "cell_type": "markdown",
   "metadata": {},
   "source": [
    "__Overview:__ \n",
    "- Recall that the usefulness of Pandas has to do with its fundamental data structures\n",
    "- There are 2 types of data structures in Pandas:\n",
    "> 1. [`Series`](http://pandas.pydata.org/pandas-docs/stable/generated/pandas.Series.html#pandas.Series): Series is a one-dimensional labeled array that is capable of holding any data type (i.e. `int`, `str`, `float`, etc.), but every element is of this same type. The axis labels of a Series are referred to as the __Index__ of the Series\n",
    ">> - The `pd.Series(data, index)` function which creates a Series data structure, has 2 arguments:<br>\n",
    ">> a. `index`: The `index` argument is a list of axis labels<br>\n",
    ">> b. `data`: The `data` argument can be any of the following:\n",
    ">> > 1. Python dictionary (`dict`)\n",
    ">> > 2. NumPy Array (`ndarray`)\n",
    ">> > 3. Scalar value (5)<br> \n",
    "> 2. [`DataFrame`](https://pandas.pydata.org/pandas-docs/stable/generated/pandas.DataFrame.html): Dataframe is a two-dimensional labeled data structure with columns of potentially different types. It largely resembles a spreadsheet or SQL table. The first axis labels of a Dataframe (rows) are referred to as the __Index__ of the Series, whereas the second axis labels labels of a Dataframe (columns) are referred to as the __Columns__ of the Series\n",
    ">> - The `pd.DataFrame(data, index, columns)` function which creates a Dataframe data structure, has 3 arguments:<br>\n",
    ">> a. `index`: The `index` argument is a list of axis 0 labels<br>\n",
    ">> b. `columns`: The `column` argument is a list of axis 1 labels<br>\n",
    ">> c. `data`: The `data` argument can be any of the following:\n",
    ">> > 1. Dictionary of 1D ndarrays, lists, dicts, or Series \n",
    ">> > 2. 2-D NumPy Array (`ndarray` object) \n",
    ">> > 3. A `Series` object \n",
    ">> > 4. Another `DataFrame` object\n",
    ">> > 5. List of Python dictionaries \n",
    ">> > 6. From CSV or Excel file (or any of the possible file formats which can be found [here](http://pandas.pydata.org/pandas-docs/stable/io.html)\n",
    "\n",
    "__Helpful Points:__\n",
    "1. Remember that data alignment in Pandas is intrinsic which means that the link between labels and data will not be broken unless you do so explicitly \n",
    "2. If you pass an index and/or columns into the function, you guarantee these in the resulting object. Therefore, if you also pass a dictionary, for example, you will lose all the data from the dictionary that does not match with the passed index  \n",
    "3. If axis labels are not passed into the function, they will be constructed from the input data \n",
    "4. We will see examples of creating both types of data structures below \n",
    "\n",
    "__Practice:__ Examples of creating Pandas Data Structures in Python "
   ]
  },
  {
   "cell_type": "code",
   "execution_count": 1,
   "metadata": {},
   "outputs": [],
   "source": [
    "import pandas as pd\n",
    "import numpy as np "
   ]
  },
  {
   "cell_type": "markdown",
   "metadata": {},
   "source": [
    "#### Part 1 (Creating Series in Pandas):"
   ]
  },
  {
   "cell_type": "markdown",
   "metadata": {},
   "source": [
    "##### Example 1.1 (Creating Series from Python Dictionary):"
   ]
  },
  {
   "cell_type": "code",
   "execution_count": 2,
   "metadata": {},
   "outputs": [
    {
     "data": {
      "text/plain": [
       "{'Allen': 28, 'Ryan': 25, 'Jackie': 32}"
      ]
     },
     "execution_count": 2,
     "metadata": {},
     "output_type": "execute_result"
    }
   ],
   "source": [
    "my_dict = {\"Allen\": 28, \"Ryan\": 25, \"Jackie\":32}\n",
    "my_dict"
   ]
  },
  {
   "cell_type": "code",
   "execution_count": 3,
   "metadata": {},
   "outputs": [
    {
     "data": {
      "text/plain": [
       "Allen     28\n",
       "Jackie    32\n",
       "Ryan      25\n",
       "dtype: int64"
      ]
     },
     "execution_count": 3,
     "metadata": {},
     "output_type": "execute_result"
    }
   ],
   "source": [
    "ex_series_1 = pd.Series(my_dict)\n",
    "ex_series_1"
   ]
  },
  {
   "cell_type": "code",
   "execution_count": 6,
   "metadata": {},
   "outputs": [
    {
     "data": {
      "text/plain": [
       "Michelle     NaN\n",
       "Allen       28.0\n",
       "Dad          NaN\n",
       "dtype: float64"
      ]
     },
     "execution_count": 6,
     "metadata": {},
     "output_type": "execute_result"
    }
   ],
   "source": [
    "pd.Series(my_dict, index = [\"Michelle\", \"Allen\", \"Dad\"])"
   ]
  },
  {
   "cell_type": "markdown",
   "metadata": {},
   "source": [
    "See \"Helpful Point 2\" above which states that if you pass an index into the function (`[\"Michelle\", \"Allen\", \"Dad\"]`), you guarantee these indexes in the resulting object, whether they existed in your data or not. We passed in a dictionary of data that only had 1 of 3 indexes the same as the `index` argument. Therefore, the remaining indexes that were passed in, but not in the data are shown with `NaN` to represent \"missing data\" and the remaining indexes that were in the data, but not passed in, are simply not shown. "
   ]
  },
  {
   "cell_type": "markdown",
   "metadata": {},
   "source": [
    "##### Example 1.2 (Creating Series from NumPy Array):"
   ]
  },
  {
   "cell_type": "code",
   "execution_count": 7,
   "metadata": {},
   "outputs": [
    {
     "name": "stdout",
     "output_type": "stream",
     "text": [
      "[2 3 4 5] <class 'numpy.ndarray'>\n"
     ]
    }
   ],
   "source": [
    "my_array = np.arange(2,6)\n",
    "print(my_array, type(my_array))"
   ]
  },
  {
   "cell_type": "code",
   "execution_count": 8,
   "metadata": {
    "scrolled": true
   },
   "outputs": [
    {
     "data": {
      "text/plain": [
       "0    2\n",
       "1    3\n",
       "2    4\n",
       "3    5\n",
       "dtype: int64"
      ]
     },
     "execution_count": 8,
     "metadata": {},
     "output_type": "execute_result"
    }
   ],
   "source": [
    "pd_1 = pd.Series(my_array) # no index argument so Pandas will infer it \n",
    "pd_1"
   ]
  },
  {
   "cell_type": "code",
   "execution_count": 9,
   "metadata": {},
   "outputs": [
    {
     "data": {
      "text/plain": [
       "pandas.core.series.Series"
      ]
     },
     "execution_count": 9,
     "metadata": {},
     "output_type": "execute_result"
    }
   ],
   "source": [
    "type(pd_1)"
   ]
  },
  {
   "cell_type": "markdown",
   "metadata": {},
   "source": [
    "See \"Helpful Point 3\" above which states that if you do not pass an index into the function, the indexes will be constructed. They are constructed with value from `[0, ..., len(data) - 1]`"
   ]
  },
  {
   "cell_type": "code",
   "execution_count": 10,
   "metadata": {},
   "outputs": [
    {
     "data": {
      "text/plain": [
       "a    2\n",
       "b    3\n",
       "c    4\n",
       "d    5\n",
       "dtype: int64"
      ]
     },
     "execution_count": 10,
     "metadata": {},
     "output_type": "execute_result"
    }
   ],
   "source": [
    "pd_2 = pd.Series(my_array, index = [\"a\", \"b\", \"c\", \"d\"]) # explicitly define index argument \n",
    "pd_2"
   ]
  },
  {
   "cell_type": "code",
   "execution_count": 11,
   "metadata": {},
   "outputs": [
    {
     "data": {
      "text/plain": [
       "Index(['a', 'b', 'c', 'd'], dtype='object')"
      ]
     },
     "execution_count": 11,
     "metadata": {},
     "output_type": "execute_result"
    }
   ],
   "source": [
    "pd_2.index # extract the index labels "
   ]
  },
  {
   "cell_type": "code",
   "execution_count": 14,
   "metadata": {},
   "outputs": [
    {
     "data": {
      "text/plain": [
       "a    4\n",
       "b    5\n",
       "c    6\n",
       "d    7\n",
       "dtype: int64"
      ]
     },
     "execution_count": 14,
     "metadata": {},
     "output_type": "execute_result"
    }
   ],
   "source": [
    "pd_3 = pd.Series(np.arange(4,8), index = pd_2.index) #define the index argument as the index of another array\n",
    "pd_3                                                 #should be check to see if the index argument is handled as a\n",
    "                                                     #view or a copy? let's try"
   ]
  },
  {
   "cell_type": "code",
   "execution_count": 18,
   "metadata": {},
   "outputs": [
    {
     "data": {
      "text/plain": [
       "Index(['a', 'b', 'c', 'merp'], dtype='object')"
      ]
     },
     "execution_count": 18,
     "metadata": {},
     "output_type": "execute_result"
    }
   ],
   "source": [
    "pd_2 = pd.Series(pd_2, index = [\"a\", \"b\", \"c\", \"merp\"])\n",
    "pd_2.index"
   ]
  },
  {
   "cell_type": "code",
   "execution_count": 19,
   "metadata": {},
   "outputs": [
    {
     "data": {
      "text/plain": [
       "Index(['a', 'b', 'c', 'd'], dtype='object')"
      ]
     },
     "execution_count": 19,
     "metadata": {},
     "output_type": "execute_result"
    }
   ],
   "source": [
    "pd_3.index #here we see that if you define an arrays index from another array, the index is copied and will not synch"
   ]
  },
  {
   "cell_type": "markdown",
   "metadata": {},
   "source": [
    "##### Example 1.3 (Creating Series from Scalar Value):"
   ]
  },
  {
   "cell_type": "code",
   "execution_count": 20,
   "metadata": {},
   "outputs": [],
   "source": [
    "my_scalar = 10"
   ]
  },
  {
   "cell_type": "code",
   "execution_count": 21,
   "metadata": {},
   "outputs": [
    {
     "data": {
      "text/plain": [
       "0    10\n",
       "dtype: int64"
      ]
     },
     "execution_count": 21,
     "metadata": {},
     "output_type": "execute_result"
    }
   ],
   "source": [
    "pd.Series(my_scalar) # no index provided, length equal to 1 by default "
   ]
  },
  {
   "cell_type": "code",
   "execution_count": 22,
   "metadata": {},
   "outputs": [
    {
     "data": {
      "text/plain": [
       "0    10\n",
       "0    10\n",
       "0    10\n",
       "1    10\n",
       "1    10\n",
       "dtype: int64"
      ]
     },
     "execution_count": 22,
     "metadata": {},
     "output_type": "execute_result"
    }
   ],
   "source": [
    "pd.Series(my_scalar, index = [0,0,0,1,1]) # index provided with length 5, match this length in Series "
   ]
  },
  {
   "cell_type": "markdown",
   "metadata": {},
   "source": [
    "Two points here:\n",
    "\n",
    "1. It is possible to have non-unique index values (i.e. index passed in repeats both 0s and 1s). If you peform an operation on a Pandas Series or DataFrame object with non-unique index names and the operation requires unique index names, you will receive an error only at the time. However, most operations don't actually use the index name, therefore it is not that important\n",
    "2. If you create a Series object based on scalar value, the scalar will be repeated as many times as required to match the length of the index. If no index is given, a default length of 1 occurs"
   ]
  },
  {
   "cell_type": "markdown",
   "metadata": {},
   "source": [
    "##### Example 1.4 (Using the Series Name Attribute):"
   ]
  },
  {
   "cell_type": "code",
   "execution_count": 36,
   "metadata": {},
   "outputs": [],
   "source": [
    "my_series = pd.Series(my_scalar, index = [0,0,0,1,1], name = \"Name1\")"
   ]
  },
  {
   "cell_type": "code",
   "execution_count": 37,
   "metadata": {},
   "outputs": [
    {
     "name": "stdout",
     "output_type": "stream",
     "text": [
      "Name1 \n",
      "\n",
      "0    10\n",
      "0    10\n",
      "0    10\n",
      "1    10\n",
      "1    10\n",
      "Name: Name1, dtype: int64\n"
     ]
    }
   ],
   "source": [
    "print(my_series.name, '\\n') #'\\n' prints an empty line below name\n",
    "print(my_series)"
   ]
  },
  {
   "cell_type": "code",
   "execution_count": 38,
   "metadata": {},
   "outputs": [],
   "source": [
    "my_series_1 = my_series.rename(\"Name2\") # rename the name attribute "
   ]
  },
  {
   "cell_type": "code",
   "execution_count": 39,
   "metadata": {
    "scrolled": true
   },
   "outputs": [
    {
     "name": "stdout",
     "output_type": "stream",
     "text": [
      "Name2 \n",
      "\n",
      "0    10\n",
      "0    10\n",
      "0    10\n",
      "1    10\n",
      "1    10\n",
      "Name: Name2, dtype: int64\n"
     ]
    }
   ],
   "source": [
    "print(my_series_1.name,'\\n')\n",
    "print(my_series_1)"
   ]
  },
  {
   "cell_type": "markdown",
   "metadata": {},
   "source": [
    "The Name Attribute will come in handy to understand when we look at DataFrames since each column of a DataFrame is a Series Object with the Name Attribute equal to the column name. "
   ]
  },
  {
   "cell_type": "markdown",
   "metadata": {},
   "source": [
    "##### Problem 1:\n",
    "\n",
    "Create a Pandas series called *prob1_ser* using a dictionary, that has the country name as index and population as the values.  Here is the data set (from 2017):\n",
    "\n",
    "    * China     1,409,517,397\n",
    "    * India     1,339,180,127\n",
    "    * USA         324,459,463\n",
    "    * Indonesia   263,991,379\n",
    "    * Brazil      209,288,278\n",
    "\n",
    "Give the data a name equal to $Population$."
   ]
  },
  {
   "cell_type": "code",
   "execution_count": 51,
   "metadata": {},
   "outputs": [
    {
     "data": {
      "text/plain": [
       "Bazil         209288278\n",
       "China        1409517397\n",
       "India        1339180127\n",
       "Indonesia     263991379\n",
       "That was           Easy\n",
       "USA           324459463\n",
       "dtype: object"
      ]
     },
     "execution_count": 51,
     "metadata": {},
     "output_type": "execute_result"
    }
   ],
   "source": [
    "### Write code here\n",
    "natl_pops = {'China':1409517397, 'India':1339180127, 'USA':324459463, 'Indonesia':263991379, 'Bazil':209288278, 'That was':'Easy'}\n",
    "prob1_ser = pd.Series(natl_pops)\n",
    "prob1_ser"
   ]
  },
  {
   "cell_type": "markdown",
   "metadata": {},
   "source": [
    "__What is this?!__ Pandas automatically orders the array in alphabetical order of the dictionary's index values? Cool!"
   ]
  },
  {
   "cell_type": "markdown",
   "metadata": {},
   "source": [
    "#### Part 2 (Creating DataFrames in Pandas):"
   ]
  },
  {
   "cell_type": "markdown",
   "metadata": {},
   "source": [
    "##### Example 2.1 (Creating DataFrames from Dictionaries):"
   ]
  },
  {
   "cell_type": "code",
   "execution_count": 72,
   "metadata": {},
   "outputs": [
    {
     "data": {
      "text/plain": [
       "{'ndarray': array([0, 1, 2, 3]), 'List': [10, 12, 1, 2], 'Series': row_1    a\n",
       " row_2    a\n",
       " row_3    a\n",
       " row_4    a\n",
       " dtype: object}"
      ]
     },
     "execution_count": 72,
     "metadata": {},
     "output_type": "execute_result"
    }
   ],
   "source": [
    "my_dict = {\"ndarray\":np.arange(4),\n",
    "           \"List\":[10,12,1,2],\n",
    "           \"Series\":pd.Series('a', index = [\"row_1\", \"row_2\", \"row_3\", \"row_4\"])}\n",
    "my_dict"
   ]
  },
  {
   "cell_type": "code",
   "execution_count": 73,
   "metadata": {
    "scrolled": false
   },
   "outputs": [
    {
     "data": {
      "text/html": [
       "<div>\n",
       "<style scoped>\n",
       "    .dataframe tbody tr th:only-of-type {\n",
       "        vertical-align: middle;\n",
       "    }\n",
       "\n",
       "    .dataframe tbody tr th {\n",
       "        vertical-align: top;\n",
       "    }\n",
       "\n",
       "    .dataframe thead th {\n",
       "        text-align: right;\n",
       "    }\n",
       "</style>\n",
       "<table border=\"1\" class=\"dataframe\">\n",
       "  <thead>\n",
       "    <tr style=\"text-align: right;\">\n",
       "      <th></th>\n",
       "      <th>List</th>\n",
       "      <th>Series</th>\n",
       "      <th>ndarray</th>\n",
       "    </tr>\n",
       "  </thead>\n",
       "  <tbody>\n",
       "    <tr>\n",
       "      <th>row_1</th>\n",
       "      <td>10</td>\n",
       "      <td>a</td>\n",
       "      <td>0</td>\n",
       "    </tr>\n",
       "    <tr>\n",
       "      <th>row_2</th>\n",
       "      <td>12</td>\n",
       "      <td>a</td>\n",
       "      <td>1</td>\n",
       "    </tr>\n",
       "    <tr>\n",
       "      <th>row_3</th>\n",
       "      <td>1</td>\n",
       "      <td>a</td>\n",
       "      <td>2</td>\n",
       "    </tr>\n",
       "    <tr>\n",
       "      <th>row_4</th>\n",
       "      <td>2</td>\n",
       "      <td>a</td>\n",
       "      <td>3</td>\n",
       "    </tr>\n",
       "  </tbody>\n",
       "</table>\n",
       "</div>"
      ],
      "text/plain": [
       "       List Series  ndarray\n",
       "row_1    10      a        0\n",
       "row_2    12      a        1\n",
       "row_3     1      a        2\n",
       "row_4     2      a        3"
      ]
     },
     "execution_count": 73,
     "metadata": {},
     "output_type": "execute_result"
    }
   ],
   "source": [
    "my_df = pd.DataFrame(my_dict)\n",
    "my_df                                    # Woah. Useful.\n",
    "                                         # Note that if the the number of rows of the index doesn't match, you get an error"
   ]
  },
  {
   "cell_type": "code",
   "execution_count": 55,
   "metadata": {},
   "outputs": [
    {
     "data": {
      "text/plain": [
       "pandas.core.frame.DataFrame"
      ]
     },
     "execution_count": 55,
     "metadata": {},
     "output_type": "execute_result"
    }
   ],
   "source": [
    "type(my_df)"
   ]
  },
  {
   "cell_type": "markdown",
   "metadata": {},
   "source": [
    "Few points here:\n",
    "\n",
    "1. We can see that to create this dataframe from a dictionary that has a NumPy Array, List, and Series object, we need all objects to have the same length (4) which corresponds to the number of rows\n",
    "2. The index of the Series object was explicitly assigned index labels, therefore they were not imputed\n",
    "3. Each key-value pair in the dictionary becomes a column in the associated DataFrame"
   ]
  },
  {
   "cell_type": "code",
   "execution_count": 68,
   "metadata": {},
   "outputs": [
    {
     "data": {
      "text/plain": [
       "List        int64\n",
       "Series     object\n",
       "ndarray     int64\n",
       "dtype: object"
      ]
     },
     "execution_count": 68,
     "metadata": {},
     "output_type": "execute_result"
    }
   ],
   "source": [
    "my_df.dtypes # types of each column"
   ]
  },
  {
   "cell_type": "code",
   "execution_count": 69,
   "metadata": {},
   "outputs": [
    {
     "data": {
      "text/plain": [
       "Index(['row_1', 'row_2', 'row_3', 'row_4'], dtype='object')"
      ]
     },
     "execution_count": 69,
     "metadata": {},
     "output_type": "execute_result"
    }
   ],
   "source": [
    "my_df.index # row names "
   ]
  },
  {
   "cell_type": "code",
   "execution_count": 74,
   "metadata": {},
   "outputs": [
    {
     "data": {
      "text/plain": [
       "Index(['List', 'Series', 'ndarray'], dtype='object')"
      ]
     },
     "execution_count": 74,
     "metadata": {},
     "output_type": "execute_result"
    }
   ],
   "source": [
    "my_df.columns # column names"
   ]
  },
  {
   "cell_type": "markdown",
   "metadata": {},
   "source": [
    "##### Example 2.2 (Creating DataFrames from NumPy Arrays):"
   ]
  },
  {
   "cell_type": "code",
   "execution_count": 75,
   "metadata": {},
   "outputs": [
    {
     "data": {
      "text/plain": [
       "array([[0, 1],\n",
       "       [2, 3]])"
      ]
     },
     "execution_count": 75,
     "metadata": {},
     "output_type": "execute_result"
    }
   ],
   "source": [
    "my_array = np.arange(4).reshape(2,2)\n",
    "my_array"
   ]
  },
  {
   "cell_type": "code",
   "execution_count": 76,
   "metadata": {},
   "outputs": [
    {
     "data": {
      "text/html": [
       "<div>\n",
       "<style scoped>\n",
       "    .dataframe tbody tr th:only-of-type {\n",
       "        vertical-align: middle;\n",
       "    }\n",
       "\n",
       "    .dataframe tbody tr th {\n",
       "        vertical-align: top;\n",
       "    }\n",
       "\n",
       "    .dataframe thead th {\n",
       "        text-align: right;\n",
       "    }\n",
       "</style>\n",
       "<table border=\"1\" class=\"dataframe\">\n",
       "  <thead>\n",
       "    <tr style=\"text-align: right;\">\n",
       "      <th></th>\n",
       "      <th>column_1</th>\n",
       "      <th>column_2</th>\n",
       "    </tr>\n",
       "  </thead>\n",
       "  <tbody>\n",
       "    <tr>\n",
       "      <th>row_1</th>\n",
       "      <td>0</td>\n",
       "      <td>1</td>\n",
       "    </tr>\n",
       "    <tr>\n",
       "      <th>row_2</th>\n",
       "      <td>2</td>\n",
       "      <td>3</td>\n",
       "    </tr>\n",
       "  </tbody>\n",
       "</table>\n",
       "</div>"
      ],
      "text/plain": [
       "       column_1  column_2\n",
       "row_1         0         1\n",
       "row_2         2         3"
      ]
     },
     "execution_count": 76,
     "metadata": {},
     "output_type": "execute_result"
    }
   ],
   "source": [
    "df_1 = pd.DataFrame(my_array, index = [\"row_1\", \"row_2\"], columns = [\"column_1\", \"column_2\"])\n",
    "df_1"
   ]
  },
  {
   "cell_type": "markdown",
   "metadata": {},
   "source": [
    "##### Example 2.3 (Creating DataFrames from Series Objects):"
   ]
  },
  {
   "cell_type": "code",
   "execution_count": 77,
   "metadata": {},
   "outputs": [
    {
     "data": {
      "text/plain": [
       "0    10\n",
       "0    10\n",
       "0    10\n",
       "1    10\n",
       "1    10\n",
       "dtype: int64"
      ]
     },
     "execution_count": 77,
     "metadata": {},
     "output_type": "execute_result"
    }
   ],
   "source": [
    "my_series = pd.Series(my_scalar, index = [0,0,0,1,1])\n",
    "my_series"
   ]
  },
  {
   "cell_type": "code",
   "execution_count": 78,
   "metadata": {},
   "outputs": [
    {
     "data": {
      "text/html": [
       "<div>\n",
       "<style scoped>\n",
       "    .dataframe tbody tr th:only-of-type {\n",
       "        vertical-align: middle;\n",
       "    }\n",
       "\n",
       "    .dataframe tbody tr th {\n",
       "        vertical-align: top;\n",
       "    }\n",
       "\n",
       "    .dataframe thead th {\n",
       "        text-align: right;\n",
       "    }\n",
       "</style>\n",
       "<table border=\"1\" class=\"dataframe\">\n",
       "  <thead>\n",
       "    <tr style=\"text-align: right;\">\n",
       "      <th></th>\n",
       "      <th>column_1</th>\n",
       "    </tr>\n",
       "  </thead>\n",
       "  <tbody>\n",
       "    <tr>\n",
       "      <th>0</th>\n",
       "      <td>10</td>\n",
       "    </tr>\n",
       "    <tr>\n",
       "      <th>0</th>\n",
       "      <td>10</td>\n",
       "    </tr>\n",
       "    <tr>\n",
       "      <th>0</th>\n",
       "      <td>10</td>\n",
       "    </tr>\n",
       "    <tr>\n",
       "      <th>1</th>\n",
       "      <td>10</td>\n",
       "    </tr>\n",
       "    <tr>\n",
       "      <th>1</th>\n",
       "      <td>10</td>\n",
       "    </tr>\n",
       "  </tbody>\n",
       "</table>\n",
       "</div>"
      ],
      "text/plain": [
       "   column_1\n",
       "0        10\n",
       "0        10\n",
       "0        10\n",
       "1        10\n",
       "1        10"
      ]
     },
     "execution_count": 78,
     "metadata": {},
     "output_type": "execute_result"
    }
   ],
   "source": [
    "df_2 = pd.DataFrame(my_series, columns = [\"column_1\"])\n",
    "df_2"
   ]
  },
  {
   "cell_type": "code",
   "execution_count": 79,
   "metadata": {},
   "outputs": [
    {
     "data": {
      "text/plain": [
       "pandas.core.frame.DataFrame"
      ]
     },
     "execution_count": 79,
     "metadata": {},
     "output_type": "execute_result"
    }
   ],
   "source": [
    "type(df_2)"
   ]
  },
  {
   "cell_type": "markdown",
   "metadata": {},
   "source": [
    "##### Example 2.4 (Creating DataFrames from other DataFrames):"
   ]
  },
  {
   "cell_type": "code",
   "execution_count": 80,
   "metadata": {
    "scrolled": true
   },
   "outputs": [
    {
     "data": {
      "text/html": [
       "<div>\n",
       "<style scoped>\n",
       "    .dataframe tbody tr th:only-of-type {\n",
       "        vertical-align: middle;\n",
       "    }\n",
       "\n",
       "    .dataframe tbody tr th {\n",
       "        vertical-align: top;\n",
       "    }\n",
       "\n",
       "    .dataframe thead th {\n",
       "        text-align: right;\n",
       "    }\n",
       "</style>\n",
       "<table border=\"1\" class=\"dataframe\">\n",
       "  <thead>\n",
       "    <tr style=\"text-align: right;\">\n",
       "      <th></th>\n",
       "      <th>new_column_1</th>\n",
       "    </tr>\n",
       "  </thead>\n",
       "  <tbody>\n",
       "    <tr>\n",
       "      <th>0</th>\n",
       "      <td>NaN</td>\n",
       "    </tr>\n",
       "    <tr>\n",
       "      <th>0</th>\n",
       "      <td>NaN</td>\n",
       "    </tr>\n",
       "    <tr>\n",
       "      <th>0</th>\n",
       "      <td>NaN</td>\n",
       "    </tr>\n",
       "    <tr>\n",
       "      <th>1</th>\n",
       "      <td>NaN</td>\n",
       "    </tr>\n",
       "    <tr>\n",
       "      <th>1</th>\n",
       "      <td>NaN</td>\n",
       "    </tr>\n",
       "  </tbody>\n",
       "</table>\n",
       "</div>"
      ],
      "text/plain": [
       "   new_column_1\n",
       "0           NaN\n",
       "0           NaN\n",
       "0           NaN\n",
       "1           NaN\n",
       "1           NaN"
      ]
     },
     "execution_count": 80,
     "metadata": {},
     "output_type": "execute_result"
    }
   ],
   "source": [
    "df_3 = pd.DataFrame(df_2, columns = [\"new_column_1\"])\n",
    "df_3"
   ]
  },
  {
   "cell_type": "markdown",
   "metadata": {},
   "source": [
    "Since the column labels were passed into the function, these have now been explicitly defined and the new dataframe must have the same index labels AND column labels, otherwise it will appear as missing data, which it does here (`NaN`)"
   ]
  },
  {
   "cell_type": "code",
   "execution_count": 82,
   "metadata": {},
   "outputs": [
    {
     "data": {
      "text/html": [
       "<div>\n",
       "<style scoped>\n",
       "    .dataframe tbody tr th:only-of-type {\n",
       "        vertical-align: middle;\n",
       "    }\n",
       "\n",
       "    .dataframe tbody tr th {\n",
       "        vertical-align: top;\n",
       "    }\n",
       "\n",
       "    .dataframe thead th {\n",
       "        text-align: right;\n",
       "    }\n",
       "</style>\n",
       "<table border=\"1\" class=\"dataframe\">\n",
       "  <thead>\n",
       "    <tr style=\"text-align: right;\">\n",
       "      <th></th>\n",
       "      <th>column_1</th>\n",
       "    </tr>\n",
       "  </thead>\n",
       "  <tbody>\n",
       "    <tr>\n",
       "      <th>0</th>\n",
       "      <td>10</td>\n",
       "    </tr>\n",
       "    <tr>\n",
       "      <th>0</th>\n",
       "      <td>10</td>\n",
       "    </tr>\n",
       "    <tr>\n",
       "      <th>0</th>\n",
       "      <td>10</td>\n",
       "    </tr>\n",
       "    <tr>\n",
       "      <th>1</th>\n",
       "      <td>10</td>\n",
       "    </tr>\n",
       "    <tr>\n",
       "      <th>1</th>\n",
       "      <td>10</td>\n",
       "    </tr>\n",
       "  </tbody>\n",
       "</table>\n",
       "</div>"
      ],
      "text/plain": [
       "   column_1\n",
       "0        10\n",
       "0        10\n",
       "0        10\n",
       "1        10\n",
       "1        10"
      ]
     },
     "execution_count": 82,
     "metadata": {},
     "output_type": "execute_result"
    }
   ],
   "source": [
    "df_4 = pd.DataFrame(df_2, columns = [\"column_1\"]) #here we can see it copies all of the data\n",
    "df_4"
   ]
  },
  {
   "cell_type": "markdown",
   "metadata": {},
   "source": [
    "##### Example 2.5 (Creating DataFrames from List of Dictionaries):"
   ]
  },
  {
   "cell_type": "code",
   "execution_count": 85,
   "metadata": {},
   "outputs": [
    {
     "data": {
      "text/plain": [
       "[{'First': 'Allen', 'Last': 'La Croix'},\n",
       " {'First': 'Ryan', 'Last': 'Pellegrino'},\n",
       " {'First': 'Jackie', 'Last': 'Perrier'}]"
      ]
     },
     "execution_count": 85,
     "metadata": {},
     "output_type": "execute_result"
    }
   ],
   "source": [
    "my_list = [{\"First\":\"Allen\", \"Last\":\"La Croix\"},\n",
    "           {\"First\":\"Ryan\", \"Last\":\"Pellegrino\"},\n",
    "           {\"First\":\"Jackie\", \"Last\":\"Perrier\"}]\n",
    "my_list"
   ]
  },
  {
   "cell_type": "code",
   "execution_count": 86,
   "metadata": {
    "scrolled": true
   },
   "outputs": [
    {
     "data": {
      "text/html": [
       "<div>\n",
       "<style scoped>\n",
       "    .dataframe tbody tr th:only-of-type {\n",
       "        vertical-align: middle;\n",
       "    }\n",
       "\n",
       "    .dataframe tbody tr th {\n",
       "        vertical-align: top;\n",
       "    }\n",
       "\n",
       "    .dataframe thead th {\n",
       "        text-align: right;\n",
       "    }\n",
       "</style>\n",
       "<table border=\"1\" class=\"dataframe\">\n",
       "  <thead>\n",
       "    <tr style=\"text-align: right;\">\n",
       "      <th></th>\n",
       "      <th>First</th>\n",
       "      <th>Last</th>\n",
       "    </tr>\n",
       "  </thead>\n",
       "  <tbody>\n",
       "    <tr>\n",
       "      <th>SpaceInvader_1</th>\n",
       "      <td>Allen</td>\n",
       "      <td>La Croix</td>\n",
       "    </tr>\n",
       "    <tr>\n",
       "      <th>SpaceInvader_2</th>\n",
       "      <td>Ryan</td>\n",
       "      <td>Pellegrino</td>\n",
       "    </tr>\n",
       "    <tr>\n",
       "      <th>SpaceInvader_3</th>\n",
       "      <td>Jackie</td>\n",
       "      <td>Perrier</td>\n",
       "    </tr>\n",
       "  </tbody>\n",
       "</table>\n",
       "</div>"
      ],
      "text/plain": [
       "                 First        Last\n",
       "SpaceInvader_1   Allen    La Croix\n",
       "SpaceInvader_2    Ryan  Pellegrino\n",
       "SpaceInvader_3  Jackie     Perrier"
      ]
     },
     "execution_count": 86,
     "metadata": {},
     "output_type": "execute_result"
    }
   ],
   "source": [
    "pd.DataFrame(my_list, index = [\"SpaceInvader_1\", \"SpaceInvader_2\", \"SpaceInvader_3\"])"
   ]
  },
  {
   "cell_type": "markdown",
   "metadata": {},
   "source": [
    "We can see that each item in the list turns out to be a row in the resulting DataFrame "
   ]
  },
  {
   "cell_type": "markdown",
   "metadata": {},
   "source": [
    "##### Example 2.6 (Creating DataFrames from CSV):\n",
    "\n",
    "Pandas has extensive capabilities of reading and writing to different formats. The most common input/output (I/O) that you will perform is with the [CSV](https://en.wikipedia.org/wiki/Comma-separated_values) file format, but Python also supports many other formats shown below, each with their respective reader and writer functions:\n",
    "\n",
    "> 1. __CSV:__ `read_csv` and `to_csv`\n",
    "> 2. __MS Excel:__ `read_excel` and `to_excel`\n",
    "> 3. __Python Pickle:__ `read_pickle` and `to_pickle`\n",
    "> 4. __SQL:__ `read_sql` and `to_sql`"
   ]
  },
  {
   "cell_type": "markdown",
   "metadata": {},
   "source": [
    "See below for the CSV file that we will create a DataFrame from: <img src=\"img29.png\">"
   ]
  },
  {
   "cell_type": "code",
   "execution_count": 87,
   "metadata": {
    "scrolled": true
   },
   "outputs": [
    {
     "data": {
      "text/html": [
       "<div>\n",
       "<style scoped>\n",
       "    .dataframe tbody tr th:only-of-type {\n",
       "        vertical-align: middle;\n",
       "    }\n",
       "\n",
       "    .dataframe tbody tr th {\n",
       "        vertical-align: top;\n",
       "    }\n",
       "\n",
       "    .dataframe thead th {\n",
       "        text-align: right;\n",
       "    }\n",
       "</style>\n",
       "<table border=\"1\" class=\"dataframe\">\n",
       "  <thead>\n",
       "    <tr style=\"text-align: right;\">\n",
       "      <th></th>\n",
       "      <th>Unnamed: 0</th>\n",
       "      <th>First</th>\n",
       "      <th>Last</th>\n",
       "      <th>Age</th>\n",
       "    </tr>\n",
       "  </thead>\n",
       "  <tbody>\n",
       "    <tr>\n",
       "      <th>0</th>\n",
       "      <td>Employee_1</td>\n",
       "      <td>Gordon</td>\n",
       "      <td>Dri</td>\n",
       "      <td>50</td>\n",
       "    </tr>\n",
       "    <tr>\n",
       "      <th>1</th>\n",
       "      <td>Employee_2</td>\n",
       "      <td>Roberto</td>\n",
       "      <td>Reif</td>\n",
       "      <td>25</td>\n",
       "    </tr>\n",
       "    <tr>\n",
       "      <th>2</th>\n",
       "      <td>Employee_3</td>\n",
       "      <td>Jerod</td>\n",
       "      <td>Rubalcava</td>\n",
       "      <td>31</td>\n",
       "    </tr>\n",
       "  </tbody>\n",
       "</table>\n",
       "</div>"
      ],
      "text/plain": [
       "   Unnamed: 0    First       Last  Age\n",
       "0  Employee_1   Gordon        Dri   50\n",
       "1  Employee_2  Roberto       Reif   25\n",
       "2  Employee_3    Jerod  Rubalcava   31"
      ]
     },
     "execution_count": 87,
     "metadata": {},
     "output_type": "execute_result"
    }
   ],
   "source": [
    "pd.read_csv(\"csv_file_for_pandas.csv\") # Note: CSV file must be in the same directory as this Jupyter Notebook, otherwise include exact path"
   ]
  },
  {
   "cell_type": "markdown",
   "metadata": {},
   "source": [
    "The `pd.read_csv` function assumed that Column A was a column in our data instead of the row labels, so we need to fix this below:"
   ]
  },
  {
   "cell_type": "code",
   "execution_count": 88,
   "metadata": {},
   "outputs": [
    {
     "data": {
      "text/html": [
       "<div>\n",
       "<style scoped>\n",
       "    .dataframe tbody tr th:only-of-type {\n",
       "        vertical-align: middle;\n",
       "    }\n",
       "\n",
       "    .dataframe tbody tr th {\n",
       "        vertical-align: top;\n",
       "    }\n",
       "\n",
       "    .dataframe thead th {\n",
       "        text-align: right;\n",
       "    }\n",
       "</style>\n",
       "<table border=\"1\" class=\"dataframe\">\n",
       "  <thead>\n",
       "    <tr style=\"text-align: right;\">\n",
       "      <th></th>\n",
       "      <th>First</th>\n",
       "      <th>Last</th>\n",
       "      <th>Age</th>\n",
       "    </tr>\n",
       "  </thead>\n",
       "  <tbody>\n",
       "    <tr>\n",
       "      <th>Employee_1</th>\n",
       "      <td>Gordon</td>\n",
       "      <td>Dri</td>\n",
       "      <td>50</td>\n",
       "    </tr>\n",
       "    <tr>\n",
       "      <th>Employee_2</th>\n",
       "      <td>Roberto</td>\n",
       "      <td>Reif</td>\n",
       "      <td>25</td>\n",
       "    </tr>\n",
       "    <tr>\n",
       "      <th>Employee_3</th>\n",
       "      <td>Jerod</td>\n",
       "      <td>Rubalcava</td>\n",
       "      <td>31</td>\n",
       "    </tr>\n",
       "  </tbody>\n",
       "</table>\n",
       "</div>"
      ],
      "text/plain": [
       "              First       Last  Age\n",
       "Employee_1   Gordon        Dri   50\n",
       "Employee_2  Roberto       Reif   25\n",
       "Employee_3    Jerod  Rubalcava   31"
      ]
     },
     "execution_count": 88,
     "metadata": {},
     "output_type": "execute_result"
    }
   ],
   "source": [
    "pd.read_csv(\"csv_file_for_pandas.csv\", index_col = 0) # specify location of row labels"
   ]
  },
  {
   "cell_type": "markdown",
   "metadata": {},
   "source": [
    "##### Problem 2:\n",
    "\n",
    "Create a Pandas DataFrame called *prob2_df* using a list of dictionaries that has 3 columns and 5 rows.  The column names are *Country Name*, *Population* and *Size* (which is in $km^2$).\n",
    "\n",
    "      Country Name   Population          Size\n",
    "    \n",
    "    * China\t   1,409,517,397     9,572,900\n",
    "    * India       1,339,180,127     3,287,263\n",
    "    * USA           324,459,463     9,629,091\n",
    "    * Indonesia     263,991,379     1,904,556\n",
    "    * Brazil        209,288,278     8,511,965"
   ]
  },
  {
   "cell_type": "code",
   "execution_count": 84,
   "metadata": {},
   "outputs": [
    {
     "data": {
      "text/html": [
       "<div>\n",
       "<style scoped>\n",
       "    .dataframe tbody tr th:only-of-type {\n",
       "        vertical-align: middle;\n",
       "    }\n",
       "\n",
       "    .dataframe tbody tr th {\n",
       "        vertical-align: top;\n",
       "    }\n",
       "\n",
       "    .dataframe thead th {\n",
       "        text-align: right;\n",
       "    }\n",
       "</style>\n",
       "<table border=\"1\" class=\"dataframe\">\n",
       "  <thead>\n",
       "    <tr style=\"text-align: right;\">\n",
       "      <th></th>\n",
       "      <th>Country Name</th>\n",
       "      <th>Population</th>\n",
       "      <th>Size</th>\n",
       "    </tr>\n",
       "  </thead>\n",
       "  <tbody>\n",
       "    <tr>\n",
       "      <th>0</th>\n",
       "      <td>China</td>\n",
       "      <td>1409517397</td>\n",
       "      <td>9572900</td>\n",
       "    </tr>\n",
       "    <tr>\n",
       "      <th>1</th>\n",
       "      <td>India</td>\n",
       "      <td>1339180127</td>\n",
       "      <td>3287263</td>\n",
       "    </tr>\n",
       "    <tr>\n",
       "      <th>2</th>\n",
       "      <td>Usa</td>\n",
       "      <td>324459463</td>\n",
       "      <td>9629091</td>\n",
       "    </tr>\n",
       "    <tr>\n",
       "      <th>3</th>\n",
       "      <td>Indonesia</td>\n",
       "      <td>263991379</td>\n",
       "      <td>1904556</td>\n",
       "    </tr>\n",
       "    <tr>\n",
       "      <th>4</th>\n",
       "      <td>Brazil</td>\n",
       "      <td>209288278</td>\n",
       "      <td>8511965</td>\n",
       "    </tr>\n",
       "  </tbody>\n",
       "</table>\n",
       "</div>"
      ],
      "text/plain": [
       "  Country Name  Population     Size\n",
       "0        China  1409517397  9572900\n",
       "1        India  1339180127  3287263\n",
       "2          Usa   324459463  9629091\n",
       "3    Indonesia   263991379  1904556\n",
       "4       Brazil   209288278  8511965"
      ]
     },
     "execution_count": 84,
     "metadata": {},
     "output_type": "execute_result"
    }
   ],
   "source": [
    "### Write code here\n",
    "prob2_df = pd.DataFrame(\n",
    "                [{'Country Name':'China', 'Population':1409517397, 'Size':9572900},\n",
    "                 {'Country Name':'India', 'Population':1339180127, 'Size':3287263},\n",
    "                 {'Country Name':'Usa', 'Population':324459463, 'Size':9629091},\n",
    "                 {'Country Name':'Indonesia', 'Population':263991379, 'Size':1904556},\n",
    "                 {'Country Name':'Brazil', 'Population':209288278, 'Size':8511965}],)\n",
    "\n",
    "prob2_df"
   ]
  },
  {
   "cell_type": "markdown",
   "metadata": {},
   "source": [
    "More fantastic examples of creating DataFrames from other objects, such as lists, can be found here along with examples of Row-Oriented vs Column Oriented DataFrames: http://pbpython.com/pandas-list-dict.html"
   ]
  },
  {
   "cell_type": "markdown",
   "metadata": {},
   "source": [
    "### 5.1.2.2 Inspecting Pandas Data Structures "
   ]
  },
  {
   "cell_type": "markdown",
   "metadata": {},
   "source": [
    "__Overview:__\n",
    "- Pandas offers many ways to \"inspect\" Data Structures which become paramount when peforming Exploratory Data Analysis with Pandas \n",
    "- The following are useful ways of inspecting Pandas Data Structures where `obj` is either a Series or DataFrame Object\n",
    "> 1. __Dimensions:__ Dimensions can be accessed using `len(obj)`, `obj.shape`, and `obj.size`\n",
    "> 2. __Row Labels:__ Row labels can be accessed using `obj.index`, `obj.index.name`\n",
    "> 3. __Column Labels:__ (Only for DataFrames) Column labels can be accessed using `obj.columns`, `obj.columns.values`, `obj.columns.values.tolist()`, `obj.columns.tolist()`\n",
    "> 4. __Name Labels:__ (Only for Series, unless accessing specific columns) Name labels can be accessed using `obj.name`\n",
    "> 5. __Data Values:__ Data values can be accessed using `obj.values` \n",
    "> 6. __Data Type:__ Data types can be accessed using `obj.dtypes`\n",
    "> 7. __Data Quick Look:__  Data quick looks can be accessed using `obj.head(n)`, `obj.tail(n)`\n",
    "> 8. __Data Summary:__ Data summary can be completed by `obj.describe`\n",
    "\n",
    "__Helpful Points:__\n",
    "1. It is possible to inspect both Series and DataFrames, however DataFrames have some additional functions for inspection given that they have an additional dimension and attributes \n",
    "2. Pandas Series and DataFrames will be explored separately below\n",
    "\n",
    "__Practice:__ Examples of Inspecting Pandas Data Structures in Python "
   ]
  },
  {
   "cell_type": "markdown",
   "metadata": {},
   "source": [
    "#### Part 1 (Inspecting Pandas Series):"
   ]
  },
  {
   "cell_type": "code",
   "execution_count": 3,
   "metadata": {},
   "outputs": [
    {
     "data": {
      "text/plain": [
       "row_1    10.0\n",
       "row_2     3.2\n",
       "row_3     6.0\n",
       "row_4     1.0\n",
       "Name: Series_1, dtype: float64"
      ]
     },
     "execution_count": 3,
     "metadata": {},
     "output_type": "execute_result"
    }
   ],
   "source": [
    "import pandas as pd\n",
    "my_series_1 = pd.Series([10, 3.2, 6, 1], index = [\"row_1\", \"row_2\", \"row_3\", \"row_4\"], name = \"Series_1\")\n",
    "my_series_1"
   ]
  },
  {
   "cell_type": "markdown",
   "metadata": {},
   "source": [
    "##### Example 1.1 (Dimensions):"
   ]
  },
  {
   "cell_type": "code",
   "execution_count": 4,
   "metadata": {},
   "outputs": [
    {
     "data": {
      "text/plain": [
       "4"
      ]
     },
     "execution_count": 4,
     "metadata": {},
     "output_type": "execute_result"
    }
   ],
   "source": [
    "len(my_series_1)"
   ]
  },
  {
   "cell_type": "code",
   "execution_count": 5,
   "metadata": {},
   "outputs": [
    {
     "data": {
      "text/plain": [
       "(4,)"
      ]
     },
     "execution_count": 5,
     "metadata": {},
     "output_type": "execute_result"
    }
   ],
   "source": [
    "my_series_1.shape"
   ]
  },
  {
   "cell_type": "code",
   "execution_count": 6,
   "metadata": {},
   "outputs": [
    {
     "data": {
      "text/plain": [
       "4"
      ]
     },
     "execution_count": 6,
     "metadata": {},
     "output_type": "execute_result"
    }
   ],
   "source": [
    "my_series_1.size"
   ]
  },
  {
   "cell_type": "markdown",
   "metadata": {},
   "source": [
    "##### Example 1.2 (Row Labels):"
   ]
  },
  {
   "cell_type": "code",
   "execution_count": 7,
   "metadata": {},
   "outputs": [
    {
     "data": {
      "text/plain": [
       "Index(['row_1', 'row_2', 'row_3', 'row_4'], dtype='object')"
      ]
     },
     "execution_count": 7,
     "metadata": {},
     "output_type": "execute_result"
    }
   ],
   "source": [
    "my_series_1.index\n",
    "# compare to   list(my_series_1.index)"
   ]
  },
  {
   "cell_type": "code",
   "execution_count": 8,
   "metadata": {},
   "outputs": [
    {
     "data": {
      "text/plain": [
       "['row_1', 'row_2', 'row_3', 'row_4']"
      ]
     },
     "execution_count": 8,
     "metadata": {},
     "output_type": "execute_result"
    }
   ],
   "source": [
    "list(my_series_1.index)"
   ]
  },
  {
   "cell_type": "markdown",
   "metadata": {},
   "source": [
    "##### Example 1.3 (Name Labels):"
   ]
  },
  {
   "cell_type": "code",
   "execution_count": 9,
   "metadata": {},
   "outputs": [
    {
     "data": {
      "text/plain": [
       "'Series_1'"
      ]
     },
     "execution_count": 9,
     "metadata": {},
     "output_type": "execute_result"
    }
   ],
   "source": [
    "my_series_1.name"
   ]
  },
  {
   "cell_type": "markdown",
   "metadata": {},
   "source": [
    "##### Example 1.4 (Data Values):"
   ]
  },
  {
   "cell_type": "code",
   "execution_count": 10,
   "metadata": {},
   "outputs": [
    {
     "name": "stdout",
     "output_type": "stream",
     "text": [
      "[10.   3.2  6.   1. ]\n"
     ]
    },
    {
     "data": {
      "text/plain": [
       "numpy.ndarray"
      ]
     },
     "execution_count": 10,
     "metadata": {},
     "output_type": "execute_result"
    }
   ],
   "source": [
    "print(my_series_1.values)\n",
    "type(my_series_1.values)"
   ]
  },
  {
   "cell_type": "markdown",
   "metadata": {},
   "source": [
    "Intersting? Yes. The values of a Pandas series is a numpy array."
   ]
  },
  {
   "cell_type": "markdown",
   "metadata": {},
   "source": [
    "##### Example 1.5 (Data Type):"
   ]
  },
  {
   "cell_type": "code",
   "execution_count": 15,
   "metadata": {},
   "outputs": [
    {
     "data": {
      "text/plain": [
       "dtype('float64')"
      ]
     },
     "execution_count": 15,
     "metadata": {},
     "output_type": "execute_result"
    }
   ],
   "source": [
    "my_series_1.dtypes"
   ]
  },
  {
   "cell_type": "markdown",
   "metadata": {},
   "source": [
    "##### Example 1.6 (Data Quick Look):"
   ]
  },
  {
   "cell_type": "code",
   "execution_count": 17,
   "metadata": {
    "scrolled": true
   },
   "outputs": [
    {
     "data": {
      "text/plain": [
       "row_1    10.0\n",
       "row_2     3.2\n",
       "Name: Series_1, dtype: float64"
      ]
     },
     "execution_count": 17,
     "metadata": {},
     "output_type": "execute_result"
    }
   ],
   "source": [
    "my_series_1.head(2)"
   ]
  },
  {
   "cell_type": "code",
   "execution_count": 18,
   "metadata": {},
   "outputs": [
    {
     "data": {
      "text/plain": [
       "row_2    3.2\n",
       "row_3    6.0\n",
       "row_4    1.0\n",
       "Name: Series_1, dtype: float64"
      ]
     },
     "execution_count": 18,
     "metadata": {},
     "output_type": "execute_result"
    }
   ],
   "source": [
    "my_series_1.tail(3)"
   ]
  },
  {
   "cell_type": "code",
   "execution_count": 23,
   "metadata": {},
   "outputs": [
    {
     "data": {
      "text/plain": [
       "row_4    1.0\n",
       "row_2    3.2\n",
       "Name: Series_1, dtype: float64"
      ]
     },
     "execution_count": 23,
     "metadata": {},
     "output_type": "execute_result"
    }
   ],
   "source": [
    "my_series_1.sample(2) #This gives a random sample from the data. Hmmmm."
   ]
  },
  {
   "cell_type": "markdown",
   "metadata": {},
   "source": [
    "##### Example 1.7 (Data Summary):"
   ]
  },
  {
   "cell_type": "code",
   "execution_count": 30,
   "metadata": {},
   "outputs": [
    {
     "data": {
      "text/plain": [
       "count     4.000000\n",
       "mean      5.050000\n",
       "std       3.882868\n",
       "min       1.000000\n",
       "25%       2.650000\n",
       "50%       4.600000\n",
       "75%       7.000000\n",
       "max      10.000000\n",
       "Name: Series_1, dtype: float64"
      ]
     },
     "execution_count": 30,
     "metadata": {},
     "output_type": "execute_result"
    }
   ],
   "source": [
    "my_series_1.describe()"
   ]
  },
  {
   "cell_type": "code",
   "execution_count": 31,
   "metadata": {},
   "outputs": [
    {
     "data": {
      "text/plain": [
       "[4.0, 5.05, 3.882868355567398, 1.0, 2.6500000000000004, 4.6, 7.0, 10.0]"
      ]
     },
     "execution_count": 31,
     "metadata": {},
     "output_type": "execute_result"
    }
   ],
   "source": [
    "list(my_series_1.describe())"
   ]
  },
  {
   "cell_type": "markdown",
   "metadata": {},
   "source": [
    "#### Side Work: Working with CSV files and JSON Data"
   ]
  },
  {
   "cell_type": "markdown",
   "metadata": {},
   "source": [
    "##### Reader Objects\n",
    "To read data from a CSV file with the csv module, you need to create a `Reader` object. A `Reader` object lets you iterate over lines in the CSV file."
   ]
  },
  {
   "cell_type": "code",
   "execution_count": 37,
   "metadata": {},
   "outputs": [
    {
     "name": "stdout",
     "output_type": "stream",
     "text": [
      "<_csv.reader object at 0x111e4b278>\n"
     ]
    },
    {
     "data": {
      "text/plain": [
       "[['', 'First', 'Last', 'Age'],\n",
       " ['Employee_1', 'Gordon', 'Dri', '50'],\n",
       " ['Employee_2', 'Roberto', 'Reif', '25'],\n",
       " ['Employee_3', 'Jerod', 'Rubalcava', '31']]"
      ]
     },
     "execution_count": 37,
     "metadata": {},
     "output_type": "execute_result"
    }
   ],
   "source": [
    "import csv\n",
    "my_csv = open(\"csv_file_for_pandas.csv\") #can't pass string directly to csv.reader\n",
    "csv_reader = csv.reader(my_csv)\n",
    "csv_data = list(csv_reader)\n",
    "print(csv_reader)\n",
    "csv_data"
   ]
  },
  {
   "cell_type": "code",
   "execution_count": 39,
   "metadata": {},
   "outputs": [
    {
     "data": {
      "text/plain": [
       "'First'"
      ]
     },
     "execution_count": 39,
     "metadata": {},
     "output_type": "execute_result"
    }
   ],
   "source": [
    "#Since we have this csv as a list of lists, we can access rows and columns: csv_data[row][col]\n",
    "csv_data[0][1]"
   ]
  },
  {
   "cell_type": "markdown",
   "metadata": {},
   "source": [
    "##### Reading with a For Loop\n",
    "By using a for loop, one can avoid having to load an entire csv into memory at once. This is great for working with large files."
   ]
  },
  {
   "cell_type": "code",
   "execution_count": 64,
   "metadata": {},
   "outputs": [
    {
     "name": "stdout",
     "output_type": "stream",
     "text": [
      "Row #1['', 'First', 'Last', 'Age']\n",
      "Row #2['Employee_1', 'Gordon', 'Dri', '50']\n",
      "Row #3['Employee_2', 'Roberto', 'Reif', '25']\n",
      "Row #4['Employee_3', 'Jerod', 'Rubalcava', '31']\n"
     ]
    }
   ],
   "source": [
    "#we can also read data from reader objects in a loop\n",
    "csv_reader = csv.reader(my_csv)\n",
    "index = 0\n",
    "for row in csv_data:\n",
    "    print('Row #' + str(index + 1) + '' + str(row))\n",
    "    index += 1\n",
    "    \n"
   ]
  },
  {
   "cell_type": "markdown",
   "metadata": {},
   "source": [
    "##### Writing and Editing CSV Files\n",
    "\n",
    "And is used extensively for the remainder of this part of the curriculum to customize and explore the provided content."
   ]
  },
  {
   "cell_type": "code",
   "execution_count": 86,
   "metadata": {},
   "outputs": [],
   "source": [
    "#delete file first to avoid any errors from experimenting and writing over it repeatedly\n",
    "import os\n",
    "try: os.remove('csv_file_for_pandas.csv')\n",
    "except: pass"
   ]
  },
  {
   "cell_type": "code",
   "execution_count": 87,
   "metadata": {},
   "outputs": [],
   "source": [
    "my_csv = open('csv_file_for_pandas.csv', 'w+', newline='') #opening in the 'w+' mode truncates the file\n",
    "#alternatively, open it in 'w' mode and use my_csv.truncate()\n",
    "my_csv.truncate() # we'll do it anyway for good measure\n",
    "csv_writer = csv.writer(my_csv)\n",
    "csv_writer.writerow(['','First','Middle','Beard Style'])\n",
    "csv_writer.writerow(['Dad','Allen','James','Wizard'])\n",
    "csv_writer.writerow(['Son','Ryan','Patrick','Battle Dwarf'])\n",
    "csv_writer.writerow(['Mom','Michele','Leigh','None'])\n",
    "csv_writer.writerow(['Son','Allen','Michael','Middle-class Hobbit'])\n",
    "csv_writer.writerow(['Dog','BamBam','Doggo','N/A'])\n",
    "my_csv.close()\n"
   ]
  },
  {
   "cell_type": "code",
   "execution_count": 88,
   "metadata": {},
   "outputs": [
    {
     "name": "stdout",
     "output_type": "stream",
     "text": [
      "<_csv.reader object at 0x111e4beb8>\n"
     ]
    },
    {
     "data": {
      "text/plain": [
       "[['', 'First', 'Middle', 'Beard Style'],\n",
       " ['Dad', 'Allen', 'James', 'Wizard'],\n",
       " ['Son', 'Ryan', 'Patrick', 'Battle Dwarf'],\n",
       " ['Mom', 'Michele', 'Leigh', 'None'],\n",
       " ['Son', 'Allen', 'Michael', 'Middle-class Hobbit'],\n",
       " ['Dog', 'BamBam', 'Doggo', 'N/A']]"
      ]
     },
     "execution_count": 88,
     "metadata": {},
     "output_type": "execute_result"
    }
   ],
   "source": [
    "my_csv = open(\"csv_file_for_pandas.csv\") \n",
    "csv_reader = csv.reader(my_csv)\n",
    "csv_data = list(csv_reader)\n",
    "print(csv_reader)\n",
    "csv_data"
   ]
  },
  {
   "cell_type": "markdown",
   "metadata": {},
   "source": [
    "#### Part 2 (Inspecting Pandas DataFrames):"
   ]
  },
  {
   "cell_type": "code",
   "execution_count": 89,
   "metadata": {},
   "outputs": [
    {
     "data": {
      "text/html": [
       "<div>\n",
       "<style scoped>\n",
       "    .dataframe tbody tr th:only-of-type {\n",
       "        vertical-align: middle;\n",
       "    }\n",
       "\n",
       "    .dataframe tbody tr th {\n",
       "        vertical-align: top;\n",
       "    }\n",
       "\n",
       "    .dataframe thead th {\n",
       "        text-align: right;\n",
       "    }\n",
       "</style>\n",
       "<table border=\"1\" class=\"dataframe\">\n",
       "  <thead>\n",
       "    <tr style=\"text-align: right;\">\n",
       "      <th></th>\n",
       "      <th>First</th>\n",
       "      <th>Middle</th>\n",
       "      <th>Beard Style</th>\n",
       "    </tr>\n",
       "  </thead>\n",
       "  <tbody>\n",
       "    <tr>\n",
       "      <th>Dad</th>\n",
       "      <td>Allen</td>\n",
       "      <td>James</td>\n",
       "      <td>Wizard</td>\n",
       "    </tr>\n",
       "    <tr>\n",
       "      <th>Son</th>\n",
       "      <td>Ryan</td>\n",
       "      <td>Patrick</td>\n",
       "      <td>Battle Dwarf</td>\n",
       "    </tr>\n",
       "    <tr>\n",
       "      <th>Mom</th>\n",
       "      <td>Michele</td>\n",
       "      <td>Leigh</td>\n",
       "      <td>None</td>\n",
       "    </tr>\n",
       "    <tr>\n",
       "      <th>Son</th>\n",
       "      <td>Allen</td>\n",
       "      <td>Michael</td>\n",
       "      <td>Middle-class Hobbit</td>\n",
       "    </tr>\n",
       "    <tr>\n",
       "      <th>Dog</th>\n",
       "      <td>BamBam</td>\n",
       "      <td>Doggo</td>\n",
       "      <td>NaN</td>\n",
       "    </tr>\n",
       "  </tbody>\n",
       "</table>\n",
       "</div>"
      ],
      "text/plain": [
       "       First   Middle          Beard Style\n",
       "Dad    Allen    James               Wizard\n",
       "Son     Ryan  Patrick         Battle Dwarf\n",
       "Mom  Michele    Leigh                 None\n",
       "Son    Allen  Michael  Middle-class Hobbit\n",
       "Dog   BamBam    Doggo                  NaN"
      ]
     },
     "execution_count": 89,
     "metadata": {},
     "output_type": "execute_result"
    }
   ],
   "source": [
    "my_df = pd.read_csv(\"csv_file_for_pandas.csv\", index_col = 0)\n",
    "my_df"
   ]
  },
  {
   "cell_type": "markdown",
   "metadata": {},
   "source": [
    "Interesting: BamBam's beard style returns as NaN due to a non alpha-numeric character."
   ]
  },
  {
   "cell_type": "markdown",
   "metadata": {},
   "source": [
    "##### Example 2.1 (Dimensions):"
   ]
  },
  {
   "cell_type": "code",
   "execution_count": 90,
   "metadata": {},
   "outputs": [
    {
     "data": {
      "text/plain": [
       "5"
      ]
     },
     "execution_count": 90,
     "metadata": {},
     "output_type": "execute_result"
    }
   ],
   "source": [
    "len(my_df)"
   ]
  },
  {
   "cell_type": "code",
   "execution_count": 91,
   "metadata": {},
   "outputs": [
    {
     "data": {
      "text/plain": [
       "(5, 3)"
      ]
     },
     "execution_count": 91,
     "metadata": {},
     "output_type": "execute_result"
    }
   ],
   "source": [
    "my_df.shape"
   ]
  },
  {
   "cell_type": "code",
   "execution_count": 92,
   "metadata": {},
   "outputs": [
    {
     "data": {
      "text/plain": [
       "15"
      ]
     },
     "execution_count": 92,
     "metadata": {},
     "output_type": "execute_result"
    }
   ],
   "source": [
    "my_df.size"
   ]
  },
  {
   "cell_type": "markdown",
   "metadata": {},
   "source": [
    "##### Example 2.2 (Row Labels):"
   ]
  },
  {
   "cell_type": "code",
   "execution_count": 93,
   "metadata": {},
   "outputs": [
    {
     "data": {
      "text/plain": [
       "Index(['Dad', 'Son', 'Mom', 'Son', 'Dog'], dtype='object')"
      ]
     },
     "execution_count": 93,
     "metadata": {},
     "output_type": "execute_result"
    }
   ],
   "source": [
    "my_df.index"
   ]
  },
  {
   "cell_type": "markdown",
   "metadata": {},
   "source": [
    "##### Example 2.3 (Column Labels):"
   ]
  },
  {
   "cell_type": "code",
   "execution_count": 94,
   "metadata": {},
   "outputs": [
    {
     "data": {
      "text/plain": [
       "Index(['First', 'Middle', 'Beard Style'], dtype='object')"
      ]
     },
     "execution_count": 94,
     "metadata": {},
     "output_type": "execute_result"
    }
   ],
   "source": [
    "my_df.columns"
   ]
  },
  {
   "cell_type": "code",
   "execution_count": 95,
   "metadata": {},
   "outputs": [
    {
     "data": {
      "text/plain": [
       "array(['First', 'Middle', 'Beard Style'], dtype=object)"
      ]
     },
     "execution_count": 95,
     "metadata": {},
     "output_type": "execute_result"
    }
   ],
   "source": [
    "my_df.columns.values"
   ]
  },
  {
   "cell_type": "code",
   "execution_count": 96,
   "metadata": {},
   "outputs": [
    {
     "data": {
      "text/plain": [
       "['First', 'Middle', 'Beard Style']"
      ]
     },
     "execution_count": 96,
     "metadata": {},
     "output_type": "execute_result"
    }
   ],
   "source": [
    "my_df.columns.values.tolist()"
   ]
  },
  {
   "cell_type": "code",
   "execution_count": 97,
   "metadata": {},
   "outputs": [
    {
     "data": {
      "text/plain": [
       "['First', 'Middle', 'Beard Style']"
      ]
     },
     "execution_count": 97,
     "metadata": {},
     "output_type": "execute_result"
    }
   ],
   "source": [
    "my_df.columns.tolist()"
   ]
  },
  {
   "cell_type": "markdown",
   "metadata": {},
   "source": [
    "##### Example 2.4 (Data Values):"
   ]
  },
  {
   "cell_type": "code",
   "execution_count": 98,
   "metadata": {},
   "outputs": [
    {
     "data": {
      "text/plain": [
       "array([['Allen', 'James', 'Wizard'],\n",
       "       ['Ryan', 'Patrick', 'Battle Dwarf'],\n",
       "       ['Michele', 'Leigh', 'None'],\n",
       "       ['Allen', 'Michael', 'Middle-class Hobbit'],\n",
       "       ['BamBam', 'Doggo', nan]], dtype=object)"
      ]
     },
     "execution_count": 98,
     "metadata": {},
     "output_type": "execute_result"
    }
   ],
   "source": [
    "my_df.values"
   ]
  },
  {
   "cell_type": "markdown",
   "metadata": {},
   "source": [
    "##### Example 2.5 (Data Type):"
   ]
  },
  {
   "cell_type": "code",
   "execution_count": 99,
   "metadata": {},
   "outputs": [
    {
     "data": {
      "text/plain": [
       "First          object\n",
       "Middle         object\n",
       "Beard Style    object\n",
       "dtype: object"
      ]
     },
     "execution_count": 99,
     "metadata": {},
     "output_type": "execute_result"
    }
   ],
   "source": [
    "my_df.dtypes"
   ]
  },
  {
   "cell_type": "markdown",
   "metadata": {},
   "source": [
    "##### Example 2.6 (Data Quick Look):"
   ]
  },
  {
   "cell_type": "code",
   "execution_count": 100,
   "metadata": {
    "scrolled": false
   },
   "outputs": [
    {
     "data": {
      "text/html": [
       "<div>\n",
       "<style scoped>\n",
       "    .dataframe tbody tr th:only-of-type {\n",
       "        vertical-align: middle;\n",
       "    }\n",
       "\n",
       "    .dataframe tbody tr th {\n",
       "        vertical-align: top;\n",
       "    }\n",
       "\n",
       "    .dataframe thead th {\n",
       "        text-align: right;\n",
       "    }\n",
       "</style>\n",
       "<table border=\"1\" class=\"dataframe\">\n",
       "  <thead>\n",
       "    <tr style=\"text-align: right;\">\n",
       "      <th></th>\n",
       "      <th>First</th>\n",
       "      <th>Middle</th>\n",
       "      <th>Beard Style</th>\n",
       "    </tr>\n",
       "  </thead>\n",
       "  <tbody>\n",
       "    <tr>\n",
       "      <th>Dad</th>\n",
       "      <td>Allen</td>\n",
       "      <td>James</td>\n",
       "      <td>Wizard</td>\n",
       "    </tr>\n",
       "    <tr>\n",
       "      <th>Son</th>\n",
       "      <td>Ryan</td>\n",
       "      <td>Patrick</td>\n",
       "      <td>Battle Dwarf</td>\n",
       "    </tr>\n",
       "  </tbody>\n",
       "</table>\n",
       "</div>"
      ],
      "text/plain": [
       "     First   Middle   Beard Style\n",
       "Dad  Allen    James        Wizard\n",
       "Son   Ryan  Patrick  Battle Dwarf"
      ]
     },
     "execution_count": 100,
     "metadata": {},
     "output_type": "execute_result"
    }
   ],
   "source": [
    "my_df.head(2)"
   ]
  },
  {
   "cell_type": "code",
   "execution_count": 101,
   "metadata": {},
   "outputs": [
    {
     "data": {
      "text/html": [
       "<div>\n",
       "<style scoped>\n",
       "    .dataframe tbody tr th:only-of-type {\n",
       "        vertical-align: middle;\n",
       "    }\n",
       "\n",
       "    .dataframe tbody tr th {\n",
       "        vertical-align: top;\n",
       "    }\n",
       "\n",
       "    .dataframe thead th {\n",
       "        text-align: right;\n",
       "    }\n",
       "</style>\n",
       "<table border=\"1\" class=\"dataframe\">\n",
       "  <thead>\n",
       "    <tr style=\"text-align: right;\">\n",
       "      <th></th>\n",
       "      <th>First</th>\n",
       "      <th>Middle</th>\n",
       "      <th>Beard Style</th>\n",
       "    </tr>\n",
       "  </thead>\n",
       "  <tbody>\n",
       "    <tr>\n",
       "      <th>Dog</th>\n",
       "      <td>BamBam</td>\n",
       "      <td>Doggo</td>\n",
       "      <td>NaN</td>\n",
       "    </tr>\n",
       "  </tbody>\n",
       "</table>\n",
       "</div>"
      ],
      "text/plain": [
       "      First Middle Beard Style\n",
       "Dog  BamBam  Doggo         NaN"
      ]
     },
     "execution_count": 101,
     "metadata": {},
     "output_type": "execute_result"
    }
   ],
   "source": [
    "my_df.tail(1)"
   ]
  },
  {
   "cell_type": "code",
   "execution_count": 102,
   "metadata": {},
   "outputs": [
    {
     "data": {
      "text/html": [
       "<div>\n",
       "<style scoped>\n",
       "    .dataframe tbody tr th:only-of-type {\n",
       "        vertical-align: middle;\n",
       "    }\n",
       "\n",
       "    .dataframe tbody tr th {\n",
       "        vertical-align: top;\n",
       "    }\n",
       "\n",
       "    .dataframe thead th {\n",
       "        text-align: right;\n",
       "    }\n",
       "</style>\n",
       "<table border=\"1\" class=\"dataframe\">\n",
       "  <thead>\n",
       "    <tr style=\"text-align: right;\">\n",
       "      <th></th>\n",
       "      <th>First</th>\n",
       "      <th>Middle</th>\n",
       "      <th>Beard Style</th>\n",
       "    </tr>\n",
       "  </thead>\n",
       "  <tbody>\n",
       "    <tr>\n",
       "      <th>Son</th>\n",
       "      <td>Ryan</td>\n",
       "      <td>Patrick</td>\n",
       "      <td>Battle Dwarf</td>\n",
       "    </tr>\n",
       "    <tr>\n",
       "      <th>Dog</th>\n",
       "      <td>BamBam</td>\n",
       "      <td>Doggo</td>\n",
       "      <td>NaN</td>\n",
       "    </tr>\n",
       "  </tbody>\n",
       "</table>\n",
       "</div>"
      ],
      "text/plain": [
       "      First   Middle   Beard Style\n",
       "Son    Ryan  Patrick  Battle Dwarf\n",
       "Dog  BamBam    Doggo           NaN"
      ]
     },
     "execution_count": 102,
     "metadata": {},
     "output_type": "execute_result"
    }
   ],
   "source": [
    "my_df.sample(2)"
   ]
  },
  {
   "cell_type": "markdown",
   "metadata": {},
   "source": [
    "##### Example 2.7 (Data Summary):\n",
    "\n",
    "Only summarizes the numeric variables."
   ]
  },
  {
   "cell_type": "code",
   "execution_count": 103,
   "metadata": {
    "scrolled": false
   },
   "outputs": [
    {
     "data": {
      "text/html": [
       "<div>\n",
       "<style scoped>\n",
       "    .dataframe tbody tr th:only-of-type {\n",
       "        vertical-align: middle;\n",
       "    }\n",
       "\n",
       "    .dataframe tbody tr th {\n",
       "        vertical-align: top;\n",
       "    }\n",
       "\n",
       "    .dataframe thead th {\n",
       "        text-align: right;\n",
       "    }\n",
       "</style>\n",
       "<table border=\"1\" class=\"dataframe\">\n",
       "  <thead>\n",
       "    <tr style=\"text-align: right;\">\n",
       "      <th></th>\n",
       "      <th>First</th>\n",
       "      <th>Middle</th>\n",
       "      <th>Beard Style</th>\n",
       "    </tr>\n",
       "  </thead>\n",
       "  <tbody>\n",
       "    <tr>\n",
       "      <th>count</th>\n",
       "      <td>5</td>\n",
       "      <td>5</td>\n",
       "      <td>4</td>\n",
       "    </tr>\n",
       "    <tr>\n",
       "      <th>unique</th>\n",
       "      <td>4</td>\n",
       "      <td>5</td>\n",
       "      <td>4</td>\n",
       "    </tr>\n",
       "    <tr>\n",
       "      <th>top</th>\n",
       "      <td>Allen</td>\n",
       "      <td>Leigh</td>\n",
       "      <td>Wizard</td>\n",
       "    </tr>\n",
       "    <tr>\n",
       "      <th>freq</th>\n",
       "      <td>2</td>\n",
       "      <td>1</td>\n",
       "      <td>1</td>\n",
       "    </tr>\n",
       "  </tbody>\n",
       "</table>\n",
       "</div>"
      ],
      "text/plain": [
       "        First Middle Beard Style\n",
       "count       5      5           4\n",
       "unique      4      5           4\n",
       "top     Allen  Leigh      Wizard\n",
       "freq        2      1           1"
      ]
     },
     "execution_count": 103,
     "metadata": {},
     "output_type": "execute_result"
    }
   ],
   "source": [
    "my_df.describe()"
   ]
  },
  {
   "cell_type": "markdown",
   "metadata": {},
   "source": [
    "##### Example 2.8 (Info):"
   ]
  },
  {
   "cell_type": "code",
   "execution_count": 104,
   "metadata": {},
   "outputs": [
    {
     "name": "stdout",
     "output_type": "stream",
     "text": [
      "<class 'pandas.core.frame.DataFrame'>\n",
      "Index: 5 entries, Dad to Dog\n",
      "Data columns (total 3 columns):\n",
      "First          5 non-null object\n",
      "Middle         5 non-null object\n",
      "Beard Style    4 non-null object\n",
      "dtypes: object(3)\n",
      "memory usage: 160.0+ bytes\n"
     ]
    }
   ],
   "source": [
    "my_df.info()"
   ]
  },
  {
   "cell_type": "markdown",
   "metadata": {},
   "source": [
    "##### Problem 3:\n",
    "\n",
    "Using a Pandas DataFrame and csv module, create a csv file with numerical data and strings for the row and column headers. Print the:\n",
    "    \n",
    "    * Number of rows and columns\n",
    "    * Column Names\n",
    "    * A sample of 2 rows\n",
    "    * A summary of the values"
   ]
  },
  {
   "cell_type": "code",
   "execution_count": 107,
   "metadata": {},
   "outputs": [],
   "source": [
    "### Write code here\n",
    "try: os.remove('csv_file_2.csv')\n",
    "except: pass\n",
    "my_csv2 = open('csv_file_2.csv', 'w+', newline='')\n",
    "writer = csv.writer(my_csv2)\n",
    "writer.writerow(['Name','Games Played','Games Won','Game Time'])\n",
    "writer.writerow(['Cookie Monster','75','2','6'])\n",
    "writer.writerow(['Darth Vader','6','100','0'])\n",
    "writer.writerow(['Link','100','100','100'])\n",
    "writer.writerow(['Max','14','11','237'])\n",
    "my_csv2.close()"
   ]
  },
  {
   "cell_type": "code",
   "execution_count": 120,
   "metadata": {},
   "outputs": [
    {
     "name": "stdout",
     "output_type": "stream",
     "text": [
      "Number of rows: 4 \n",
      "\n",
      "Number of columns: 3 \n",
      "\n",
      "Column titles: ['Games Played' 'Games Won' 'Game Time'] \n",
      "\n",
      "Data sample: \n",
      "              Games Played  Games Won  Game Time\n",
      "Name                                           \n",
      "Darth Vader             6        100          0\n",
      "Link                  100        100        100 \n",
      "\n",
      "Data summary: \n",
      "        Games Played   Games Won   Game Time\n",
      "count      4.000000    4.000000    4.000000\n",
      "mean      48.750000   53.250000   85.750000\n",
      "std       46.009963   54.107147  110.744074\n",
      "min        6.000000    2.000000    0.000000\n",
      "25%       12.000000    8.750000    4.500000\n",
      "50%       44.500000   55.500000   53.000000\n",
      "75%       81.250000  100.000000  134.250000\n",
      "max      100.000000  100.000000  237.000000\n"
     ]
    }
   ],
   "source": [
    "my_df = pd.read_csv('csv_file_2.csv', index_col = 0)\n",
    "print(\"Number of rows:\",my_df.shape[0],\"\\n\")\n",
    "print(\"Number of columns:\",my_df.shape[1],\"\\n\")\n",
    "print(\"Column titles:\", my_df.columns.values,\"\\n\")\n",
    "print(\"Data sample:\", \"\\n\", my_df.sample(2),\"\\n\")\n",
    "print(\"Data summary:\", \"\\n\", my_df.describe())\n",
    "\n"
   ]
  },
  {
   "cell_type": "markdown",
   "metadata": {},
   "source": [
    "### 5.1.3 Indexing Pandas Data Structures:"
   ]
  },
  {
   "cell_type": "markdown",
   "metadata": {},
   "source": [
    "__Overview:__ \n",
    "- Pandas offers many different techniques to index (access) elements within Data Structures which can be found [here](http://pandas.pydata.org/pandas-docs/stable/indexing.html)\n",
    "- There are 6 main ways of indexing Pandas data structures:\n",
    "> 1. __Select by Column Name:__ The syntax of this method is `df[col_name]` and it returns a `Series` object\n",
    "> 2. __[Select by Label](http://pandas.pydata.org/pandas-docs/stable/indexing.html#indexing-label):__ This describes __purely label-based indexing__ which selects labels based on what is included in the index of the object. The syntax of this method (for DataFrames) is `df.loc[row_label, column_label]` and it returns a `Series` object. The following provides a list of the possible arguments for the `row_label` and/or `column_label`:\n",
    ">> a. A single label (i.e. `5` or `a`, but the number `5` is interpreted as the label and NOT as the index (use `.iloc` for this)<br>\n",
    ">> b. A list or array of labels (i.e. `['a', 'b', 'c']`<br>\n",
    ">> c. A slice object with labels (i.e. `['a':'f']`, but unlike with other slices in Python, the `stop` argument is included in the slice  \n",
    ">> d. A boolean array \n",
    "> 3. __[Select by Integer Location (Position)](http://pandas.pydata.org/pandas-docs/stable/indexing.html#indexing-integer):__ This describes __purely integer-based indexing__ which requires an integer (0-based indexing) for input. The syntax of this method is (for DataFrames) `df.iloc[row_number, column_number]` and it returns a `Series` object. The following provides a list of the possible arguments for `row_number` and/or `column_number`:\n",
    ">> a. An integer (i.e. `5`)<br>\n",
    ">> b. A list or array of integers (i.e. `[4, 3, 0]`<br>\n",
    ">> c. A slice object with integers (i.e. `[1:7]`<br>\n",
    ">> d. A boolean array \n",
    "> 4. __[Slicing Ranges](http://pandas.pydata.org/pandas-docs/stable/indexing.html#slicing-ranges):__ The syntax of this method is (for DataFrames) `df[row_number_1:row_number_2]` and it returns a `DataFrame` object. The `[` and `]` operator is responsible for the slicing and this ONLY operates on rows\n",
    "> 5. __[Boolean Indexing](http://pandas.pydata.org/pandas-docs/stable/indexing.html#boolean-indexing):__ The syntax of this method is (for DataFrames) `df[boolean_vector]` and it returns a `DataFrame` object. This is performed using boolean operators such as `|` for `or`, `&` for `and` and `~` for not and each must be grouped by parantheseses\n",
    "> 6. __[Indexing with isin](http://pandas.pydata.org/pandas-docs/stable/indexing.html#indexing-with-isin):__ The syntax of this method is (for DataFrames) `df.isin(values)` and it returns a boolean vector that is true wherever the Series elements exist in the passed list \n",
    "\n",
    "__Helpful Points:__\n",
    "1. Recall in previous lectures how we peformeed indexing in Lists, Strings and other ordered, sequence types. The process with Pandas Data Structures is quite similar with a few minor syntactical differences\n",
    "2. Both Series and DataFrames can be indexed, naturally though, Series have less functionality\n",
    "\n",
    "__Practice:__ Examples of Indexing Pandas Data Structures in Python "
   ]
  },
  {
   "cell_type": "markdown",
   "metadata": {},
   "source": [
    "#### Part 1 (Indexing Method 1 - Select by Column Name):"
   ]
  },
  {
   "cell_type": "code",
   "execution_count": 3,
   "metadata": {
    "scrolled": false
   },
   "outputs": [
    {
     "data": {
      "text/html": [
       "<div>\n",
       "<style scoped>\n",
       "    .dataframe tbody tr th:only-of-type {\n",
       "        vertical-align: middle;\n",
       "    }\n",
       "\n",
       "    .dataframe tbody tr th {\n",
       "        vertical-align: top;\n",
       "    }\n",
       "\n",
       "    .dataframe thead th {\n",
       "        text-align: right;\n",
       "    }\n",
       "</style>\n",
       "<table border=\"1\" class=\"dataframe\">\n",
       "  <thead>\n",
       "    <tr style=\"text-align: right;\">\n",
       "      <th></th>\n",
       "      <th>First</th>\n",
       "      <th>Middle</th>\n",
       "      <th>Beard Style</th>\n",
       "    </tr>\n",
       "  </thead>\n",
       "  <tbody>\n",
       "    <tr>\n",
       "      <th>Dad</th>\n",
       "      <td>Allen</td>\n",
       "      <td>James</td>\n",
       "      <td>Wizard</td>\n",
       "    </tr>\n",
       "    <tr>\n",
       "      <th>Son</th>\n",
       "      <td>Ryan</td>\n",
       "      <td>Patrick</td>\n",
       "      <td>Battle Dwarf</td>\n",
       "    </tr>\n",
       "    <tr>\n",
       "      <th>Mom</th>\n",
       "      <td>Michele</td>\n",
       "      <td>Leigh</td>\n",
       "      <td>None</td>\n",
       "    </tr>\n",
       "    <tr>\n",
       "      <th>Son</th>\n",
       "      <td>Allen</td>\n",
       "      <td>Michael</td>\n",
       "      <td>Middle-class Hobbit</td>\n",
       "    </tr>\n",
       "    <tr>\n",
       "      <th>Dog</th>\n",
       "      <td>BamBam</td>\n",
       "      <td>Doggo</td>\n",
       "      <td>NaN</td>\n",
       "    </tr>\n",
       "  </tbody>\n",
       "</table>\n",
       "</div>"
      ],
      "text/plain": [
       "       First   Middle          Beard Style\n",
       "Dad    Allen    James               Wizard\n",
       "Son     Ryan  Patrick         Battle Dwarf\n",
       "Mom  Michele    Leigh                 None\n",
       "Son    Allen  Michael  Middle-class Hobbit\n",
       "Dog   BamBam    Doggo                  NaN"
      ]
     },
     "execution_count": 3,
     "metadata": {},
     "output_type": "execute_result"
    }
   ],
   "source": [
    "import pandas as pd\n",
    "fam_df = my_df = pd.read_csv(\"csv_file_for_pandas.csv\", index_col = 0)\n",
    "fam_df"
   ]
  },
  {
   "cell_type": "markdown",
   "metadata": {},
   "source": [
    "##### Example 1.1 (Access 1 Column by Name - Method 1):"
   ]
  },
  {
   "cell_type": "code",
   "execution_count": 5,
   "metadata": {},
   "outputs": [
    {
     "data": {
      "text/plain": [
       "Dad                 Wizard\n",
       "Son           Battle Dwarf\n",
       "Mom                   None\n",
       "Son    Middle-class Hobbit\n",
       "Dog                    NaN\n",
       "Name: Beard Style, dtype: object"
      ]
     },
     "execution_count": 5,
     "metadata": {},
     "output_type": "execute_result"
    }
   ],
   "source": [
    "fam_df[\"Beard Style\"] # 2nd column"
   ]
  },
  {
   "cell_type": "code",
   "execution_count": 6,
   "metadata": {},
   "outputs": [
    {
     "data": {
      "text/plain": [
       "pandas.core.series.Series"
      ]
     },
     "execution_count": 6,
     "metadata": {},
     "output_type": "execute_result"
    }
   ],
   "source": [
    "type(fam_df[\"Beard Style\"]) # returns a Series object "
   ]
  },
  {
   "cell_type": "markdown",
   "metadata": {},
   "source": [
    "##### Example 1.2 (Access 1 Column by Name - Method 2):\n",
    "\n",
    "NOTICE: This option is limited to column names that do not have blank spaces."
   ]
  },
  {
   "cell_type": "code",
   "execution_count": 8,
   "metadata": {},
   "outputs": [
    {
     "data": {
      "text/plain": [
       "Dad      Allen\n",
       "Son       Ryan\n",
       "Mom    Michele\n",
       "Son      Allen\n",
       "Dog     BamBam\n",
       "Name: First, dtype: object"
      ]
     },
     "execution_count": 8,
     "metadata": {},
     "output_type": "execute_result"
    }
   ],
   "source": [
    "fam_df.First # 2nd column "
   ]
  },
  {
   "cell_type": "code",
   "execution_count": 9,
   "metadata": {},
   "outputs": [
    {
     "data": {
      "text/plain": [
       "pandas.core.series.Series"
      ]
     },
     "execution_count": 9,
     "metadata": {},
     "output_type": "execute_result"
    }
   ],
   "source": [
    "type(fam_df.First) # returns a Series object"
   ]
  },
  {
   "cell_type": "code",
   "execution_count": 10,
   "metadata": {},
   "outputs": [
    {
     "data": {
      "text/html": [
       "<div>\n",
       "<style scoped>\n",
       "    .dataframe tbody tr th:only-of-type {\n",
       "        vertical-align: middle;\n",
       "    }\n",
       "\n",
       "    .dataframe tbody tr th {\n",
       "        vertical-align: top;\n",
       "    }\n",
       "\n",
       "    .dataframe thead th {\n",
       "        text-align: right;\n",
       "    }\n",
       "</style>\n",
       "<table border=\"1\" class=\"dataframe\">\n",
       "  <thead>\n",
       "    <tr style=\"text-align: right;\">\n",
       "      <th></th>\n",
       "      <th>First 1</th>\n",
       "      <th>Last_1</th>\n",
       "    </tr>\n",
       "  </thead>\n",
       "  <tbody>\n",
       "    <tr>\n",
       "      <th>0</th>\n",
       "      <td>Papacito</td>\n",
       "      <td>Bandito</td>\n",
       "    </tr>\n",
       "    <tr>\n",
       "      <th>1</th>\n",
       "      <td>Luis</td>\n",
       "      <td>Swisse</td>\n",
       "    </tr>\n",
       "  </tbody>\n",
       "</table>\n",
       "</div>"
      ],
      "text/plain": [
       "    First 1   Last_1\n",
       "0  Papacito  Bandito\n",
       "1      Luis   Swisse"
      ]
     },
     "execution_count": 10,
     "metadata": {},
     "output_type": "execute_result"
    }
   ],
   "source": [
    "test = pd.DataFrame([{'First 1':'Papacito','Last_1':'Bandito'},{'First 1':'Luis','Last_1':'Swisse'}])\n",
    "test"
   ]
  },
  {
   "cell_type": "code",
   "execution_count": 11,
   "metadata": {},
   "outputs": [
    {
     "data": {
      "text/plain": [
       "0    Papacito\n",
       "1        Luis\n",
       "Name: First 1, dtype: object"
      ]
     },
     "execution_count": 11,
     "metadata": {},
     "output_type": "execute_result"
    }
   ],
   "source": [
    "test['First 1']\n",
    "# test.First 1"
   ]
  },
  {
   "cell_type": "code",
   "execution_count": 12,
   "metadata": {},
   "outputs": [
    {
     "data": {
      "text/plain": [
       "0    Bandito\n",
       "1     Swisse\n",
       "Name: Last_1, dtype: object"
      ]
     },
     "execution_count": 12,
     "metadata": {},
     "output_type": "execute_result"
    }
   ],
   "source": [
    "test['Last_1']\n",
    "# test.Last_1"
   ]
  },
  {
   "cell_type": "markdown",
   "metadata": {},
   "source": [
    "##### Example 1.3 (Access 2 Columns by Names):"
   ]
  },
  {
   "cell_type": "code",
   "execution_count": 13,
   "metadata": {},
   "outputs": [
    {
     "data": {
      "text/html": [
       "<div>\n",
       "<style scoped>\n",
       "    .dataframe tbody tr th:only-of-type {\n",
       "        vertical-align: middle;\n",
       "    }\n",
       "\n",
       "    .dataframe tbody tr th {\n",
       "        vertical-align: top;\n",
       "    }\n",
       "\n",
       "    .dataframe thead th {\n",
       "        text-align: right;\n",
       "    }\n",
       "</style>\n",
       "<table border=\"1\" class=\"dataframe\">\n",
       "  <thead>\n",
       "    <tr style=\"text-align: right;\">\n",
       "      <th></th>\n",
       "      <th>First</th>\n",
       "      <th>Middle</th>\n",
       "    </tr>\n",
       "  </thead>\n",
       "  <tbody>\n",
       "    <tr>\n",
       "      <th>Dad</th>\n",
       "      <td>Allen</td>\n",
       "      <td>James</td>\n",
       "    </tr>\n",
       "    <tr>\n",
       "      <th>Son</th>\n",
       "      <td>Ryan</td>\n",
       "      <td>Patrick</td>\n",
       "    </tr>\n",
       "    <tr>\n",
       "      <th>Mom</th>\n",
       "      <td>Michele</td>\n",
       "      <td>Leigh</td>\n",
       "    </tr>\n",
       "    <tr>\n",
       "      <th>Son</th>\n",
       "      <td>Allen</td>\n",
       "      <td>Michael</td>\n",
       "    </tr>\n",
       "    <tr>\n",
       "      <th>Dog</th>\n",
       "      <td>BamBam</td>\n",
       "      <td>Doggo</td>\n",
       "    </tr>\n",
       "  </tbody>\n",
       "</table>\n",
       "</div>"
      ],
      "text/plain": [
       "       First   Middle\n",
       "Dad    Allen    James\n",
       "Son     Ryan  Patrick\n",
       "Mom  Michele    Leigh\n",
       "Son    Allen  Michael\n",
       "Dog   BamBam    Doggo"
      ]
     },
     "execution_count": 13,
     "metadata": {},
     "output_type": "execute_result"
    }
   ],
   "source": [
    "fam_df[[\"First\", \"Middle\"]] # 1st and 2nd column"
   ]
  },
  {
   "cell_type": "code",
   "execution_count": 14,
   "metadata": {},
   "outputs": [
    {
     "data": {
      "text/plain": [
       "pandas.core.frame.DataFrame"
      ]
     },
     "execution_count": 14,
     "metadata": {},
     "output_type": "execute_result"
    }
   ],
   "source": [
    "type(fam_df[[\"First\", \"Middle\"]]) # returns a DataFrame object"
   ]
  },
  {
   "cell_type": "markdown",
   "metadata": {},
   "source": [
    "#### Part 2 (Indexing Method 2 - Select by Label):"
   ]
  },
  {
   "cell_type": "markdown",
   "metadata": {},
   "source": [
    "##### Example 2.1 (Access with Single Label - Series):"
   ]
  },
  {
   "cell_type": "code",
   "execution_count": 16,
   "metadata": {
    "scrolled": true
   },
   "outputs": [
    {
     "data": {
      "text/plain": [
       "a    3\n",
       "b    4\n",
       "c    5\n",
       "d    6\n",
       "4    7\n",
       "dtype: int64"
      ]
     },
     "execution_count": 16,
     "metadata": {},
     "output_type": "execute_result"
    }
   ],
   "source": [
    "import numpy as np\n",
    "series_1 = pd.Series(np.arange(3,8), index = [\"a\", \"b\", \"c\", \"d\", 4])\n",
    "series_1"
   ]
  },
  {
   "cell_type": "code",
   "execution_count": 17,
   "metadata": {},
   "outputs": [
    {
     "data": {
      "text/plain": [
       "4"
      ]
     },
     "execution_count": 17,
     "metadata": {},
     "output_type": "execute_result"
    }
   ],
   "source": [
    "series_1.loc[\"b\"] # 2nd row value "
   ]
  },
  {
   "cell_type": "code",
   "execution_count": 19,
   "metadata": {},
   "outputs": [],
   "source": [
    "#.  series_1.loc[1] # 2nd row value???"
   ]
  },
  {
   "cell_type": "markdown",
   "metadata": {},
   "source": [
    "__Note to self:__ The above will output a (rather lengthy) error message (in times like these, just skip to the very bottom for the actual error info). The reason this results in an error is because when using `loc`, we are indexing by row label so the number `1` is interpreted as a row label and there is clearly not a row label named `1`."
   ]
  },
  {
   "cell_type": "code",
   "execution_count": 20,
   "metadata": {},
   "outputs": [
    {
     "data": {
      "text/plain": [
       "7"
      ]
     },
     "execution_count": 20,
     "metadata": {},
     "output_type": "execute_result"
    }
   ],
   "source": [
    "series_1.loc[4] # no error "
   ]
  },
  {
   "cell_type": "markdown",
   "metadata": {},
   "source": [
    "However, there IS a row label named `4`, therefore we can index with the integer 4. Make sure you understand though, this is NOT integer indexing and the argument `4` is interpreted as a row label and NOT an integer position. "
   ]
  },
  {
   "cell_type": "code",
   "execution_count": 22,
   "metadata": {},
   "outputs": [
    {
     "data": {
      "text/plain": [
       "4"
      ]
     },
     "execution_count": 22,
     "metadata": {},
     "output_type": "execute_result"
    }
   ],
   "source": [
    "series_1.iloc[1] # more on this later, but we see that .iloc does the job in this case"
   ]
  },
  {
   "cell_type": "markdown",
   "metadata": {},
   "source": [
    "##### Example 2.2 (Access with Single Label - DataFrame):"
   ]
  },
  {
   "cell_type": "code",
   "execution_count": 23,
   "metadata": {},
   "outputs": [
    {
     "data": {
      "text/html": [
       "<div>\n",
       "<style scoped>\n",
       "    .dataframe tbody tr th:only-of-type {\n",
       "        vertical-align: middle;\n",
       "    }\n",
       "\n",
       "    .dataframe tbody tr th {\n",
       "        vertical-align: top;\n",
       "    }\n",
       "\n",
       "    .dataframe thead th {\n",
       "        text-align: right;\n",
       "    }\n",
       "</style>\n",
       "<table border=\"1\" class=\"dataframe\">\n",
       "  <thead>\n",
       "    <tr style=\"text-align: right;\">\n",
       "      <th></th>\n",
       "      <th>First</th>\n",
       "      <th>Middle</th>\n",
       "      <th>Beard Style</th>\n",
       "    </tr>\n",
       "  </thead>\n",
       "  <tbody>\n",
       "    <tr>\n",
       "      <th>Dad</th>\n",
       "      <td>Allen</td>\n",
       "      <td>James</td>\n",
       "      <td>Wizard</td>\n",
       "    </tr>\n",
       "    <tr>\n",
       "      <th>Son</th>\n",
       "      <td>Ryan</td>\n",
       "      <td>Patrick</td>\n",
       "      <td>Battle Dwarf</td>\n",
       "    </tr>\n",
       "    <tr>\n",
       "      <th>Mom</th>\n",
       "      <td>Michele</td>\n",
       "      <td>Leigh</td>\n",
       "      <td>None</td>\n",
       "    </tr>\n",
       "    <tr>\n",
       "      <th>Son</th>\n",
       "      <td>Allen</td>\n",
       "      <td>Michael</td>\n",
       "      <td>Middle-class Hobbit</td>\n",
       "    </tr>\n",
       "    <tr>\n",
       "      <th>Dog</th>\n",
       "      <td>BamBam</td>\n",
       "      <td>Doggo</td>\n",
       "      <td>NaN</td>\n",
       "    </tr>\n",
       "  </tbody>\n",
       "</table>\n",
       "</div>"
      ],
      "text/plain": [
       "       First   Middle          Beard Style\n",
       "Dad    Allen    James               Wizard\n",
       "Son     Ryan  Patrick         Battle Dwarf\n",
       "Mom  Michele    Leigh                 None\n",
       "Son    Allen  Michael  Middle-class Hobbit\n",
       "Dog   BamBam    Doggo                  NaN"
      ]
     },
     "execution_count": 23,
     "metadata": {},
     "output_type": "execute_result"
    }
   ],
   "source": [
    "fam_df"
   ]
  },
  {
   "cell_type": "code",
   "execution_count": 24,
   "metadata": {
    "scrolled": true
   },
   "outputs": [
    {
     "data": {
      "text/plain": [
       "First           Allen\n",
       "Middle          James\n",
       "Beard Style    Wizard\n",
       "Name: Dad, dtype: object"
      ]
     },
     "execution_count": 24,
     "metadata": {},
     "output_type": "execute_result"
    }
   ],
   "source": [
    "fam_df.loc[\"Dad\"] # 1st row "
   ]
  },
  {
   "cell_type": "code",
   "execution_count": 25,
   "metadata": {},
   "outputs": [
    {
     "data": {
      "text/plain": [
       "'Allen'"
      ]
     },
     "execution_count": 25,
     "metadata": {},
     "output_type": "execute_result"
    }
   ],
   "source": [
    "fam_df.loc[\"Dad\", \"First\"] # 1st row, 1st column "
   ]
  },
  {
   "cell_type": "markdown",
   "metadata": {},
   "source": [
    "##### Example 2.3 (Access with List of Labels - Series):"
   ]
  },
  {
   "cell_type": "code",
   "execution_count": 26,
   "metadata": {},
   "outputs": [
    {
     "data": {
      "text/plain": [
       "a    3\n",
       "b    4\n",
       "c    5\n",
       "d    6\n",
       "4    7\n",
       "dtype: int64"
      ]
     },
     "execution_count": 26,
     "metadata": {},
     "output_type": "execute_result"
    }
   ],
   "source": [
    "series_1"
   ]
  },
  {
   "cell_type": "code",
   "execution_count": 27,
   "metadata": {},
   "outputs": [
    {
     "data": {
      "text/plain": [
       "a    3\n",
       "c    5\n",
       "4    7\n",
       "dtype: int64"
      ]
     },
     "execution_count": 27,
     "metadata": {},
     "output_type": "execute_result"
    }
   ],
   "source": [
    "series_1.loc[[\"a\", \"c\", 4]] # 1st row, 3rd row, last row "
   ]
  },
  {
   "cell_type": "markdown",
   "metadata": {},
   "source": [
    "##### Example 2.4 (Access with List of Labels - DataFrame):"
   ]
  },
  {
   "cell_type": "code",
   "execution_count": 28,
   "metadata": {
    "scrolled": true
   },
   "outputs": [
    {
     "data": {
      "text/html": [
       "<div>\n",
       "<style scoped>\n",
       "    .dataframe tbody tr th:only-of-type {\n",
       "        vertical-align: middle;\n",
       "    }\n",
       "\n",
       "    .dataframe tbody tr th {\n",
       "        vertical-align: top;\n",
       "    }\n",
       "\n",
       "    .dataframe thead th {\n",
       "        text-align: right;\n",
       "    }\n",
       "</style>\n",
       "<table border=\"1\" class=\"dataframe\">\n",
       "  <thead>\n",
       "    <tr style=\"text-align: right;\">\n",
       "      <th></th>\n",
       "      <th>First</th>\n",
       "      <th>Middle</th>\n",
       "      <th>Beard Style</th>\n",
       "    </tr>\n",
       "  </thead>\n",
       "  <tbody>\n",
       "    <tr>\n",
       "      <th>Dad</th>\n",
       "      <td>Allen</td>\n",
       "      <td>James</td>\n",
       "      <td>Wizard</td>\n",
       "    </tr>\n",
       "    <tr>\n",
       "      <th>Mom</th>\n",
       "      <td>Michele</td>\n",
       "      <td>Leigh</td>\n",
       "      <td>None</td>\n",
       "    </tr>\n",
       "  </tbody>\n",
       "</table>\n",
       "</div>"
      ],
      "text/plain": [
       "       First Middle Beard Style\n",
       "Dad    Allen  James      Wizard\n",
       "Mom  Michele  Leigh        None"
      ]
     },
     "execution_count": 28,
     "metadata": {},
     "output_type": "execute_result"
    }
   ],
   "source": [
    "fam_df.loc[[\"Dad\", \"Mom\"]] # 1st row and last row"
   ]
  },
  {
   "cell_type": "code",
   "execution_count": 31,
   "metadata": {
    "scrolled": true
   },
   "outputs": [
    {
     "data": {
      "text/html": [
       "<div>\n",
       "<style scoped>\n",
       "    .dataframe tbody tr th:only-of-type {\n",
       "        vertical-align: middle;\n",
       "    }\n",
       "\n",
       "    .dataframe tbody tr th {\n",
       "        vertical-align: top;\n",
       "    }\n",
       "\n",
       "    .dataframe thead th {\n",
       "        text-align: right;\n",
       "    }\n",
       "</style>\n",
       "<table border=\"1\" class=\"dataframe\">\n",
       "  <thead>\n",
       "    <tr style=\"text-align: right;\">\n",
       "      <th></th>\n",
       "      <th>Middle</th>\n",
       "      <th>Beard Style</th>\n",
       "    </tr>\n",
       "  </thead>\n",
       "  <tbody>\n",
       "    <tr>\n",
       "      <th>Dad</th>\n",
       "      <td>James</td>\n",
       "      <td>Wizard</td>\n",
       "    </tr>\n",
       "    <tr>\n",
       "      <th>Dog</th>\n",
       "      <td>Doggo</td>\n",
       "      <td>NaN</td>\n",
       "    </tr>\n",
       "  </tbody>\n",
       "</table>\n",
       "</div>"
      ],
      "text/plain": [
       "    Middle Beard Style\n",
       "Dad  James      Wizard\n",
       "Dog  Doggo         NaN"
      ]
     },
     "execution_count": 31,
     "metadata": {},
     "output_type": "execute_result"
    }
   ],
   "source": [
    "fam_df.loc[[\"Dad\", \"Dog\"], [\"Middle\", \"Beard Style\"]] # 1st row and last row and last two columns "
   ]
  },
  {
   "cell_type": "markdown",
   "metadata": {},
   "source": [
    "##### Example 2.5 (Access with Slice Object - Series):"
   ]
  },
  {
   "cell_type": "code",
   "execution_count": 32,
   "metadata": {},
   "outputs": [
    {
     "data": {
      "text/plain": [
       "b    4\n",
       "c    5\n",
       "d    6\n",
       "dtype: int64"
      ]
     },
     "execution_count": 32,
     "metadata": {},
     "output_type": "execute_result"
    }
   ],
   "source": [
    "series_1.loc[\"b\":\"d\"] # 2nd to 4th row, inclusive "
   ]
  },
  {
   "cell_type": "markdown",
   "metadata": {},
   "source": [
    "##### Example 2.6 (Access with Slice Object - DataFrame):"
   ]
  },
  {
   "cell_type": "code",
   "execution_count": 35,
   "metadata": {
    "scrolled": true
   },
   "outputs": [
    {
     "data": {
      "text/html": [
       "<div>\n",
       "<style scoped>\n",
       "    .dataframe tbody tr th:only-of-type {\n",
       "        vertical-align: middle;\n",
       "    }\n",
       "\n",
       "    .dataframe tbody tr th {\n",
       "        vertical-align: top;\n",
       "    }\n",
       "\n",
       "    .dataframe thead th {\n",
       "        text-align: right;\n",
       "    }\n",
       "</style>\n",
       "<table border=\"1\" class=\"dataframe\">\n",
       "  <thead>\n",
       "    <tr style=\"text-align: right;\">\n",
       "      <th></th>\n",
       "      <th>First</th>\n",
       "      <th>Middle</th>\n",
       "      <th>Beard Style</th>\n",
       "    </tr>\n",
       "  </thead>\n",
       "  <tbody>\n",
       "    <tr>\n",
       "      <th>Mom</th>\n",
       "      <td>Michele</td>\n",
       "      <td>Leigh</td>\n",
       "      <td>None</td>\n",
       "    </tr>\n",
       "    <tr>\n",
       "      <th>Son</th>\n",
       "      <td>Allen</td>\n",
       "      <td>Michael</td>\n",
       "      <td>Middle-class Hobbit</td>\n",
       "    </tr>\n",
       "    <tr>\n",
       "      <th>Dog</th>\n",
       "      <td>BamBam</td>\n",
       "      <td>Doggo</td>\n",
       "      <td>NaN</td>\n",
       "    </tr>\n",
       "  </tbody>\n",
       "</table>\n",
       "</div>"
      ],
      "text/plain": [
       "       First   Middle          Beard Style\n",
       "Mom  Michele    Leigh                 None\n",
       "Son    Allen  Michael  Middle-class Hobbit\n",
       "Dog   BamBam    Doggo                  NaN"
      ]
     },
     "execution_count": 35,
     "metadata": {},
     "output_type": "execute_result"
    }
   ],
   "source": [
    "fam_df.loc[\"Mom\":\"Dog\"] # inclusive slicing"
   ]
  },
  {
   "cell_type": "markdown",
   "metadata": {},
   "source": [
    "Notice how the `stop` argument in the slice `\"Mom\":\"Dog\"` is included in the result "
   ]
  },
  {
   "cell_type": "code",
   "execution_count": 37,
   "metadata": {
    "scrolled": true
   },
   "outputs": [
    {
     "data": {
      "text/html": [
       "<div>\n",
       "<style scoped>\n",
       "    .dataframe tbody tr th:only-of-type {\n",
       "        vertical-align: middle;\n",
       "    }\n",
       "\n",
       "    .dataframe tbody tr th {\n",
       "        vertical-align: top;\n",
       "    }\n",
       "\n",
       "    .dataframe thead th {\n",
       "        text-align: right;\n",
       "    }\n",
       "</style>\n",
       "<table border=\"1\" class=\"dataframe\">\n",
       "  <thead>\n",
       "    <tr style=\"text-align: right;\">\n",
       "      <th></th>\n",
       "      <th>Middle</th>\n",
       "      <th>Beard Style</th>\n",
       "    </tr>\n",
       "  </thead>\n",
       "  <tbody>\n",
       "    <tr>\n",
       "      <th>Mom</th>\n",
       "      <td>Leigh</td>\n",
       "      <td>None</td>\n",
       "    </tr>\n",
       "    <tr>\n",
       "      <th>Son</th>\n",
       "      <td>Michael</td>\n",
       "      <td>Middle-class Hobbit</td>\n",
       "    </tr>\n",
       "    <tr>\n",
       "      <th>Dog</th>\n",
       "      <td>Doggo</td>\n",
       "      <td>NaN</td>\n",
       "    </tr>\n",
       "  </tbody>\n",
       "</table>\n",
       "</div>"
      ],
      "text/plain": [
       "      Middle          Beard Style\n",
       "Mom    Leigh                 None\n",
       "Son  Michael  Middle-class Hobbit\n",
       "Dog    Doggo                  NaN"
      ]
     },
     "execution_count": 37,
     "metadata": {},
     "output_type": "execute_result"
    }
   ],
   "source": [
    "fam_df.loc[\"Mom\":\"Dog\", \"Middle\":] # inclusive with columns"
   ]
  },
  {
   "cell_type": "markdown",
   "metadata": {},
   "source": [
    "Notice how the slice `\"Middle\":` actually includes the endpoint, which is not the same as regular slicing in Python "
   ]
  },
  {
   "cell_type": "code",
   "execution_count": 38,
   "metadata": {},
   "outputs": [
    {
     "data": {
      "text/html": [
       "<div>\n",
       "<style scoped>\n",
       "    .dataframe tbody tr th:only-of-type {\n",
       "        vertical-align: middle;\n",
       "    }\n",
       "\n",
       "    .dataframe tbody tr th {\n",
       "        vertical-align: top;\n",
       "    }\n",
       "\n",
       "    .dataframe thead th {\n",
       "        text-align: right;\n",
       "    }\n",
       "</style>\n",
       "<table border=\"1\" class=\"dataframe\">\n",
       "  <thead>\n",
       "    <tr style=\"text-align: right;\">\n",
       "      <th></th>\n",
       "      <th>First</th>\n",
       "      <th>Beard Style</th>\n",
       "    </tr>\n",
       "  </thead>\n",
       "  <tbody>\n",
       "    <tr>\n",
       "      <th>Dad</th>\n",
       "      <td>Allen</td>\n",
       "      <td>Wizard</td>\n",
       "    </tr>\n",
       "    <tr>\n",
       "      <th>Son</th>\n",
       "      <td>Ryan</td>\n",
       "      <td>Battle Dwarf</td>\n",
       "    </tr>\n",
       "    <tr>\n",
       "      <th>Mom</th>\n",
       "      <td>Michele</td>\n",
       "      <td>None</td>\n",
       "    </tr>\n",
       "    <tr>\n",
       "      <th>Son</th>\n",
       "      <td>Allen</td>\n",
       "      <td>Middle-class Hobbit</td>\n",
       "    </tr>\n",
       "    <tr>\n",
       "      <th>Dog</th>\n",
       "      <td>BamBam</td>\n",
       "      <td>NaN</td>\n",
       "    </tr>\n",
       "  </tbody>\n",
       "</table>\n",
       "</div>"
      ],
      "text/plain": [
       "       First          Beard Style\n",
       "Dad    Allen               Wizard\n",
       "Son     Ryan         Battle Dwarf\n",
       "Mom  Michele                 None\n",
       "Son    Allen  Middle-class Hobbit\n",
       "Dog   BamBam                  NaN"
      ]
     },
     "execution_count": 38,
     "metadata": {},
     "output_type": "execute_result"
    }
   ],
   "source": [
    "fam_df.loc[\"Dad\":\"Dog\", [\"First\", \"Beard Style\"]] # mix slice object with list of labels"
   ]
  },
  {
   "cell_type": "markdown",
   "metadata": {},
   "source": [
    "##### Example 2.7 (Access with Boolean Array - Series):"
   ]
  },
  {
   "cell_type": "code",
   "execution_count": 39,
   "metadata": {},
   "outputs": [
    {
     "data": {
      "text/plain": [
       "a    3\n",
       "b    4\n",
       "c    5\n",
       "d    6\n",
       "4    7\n",
       "dtype: int64"
      ]
     },
     "execution_count": 39,
     "metadata": {},
     "output_type": "execute_result"
    }
   ],
   "source": [
    "series_1"
   ]
  },
  {
   "cell_type": "code",
   "execution_count": 40,
   "metadata": {},
   "outputs": [
    {
     "data": {
      "text/plain": [
       "False"
      ]
     },
     "execution_count": 40,
     "metadata": {},
     "output_type": "execute_result"
    }
   ],
   "source": [
    "series_1.loc[\"a\"] > 5"
   ]
  },
  {
   "cell_type": "code",
   "execution_count": 41,
   "metadata": {},
   "outputs": [
    {
     "data": {
      "text/plain": [
       "a    False\n",
       "b    False\n",
       "c    False\n",
       "d     True\n",
       "4     True\n",
       "dtype: bool"
      ]
     },
     "execution_count": 41,
     "metadata": {},
     "output_type": "execute_result"
    }
   ],
   "source": [
    "series_1 > 5"
   ]
  },
  {
   "cell_type": "code",
   "execution_count": 42,
   "metadata": {},
   "outputs": [
    {
     "data": {
      "text/plain": [
       "d    6\n",
       "4    7\n",
       "dtype: int64"
      ]
     },
     "execution_count": 42,
     "metadata": {},
     "output_type": "execute_result"
    }
   ],
   "source": [
    "series_1[series_1 > 5]"
   ]
  },
  {
   "cell_type": "markdown",
   "metadata": {},
   "source": [
    "##### Example 2.8 (Access with Boolean Array - DataFrame):"
   ]
  },
  {
   "cell_type": "code",
   "execution_count": 46,
   "metadata": {},
   "outputs": [
    {
     "data": {
      "text/html": [
       "<div>\n",
       "<style scoped>\n",
       "    .dataframe tbody tr th:only-of-type {\n",
       "        vertical-align: middle;\n",
       "    }\n",
       "\n",
       "    .dataframe tbody tr th {\n",
       "        vertical-align: top;\n",
       "    }\n",
       "\n",
       "    .dataframe thead th {\n",
       "        text-align: right;\n",
       "    }\n",
       "</style>\n",
       "<table border=\"1\" class=\"dataframe\">\n",
       "  <thead>\n",
       "    <tr style=\"text-align: right;\">\n",
       "      <th></th>\n",
       "      <th>Games Played</th>\n",
       "      <th>Games Won</th>\n",
       "      <th>Game Time</th>\n",
       "    </tr>\n",
       "    <tr>\n",
       "      <th>Name</th>\n",
       "      <th></th>\n",
       "      <th></th>\n",
       "      <th></th>\n",
       "    </tr>\n",
       "  </thead>\n",
       "  <tbody>\n",
       "    <tr>\n",
       "      <th>Cookie Monster</th>\n",
       "      <td>75</td>\n",
       "      <td>2</td>\n",
       "      <td>6</td>\n",
       "    </tr>\n",
       "    <tr>\n",
       "      <th>Darth Vader</th>\n",
       "      <td>6</td>\n",
       "      <td>100</td>\n",
       "      <td>0</td>\n",
       "    </tr>\n",
       "    <tr>\n",
       "      <th>Link</th>\n",
       "      <td>100</td>\n",
       "      <td>100</td>\n",
       "      <td>100</td>\n",
       "    </tr>\n",
       "    <tr>\n",
       "      <th>Max</th>\n",
       "      <td>14</td>\n",
       "      <td>11</td>\n",
       "      <td>237</td>\n",
       "    </tr>\n",
       "  </tbody>\n",
       "</table>\n",
       "</div>"
      ],
      "text/plain": [
       "                Games Played  Games Won  Game Time\n",
       "Name                                              \n",
       "Cookie Monster            75          2          6\n",
       "Darth Vader                6        100          0\n",
       "Link                     100        100        100\n",
       "Max                       14         11        237"
      ]
     },
     "execution_count": 46,
     "metadata": {},
     "output_type": "execute_result"
    }
   ],
   "source": [
    "my_df = pd.read_csv('csv_file_2.csv', index_col = 0)\n",
    "my_df"
   ]
  },
  {
   "cell_type": "code",
   "execution_count": 47,
   "metadata": {},
   "outputs": [
    {
     "data": {
      "text/plain": [
       "Name\n",
       "Cookie Monster    False\n",
       "Darth Vader        True\n",
       "Link               True\n",
       "Max               False\n",
       "Name: Games Won, dtype: bool"
      ]
     },
     "execution_count": 47,
     "metadata": {},
     "output_type": "execute_result"
    }
   ],
   "source": [
    "my_df.loc[:, \"Games Won\"] > 30"
   ]
  },
  {
   "cell_type": "code",
   "execution_count": 49,
   "metadata": {},
   "outputs": [
    {
     "data": {
      "text/html": [
       "<div>\n",
       "<style scoped>\n",
       "    .dataframe tbody tr th:only-of-type {\n",
       "        vertical-align: middle;\n",
       "    }\n",
       "\n",
       "    .dataframe tbody tr th {\n",
       "        vertical-align: top;\n",
       "    }\n",
       "\n",
       "    .dataframe thead th {\n",
       "        text-align: right;\n",
       "    }\n",
       "</style>\n",
       "<table border=\"1\" class=\"dataframe\">\n",
       "  <thead>\n",
       "    <tr style=\"text-align: right;\">\n",
       "      <th></th>\n",
       "      <th>Games Played</th>\n",
       "      <th>Games Won</th>\n",
       "      <th>Game Time</th>\n",
       "    </tr>\n",
       "    <tr>\n",
       "      <th>Name</th>\n",
       "      <th></th>\n",
       "      <th></th>\n",
       "      <th></th>\n",
       "    </tr>\n",
       "  </thead>\n",
       "  <tbody>\n",
       "    <tr>\n",
       "      <th>Darth Vader</th>\n",
       "      <td>6</td>\n",
       "      <td>100</td>\n",
       "      <td>0</td>\n",
       "    </tr>\n",
       "    <tr>\n",
       "      <th>Link</th>\n",
       "      <td>100</td>\n",
       "      <td>100</td>\n",
       "      <td>100</td>\n",
       "    </tr>\n",
       "  </tbody>\n",
       "</table>\n",
       "</div>"
      ],
      "text/plain": [
       "             Games Played  Games Won  Game Time\n",
       "Name                                           \n",
       "Darth Vader             6        100          0\n",
       "Link                  100        100        100"
      ]
     },
     "execution_count": 49,
     "metadata": {},
     "output_type": "execute_result"
    }
   ],
   "source": [
    "my_df.loc[my_df.loc[:, \"Games Won\"] >30]"
   ]
  },
  {
   "cell_type": "markdown",
   "metadata": {},
   "source": [
    "##### Example 2.9 (Access Scalar Values):\n",
    "\n",
    "Indexing the traditional way as we saw above is very versatile, but that comes with a downside - which is that it takes a bit of time to figure out which of the many options are being asked. If you want to only access a __[scalar value](https://docs.scipy.org/doc/numpy/reference/arrays.scalars.html#arrays-scalars)__ using position indexing, the best (and fastest) way it to use the `at` method. This method works in the same way as `loc`, in that it requires labels as arguments and not integers. "
   ]
  },
  {
   "cell_type": "code",
   "execution_count": 50,
   "metadata": {
    "scrolled": true
   },
   "outputs": [
    {
     "data": {
      "text/plain": [
       "100"
      ]
     },
     "execution_count": 50,
     "metadata": {},
     "output_type": "execute_result"
    }
   ],
   "source": [
    "my_df.loc[\"Darth Vader\", \"Games Won\"] # method 1"
   ]
  },
  {
   "cell_type": "code",
   "execution_count": 51,
   "metadata": {},
   "outputs": [
    {
     "data": {
      "text/plain": [
       "100"
      ]
     },
     "execution_count": 51,
     "metadata": {},
     "output_type": "execute_result"
    }
   ],
   "source": [
    "my_df.at[\"Darth Vader\", \"Games Won\"] # method 2"
   ]
  },
  {
   "cell_type": "code",
   "execution_count": 52,
   "metadata": {},
   "outputs": [
    {
     "data": {
      "text/plain": [
       "Middle          James\n",
       "Beard Style    Wizard\n",
       "Name: Dad, dtype: object"
      ]
     },
     "execution_count": 52,
     "metadata": {},
     "output_type": "execute_result"
    }
   ],
   "source": [
    "fam_df.loc[\"Dad\", \"Middle\":] # non scalar value is okay for .loc "
   ]
  },
  {
   "cell_type": "code",
   "execution_count": 54,
   "metadata": {},
   "outputs": [],
   "source": [
    "# fam_df.at[\"Dad\", \"Middle\":] # non scalar value is not okay for .at"
   ]
  },
  {
   "cell_type": "markdown",
   "metadata": {},
   "source": [
    "#### Part 3 (Indexing Method 3 - Select by Integer Location):"
   ]
  },
  {
   "cell_type": "code",
   "execution_count": 55,
   "metadata": {
    "scrolled": true
   },
   "outputs": [
    {
     "data": {
      "text/plain": [
       "a    3\n",
       "b    4\n",
       "c    5\n",
       "d    6\n",
       "4    7\n",
       "dtype: int64"
      ]
     },
     "execution_count": 55,
     "metadata": {},
     "output_type": "execute_result"
    }
   ],
   "source": [
    "series_1 = pd.Series(np.arange(3,8), index = [\"a\", \"b\", \"c\", \"d\", 4])\n",
    "series_1"
   ]
  },
  {
   "cell_type": "code",
   "execution_count": 56,
   "metadata": {},
   "outputs": [
    {
     "data": {
      "text/html": [
       "<div>\n",
       "<style scoped>\n",
       "    .dataframe tbody tr th:only-of-type {\n",
       "        vertical-align: middle;\n",
       "    }\n",
       "\n",
       "    .dataframe tbody tr th {\n",
       "        vertical-align: top;\n",
       "    }\n",
       "\n",
       "    .dataframe thead th {\n",
       "        text-align: right;\n",
       "    }\n",
       "</style>\n",
       "<table border=\"1\" class=\"dataframe\">\n",
       "  <thead>\n",
       "    <tr style=\"text-align: right;\">\n",
       "      <th></th>\n",
       "      <th>First</th>\n",
       "      <th>Middle</th>\n",
       "      <th>Beard Style</th>\n",
       "    </tr>\n",
       "  </thead>\n",
       "  <tbody>\n",
       "    <tr>\n",
       "      <th>Dad</th>\n",
       "      <td>Allen</td>\n",
       "      <td>James</td>\n",
       "      <td>Wizard</td>\n",
       "    </tr>\n",
       "    <tr>\n",
       "      <th>Son</th>\n",
       "      <td>Ryan</td>\n",
       "      <td>Patrick</td>\n",
       "      <td>Battle Dwarf</td>\n",
       "    </tr>\n",
       "    <tr>\n",
       "      <th>Mom</th>\n",
       "      <td>Michele</td>\n",
       "      <td>Leigh</td>\n",
       "      <td>None</td>\n",
       "    </tr>\n",
       "    <tr>\n",
       "      <th>Son</th>\n",
       "      <td>Allen</td>\n",
       "      <td>Michael</td>\n",
       "      <td>Middle-class Hobbit</td>\n",
       "    </tr>\n",
       "    <tr>\n",
       "      <th>Dog</th>\n",
       "      <td>BamBam</td>\n",
       "      <td>Doggo</td>\n",
       "      <td>NaN</td>\n",
       "    </tr>\n",
       "  </tbody>\n",
       "</table>\n",
       "</div>"
      ],
      "text/plain": [
       "       First   Middle          Beard Style\n",
       "Dad    Allen    James               Wizard\n",
       "Son     Ryan  Patrick         Battle Dwarf\n",
       "Mom  Michele    Leigh                 None\n",
       "Son    Allen  Michael  Middle-class Hobbit\n",
       "Dog   BamBam    Doggo                  NaN"
      ]
     },
     "execution_count": 56,
     "metadata": {},
     "output_type": "execute_result"
    }
   ],
   "source": [
    "employee_df = my_df = pd.read_csv(\"csv_file_for_pandas.csv\", index_col = 0)\n",
    "employee_df"
   ]
  },
  {
   "cell_type": "markdown",
   "metadata": {},
   "source": [
    "##### Example 3.1 ( Access with Integer - Series):"
   ]
  },
  {
   "cell_type": "code",
   "execution_count": 57,
   "metadata": {},
   "outputs": [
    {
     "data": {
      "text/plain": [
       "5"
      ]
     },
     "execution_count": 57,
     "metadata": {},
     "output_type": "execute_result"
    }
   ],
   "source": [
    "series_1.iloc[2] # 3rd row "
   ]
  },
  {
   "cell_type": "code",
   "execution_count": 58,
   "metadata": {},
   "outputs": [
    {
     "data": {
      "text/plain": [
       "5"
      ]
     },
     "execution_count": 58,
     "metadata": {},
     "output_type": "execute_result"
    }
   ],
   "source": [
    "series_1.loc[\"c\"]"
   ]
  },
  {
   "cell_type": "code",
   "execution_count": 59,
   "metadata": {},
   "outputs": [
    {
     "data": {
      "text/plain": [
       "First          Michele\n",
       "Middle           Leigh\n",
       "Beard Style       None\n",
       "Name: Mom, dtype: object"
      ]
     },
     "execution_count": 59,
     "metadata": {},
     "output_type": "execute_result"
    }
   ],
   "source": [
    "employee_df.iloc[2]"
   ]
  },
  {
   "cell_type": "markdown",
   "metadata": {},
   "source": [
    "##### Example 3.2 (Access with Integer - DataFrame):"
   ]
  },
  {
   "cell_type": "code",
   "execution_count": 61,
   "metadata": {},
   "outputs": [
    {
     "data": {
      "text/plain": [
       "'Battle Dwarf'"
      ]
     },
     "execution_count": 61,
     "metadata": {},
     "output_type": "execute_result"
    }
   ],
   "source": [
    "employee_df.iloc[1, 2] # 2nd row, 3rd column"
   ]
  },
  {
   "cell_type": "code",
   "execution_count": 62,
   "metadata": {},
   "outputs": [
    {
     "data": {
      "text/plain": [
       "Son           Battle Dwarf\n",
       "Son    Middle-class Hobbit\n",
       "Name: Beard Style, dtype: object"
      ]
     },
     "execution_count": 62,
     "metadata": {},
     "output_type": "execute_result"
    }
   ],
   "source": [
    "employee_df.loc[\"Son\",\"Beard Style\"]"
   ]
  },
  {
   "cell_type": "markdown",
   "metadata": {},
   "source": [
    "##### Example 3.3 (Access with List of Integers - Series):"
   ]
  },
  {
   "cell_type": "code",
   "execution_count": 63,
   "metadata": {
    "scrolled": true
   },
   "outputs": [
    {
     "data": {
      "text/plain": [
       "b    4\n",
       "c    5\n",
       "4    7\n",
       "dtype: int64"
      ]
     },
     "execution_count": 63,
     "metadata": {},
     "output_type": "execute_result"
    }
   ],
   "source": [
    "series_1.iloc[[1,2,4]] # 2nd, 3rd and 5th rows"
   ]
  },
  {
   "cell_type": "markdown",
   "metadata": {},
   "source": [
    "##### Example 3.4 (Access with List of Integers - DataFrame):"
   ]
  },
  {
   "cell_type": "code",
   "execution_count": 64,
   "metadata": {},
   "outputs": [
    {
     "data": {
      "text/html": [
       "<div>\n",
       "<style scoped>\n",
       "    .dataframe tbody tr th:only-of-type {\n",
       "        vertical-align: middle;\n",
       "    }\n",
       "\n",
       "    .dataframe tbody tr th {\n",
       "        vertical-align: top;\n",
       "    }\n",
       "\n",
       "    .dataframe thead th {\n",
       "        text-align: right;\n",
       "    }\n",
       "</style>\n",
       "<table border=\"1\" class=\"dataframe\">\n",
       "  <thead>\n",
       "    <tr style=\"text-align: right;\">\n",
       "      <th></th>\n",
       "      <th>Middle</th>\n",
       "      <th>Beard Style</th>\n",
       "    </tr>\n",
       "  </thead>\n",
       "  <tbody>\n",
       "    <tr>\n",
       "      <th>Dad</th>\n",
       "      <td>James</td>\n",
       "      <td>Wizard</td>\n",
       "    </tr>\n",
       "    <tr>\n",
       "      <th>Mom</th>\n",
       "      <td>Leigh</td>\n",
       "      <td>None</td>\n",
       "    </tr>\n",
       "  </tbody>\n",
       "</table>\n",
       "</div>"
      ],
      "text/plain": [
       "    Middle Beard Style\n",
       "Dad  James      Wizard\n",
       "Mom  Leigh        None"
      ]
     },
     "execution_count": 64,
     "metadata": {},
     "output_type": "execute_result"
    }
   ],
   "source": [
    "employee_df.iloc[[0,2], [1,2]] # 1st row and 3rd row, 2nd and 3rd columns"
   ]
  },
  {
   "cell_type": "markdown",
   "metadata": {},
   "source": [
    "##### Example 3.5 (Access with Slice Object - Series):"
   ]
  },
  {
   "cell_type": "code",
   "execution_count": 65,
   "metadata": {
    "scrolled": true
   },
   "outputs": [
    {
     "data": {
      "text/plain": [
       "c    5\n",
       "d    6\n",
       "dtype: int64"
      ]
     },
     "execution_count": 65,
     "metadata": {},
     "output_type": "execute_result"
    }
   ],
   "source": [
    "series_1.iloc[2:4] # 3rd and 4th rows"
   ]
  },
  {
   "cell_type": "code",
   "execution_count": 66,
   "metadata": {},
   "outputs": [
    {
     "data": {
      "text/plain": [
       "c    5\n",
       "d    6\n",
       "4    7\n",
       "dtype: int64"
      ]
     },
     "execution_count": 66,
     "metadata": {},
     "output_type": "execute_result"
    }
   ],
   "source": [
    "series_1.iloc[2:10] # out-of-bound indexing is handled gracefully like we saw in Lecture 2 "
   ]
  },
  {
   "cell_type": "code",
   "execution_count": 67,
   "metadata": {},
   "outputs": [
    {
     "data": {
      "text/plain": [
       "Series([], dtype: int64)"
      ]
     },
     "execution_count": 67,
     "metadata": {},
     "output_type": "execute_result"
    }
   ],
   "source": [
    "series_1.iloc[10:] # out-of-bound indexing is handled gracefully like we saw in Lecture 2 "
   ]
  },
  {
   "cell_type": "markdown",
   "metadata": {},
   "source": [
    "##### Example 3.6 (Access with Slice Object - DataFrame):"
   ]
  },
  {
   "cell_type": "code",
   "execution_count": 69,
   "metadata": {},
   "outputs": [
    {
     "data": {
      "text/html": [
       "<div>\n",
       "<style scoped>\n",
       "    .dataframe tbody tr th:only-of-type {\n",
       "        vertical-align: middle;\n",
       "    }\n",
       "\n",
       "    .dataframe tbody tr th {\n",
       "        vertical-align: top;\n",
       "    }\n",
       "\n",
       "    .dataframe thead th {\n",
       "        text-align: right;\n",
       "    }\n",
       "</style>\n",
       "<table border=\"1\" class=\"dataframe\">\n",
       "  <thead>\n",
       "    <tr style=\"text-align: right;\">\n",
       "      <th></th>\n",
       "      <th>First</th>\n",
       "      <th>Middle</th>\n",
       "      <th>Beard Style</th>\n",
       "    </tr>\n",
       "  </thead>\n",
       "  <tbody>\n",
       "    <tr>\n",
       "      <th>Son</th>\n",
       "      <td>Ryan</td>\n",
       "      <td>Patrick</td>\n",
       "      <td>Battle Dwarf</td>\n",
       "    </tr>\n",
       "    <tr>\n",
       "      <th>Mom</th>\n",
       "      <td>Michele</td>\n",
       "      <td>Leigh</td>\n",
       "      <td>None</td>\n",
       "    </tr>\n",
       "    <tr>\n",
       "      <th>Son</th>\n",
       "      <td>Allen</td>\n",
       "      <td>Michael</td>\n",
       "      <td>Middle-class Hobbit</td>\n",
       "    </tr>\n",
       "    <tr>\n",
       "      <th>Dog</th>\n",
       "      <td>BamBam</td>\n",
       "      <td>Doggo</td>\n",
       "      <td>NaN</td>\n",
       "    </tr>\n",
       "  </tbody>\n",
       "</table>\n",
       "</div>"
      ],
      "text/plain": [
       "       First   Middle          Beard Style\n",
       "Son     Ryan  Patrick         Battle Dwarf\n",
       "Mom  Michele    Leigh                 None\n",
       "Son    Allen  Michael  Middle-class Hobbit\n",
       "Dog   BamBam    Doggo                  NaN"
      ]
     },
     "execution_count": 69,
     "metadata": {},
     "output_type": "execute_result"
    }
   ],
   "source": [
    "employee_df.iloc[1:, :] # 2nd row and all following rows, all columns"
   ]
  },
  {
   "cell_type": "code",
   "execution_count": 71,
   "metadata": {},
   "outputs": [
    {
     "data": {
      "text/html": [
       "<div>\n",
       "<style scoped>\n",
       "    .dataframe tbody tr th:only-of-type {\n",
       "        vertical-align: middle;\n",
       "    }\n",
       "\n",
       "    .dataframe tbody tr th {\n",
       "        vertical-align: top;\n",
       "    }\n",
       "\n",
       "    .dataframe thead th {\n",
       "        text-align: right;\n",
       "    }\n",
       "</style>\n",
       "<table border=\"1\" class=\"dataframe\">\n",
       "  <thead>\n",
       "    <tr style=\"text-align: right;\">\n",
       "      <th></th>\n",
       "      <th>First</th>\n",
       "      <th>Middle</th>\n",
       "      <th>Beard Style</th>\n",
       "    </tr>\n",
       "  </thead>\n",
       "  <tbody>\n",
       "    <tr>\n",
       "      <th>Son</th>\n",
       "      <td>Ryan</td>\n",
       "      <td>Patrick</td>\n",
       "      <td>Battle Dwarf</td>\n",
       "    </tr>\n",
       "    <tr>\n",
       "      <th>Mom</th>\n",
       "      <td>Michele</td>\n",
       "      <td>Leigh</td>\n",
       "      <td>None</td>\n",
       "    </tr>\n",
       "    <tr>\n",
       "      <th>Son</th>\n",
       "      <td>Allen</td>\n",
       "      <td>Michael</td>\n",
       "      <td>Middle-class Hobbit</td>\n",
       "    </tr>\n",
       "    <tr>\n",
       "      <th>Dog</th>\n",
       "      <td>BamBam</td>\n",
       "      <td>Doggo</td>\n",
       "      <td>NaN</td>\n",
       "    </tr>\n",
       "  </tbody>\n",
       "</table>\n",
       "</div>"
      ],
      "text/plain": [
       "       First   Middle          Beard Style\n",
       "Son     Ryan  Patrick         Battle Dwarf\n",
       "Mom  Michele    Leigh                 None\n",
       "Son    Allen  Michael  Middle-class Hobbit\n",
       "Dog   BamBam    Doggo                  NaN"
      ]
     },
     "execution_count": 71,
     "metadata": {},
     "output_type": "execute_result"
    }
   ],
   "source": [
    "employee_df.iloc[1:, [0,1,2]] # mix of slice object and list of integers"
   ]
  },
  {
   "cell_type": "code",
   "execution_count": 72,
   "metadata": {
    "scrolled": false
   },
   "outputs": [
    {
     "data": {
      "text/html": [
       "<div>\n",
       "<style scoped>\n",
       "    .dataframe tbody tr th:only-of-type {\n",
       "        vertical-align: middle;\n",
       "    }\n",
       "\n",
       "    .dataframe tbody tr th {\n",
       "        vertical-align: top;\n",
       "    }\n",
       "\n",
       "    .dataframe thead th {\n",
       "        text-align: right;\n",
       "    }\n",
       "</style>\n",
       "<table border=\"1\" class=\"dataframe\">\n",
       "  <thead>\n",
       "    <tr style=\"text-align: right;\">\n",
       "      <th></th>\n",
       "      <th>Beard Style</th>\n",
       "    </tr>\n",
       "  </thead>\n",
       "  <tbody>\n",
       "    <tr>\n",
       "      <th>Dad</th>\n",
       "      <td>Wizard</td>\n",
       "    </tr>\n",
       "    <tr>\n",
       "      <th>Son</th>\n",
       "      <td>Battle Dwarf</td>\n",
       "    </tr>\n",
       "    <tr>\n",
       "      <th>Mom</th>\n",
       "      <td>None</td>\n",
       "    </tr>\n",
       "    <tr>\n",
       "      <th>Son</th>\n",
       "      <td>Middle-class Hobbit</td>\n",
       "    </tr>\n",
       "    <tr>\n",
       "      <th>Dog</th>\n",
       "      <td>NaN</td>\n",
       "    </tr>\n",
       "  </tbody>\n",
       "</table>\n",
       "</div>"
      ],
      "text/plain": [
       "             Beard Style\n",
       "Dad               Wizard\n",
       "Son         Battle Dwarf\n",
       "Mom                 None\n",
       "Son  Middle-class Hobbit\n",
       "Dog                  NaN"
      ]
     },
     "execution_count": 72,
     "metadata": {},
     "output_type": "execute_result"
    }
   ],
   "source": [
    "employee_df.iloc[:, 2:8] # out-of-bound indexing is handled gracefully like we saw in Lecture 2"
   ]
  },
  {
   "cell_type": "markdown",
   "metadata": {},
   "source": [
    "##### Example 3.7 (Access with Boolean Array - Series):"
   ]
  },
  {
   "cell_type": "code",
   "execution_count": 73,
   "metadata": {},
   "outputs": [
    {
     "data": {
      "text/plain": [
       "True"
      ]
     },
     "execution_count": 73,
     "metadata": {},
     "output_type": "execute_result"
    }
   ],
   "source": [
    "series_1.iloc[2] > 1"
   ]
  },
  {
   "cell_type": "markdown",
   "metadata": {},
   "source": [
    "##### Example 3.8 (Access with Boolean Array - DataFrame):"
   ]
  },
  {
   "cell_type": "code",
   "execution_count": 76,
   "metadata": {},
   "outputs": [
    {
     "data": {
      "text/plain": [
       "Name\n",
       "Cookie Monster    False\n",
       "Darth Vader       False\n",
       "Link               True\n",
       "Max                True\n",
       "Name: Game Time, dtype: bool"
      ]
     },
     "execution_count": 76,
     "metadata": {},
     "output_type": "execute_result"
    }
   ],
   "source": [
    "my_df = pd.read_csv(\"csv_file_2.csv\", index_col = 0)\n",
    "my_df.iloc[:, 2] > 35"
   ]
  },
  {
   "cell_type": "markdown",
   "metadata": {},
   "source": [
    "##### Example 3.9 (Access Scalar Values):\n",
    "\n",
    "Indexing the traditional way as we saw above is very versatile, but that comes with a downside - which is that it takes a bit of time to figure out which of the many options are being asked. If you want to only access a __[scalar value](https://docs.scipy.org/doc/numpy/reference/arrays.scalars.html#arrays-scalars)__ with integer indexing, the best (and fastest) way it to use the `iat` method. This method works in the same way as `iloc`, in that it requires labels as arguments and not integers. "
   ]
  },
  {
   "cell_type": "code",
   "execution_count": 77,
   "metadata": {
    "scrolled": true
   },
   "outputs": [
    {
     "data": {
      "text/plain": [
       "'None'"
      ]
     },
     "execution_count": 77,
     "metadata": {},
     "output_type": "execute_result"
    }
   ],
   "source": [
    "employee_df.iloc[2, 2] # method 1"
   ]
  },
  {
   "cell_type": "code",
   "execution_count": 78,
   "metadata": {},
   "outputs": [
    {
     "data": {
      "text/plain": [
       "'None'"
      ]
     },
     "execution_count": 78,
     "metadata": {},
     "output_type": "execute_result"
    }
   ],
   "source": [
    "employee_df.iat[2, 2] # method 2"
   ]
  },
  {
   "cell_type": "code",
   "execution_count": 79,
   "metadata": {},
   "outputs": [
    {
     "data": {
      "text/html": [
       "<div>\n",
       "<style scoped>\n",
       "    .dataframe tbody tr th:only-of-type {\n",
       "        vertical-align: middle;\n",
       "    }\n",
       "\n",
       "    .dataframe tbody tr th {\n",
       "        vertical-align: top;\n",
       "    }\n",
       "\n",
       "    .dataframe thead th {\n",
       "        text-align: right;\n",
       "    }\n",
       "</style>\n",
       "<table border=\"1\" class=\"dataframe\">\n",
       "  <thead>\n",
       "    <tr style=\"text-align: right;\">\n",
       "      <th></th>\n",
       "      <th>First</th>\n",
       "      <th>Beard Style</th>\n",
       "    </tr>\n",
       "  </thead>\n",
       "  <tbody>\n",
       "    <tr>\n",
       "      <th>Dad</th>\n",
       "      <td>Allen</td>\n",
       "      <td>Wizard</td>\n",
       "    </tr>\n",
       "    <tr>\n",
       "      <th>Son</th>\n",
       "      <td>Ryan</td>\n",
       "      <td>Battle Dwarf</td>\n",
       "    </tr>\n",
       "  </tbody>\n",
       "</table>\n",
       "</div>"
      ],
      "text/plain": [
       "     First   Beard Style\n",
       "Dad  Allen        Wizard\n",
       "Son   Ryan  Battle Dwarf"
      ]
     },
     "execution_count": 79,
     "metadata": {},
     "output_type": "execute_result"
    }
   ],
   "source": [
    "employee_df.iloc[0:2, [0,2]] # non scalar value is okay for .iloc "
   ]
  },
  {
   "cell_type": "code",
   "execution_count": 80,
   "metadata": {},
   "outputs": [],
   "source": [
    "# employee_df.iat[0:2, [0,2]] # non scalar value is not okay for .at"
   ]
  },
  {
   "cell_type": "markdown",
   "metadata": {},
   "source": [
    "##### Problem 4:\n",
    "\n",
    "Using the Pandas DataFrame previously created (*prob2_df*), print the:\n",
    "    \n",
    "    * Data in the column \"Population\"\n",
    "    * The second row\n",
    "    * The size of the country in the last row"
   ]
  },
  {
   "cell_type": "code",
   "execution_count": 147,
   "metadata": {},
   "outputs": [
    {
     "name": "stdout",
     "output_type": "stream",
     "text": [
      "0    1409517397\n",
      "1    1339180127\n",
      "2     324459463\n",
      "3     263991379\n",
      "4     209288278\n",
      "Name: Population, dtype: int64 \n",
      "\n",
      "\n",
      "  Country Name  Population     Size\n",
      "1        India  1339180127  3287263 \n",
      "\n",
      "\n",
      "The population of Brazil is: 8511965\n"
     ]
    }
   ],
   "source": [
    "### Write code here\n",
    "\n",
    "print(prob2_df.iloc[:,1], \"\\n\\n\")\n",
    "print(prob2_df.iloc[[1],:], \"\\n\\n\")\n",
    "print(\"The population of Brazil is:\",prob2_df.iat[4,2])"
   ]
  },
  {
   "cell_type": "markdown",
   "metadata": {},
   "source": [
    "#### Part 4 (Indexing Method 4 - Slicing Ranges):"
   ]
  },
  {
   "cell_type": "code",
   "execution_count": 128,
   "metadata": {
    "scrolled": true
   },
   "outputs": [
    {
     "data": {
      "text/plain": [
       "a    3\n",
       "b    4\n",
       "c    5\n",
       "d    6\n",
       "4    7\n",
       "dtype: int64"
      ]
     },
     "execution_count": 128,
     "metadata": {},
     "output_type": "execute_result"
    }
   ],
   "source": [
    "series_1 = pd.Series(np.arange(3,8), index = [\"a\", \"b\", \"c\", \"d\", 4])\n",
    "series_1"
   ]
  },
  {
   "cell_type": "markdown",
   "metadata": {},
   "source": [
    "##### Example 4.1 (Slicing Ranges - Series):"
   ]
  },
  {
   "cell_type": "code",
   "execution_count": 129,
   "metadata": {},
   "outputs": [
    {
     "data": {
      "text/plain": [
       "c    5\n",
       "d    6\n",
       "dtype: int64"
      ]
     },
     "execution_count": 129,
     "metadata": {},
     "output_type": "execute_result"
    }
   ],
   "source": [
    "# start = 2, stop = 5, step = 1\n",
    "series_1[2:4] # 3rd row to 5th row (not inclusive) "
   ]
  },
  {
   "cell_type": "code",
   "execution_count": 130,
   "metadata": {},
   "outputs": [
    {
     "data": {
      "text/plain": [
       "a    3\n",
       "c    5\n",
       "4    7\n",
       "dtype: int64"
      ]
     },
     "execution_count": 130,
     "metadata": {},
     "output_type": "execute_result"
    }
   ],
   "source": [
    "# start = 0, stop = 4, step = 2\n",
    "series_1[::2] # every other row"
   ]
  },
  {
   "cell_type": "code",
   "execution_count": 131,
   "metadata": {},
   "outputs": [
    {
     "data": {
      "text/plain": [
       "4    7\n",
       "d    6\n",
       "c    5\n",
       "b    4\n",
       "a    3\n",
       "dtype: int64"
      ]
     },
     "execution_count": 131,
     "metadata": {},
     "output_type": "execute_result"
    }
   ],
   "source": [
    "# start = 4, stop = 0, step = -1 \n",
    "series_1[::-1] # reverse the rows "
   ]
  },
  {
   "cell_type": "markdown",
   "metadata": {},
   "source": [
    "##### Example 4.2 (Slicing Ranges - DataFrames):"
   ]
  },
  {
   "cell_type": "code",
   "execution_count": 138,
   "metadata": {},
   "outputs": [],
   "source": [
    "import csv\n",
    "my_csv = open('csv_file_for_pandas.csv', 'w+', newline='') #opening in the 'w+' mode truncates the file\n",
    "#alternatively, open it in 'w' mode and use my_csv.truncate()\n",
    "my_csv.truncate() # we'll do it anyway for good measure\n",
    "csv_writer = csv.writer(my_csv)\n",
    "csv_writer.writerow(['','First','Middle','Beard Style', 'Age'])\n",
    "csv_writer.writerow(['Dad','Allen','James','Wizard', '51'])\n",
    "csv_writer.writerow(['Son','Ryan','Patrick','Battle Dwarf', '25'])\n",
    "csv_writer.writerow(['Mom','Michele','Leigh','None','52'])\n",
    "csv_writer.writerow(['Son','Allen','Michael','Middle-class Hobbit','28'])\n",
    "csv_writer.writerow(['Dog','BamBam','Doggo','N/A','7'])\n",
    "my_csv.close()\n"
   ]
  },
  {
   "cell_type": "code",
   "execution_count": 139,
   "metadata": {},
   "outputs": [
    {
     "name": "stdout",
     "output_type": "stream",
     "text": [
      "<_csv.reader object at 0x1123afcf8>\n"
     ]
    },
    {
     "data": {
      "text/plain": [
       "[['', 'First', 'Middle', 'Beard Style', 'Age'],\n",
       " ['Dad', 'Allen', 'James', 'Wizard', '51'],\n",
       " ['Son', 'Ryan', 'Patrick', 'Battle Dwarf', '25'],\n",
       " ['Mom', 'Michele', 'Leigh', 'None', '52'],\n",
       " ['Son', 'Allen', 'Michael', 'Middle-class Hobbit', '28'],\n",
       " ['Dog', 'BamBam', 'Doggo', 'N/A', '7']]"
      ]
     },
     "execution_count": 139,
     "metadata": {},
     "output_type": "execute_result"
    }
   ],
   "source": [
    "my_csv = open(\"csv_file_for_pandas.csv\") \n",
    "csv_reader = csv.reader(my_csv)\n",
    "csv_data = list(csv_reader)\n",
    "print(csv_reader)\n",
    "csv_data"
   ]
  },
  {
   "cell_type": "code",
   "execution_count": 140,
   "metadata": {},
   "outputs": [
    {
     "data": {
      "text/html": [
       "<div>\n",
       "<style scoped>\n",
       "    .dataframe tbody tr th:only-of-type {\n",
       "        vertical-align: middle;\n",
       "    }\n",
       "\n",
       "    .dataframe tbody tr th {\n",
       "        vertical-align: top;\n",
       "    }\n",
       "\n",
       "    .dataframe thead th {\n",
       "        text-align: right;\n",
       "    }\n",
       "</style>\n",
       "<table border=\"1\" class=\"dataframe\">\n",
       "  <thead>\n",
       "    <tr style=\"text-align: right;\">\n",
       "      <th></th>\n",
       "      <th>First</th>\n",
       "      <th>Middle</th>\n",
       "      <th>Beard Style</th>\n",
       "      <th>Age</th>\n",
       "    </tr>\n",
       "  </thead>\n",
       "  <tbody>\n",
       "    <tr>\n",
       "      <th>Dad</th>\n",
       "      <td>Allen</td>\n",
       "      <td>James</td>\n",
       "      <td>Wizard</td>\n",
       "      <td>51</td>\n",
       "    </tr>\n",
       "    <tr>\n",
       "      <th>Son</th>\n",
       "      <td>Ryan</td>\n",
       "      <td>Patrick</td>\n",
       "      <td>Battle Dwarf</td>\n",
       "      <td>25</td>\n",
       "    </tr>\n",
       "    <tr>\n",
       "      <th>Mom</th>\n",
       "      <td>Michele</td>\n",
       "      <td>Leigh</td>\n",
       "      <td>None</td>\n",
       "      <td>52</td>\n",
       "    </tr>\n",
       "    <tr>\n",
       "      <th>Son</th>\n",
       "      <td>Allen</td>\n",
       "      <td>Michael</td>\n",
       "      <td>Middle-class Hobbit</td>\n",
       "      <td>28</td>\n",
       "    </tr>\n",
       "    <tr>\n",
       "      <th>Dog</th>\n",
       "      <td>BamBam</td>\n",
       "      <td>Doggo</td>\n",
       "      <td>NaN</td>\n",
       "      <td>7</td>\n",
       "    </tr>\n",
       "  </tbody>\n",
       "</table>\n",
       "</div>"
      ],
      "text/plain": [
       "       First   Middle          Beard Style  Age\n",
       "Dad    Allen    James               Wizard   51\n",
       "Son     Ryan  Patrick         Battle Dwarf   25\n",
       "Mom  Michele    Leigh                 None   52\n",
       "Son    Allen  Michael  Middle-class Hobbit   28\n",
       "Dog   BamBam    Doggo                  NaN    7"
      ]
     },
     "execution_count": 140,
     "metadata": {},
     "output_type": "execute_result"
    }
   ],
   "source": [
    "employee_df = my_df = pd.read_csv(\"csv_file_for_pandas.csv\", index_col = 0)\n",
    "employee_df"
   ]
  },
  {
   "cell_type": "code",
   "execution_count": 141,
   "metadata": {},
   "outputs": [
    {
     "data": {
      "text/html": [
       "<div>\n",
       "<style scoped>\n",
       "    .dataframe tbody tr th:only-of-type {\n",
       "        vertical-align: middle;\n",
       "    }\n",
       "\n",
       "    .dataframe tbody tr th {\n",
       "        vertical-align: top;\n",
       "    }\n",
       "\n",
       "    .dataframe thead th {\n",
       "        text-align: right;\n",
       "    }\n",
       "</style>\n",
       "<table border=\"1\" class=\"dataframe\">\n",
       "  <thead>\n",
       "    <tr style=\"text-align: right;\">\n",
       "      <th></th>\n",
       "      <th>First</th>\n",
       "      <th>Middle</th>\n",
       "      <th>Beard Style</th>\n",
       "      <th>Age</th>\n",
       "    </tr>\n",
       "  </thead>\n",
       "  <tbody>\n",
       "    <tr>\n",
       "      <th>Son</th>\n",
       "      <td>Ryan</td>\n",
       "      <td>Patrick</td>\n",
       "      <td>Battle Dwarf</td>\n",
       "      <td>25</td>\n",
       "    </tr>\n",
       "  </tbody>\n",
       "</table>\n",
       "</div>"
      ],
      "text/plain": [
       "    First   Middle   Beard Style  Age\n",
       "Son  Ryan  Patrick  Battle Dwarf   25"
      ]
     },
     "execution_count": 141,
     "metadata": {},
     "output_type": "execute_result"
    }
   ],
   "source": [
    "employee_df[1:2] # 2nd row, returns a DataFrame"
   ]
  },
  {
   "cell_type": "code",
   "execution_count": 142,
   "metadata": {},
   "outputs": [
    {
     "data": {
      "text/plain": [
       "First                  Ryan\n",
       "Middle              Patrick\n",
       "Beard Style    Battle Dwarf\n",
       "Age                      25\n",
       "Name: Son, dtype: object"
      ]
     },
     "execution_count": 142,
     "metadata": {},
     "output_type": "execute_result"
    }
   ],
   "source": [
    "employee_df.iloc[1] # 2nd row, returns a Series"
   ]
  },
  {
   "cell_type": "code",
   "execution_count": 143,
   "metadata": {},
   "outputs": [
    {
     "data": {
      "text/html": [
       "<div>\n",
       "<style scoped>\n",
       "    .dataframe tbody tr th:only-of-type {\n",
       "        vertical-align: middle;\n",
       "    }\n",
       "\n",
       "    .dataframe tbody tr th {\n",
       "        vertical-align: top;\n",
       "    }\n",
       "\n",
       "    .dataframe thead th {\n",
       "        text-align: right;\n",
       "    }\n",
       "</style>\n",
       "<table border=\"1\" class=\"dataframe\">\n",
       "  <thead>\n",
       "    <tr style=\"text-align: right;\">\n",
       "      <th></th>\n",
       "      <th>First</th>\n",
       "      <th>Middle</th>\n",
       "      <th>Beard Style</th>\n",
       "      <th>Age</th>\n",
       "    </tr>\n",
       "  </thead>\n",
       "  <tbody>\n",
       "    <tr>\n",
       "      <th>Dad</th>\n",
       "      <td>Allen</td>\n",
       "      <td>James</td>\n",
       "      <td>Wizard</td>\n",
       "      <td>51</td>\n",
       "    </tr>\n",
       "    <tr>\n",
       "      <th>Mom</th>\n",
       "      <td>Michele</td>\n",
       "      <td>Leigh</td>\n",
       "      <td>None</td>\n",
       "      <td>52</td>\n",
       "    </tr>\n",
       "    <tr>\n",
       "      <th>Dog</th>\n",
       "      <td>BamBam</td>\n",
       "      <td>Doggo</td>\n",
       "      <td>NaN</td>\n",
       "      <td>7</td>\n",
       "    </tr>\n",
       "  </tbody>\n",
       "</table>\n",
       "</div>"
      ],
      "text/plain": [
       "       First Middle Beard Style  Age\n",
       "Dad    Allen  James      Wizard   51\n",
       "Mom  Michele  Leigh        None   52\n",
       "Dog   BamBam  Doggo         NaN    7"
      ]
     },
     "execution_count": 143,
     "metadata": {},
     "output_type": "execute_result"
    }
   ],
   "source": [
    "employee_df[::2] # every other row "
   ]
  },
  {
   "cell_type": "code",
   "execution_count": 144,
   "metadata": {},
   "outputs": [
    {
     "data": {
      "text/html": [
       "<div>\n",
       "<style scoped>\n",
       "    .dataframe tbody tr th:only-of-type {\n",
       "        vertical-align: middle;\n",
       "    }\n",
       "\n",
       "    .dataframe tbody tr th {\n",
       "        vertical-align: top;\n",
       "    }\n",
       "\n",
       "    .dataframe thead th {\n",
       "        text-align: right;\n",
       "    }\n",
       "</style>\n",
       "<table border=\"1\" class=\"dataframe\">\n",
       "  <thead>\n",
       "    <tr style=\"text-align: right;\">\n",
       "      <th></th>\n",
       "      <th>First</th>\n",
       "      <th>Middle</th>\n",
       "      <th>Beard Style</th>\n",
       "      <th>Age</th>\n",
       "    </tr>\n",
       "  </thead>\n",
       "  <tbody>\n",
       "    <tr>\n",
       "      <th>Dog</th>\n",
       "      <td>BamBam</td>\n",
       "      <td>Doggo</td>\n",
       "      <td>NaN</td>\n",
       "      <td>7</td>\n",
       "    </tr>\n",
       "    <tr>\n",
       "      <th>Son</th>\n",
       "      <td>Allen</td>\n",
       "      <td>Michael</td>\n",
       "      <td>Middle-class Hobbit</td>\n",
       "      <td>28</td>\n",
       "    </tr>\n",
       "    <tr>\n",
       "      <th>Mom</th>\n",
       "      <td>Michele</td>\n",
       "      <td>Leigh</td>\n",
       "      <td>None</td>\n",
       "      <td>52</td>\n",
       "    </tr>\n",
       "    <tr>\n",
       "      <th>Son</th>\n",
       "      <td>Ryan</td>\n",
       "      <td>Patrick</td>\n",
       "      <td>Battle Dwarf</td>\n",
       "      <td>25</td>\n",
       "    </tr>\n",
       "    <tr>\n",
       "      <th>Dad</th>\n",
       "      <td>Allen</td>\n",
       "      <td>James</td>\n",
       "      <td>Wizard</td>\n",
       "      <td>51</td>\n",
       "    </tr>\n",
       "  </tbody>\n",
       "</table>\n",
       "</div>"
      ],
      "text/plain": [
       "       First   Middle          Beard Style  Age\n",
       "Dog   BamBam    Doggo                  NaN    7\n",
       "Son    Allen  Michael  Middle-class Hobbit   28\n",
       "Mom  Michele    Leigh                 None   52\n",
       "Son     Ryan  Patrick         Battle Dwarf   25\n",
       "Dad    Allen    James               Wizard   51"
      ]
     },
     "execution_count": 144,
     "metadata": {},
     "output_type": "execute_result"
    }
   ],
   "source": [
    "employee_df[::-1] # reverse the rows "
   ]
  },
  {
   "cell_type": "markdown",
   "metadata": {},
   "source": [
    "Notice that when slicing ranges using the `[` and `]` operator, without `loc` or `iloc`, the slicing acts on the row since and was designed like this since it is such a common operation. Note that you can't access rows AND columns here as we are just subsetting rows. If you would like to access rows AND columns, use `iloc` or `loc`."
   ]
  },
  {
   "cell_type": "markdown",
   "metadata": {},
   "source": [
    "#### Part 5 (Indexing Method 5 - Boolean Indexing):"
   ]
  },
  {
   "cell_type": "markdown",
   "metadata": {},
   "source": [
    "##### Example 5.1 (Boolean Indexing - Series):"
   ]
  },
  {
   "cell_type": "code",
   "execution_count": 148,
   "metadata": {},
   "outputs": [
    {
     "data": {
      "text/plain": [
       "c    5\n",
       "d    6\n",
       "4    7\n",
       "dtype: int64"
      ]
     },
     "execution_count": 148,
     "metadata": {},
     "output_type": "execute_result"
    }
   ],
   "source": [
    "series_1[series_1 > 4] # all rows greater than 4"
   ]
  },
  {
   "cell_type": "code",
   "execution_count": 149,
   "metadata": {},
   "outputs": [
    {
     "data": {
      "text/plain": [
       "b    4\n",
       "dtype: int64"
      ]
     },
     "execution_count": 149,
     "metadata": {},
     "output_type": "execute_result"
    }
   ],
   "source": [
    "series_1[(series_1 > 3) & (series_1 < 5)] # all rows greater than 3 AND less than 5"
   ]
  },
  {
   "cell_type": "code",
   "execution_count": 150,
   "metadata": {},
   "outputs": [
    {
     "data": {
      "text/plain": [
       "a    3\n",
       "c    5\n",
       "d    6\n",
       "4    7\n",
       "dtype: int64"
      ]
     },
     "execution_count": 150,
     "metadata": {},
     "output_type": "execute_result"
    }
   ],
   "source": [
    "series_1[~(series_1 == 4)] # all rows not equal to 0 "
   ]
  },
  {
   "cell_type": "markdown",
   "metadata": {},
   "source": [
    "##### Example 5.2 (Boolean Indexing - DataFrames):"
   ]
  },
  {
   "cell_type": "code",
   "execution_count": 151,
   "metadata": {
    "scrolled": true
   },
   "outputs": [
    {
     "data": {
      "text/html": [
       "<div>\n",
       "<style scoped>\n",
       "    .dataframe tbody tr th:only-of-type {\n",
       "        vertical-align: middle;\n",
       "    }\n",
       "\n",
       "    .dataframe tbody tr th {\n",
       "        vertical-align: top;\n",
       "    }\n",
       "\n",
       "    .dataframe thead th {\n",
       "        text-align: right;\n",
       "    }\n",
       "</style>\n",
       "<table border=\"1\" class=\"dataframe\">\n",
       "  <thead>\n",
       "    <tr style=\"text-align: right;\">\n",
       "      <th></th>\n",
       "      <th>First</th>\n",
       "      <th>Middle</th>\n",
       "      <th>Beard Style</th>\n",
       "      <th>Age</th>\n",
       "    </tr>\n",
       "  </thead>\n",
       "  <tbody>\n",
       "    <tr>\n",
       "      <th>Dad</th>\n",
       "      <td>Allen</td>\n",
       "      <td>James</td>\n",
       "      <td>Wizard</td>\n",
       "      <td>51</td>\n",
       "    </tr>\n",
       "    <tr>\n",
       "      <th>Mom</th>\n",
       "      <td>Michele</td>\n",
       "      <td>Leigh</td>\n",
       "      <td>None</td>\n",
       "      <td>52</td>\n",
       "    </tr>\n",
       "  </tbody>\n",
       "</table>\n",
       "</div>"
      ],
      "text/plain": [
       "       First Middle Beard Style  Age\n",
       "Dad    Allen  James      Wizard   51\n",
       "Mom  Michele  Leigh        None   52"
      ]
     },
     "execution_count": 151,
     "metadata": {},
     "output_type": "execute_result"
    }
   ],
   "source": [
    "employee_df[employee_df[\"Age\"] > 30] # all rows with age greater than 30"
   ]
  },
  {
   "cell_type": "code",
   "execution_count": 153,
   "metadata": {},
   "outputs": [
    {
     "data": {
      "text/html": [
       "<div>\n",
       "<style scoped>\n",
       "    .dataframe tbody tr th:only-of-type {\n",
       "        vertical-align: middle;\n",
       "    }\n",
       "\n",
       "    .dataframe tbody tr th {\n",
       "        vertical-align: top;\n",
       "    }\n",
       "\n",
       "    .dataframe thead th {\n",
       "        text-align: right;\n",
       "    }\n",
       "</style>\n",
       "<table border=\"1\" class=\"dataframe\">\n",
       "  <thead>\n",
       "    <tr style=\"text-align: right;\">\n",
       "      <th></th>\n",
       "      <th>First</th>\n",
       "      <th>Middle</th>\n",
       "      <th>Beard Style</th>\n",
       "      <th>Age</th>\n",
       "    </tr>\n",
       "  </thead>\n",
       "  <tbody>\n",
       "    <tr>\n",
       "      <th>Dad</th>\n",
       "      <td>Allen</td>\n",
       "      <td>James</td>\n",
       "      <td>Wizard</td>\n",
       "      <td>51</td>\n",
       "    </tr>\n",
       "    <tr>\n",
       "      <th>Mom</th>\n",
       "      <td>Michele</td>\n",
       "      <td>Leigh</td>\n",
       "      <td>None</td>\n",
       "      <td>52</td>\n",
       "    </tr>\n",
       "  </tbody>\n",
       "</table>\n",
       "</div>"
      ],
      "text/plain": [
       "       First Middle Beard Style  Age\n",
       "Dad    Allen  James      Wizard   51\n",
       "Mom  Michele  Leigh        None   52"
      ]
     },
     "execution_count": 153,
     "metadata": {},
     "output_type": "execute_result"
    }
   ],
   "source": [
    "employee_df[(employee_df[\"Age\"] > 30) & (employee_df[\"Age\"] < 55)] # all rows with age greater than 30"
   ]
  },
  {
   "cell_type": "code",
   "execution_count": 154,
   "metadata": {},
   "outputs": [
    {
     "data": {
      "text/html": [
       "<div>\n",
       "<style scoped>\n",
       "    .dataframe tbody tr th:only-of-type {\n",
       "        vertical-align: middle;\n",
       "    }\n",
       "\n",
       "    .dataframe tbody tr th {\n",
       "        vertical-align: top;\n",
       "    }\n",
       "\n",
       "    .dataframe thead th {\n",
       "        text-align: right;\n",
       "    }\n",
       "</style>\n",
       "<table border=\"1\" class=\"dataframe\">\n",
       "  <thead>\n",
       "    <tr style=\"text-align: right;\">\n",
       "      <th></th>\n",
       "      <th>First</th>\n",
       "      <th>Middle</th>\n",
       "      <th>Beard Style</th>\n",
       "      <th>Age</th>\n",
       "    </tr>\n",
       "  </thead>\n",
       "  <tbody>\n",
       "    <tr>\n",
       "      <th>Son</th>\n",
       "      <td>Ryan</td>\n",
       "      <td>Patrick</td>\n",
       "      <td>Battle Dwarf</td>\n",
       "      <td>25</td>\n",
       "    </tr>\n",
       "    <tr>\n",
       "      <th>Mom</th>\n",
       "      <td>Michele</td>\n",
       "      <td>Leigh</td>\n",
       "      <td>None</td>\n",
       "      <td>52</td>\n",
       "    </tr>\n",
       "    <tr>\n",
       "      <th>Dog</th>\n",
       "      <td>BamBam</td>\n",
       "      <td>Doggo</td>\n",
       "      <td>NaN</td>\n",
       "      <td>7</td>\n",
       "    </tr>\n",
       "  </tbody>\n",
       "</table>\n",
       "</div>"
      ],
      "text/plain": [
       "       First   Middle   Beard Style  Age\n",
       "Son     Ryan  Patrick  Battle Dwarf   25\n",
       "Mom  Michele    Leigh          None   52\n",
       "Dog   BamBam    Doggo           NaN    7"
      ]
     },
     "execution_count": 154,
     "metadata": {},
     "output_type": "execute_result"
    }
   ],
   "source": [
    "employee_df[~(employee_df[\"First\"] == \"Allen\")] # all rows where first name is not equal to Gordon "
   ]
  },
  {
   "cell_type": "code",
   "execution_count": 155,
   "metadata": {
    "scrolled": true
   },
   "outputs": [
    {
     "data": {
      "text/html": [
       "<div>\n",
       "<style scoped>\n",
       "    .dataframe tbody tr th:only-of-type {\n",
       "        vertical-align: middle;\n",
       "    }\n",
       "\n",
       "    .dataframe tbody tr th {\n",
       "        vertical-align: top;\n",
       "    }\n",
       "\n",
       "    .dataframe thead th {\n",
       "        text-align: right;\n",
       "    }\n",
       "</style>\n",
       "<table border=\"1\" class=\"dataframe\">\n",
       "  <thead>\n",
       "    <tr style=\"text-align: right;\">\n",
       "      <th></th>\n",
       "      <th>First</th>\n",
       "      <th>Middle</th>\n",
       "      <th>Beard Style</th>\n",
       "      <th>Age</th>\n",
       "    </tr>\n",
       "  </thead>\n",
       "  <tbody>\n",
       "    <tr>\n",
       "      <th>Son</th>\n",
       "      <td>Ryan</td>\n",
       "      <td>Patrick</td>\n",
       "      <td>Battle Dwarf</td>\n",
       "      <td>25</td>\n",
       "    </tr>\n",
       "    <tr>\n",
       "      <th>Mom</th>\n",
       "      <td>Michele</td>\n",
       "      <td>Leigh</td>\n",
       "      <td>None</td>\n",
       "      <td>52</td>\n",
       "    </tr>\n",
       "    <tr>\n",
       "      <th>Dog</th>\n",
       "      <td>BamBam</td>\n",
       "      <td>Doggo</td>\n",
       "      <td>NaN</td>\n",
       "      <td>7</td>\n",
       "    </tr>\n",
       "  </tbody>\n",
       "</table>\n",
       "</div>"
      ],
      "text/plain": [
       "       First   Middle   Beard Style  Age\n",
       "Son     Ryan  Patrick  Battle Dwarf   25\n",
       "Mom  Michele    Leigh          None   52\n",
       "Dog   BamBam    Doggo           NaN    7"
      ]
     },
     "execution_count": 155,
     "metadata": {},
     "output_type": "execute_result"
    }
   ],
   "source": [
    "employee_df[employee_df[\"First\"] != \"Allen\"] # all rows where first name is not equal to Gordon "
   ]
  },
  {
   "cell_type": "markdown",
   "metadata": {},
   "source": [
    "##### Problem 5:\n",
    "\n",
    "Using the Pandas DataFrame previously created (*prob2_df*), print:\n",
    "    \n",
    "    * A series that shows True or False for countries with Sizes greater than 3,500,000\n",
    "    * A series that shows True or False for countries with Sizes greater than 3,500,000 and Populations smaller than 350,000,000\n",
    "    * A data frame that only shows the rows for countries with Sizes greater than 3,500,000 and Populations smaller than 350,000,000"
   ]
  },
  {
   "cell_type": "code",
   "execution_count": 194,
   "metadata": {},
   "outputs": [
    {
     "name": "stdout",
     "output_type": "stream",
     "text": [
      "0     True\n",
      "1    False\n",
      "2     True\n",
      "3    False\n",
      "4     True\n",
      "Name: Size, dtype: bool \n",
      "\n",
      "0    False\n",
      "1    False\n",
      "2     True\n",
      "3    False\n",
      "4     True\n",
      "dtype: bool \n",
      "\n",
      "  Country Name  Population     Size\n",
      "2          Usa   324459463  9629091\n",
      "4       Brazil   209288278  8511965 \n",
      "\n"
     ]
    }
   ],
   "source": [
    "#print(prob2_df, \"\\n\")\n",
    "print(prob2_df.loc[:, \"Size\"] > 3500000, \"\\n\")\n",
    "print((prob2_df.loc[:, \"Size\"] > 3500000) & (prob2_df.loc[:, \"Population\"] < 350000000), \"\\n\")\n",
    "print(prob2_df[(prob2_df.loc[:, \"Size\"] > 3500000) & (prob2_df.loc[:, \"Population\"] < 350000000)], \"\\n\")\n",
    "\n",
    "# reference from above, where these methods were first exemplified:\n",
    "# my_df.loc[:, \"Games Won\"] > 30\n",
    "# my_df.loc[my_df.loc[:, \"Games Won\"] >30]"
   ]
  },
  {
   "cell_type": "markdown",
   "metadata": {},
   "source": [
    "# Part 6 (Indexing Method 6 - Using isin):"
   ]
  },
  {
   "cell_type": "code",
   "execution_count": 195,
   "metadata": {
    "scrolled": true
   },
   "outputs": [
    {
     "data": {
      "text/plain": [
       "a    3\n",
       "b    4\n",
       "c    5\n",
       "d    6\n",
       "4    7\n",
       "dtype: int64"
      ]
     },
     "execution_count": 195,
     "metadata": {},
     "output_type": "execute_result"
    }
   ],
   "source": [
    "series_1 = pd.Series(np.arange(3,8), index = [\"a\", \"b\", \"c\", \"d\", 4])\n",
    "series_1"
   ]
  },
  {
   "cell_type": "markdown",
   "metadata": {},
   "source": [
    "##### Example 6.1 (Using isin - Series):"
   ]
  },
  {
   "cell_type": "code",
   "execution_count": 196,
   "metadata": {},
   "outputs": [
    {
     "data": {
      "text/plain": [
       "a     True\n",
       "b    False\n",
       "c    False\n",
       "d     True\n",
       "4     True\n",
       "dtype: bool"
      ]
     },
     "execution_count": 196,
     "metadata": {},
     "output_type": "execute_result"
    }
   ],
   "source": [
    "series_1.isin([3,6,7])"
   ]
  },
  {
   "cell_type": "code",
   "execution_count": 197,
   "metadata": {
    "scrolled": true
   },
   "outputs": [
    {
     "data": {
      "text/plain": [
       "a    3\n",
       "d    6\n",
       "4    7\n",
       "dtype: int64"
      ]
     },
     "execution_count": 197,
     "metadata": {},
     "output_type": "execute_result"
    }
   ],
   "source": [
    "series_1[series_1.isin([3,6,7])]"
   ]
  },
  {
   "cell_type": "markdown",
   "metadata": {},
   "source": [
    "##### Example 6.2 (Using isin - DataFrames):"
   ]
  },
  {
   "cell_type": "code",
   "execution_count": 198,
   "metadata": {},
   "outputs": [
    {
     "data": {
      "text/html": [
       "<div>\n",
       "<style scoped>\n",
       "    .dataframe tbody tr th:only-of-type {\n",
       "        vertical-align: middle;\n",
       "    }\n",
       "\n",
       "    .dataframe tbody tr th {\n",
       "        vertical-align: top;\n",
       "    }\n",
       "\n",
       "    .dataframe thead th {\n",
       "        text-align: right;\n",
       "    }\n",
       "</style>\n",
       "<table border=\"1\" class=\"dataframe\">\n",
       "  <thead>\n",
       "    <tr style=\"text-align: right;\">\n",
       "      <th></th>\n",
       "      <th>First</th>\n",
       "      <th>Middle</th>\n",
       "      <th>Beard Style</th>\n",
       "      <th>Age</th>\n",
       "    </tr>\n",
       "  </thead>\n",
       "  <tbody>\n",
       "    <tr>\n",
       "      <th>Dad</th>\n",
       "      <td>Allen</td>\n",
       "      <td>James</td>\n",
       "      <td>Wizard</td>\n",
       "      <td>51</td>\n",
       "    </tr>\n",
       "    <tr>\n",
       "      <th>Son</th>\n",
       "      <td>Ryan</td>\n",
       "      <td>Patrick</td>\n",
       "      <td>Battle Dwarf</td>\n",
       "      <td>25</td>\n",
       "    </tr>\n",
       "    <tr>\n",
       "      <th>Mom</th>\n",
       "      <td>Michele</td>\n",
       "      <td>Leigh</td>\n",
       "      <td>None</td>\n",
       "      <td>52</td>\n",
       "    </tr>\n",
       "    <tr>\n",
       "      <th>Son</th>\n",
       "      <td>Allen</td>\n",
       "      <td>Michael</td>\n",
       "      <td>Middle-class Hobbit</td>\n",
       "      <td>28</td>\n",
       "    </tr>\n",
       "    <tr>\n",
       "      <th>Dog</th>\n",
       "      <td>BamBam</td>\n",
       "      <td>Doggo</td>\n",
       "      <td>NaN</td>\n",
       "      <td>7</td>\n",
       "    </tr>\n",
       "  </tbody>\n",
       "</table>\n",
       "</div>"
      ],
      "text/plain": [
       "       First   Middle          Beard Style  Age\n",
       "Dad    Allen    James               Wizard   51\n",
       "Son     Ryan  Patrick         Battle Dwarf   25\n",
       "Mom  Michele    Leigh                 None   52\n",
       "Son    Allen  Michael  Middle-class Hobbit   28\n",
       "Dog   BamBam    Doggo                  NaN    7"
      ]
     },
     "execution_count": 198,
     "metadata": {},
     "output_type": "execute_result"
    }
   ],
   "source": [
    "employee_df = my_df = pd.read_csv(\"csv_file_for_pandas.csv\", index_col = 0)\n",
    "employee_df"
   ]
  },
  {
   "cell_type": "code",
   "execution_count": 199,
   "metadata": {},
   "outputs": [
    {
     "data": {
      "text/html": [
       "<div>\n",
       "<style scoped>\n",
       "    .dataframe tbody tr th:only-of-type {\n",
       "        vertical-align: middle;\n",
       "    }\n",
       "\n",
       "    .dataframe tbody tr th {\n",
       "        vertical-align: top;\n",
       "    }\n",
       "\n",
       "    .dataframe thead th {\n",
       "        text-align: right;\n",
       "    }\n",
       "</style>\n",
       "<table border=\"1\" class=\"dataframe\">\n",
       "  <thead>\n",
       "    <tr style=\"text-align: right;\">\n",
       "      <th></th>\n",
       "      <th>First</th>\n",
       "      <th>Middle</th>\n",
       "      <th>Beard Style</th>\n",
       "      <th>Age</th>\n",
       "    </tr>\n",
       "  </thead>\n",
       "  <tbody>\n",
       "    <tr>\n",
       "      <th>Dad</th>\n",
       "      <td>True</td>\n",
       "      <td>False</td>\n",
       "      <td>False</td>\n",
       "      <td>False</td>\n",
       "    </tr>\n",
       "    <tr>\n",
       "      <th>Son</th>\n",
       "      <td>True</td>\n",
       "      <td>False</td>\n",
       "      <td>False</td>\n",
       "      <td>False</td>\n",
       "    </tr>\n",
       "    <tr>\n",
       "      <th>Mom</th>\n",
       "      <td>True</td>\n",
       "      <td>False</td>\n",
       "      <td>False</td>\n",
       "      <td>False</td>\n",
       "    </tr>\n",
       "    <tr>\n",
       "      <th>Son</th>\n",
       "      <td>True</td>\n",
       "      <td>False</td>\n",
       "      <td>False</td>\n",
       "      <td>False</td>\n",
       "    </tr>\n",
       "    <tr>\n",
       "      <th>Dog</th>\n",
       "      <td>False</td>\n",
       "      <td>False</td>\n",
       "      <td>False</td>\n",
       "      <td>False</td>\n",
       "    </tr>\n",
       "  </tbody>\n",
       "</table>\n",
       "</div>"
      ],
      "text/plain": [
       "     First  Middle  Beard Style    Age\n",
       "Dad   True   False        False  False\n",
       "Son   True   False        False  False\n",
       "Mom   True   False        False  False\n",
       "Son   True   False        False  False\n",
       "Dog  False   False        False  False"
      ]
     },
     "execution_count": 199,
     "metadata": {},
     "output_type": "execute_result"
    }
   ],
   "source": [
    "values = [\"Allen\", \"Michele\", \"Ryan\", 31] # criteria spans multiple columns, find rows that meet this multi-part criteria \n",
    "employee_df.isin(values)"
   ]
  },
  {
   "cell_type": "code",
   "execution_count": 200,
   "metadata": {},
   "outputs": [
    {
     "data": {
      "text/html": [
       "<div>\n",
       "<style scoped>\n",
       "    .dataframe tbody tr th:only-of-type {\n",
       "        vertical-align: middle;\n",
       "    }\n",
       "\n",
       "    .dataframe tbody tr th {\n",
       "        vertical-align: top;\n",
       "    }\n",
       "\n",
       "    .dataframe thead th {\n",
       "        text-align: right;\n",
       "    }\n",
       "</style>\n",
       "<table border=\"1\" class=\"dataframe\">\n",
       "  <thead>\n",
       "    <tr style=\"text-align: right;\">\n",
       "      <th></th>\n",
       "      <th>First</th>\n",
       "      <th>Middle</th>\n",
       "      <th>Beard Style</th>\n",
       "      <th>Age</th>\n",
       "    </tr>\n",
       "  </thead>\n",
       "  <tbody>\n",
       "    <tr>\n",
       "      <th>Dad</th>\n",
       "      <td>False</td>\n",
       "      <td>False</td>\n",
       "      <td>False</td>\n",
       "      <td>False</td>\n",
       "    </tr>\n",
       "    <tr>\n",
       "      <th>Son</th>\n",
       "      <td>False</td>\n",
       "      <td>False</td>\n",
       "      <td>False</td>\n",
       "      <td>False</td>\n",
       "    </tr>\n",
       "    <tr>\n",
       "      <th>Mom</th>\n",
       "      <td>True</td>\n",
       "      <td>False</td>\n",
       "      <td>False</td>\n",
       "      <td>False</td>\n",
       "    </tr>\n",
       "    <tr>\n",
       "      <th>Son</th>\n",
       "      <td>False</td>\n",
       "      <td>False</td>\n",
       "      <td>False</td>\n",
       "      <td>True</td>\n",
       "    </tr>\n",
       "    <tr>\n",
       "      <th>Dog</th>\n",
       "      <td>True</td>\n",
       "      <td>False</td>\n",
       "      <td>False</td>\n",
       "      <td>False</td>\n",
       "    </tr>\n",
       "  </tbody>\n",
       "</table>\n",
       "</div>"
      ],
      "text/plain": [
       "     First  Middle  Beard Style    Age\n",
       "Dad  False   False        False  False\n",
       "Son  False   False        False  False\n",
       "Mom   True   False        False  False\n",
       "Son  False   False        False   True\n",
       "Dog   True   False        False  False"
      ]
     },
     "execution_count": 200,
     "metadata": {},
     "output_type": "execute_result"
    }
   ],
   "source": [
    "values = {'First': ['BamBam', 'Michele'], 'Age': [28]} # match certain values with certain columns\n",
    "employee_df.isin(values)"
   ]
  },
  {
   "cell_type": "markdown",
   "metadata": {},
   "source": [
    "### 5.1.4 Manipulating Pandas Data Structures:"
   ]
  },
  {
   "cell_type": "markdown",
   "metadata": {},
   "source": [
    "### 5.1.4.1 Simple Manipulation of Pandas Data Structures:"
   ]
  },
  {
   "cell_type": "markdown",
   "metadata": {},
   "source": [
    "__Overview:__\n",
    "- Pandas offers many useful ways to manipulate both Series and DataFrames:\n",
    "\n",
    "> /1. __Setting Values:__ Pandas offers a few different methods of setting values:\n",
    ">> a. Using __Slicing Ranges__ (i.e. `df[:5] = 0`)<br>\n",
    ">> b. Using __Labels__ (i.e. `df.loc[\"a\":] = 0` or `df.at[\"a\":] = 0`)<br>\n",
    ">> c. Using __Position__ (i.e. `df.iloc[:3] = 0` or `df.iat[:3] = 0`)<br>\n",
    "\n",
    "> /2. __Manipulating Rows:__ Pandas offers many different methods to manipulate rows:\n",
    "\n",
    ">> a. __Changing Row Index:__ \n",
    ">> > 1. Renaming the row index (`df.rename(index=)`)\n",
    ">> > 2. Setting the row index back to 0-based indexing (`df.reset_index(drop=True)`), etc.\n",
    ">> > 3. Re-indexing labels (`df.reindex(index=)`) \n",
    "\n",
    ">> b. __Adding Rows:__\n",
    ">> > 1. Inserting row within the DataFrame (`pd.concat()`)\n",
    ">> > 2. Adding row at the bottom of the DataFrame (`df.append()` or `df.loc[len(df)] = val`)\n",
    "\n",
    ">> c. __Removing Rows:__\n",
    ">> > 1. Removing rows based on row index (`df.drop(df.index[])` or `df.drop([row_name])`)\n",
    "\n",
    ">> d. __Sorting Rows:__\n",
    ">> > 1. Sorting rows based on column values (`df.sort_values(by = [\"col_name_1\", \"col_name_1\"])`)\n",
    ">> > 2. Sorting rows based on labels (`df.sort_index(axis=0)`)\n",
    "\n",
    "> /3. __Manipulating Columns:__ Pandas offers many different methods to manipulate columns:\n",
    "\n",
    ">> a. __Changing Column Names:__ \n",
    ">> > 1. Explicitly assign the column names (`df.columns = [\"new_col_1\", \"new_col_2\"]`)\n",
    ">> > 2. Renaming the columns (`df.rename(columns=)`\n",
    ">> > 3. Re-indexing column names (`df.reindex(columns=)`) \n",
    "\n",
    ">> b. __Adding Columns:__\n",
    ">> > 1. Inserting column within the DataFrame (`df.insert(column_position, column = \"new_col_name\", value = )`)\n",
    ">> > 2. Adding column to the end of the DataFrame (`df[\"new_col_name\"] = pd.Series()`)\n",
    "\n",
    ">> c. __Removing Columns:__\n",
    ">> > 1. Deleting column using `del` (`del df[\"col_name\"]`)\n",
    ">> > 2. Deleting column using `pop` (`df.pop(\"col_name\")`)\n",
    ">> > 3. Removing columns using `drop` (`df.drop([\"col_name_1\", \"col_name_5\"], axis = 1)`)\n",
    "\n",
    ">> d. __Sorting Columns:__\n",
    ">> > 1. Sorting columns based on column names (`df.sort_index(axis=1)`)\n",
    "\n",
    "__Helpful Points:__\n",
    "1. Remember, there are always more than one way to do something in Python and this is especially true with changing, adding, and removing rows/columns in Pandas Series and DataFrames \n",
    "2. Don't worry if you can't remember all these possibilities now, be sure to come back and review this list as needed\n",
    "3. Many of these functions mentioned above act \"in-place\" which means they perform their operation on the actual object itself \n",
    "\n",
    "__Practice:__ Examples of Simple Row/Column Manipulation of Pandas Series and DataFrames in Python "
   ]
  },
  {
   "cell_type": "markdown",
   "metadata": {},
   "source": [
    "#### Part 1 (Setting Values):"
   ]
  },
  {
   "cell_type": "markdown",
   "metadata": {},
   "source": [
    "##### Example 1.1 (Setting Values - Slicing Ranges):"
   ]
  },
  {
   "cell_type": "markdown",
   "metadata": {},
   "source": [
    "##### Example 1.1.1 (Series):"
   ]
  },
  {
   "cell_type": "code",
   "execution_count": 201,
   "metadata": {},
   "outputs": [
    {
     "data": {
      "text/plain": [
       "a    3\n",
       "b    4\n",
       "c    5\n",
       "d    6\n",
       "4    7\n",
       "dtype: int64"
      ]
     },
     "execution_count": 201,
     "metadata": {},
     "output_type": "execute_result"
    }
   ],
   "source": [
    "series_1 = pd.Series(np.arange(3,8), index = [\"a\", \"b\", \"c\", \"d\", 4])\n",
    "series_1"
   ]
  },
  {
   "cell_type": "code",
   "execution_count": 202,
   "metadata": {},
   "outputs": [
    {
     "data": {
      "text/plain": [
       "a    100\n",
       "b    100\n",
       "c      5\n",
       "d      6\n",
       "4      7\n",
       "dtype: int64"
      ]
     },
     "execution_count": 202,
     "metadata": {},
     "output_type": "execute_result"
    }
   ],
   "source": [
    "series_1[:2] = 100 # setting values in first 2 rows \n",
    "series_1"
   ]
  },
  {
   "cell_type": "markdown",
   "metadata": {},
   "source": [
    "##### Example 1.1.2 (DataFrame):"
   ]
  },
  {
   "cell_type": "code",
   "execution_count": 203,
   "metadata": {},
   "outputs": [],
   "source": [
    "employee_df = my_df = pd.read_csv(\"csv_file_for_pandas.csv\", index_col = 0)"
   ]
  },
  {
   "cell_type": "code",
   "execution_count": 204,
   "metadata": {},
   "outputs": [
    {
     "data": {
      "text/html": [
       "<div>\n",
       "<style scoped>\n",
       "    .dataframe tbody tr th:only-of-type {\n",
       "        vertical-align: middle;\n",
       "    }\n",
       "\n",
       "    .dataframe tbody tr th {\n",
       "        vertical-align: top;\n",
       "    }\n",
       "\n",
       "    .dataframe thead th {\n",
       "        text-align: right;\n",
       "    }\n",
       "</style>\n",
       "<table border=\"1\" class=\"dataframe\">\n",
       "  <thead>\n",
       "    <tr style=\"text-align: right;\">\n",
       "      <th></th>\n",
       "      <th>First</th>\n",
       "      <th>Middle</th>\n",
       "      <th>Beard Style</th>\n",
       "      <th>Age</th>\n",
       "    </tr>\n",
       "  </thead>\n",
       "  <tbody>\n",
       "    <tr>\n",
       "      <th>Dad</th>\n",
       "      <td>New</td>\n",
       "      <td>New</td>\n",
       "      <td>New</td>\n",
       "      <td>New</td>\n",
       "    </tr>\n",
       "    <tr>\n",
       "      <th>Son</th>\n",
       "      <td>New</td>\n",
       "      <td>New</td>\n",
       "      <td>New</td>\n",
       "      <td>New</td>\n",
       "    </tr>\n",
       "    <tr>\n",
       "      <th>Mom</th>\n",
       "      <td>Michele</td>\n",
       "      <td>Leigh</td>\n",
       "      <td>None</td>\n",
       "      <td>52</td>\n",
       "    </tr>\n",
       "    <tr>\n",
       "      <th>Son</th>\n",
       "      <td>Allen</td>\n",
       "      <td>Michael</td>\n",
       "      <td>Middle-class Hobbit</td>\n",
       "      <td>28</td>\n",
       "    </tr>\n",
       "    <tr>\n",
       "      <th>Dog</th>\n",
       "      <td>BamBam</td>\n",
       "      <td>Doggo</td>\n",
       "      <td>NaN</td>\n",
       "      <td>7</td>\n",
       "    </tr>\n",
       "  </tbody>\n",
       "</table>\n",
       "</div>"
      ],
      "text/plain": [
       "       First   Middle          Beard Style  Age\n",
       "Dad      New      New                  New  New\n",
       "Son      New      New                  New  New\n",
       "Mom  Michele    Leigh                 None   52\n",
       "Son    Allen  Michael  Middle-class Hobbit   28\n",
       "Dog   BamBam    Doggo                  NaN    7"
      ]
     },
     "execution_count": 204,
     "metadata": {},
     "output_type": "execute_result"
    }
   ],
   "source": [
    "employee_df[0:2] = \"New\" # setting values in first 2 rows\n",
    "employee_df"
   ]
  },
  {
   "cell_type": "markdown",
   "metadata": {},
   "source": [
    "##### Example 1.2 (Setting Values - By Labels):"
   ]
  },
  {
   "cell_type": "markdown",
   "metadata": {},
   "source": [
    "##### Example 1.2.1 (Series):"
   ]
  },
  {
   "cell_type": "code",
   "execution_count": 205,
   "metadata": {},
   "outputs": [],
   "source": [
    "series_1 = pd.Series(np.arange(3,8), index = [\"a\", \"b\", \"c\", \"d\", 4])"
   ]
  },
  {
   "cell_type": "code",
   "execution_count": 206,
   "metadata": {},
   "outputs": [
    {
     "data": {
      "text/plain": [
       "a    5\n",
       "b    5\n",
       "c    5\n",
       "d    5\n",
       "4    7\n",
       "dtype: int64"
      ]
     },
     "execution_count": 206,
     "metadata": {},
     "output_type": "execute_result"
    }
   ],
   "source": [
    "series_1.loc[\"a\":\"d\"] = 5 # setting values in first 4 rows using loc \n",
    "series_1"
   ]
  },
  {
   "cell_type": "code",
   "execution_count": 207,
   "metadata": {},
   "outputs": [
    {
     "data": {
      "text/plain": [
       "a      5\n",
       "b      5\n",
       "c      5\n",
       "d      5\n",
       "4    100\n",
       "dtype: int64"
      ]
     },
     "execution_count": 207,
     "metadata": {},
     "output_type": "execute_result"
    }
   ],
   "source": [
    "series_1.at[4] = 100 # setting scalar value in last row using at \n",
    "series_1"
   ]
  },
  {
   "cell_type": "markdown",
   "metadata": {},
   "source": [
    "##### Example 1.2.2 (DataFrame):"
   ]
  },
  {
   "cell_type": "code",
   "execution_count": 208,
   "metadata": {},
   "outputs": [],
   "source": [
    "employee_df = my_df = pd.read_csv(\"csv_file_for_pandas.csv\", index_col = 0)"
   ]
  },
  {
   "cell_type": "code",
   "execution_count": 210,
   "metadata": {},
   "outputs": [
    {
     "data": {
      "text/html": [
       "<div>\n",
       "<style scoped>\n",
       "    .dataframe tbody tr th:only-of-type {\n",
       "        vertical-align: middle;\n",
       "    }\n",
       "\n",
       "    .dataframe tbody tr th {\n",
       "        vertical-align: top;\n",
       "    }\n",
       "\n",
       "    .dataframe thead th {\n",
       "        text-align: right;\n",
       "    }\n",
       "</style>\n",
       "<table border=\"1\" class=\"dataframe\">\n",
       "  <thead>\n",
       "    <tr style=\"text-align: right;\">\n",
       "      <th></th>\n",
       "      <th>First</th>\n",
       "      <th>Middle</th>\n",
       "      <th>Beard Style</th>\n",
       "      <th>Age</th>\n",
       "    </tr>\n",
       "  </thead>\n",
       "  <tbody>\n",
       "    <tr>\n",
       "      <th>Dad</th>\n",
       "      <td>New</td>\n",
       "      <td>New</td>\n",
       "      <td>New</td>\n",
       "      <td>New</td>\n",
       "    </tr>\n",
       "    <tr>\n",
       "      <th>Son</th>\n",
       "      <td>New</td>\n",
       "      <td>New</td>\n",
       "      <td>New</td>\n",
       "      <td>New</td>\n",
       "    </tr>\n",
       "    <tr>\n",
       "      <th>Mom</th>\n",
       "      <td>New</td>\n",
       "      <td>New</td>\n",
       "      <td>New</td>\n",
       "      <td>New</td>\n",
       "    </tr>\n",
       "    <tr>\n",
       "      <th>Son</th>\n",
       "      <td>Allen</td>\n",
       "      <td>Michael</td>\n",
       "      <td>Middle-class Hobbit</td>\n",
       "      <td>28</td>\n",
       "    </tr>\n",
       "    <tr>\n",
       "      <th>Dog</th>\n",
       "      <td>BamBam</td>\n",
       "      <td>Doggo</td>\n",
       "      <td>NaN</td>\n",
       "      <td>7</td>\n",
       "    </tr>\n",
       "  </tbody>\n",
       "</table>\n",
       "</div>"
      ],
      "text/plain": [
       "      First   Middle          Beard Style  Age\n",
       "Dad     New      New                  New  New\n",
       "Son     New      New                  New  New\n",
       "Mom     New      New                  New  New\n",
       "Son   Allen  Michael  Middle-class Hobbit   28\n",
       "Dog  BamBam    Doggo                  NaN    7"
      ]
     },
     "execution_count": 210,
     "metadata": {},
     "output_type": "execute_result"
    }
   ],
   "source": [
    "employee_df.loc[\"Dad\":\"Mom\"] = \"New\" # setting values using loc \n",
    "employee_df"
   ]
  },
  {
   "cell_type": "code",
   "execution_count": 212,
   "metadata": {},
   "outputs": [
    {
     "data": {
      "text/html": [
       "<div>\n",
       "<style scoped>\n",
       "    .dataframe tbody tr th:only-of-type {\n",
       "        vertical-align: middle;\n",
       "    }\n",
       "\n",
       "    .dataframe tbody tr th {\n",
       "        vertical-align: top;\n",
       "    }\n",
       "\n",
       "    .dataframe thead th {\n",
       "        text-align: right;\n",
       "    }\n",
       "</style>\n",
       "<table border=\"1\" class=\"dataframe\">\n",
       "  <thead>\n",
       "    <tr style=\"text-align: right;\">\n",
       "      <th></th>\n",
       "      <th>First</th>\n",
       "      <th>Middle</th>\n",
       "      <th>Beard Style</th>\n",
       "      <th>Age</th>\n",
       "    </tr>\n",
       "  </thead>\n",
       "  <tbody>\n",
       "    <tr>\n",
       "      <th>Dad</th>\n",
       "      <td>New</td>\n",
       "      <td>New</td>\n",
       "      <td>New</td>\n",
       "      <td>New</td>\n",
       "    </tr>\n",
       "    <tr>\n",
       "      <th>Son</th>\n",
       "      <td>New</td>\n",
       "      <td>New</td>\n",
       "      <td>New</td>\n",
       "      <td>New</td>\n",
       "    </tr>\n",
       "    <tr>\n",
       "      <th>Mom</th>\n",
       "      <td>New</td>\n",
       "      <td>New</td>\n",
       "      <td>New</td>\n",
       "      <td>New</td>\n",
       "    </tr>\n",
       "    <tr>\n",
       "      <th>Son</th>\n",
       "      <td>Allen</td>\n",
       "      <td>Michael</td>\n",
       "      <td>Middle-class Hobbit</td>\n",
       "      <td>28</td>\n",
       "    </tr>\n",
       "    <tr>\n",
       "      <th>Dog</th>\n",
       "      <td>New</td>\n",
       "      <td>New</td>\n",
       "      <td>New</td>\n",
       "      <td>New</td>\n",
       "    </tr>\n",
       "  </tbody>\n",
       "</table>\n",
       "</div>"
      ],
      "text/plain": [
       "     First   Middle          Beard Style  Age\n",
       "Dad    New      New                  New  New\n",
       "Son    New      New                  New  New\n",
       "Mom    New      New                  New  New\n",
       "Son  Allen  Michael  Middle-class Hobbit   28\n",
       "Dog    New      New                  New  New"
      ]
     },
     "execution_count": 212,
     "metadata": {},
     "output_type": "execute_result"
    }
   ],
   "source": [
    "employee_df.at[\"Dog\"] = \"New\" # setting value in first row using at\n",
    "employee_df"
   ]
  },
  {
   "cell_type": "markdown",
   "metadata": {},
   "source": [
    "##### Example 1.3 (Setting Values - By Position):"
   ]
  },
  {
   "cell_type": "markdown",
   "metadata": {},
   "source": [
    "##### Example 1.3.1 (Series):"
   ]
  },
  {
   "cell_type": "code",
   "execution_count": 213,
   "metadata": {},
   "outputs": [],
   "source": [
    "series_1 = pd.Series(np.arange(3,8), index = [\"a\", \"b\", \"c\", \"d\", 4])"
   ]
  },
  {
   "cell_type": "code",
   "execution_count": 214,
   "metadata": {},
   "outputs": [
    {
     "data": {
      "text/plain": [
       "a    21\n",
       "b    21\n",
       "c     5\n",
       "d     6\n",
       "4     7\n",
       "dtype: int64"
      ]
     },
     "execution_count": 214,
     "metadata": {},
     "output_type": "execute_result"
    }
   ],
   "source": [
    "series_1.iloc[:2] = 21 # setting values in first 2 rows using iloc \n",
    "series_1"
   ]
  },
  {
   "cell_type": "code",
   "execution_count": 215,
   "metadata": {},
   "outputs": [
    {
     "data": {
      "text/plain": [
       "a     21\n",
       "b     21\n",
       "c      5\n",
       "d    100\n",
       "4      7\n",
       "dtype: int64"
      ]
     },
     "execution_count": 215,
     "metadata": {},
     "output_type": "execute_result"
    }
   ],
   "source": [
    "series_1.iat[3] = 100 # setting value in 4th row using iat\n",
    "series_1"
   ]
  },
  {
   "cell_type": "markdown",
   "metadata": {},
   "source": [
    "##### Example 1.3.2 (DataFrame):"
   ]
  },
  {
   "cell_type": "code",
   "execution_count": 216,
   "metadata": {},
   "outputs": [],
   "source": [
    "employee_df = my_df = pd.read_csv(\"csv_file_for_pandas.csv\", index_col = 0)"
   ]
  },
  {
   "cell_type": "code",
   "execution_count": 217,
   "metadata": {},
   "outputs": [
    {
     "data": {
      "text/html": [
       "<div>\n",
       "<style scoped>\n",
       "    .dataframe tbody tr th:only-of-type {\n",
       "        vertical-align: middle;\n",
       "    }\n",
       "\n",
       "    .dataframe tbody tr th {\n",
       "        vertical-align: top;\n",
       "    }\n",
       "\n",
       "    .dataframe thead th {\n",
       "        text-align: right;\n",
       "    }\n",
       "</style>\n",
       "<table border=\"1\" class=\"dataframe\">\n",
       "  <thead>\n",
       "    <tr style=\"text-align: right;\">\n",
       "      <th></th>\n",
       "      <th>First</th>\n",
       "      <th>Middle</th>\n",
       "      <th>Beard Style</th>\n",
       "      <th>Age</th>\n",
       "    </tr>\n",
       "  </thead>\n",
       "  <tbody>\n",
       "    <tr>\n",
       "      <th>Dad</th>\n",
       "      <td>Allen</td>\n",
       "      <td>James</td>\n",
       "      <td>Wizard</td>\n",
       "      <td>51</td>\n",
       "    </tr>\n",
       "    <tr>\n",
       "      <th>Son</th>\n",
       "      <td>Ryan</td>\n",
       "      <td>Patrick</td>\n",
       "      <td>Battle Dwarf</td>\n",
       "      <td>25</td>\n",
       "    </tr>\n",
       "    <tr>\n",
       "      <th>Mom</th>\n",
       "      <td>New</td>\n",
       "      <td>New</td>\n",
       "      <td>New</td>\n",
       "      <td>New</td>\n",
       "    </tr>\n",
       "    <tr>\n",
       "      <th>Son</th>\n",
       "      <td>New</td>\n",
       "      <td>New</td>\n",
       "      <td>New</td>\n",
       "      <td>New</td>\n",
       "    </tr>\n",
       "    <tr>\n",
       "      <th>Dog</th>\n",
       "      <td>New</td>\n",
       "      <td>New</td>\n",
       "      <td>New</td>\n",
       "      <td>New</td>\n",
       "    </tr>\n",
       "  </tbody>\n",
       "</table>\n",
       "</div>"
      ],
      "text/plain": [
       "     First   Middle   Beard Style  Age\n",
       "Dad  Allen    James        Wizard   51\n",
       "Son   Ryan  Patrick  Battle Dwarf   25\n",
       "Mom    New      New           New  New\n",
       "Son    New      New           New  New\n",
       "Dog    New      New           New  New"
      ]
     },
     "execution_count": 217,
     "metadata": {},
     "output_type": "execute_result"
    }
   ],
   "source": [
    "employee_df.iloc[2:] = \"New\" # setting value in 3rd row using iloc\n",
    "employee_df"
   ]
  },
  {
   "cell_type": "markdown",
   "metadata": {},
   "source": [
    "##### Problem 6:\n",
    "\n",
    "Using the Pandas DataFrame previously created (*prob2_df*):\n",
    "    \n",
    "    * Change Brazil's population to 250,000,000\n",
    "    * Change China's size to 9,580,000"
   ]
  },
  {
   "cell_type": "code",
   "execution_count": 226,
   "metadata": {},
   "outputs": [
    {
     "data": {
      "text/html": [
       "<div>\n",
       "<style scoped>\n",
       "    .dataframe tbody tr th:only-of-type {\n",
       "        vertical-align: middle;\n",
       "    }\n",
       "\n",
       "    .dataframe tbody tr th {\n",
       "        vertical-align: top;\n",
       "    }\n",
       "\n",
       "    .dataframe thead th {\n",
       "        text-align: right;\n",
       "    }\n",
       "</style>\n",
       "<table border=\"1\" class=\"dataframe\">\n",
       "  <thead>\n",
       "    <tr style=\"text-align: right;\">\n",
       "      <th></th>\n",
       "      <th>Country Name</th>\n",
       "      <th>Population</th>\n",
       "      <th>Size</th>\n",
       "    </tr>\n",
       "  </thead>\n",
       "  <tbody>\n",
       "    <tr>\n",
       "      <th>0</th>\n",
       "      <td>China</td>\n",
       "      <td>1409517397</td>\n",
       "      <td>9572900</td>\n",
       "    </tr>\n",
       "    <tr>\n",
       "      <th>1</th>\n",
       "      <td>India</td>\n",
       "      <td>1339180127</td>\n",
       "      <td>3287263</td>\n",
       "    </tr>\n",
       "    <tr>\n",
       "      <th>2</th>\n",
       "      <td>USA</td>\n",
       "      <td>324459463</td>\n",
       "      <td>9629091</td>\n",
       "    </tr>\n",
       "    <tr>\n",
       "      <th>3</th>\n",
       "      <td>Indonesia</td>\n",
       "      <td>263991379</td>\n",
       "      <td>1904556</td>\n",
       "    </tr>\n",
       "    <tr>\n",
       "      <th>4</th>\n",
       "      <td>Brazil</td>\n",
       "      <td>209288278</td>\n",
       "      <td>8511965</td>\n",
       "    </tr>\n",
       "  </tbody>\n",
       "</table>\n",
       "</div>"
      ],
      "text/plain": [
       "  Country Name  Population     Size\n",
       "0        China  1409517397  9572900\n",
       "1        India  1339180127  3287263\n",
       "2          USA   324459463  9629091\n",
       "3    Indonesia   263991379  1904556\n",
       "4       Brazil   209288278  8511965"
      ]
     },
     "execution_count": 226,
     "metadata": {},
     "output_type": "execute_result"
    }
   ],
   "source": [
    "#before:\n",
    "prob2_dict = [{\"Country Name\":\"China\", \"Population\" : 1409517397, \"Size\" : 9572900},\n",
    "              {\"Country Name\":\"India\", \"Population\" : 1339180127, \"Size\" : 3287263},\n",
    "              {\"Country Name\":\"USA\", \"Population\" : 324459463, \"Size\" : 9629091},\n",
    "              {\"Country Name\":\"Indonesia\", \"Population\" : 263991379, \"Size\" : 1904556},\n",
    "              {\"Country Name\":\"Brazil\", \"Population\" : 209288278, \"Size\" : 8511965}]\n",
    "prob2_df = pd.DataFrame(prob2_dict)\n",
    "prob2_df"
   ]
  },
  {
   "cell_type": "code",
   "execution_count": 228,
   "metadata": {},
   "outputs": [
    {
     "data": {
      "text/html": [
       "<div>\n",
       "<style scoped>\n",
       "    .dataframe tbody tr th:only-of-type {\n",
       "        vertical-align: middle;\n",
       "    }\n",
       "\n",
       "    .dataframe tbody tr th {\n",
       "        vertical-align: top;\n",
       "    }\n",
       "\n",
       "    .dataframe thead th {\n",
       "        text-align: right;\n",
       "    }\n",
       "</style>\n",
       "<table border=\"1\" class=\"dataframe\">\n",
       "  <thead>\n",
       "    <tr style=\"text-align: right;\">\n",
       "      <th></th>\n",
       "      <th>Country Name</th>\n",
       "      <th>Population</th>\n",
       "      <th>Size</th>\n",
       "    </tr>\n",
       "  </thead>\n",
       "  <tbody>\n",
       "    <tr>\n",
       "      <th>0</th>\n",
       "      <td>China</td>\n",
       "      <td>1409517397</td>\n",
       "      <td>9580000</td>\n",
       "    </tr>\n",
       "    <tr>\n",
       "      <th>1</th>\n",
       "      <td>India</td>\n",
       "      <td>1339180127</td>\n",
       "      <td>3287263</td>\n",
       "    </tr>\n",
       "    <tr>\n",
       "      <th>2</th>\n",
       "      <td>USA</td>\n",
       "      <td>324459463</td>\n",
       "      <td>9629091</td>\n",
       "    </tr>\n",
       "    <tr>\n",
       "      <th>3</th>\n",
       "      <td>Indonesia</td>\n",
       "      <td>263991379</td>\n",
       "      <td>1904556</td>\n",
       "    </tr>\n",
       "    <tr>\n",
       "      <th>4</th>\n",
       "      <td>Brazil</td>\n",
       "      <td>209288278</td>\n",
       "      <td>250000000</td>\n",
       "    </tr>\n",
       "  </tbody>\n",
       "</table>\n",
       "</div>"
      ],
      "text/plain": [
       "  Country Name  Population       Size\n",
       "0        China  1409517397    9580000\n",
       "1        India  1339180127    3287263\n",
       "2          USA   324459463    9629091\n",
       "3    Indonesia   263991379    1904556\n",
       "4       Brazil   209288278  250000000"
      ]
     },
     "execution_count": 228,
     "metadata": {},
     "output_type": "execute_result"
    }
   ],
   "source": [
    "### Write code here\n",
    "#after:\n",
    "\n",
    "prob2_df.at[4,\"Size\"], prob2_df.at[0,\"Size\"] = 250000000, 9580000\n",
    "prob2_df\n"
   ]
  },
  {
   "cell_type": "markdown",
   "metadata": {},
   "source": [
    "#### Part 2 (Manipulating Rows):"
   ]
  },
  {
   "cell_type": "markdown",
   "metadata": {},
   "source": [
    "##### Example 2.1 (Changing Row Index - Method 1):\n",
    "\n",
    "Method 1 is renaming the row index (`df.rename(index=)`)"
   ]
  },
  {
   "cell_type": "markdown",
   "metadata": {},
   "source": [
    "##### Example 2.1.1 (Series):\n",
    "\n",
    "Documentation: https://pandas.pydata.org/pandas-docs/stable/generated/pandas.Series.rename.html"
   ]
  },
  {
   "cell_type": "code",
   "execution_count": 229,
   "metadata": {
    "scrolled": true
   },
   "outputs": [
    {
     "data": {
      "text/plain": [
       "a    3\n",
       "b    4\n",
       "c    5\n",
       "d    6\n",
       "4    7\n",
       "dtype: int64"
      ]
     },
     "execution_count": 229,
     "metadata": {},
     "output_type": "execute_result"
    }
   ],
   "source": [
    "series_1 = pd.Series(np.arange(3,8), index = [\"a\", \"b\", \"c\", \"d\", 4])\n",
    "series_1"
   ]
  },
  {
   "cell_type": "code",
   "execution_count": 230,
   "metadata": {},
   "outputs": [
    {
     "data": {
      "text/plain": [
       "A       3\n",
       "B       4\n",
       "C       5\n",
       "D       6\n",
       "four    7\n",
       "dtype: int64"
      ]
     },
     "execution_count": 230,
     "metadata": {},
     "output_type": "execute_result"
    }
   ],
   "source": [
    "series_1.rename({\"a\":\"A\", \"b\":\"B\", \"c\":\"C\", \"d\":\"D\", 4:\"four\"}) # map old index to new index "
   ]
  },
  {
   "cell_type": "markdown",
   "metadata": {},
   "source": [
    "Super rad!"
   ]
  },
  {
   "cell_type": "markdown",
   "metadata": {},
   "source": [
    "##### Example 2.1.2 (DataFrame):\n",
    "\n",
    "Documentation: https://pandas.pydata.org/pandas-docs/stable/generated/pandas.DataFrame.rename.html"
   ]
  },
  {
   "cell_type": "code",
   "execution_count": 231,
   "metadata": {
    "scrolled": true
   },
   "outputs": [],
   "source": [
    "employee_df = my_df = pd.read_csv(\"csv_file_for_pandas.csv\", index_col = 0)"
   ]
  },
  {
   "cell_type": "code",
   "execution_count": 234,
   "metadata": {},
   "outputs": [
    {
     "data": {
      "text/html": [
       "<div>\n",
       "<style scoped>\n",
       "    .dataframe tbody tr th:only-of-type {\n",
       "        vertical-align: middle;\n",
       "    }\n",
       "\n",
       "    .dataframe tbody tr th {\n",
       "        vertical-align: top;\n",
       "    }\n",
       "\n",
       "    .dataframe thead th {\n",
       "        text-align: right;\n",
       "    }\n",
       "</style>\n",
       "<table border=\"1\" class=\"dataframe\">\n",
       "  <thead>\n",
       "    <tr style=\"text-align: right;\">\n",
       "      <th></th>\n",
       "      <th>First</th>\n",
       "      <th>Middle</th>\n",
       "      <th>Beard Style</th>\n",
       "      <th>Age</th>\n",
       "    </tr>\n",
       "  </thead>\n",
       "  <tbody>\n",
       "    <tr>\n",
       "      <th>Legal</th>\n",
       "      <td>Allen</td>\n",
       "      <td>James</td>\n",
       "      <td>Wizard</td>\n",
       "      <td>51</td>\n",
       "    </tr>\n",
       "    <tr>\n",
       "      <th>Son</th>\n",
       "      <td>Ryan</td>\n",
       "      <td>Patrick</td>\n",
       "      <td>Battle Dwarf</td>\n",
       "      <td>25</td>\n",
       "    </tr>\n",
       "    <tr>\n",
       "      <th>HR</th>\n",
       "      <td>Michele</td>\n",
       "      <td>Leigh</td>\n",
       "      <td>None</td>\n",
       "      <td>52</td>\n",
       "    </tr>\n",
       "    <tr>\n",
       "      <th>Son</th>\n",
       "      <td>Allen</td>\n",
       "      <td>Michael</td>\n",
       "      <td>Middle-class Hobbit</td>\n",
       "      <td>28</td>\n",
       "    </tr>\n",
       "    <tr>\n",
       "      <th>Dog</th>\n",
       "      <td>BamBam</td>\n",
       "      <td>Doggo</td>\n",
       "      <td>NaN</td>\n",
       "      <td>7</td>\n",
       "    </tr>\n",
       "  </tbody>\n",
       "</table>\n",
       "</div>"
      ],
      "text/plain": [
       "         First   Middle          Beard Style  Age\n",
       "Legal    Allen    James               Wizard   51\n",
       "Son       Ryan  Patrick         Battle Dwarf   25\n",
       "HR     Michele    Leigh                 None   52\n",
       "Son      Allen  Michael  Middle-class Hobbit   28\n",
       "Dog     BamBam    Doggo                  NaN    7"
      ]
     },
     "execution_count": 234,
     "metadata": {},
     "output_type": "execute_result"
    }
   ],
   "source": [
    "employee_df.rename({\"Dad\":\"Legal\", \"Mom\":\"HR\"})# map old row index to new row index"
   ]
  },
  {
   "cell_type": "markdown",
   "metadata": {},
   "source": [
    "##### Problem 7:\n",
    "\n",
    "Using the Pandas DataFrame previously created (*prob2_df*):\n",
    "    \n",
    "    * Rename the indices to the first three letters of each country (e.g. 'Chi', 'Ind', 'USA', etc.) and assign the output to a new data frame called prob7_df"
   ]
  },
  {
   "cell_type": "code",
   "execution_count": 262,
   "metadata": {},
   "outputs": [
    {
     "data": {
      "text/html": [
       "<div>\n",
       "<style scoped>\n",
       "    .dataframe tbody tr th:only-of-type {\n",
       "        vertical-align: middle;\n",
       "    }\n",
       "\n",
       "    .dataframe tbody tr th {\n",
       "        vertical-align: top;\n",
       "    }\n",
       "\n",
       "    .dataframe thead th {\n",
       "        text-align: right;\n",
       "    }\n",
       "</style>\n",
       "<table border=\"1\" class=\"dataframe\">\n",
       "  <thead>\n",
       "    <tr style=\"text-align: right;\">\n",
       "      <th></th>\n",
       "      <th>Country Name</th>\n",
       "      <th>Population</th>\n",
       "      <th>Size</th>\n",
       "    </tr>\n",
       "  </thead>\n",
       "  <tbody>\n",
       "    <tr>\n",
       "      <th>0</th>\n",
       "      <td>China</td>\n",
       "      <td>1409517397</td>\n",
       "      <td>9572900</td>\n",
       "    </tr>\n",
       "    <tr>\n",
       "      <th>1</th>\n",
       "      <td>India</td>\n",
       "      <td>1339180127</td>\n",
       "      <td>3287263</td>\n",
       "    </tr>\n",
       "    <tr>\n",
       "      <th>2</th>\n",
       "      <td>USA</td>\n",
       "      <td>324459463</td>\n",
       "      <td>9629091</td>\n",
       "    </tr>\n",
       "    <tr>\n",
       "      <th>3</th>\n",
       "      <td>Indonesia</td>\n",
       "      <td>263991379</td>\n",
       "      <td>1904556</td>\n",
       "    </tr>\n",
       "    <tr>\n",
       "      <th>4</th>\n",
       "      <td>Brazil</td>\n",
       "      <td>209288278</td>\n",
       "      <td>8511965</td>\n",
       "    </tr>\n",
       "  </tbody>\n",
       "</table>\n",
       "</div>"
      ],
      "text/plain": [
       "  Country Name  Population     Size\n",
       "0        China  1409517397  9572900\n",
       "1        India  1339180127  3287263\n",
       "2          USA   324459463  9629091\n",
       "3    Indonesia   263991379  1904556\n",
       "4       Brazil   209288278  8511965"
      ]
     },
     "execution_count": 262,
     "metadata": {},
     "output_type": "execute_result"
    }
   ],
   "source": [
    "#before:\n",
    "prob2_dict = [{\"Country Name\":\"China\", \"Population\" : 1409517397, \"Size\" : 9572900},\n",
    "              {\"Country Name\":\"India\", \"Population\" : 1339180127, \"Size\" : 3287263},\n",
    "              {\"Country Name\":\"USA\", \"Population\" : 324459463, \"Size\" : 9629091},\n",
    "              {\"Country Name\":\"Indonesia\", \"Population\" : 263991379, \"Size\" : 1904556},\n",
    "              {\"Country Name\":\"Brazil\", \"Population\" : 209288278, \"Size\" : 8511965}]\n",
    "prob2_df = pd.DataFrame(prob2_dict)\n",
    "prob2_df"
   ]
  },
  {
   "cell_type": "code",
   "execution_count": 263,
   "metadata": {},
   "outputs": [
    {
     "data": {
      "text/html": [
       "<div>\n",
       "<style scoped>\n",
       "    .dataframe tbody tr th:only-of-type {\n",
       "        vertical-align: middle;\n",
       "    }\n",
       "\n",
       "    .dataframe tbody tr th {\n",
       "        vertical-align: top;\n",
       "    }\n",
       "\n",
       "    .dataframe thead th {\n",
       "        text-align: right;\n",
       "    }\n",
       "</style>\n",
       "<table border=\"1\" class=\"dataframe\">\n",
       "  <thead>\n",
       "    <tr style=\"text-align: right;\">\n",
       "      <th></th>\n",
       "      <th>Country Name</th>\n",
       "      <th>Population</th>\n",
       "      <th>Size</th>\n",
       "    </tr>\n",
       "  </thead>\n",
       "  <tbody>\n",
       "    <tr>\n",
       "      <th>0</th>\n",
       "      <td>Chi</td>\n",
       "      <td>1409517397</td>\n",
       "      <td>9572900</td>\n",
       "    </tr>\n",
       "    <tr>\n",
       "      <th>1</th>\n",
       "      <td>Ind</td>\n",
       "      <td>1339180127</td>\n",
       "      <td>3287263</td>\n",
       "    </tr>\n",
       "    <tr>\n",
       "      <th>2</th>\n",
       "      <td>USA</td>\n",
       "      <td>324459463</td>\n",
       "      <td>9629091</td>\n",
       "    </tr>\n",
       "    <tr>\n",
       "      <th>3</th>\n",
       "      <td>Ind</td>\n",
       "      <td>263991379</td>\n",
       "      <td>1904556</td>\n",
       "    </tr>\n",
       "    <tr>\n",
       "      <th>4</th>\n",
       "      <td>Bra</td>\n",
       "      <td>209288278</td>\n",
       "      <td>8511965</td>\n",
       "    </tr>\n",
       "  </tbody>\n",
       "</table>\n",
       "</div>"
      ],
      "text/plain": [
       "  Country Name  Population     Size\n",
       "0          Chi  1409517397  9572900\n",
       "1          Ind  1339180127  3287263\n",
       "2          USA   324459463  9629091\n",
       "3          Ind   263991379  1904556\n",
       "4          Bra   209288278  8511965"
      ]
     },
     "execution_count": 263,
     "metadata": {},
     "output_type": "execute_result"
    }
   ],
   "source": [
    "### Write code here\n",
    "\n",
    "prob7_df, prob7_df['Country Name'] = prob2_df.copy(deep = True), prob2_df['Country Name'].apply(lambda x: x[0:3])\n",
    "prob7_df"
   ]
  },
  {
   "cell_type": "markdown",
   "metadata": {},
   "source": [
    "Very pleased with this beautiful example of efficiency in Python, which employs a lambda function to deep copy the library in a single line of code."
   ]
  },
  {
   "cell_type": "markdown",
   "metadata": {},
   "source": [
    "##### Example 2.2 (Changing Row Index - Method 2):\n",
    "\n",
    "Method 2 is renaming the row index (`df.reset_index(drop=True)`)"
   ]
  },
  {
   "cell_type": "markdown",
   "metadata": {},
   "source": [
    "##### Example 2.2.1 (Series):\n",
    "\n",
    "Documentation: https://pandas.pydata.org/pandas-docs/stable/generated/pandas.Series.reset_index.html"
   ]
  },
  {
   "cell_type": "code",
   "execution_count": 264,
   "metadata": {},
   "outputs": [
    {
     "data": {
      "text/plain": [
       "pandas.core.series.Series"
      ]
     },
     "execution_count": 264,
     "metadata": {},
     "output_type": "execute_result"
    }
   ],
   "source": [
    "series_1 = pd.Series(np.arange(3,8), index = [\"a\", \"b\", \"c\", \"d\", 4])\n",
    "type(series_1)"
   ]
  },
  {
   "cell_type": "code",
   "execution_count": 265,
   "metadata": {
    "scrolled": true
   },
   "outputs": [
    {
     "data": {
      "text/html": [
       "<div>\n",
       "<style scoped>\n",
       "    .dataframe tbody tr th:only-of-type {\n",
       "        vertical-align: middle;\n",
       "    }\n",
       "\n",
       "    .dataframe tbody tr th {\n",
       "        vertical-align: top;\n",
       "    }\n",
       "\n",
       "    .dataframe thead th {\n",
       "        text-align: right;\n",
       "    }\n",
       "</style>\n",
       "<table border=\"1\" class=\"dataframe\">\n",
       "  <thead>\n",
       "    <tr style=\"text-align: right;\">\n",
       "      <th></th>\n",
       "      <th>index</th>\n",
       "      <th>0</th>\n",
       "    </tr>\n",
       "  </thead>\n",
       "  <tbody>\n",
       "    <tr>\n",
       "      <th>0</th>\n",
       "      <td>a</td>\n",
       "      <td>3</td>\n",
       "    </tr>\n",
       "    <tr>\n",
       "      <th>1</th>\n",
       "      <td>b</td>\n",
       "      <td>4</td>\n",
       "    </tr>\n",
       "    <tr>\n",
       "      <th>2</th>\n",
       "      <td>c</td>\n",
       "      <td>5</td>\n",
       "    </tr>\n",
       "    <tr>\n",
       "      <th>3</th>\n",
       "      <td>d</td>\n",
       "      <td>6</td>\n",
       "    </tr>\n",
       "    <tr>\n",
       "      <th>4</th>\n",
       "      <td>4</td>\n",
       "      <td>7</td>\n",
       "    </tr>\n",
       "  </tbody>\n",
       "</table>\n",
       "</div>"
      ],
      "text/plain": [
       "  index  0\n",
       "0     a  3\n",
       "1     b  4\n",
       "2     c  5\n",
       "3     d  6\n",
       "4     4  7"
      ]
     },
     "execution_count": 265,
     "metadata": {},
     "output_type": "execute_result"
    }
   ],
   "source": [
    "series_1.reset_index() # resets index and adds a column of old index (returns dataframe), and it is not in place"
   ]
  },
  {
   "cell_type": "markdown",
   "metadata": {},
   "source": [
    "##### Example 2.2.2 (DataFrames):\n",
    "\n",
    "Documentation: https://pandas.pydata.org/pandas-docs/stable/generated/pandas.DataFrame.reset_index.html#pandas.DataFrame.reset_index"
   ]
  },
  {
   "cell_type": "code",
   "execution_count": 266,
   "metadata": {},
   "outputs": [],
   "source": [
    "employee_df = my_df = pd.read_csv(\"csv_file_for_pandas.csv\", index_col = 0)"
   ]
  },
  {
   "cell_type": "code",
   "execution_count": 267,
   "metadata": {
    "scrolled": true
   },
   "outputs": [
    {
     "data": {
      "text/html": [
       "<div>\n",
       "<style scoped>\n",
       "    .dataframe tbody tr th:only-of-type {\n",
       "        vertical-align: middle;\n",
       "    }\n",
       "\n",
       "    .dataframe tbody tr th {\n",
       "        vertical-align: top;\n",
       "    }\n",
       "\n",
       "    .dataframe thead th {\n",
       "        text-align: right;\n",
       "    }\n",
       "</style>\n",
       "<table border=\"1\" class=\"dataframe\">\n",
       "  <thead>\n",
       "    <tr style=\"text-align: right;\">\n",
       "      <th></th>\n",
       "      <th>index</th>\n",
       "      <th>First</th>\n",
       "      <th>Middle</th>\n",
       "      <th>Beard Style</th>\n",
       "      <th>Age</th>\n",
       "    </tr>\n",
       "  </thead>\n",
       "  <tbody>\n",
       "    <tr>\n",
       "      <th>0</th>\n",
       "      <td>Dad</td>\n",
       "      <td>Allen</td>\n",
       "      <td>James</td>\n",
       "      <td>Wizard</td>\n",
       "      <td>51</td>\n",
       "    </tr>\n",
       "    <tr>\n",
       "      <th>1</th>\n",
       "      <td>Son</td>\n",
       "      <td>Ryan</td>\n",
       "      <td>Patrick</td>\n",
       "      <td>Battle Dwarf</td>\n",
       "      <td>25</td>\n",
       "    </tr>\n",
       "    <tr>\n",
       "      <th>2</th>\n",
       "      <td>Mom</td>\n",
       "      <td>Michele</td>\n",
       "      <td>Leigh</td>\n",
       "      <td>None</td>\n",
       "      <td>52</td>\n",
       "    </tr>\n",
       "    <tr>\n",
       "      <th>3</th>\n",
       "      <td>Son</td>\n",
       "      <td>Allen</td>\n",
       "      <td>Michael</td>\n",
       "      <td>Middle-class Hobbit</td>\n",
       "      <td>28</td>\n",
       "    </tr>\n",
       "    <tr>\n",
       "      <th>4</th>\n",
       "      <td>Dog</td>\n",
       "      <td>BamBam</td>\n",
       "      <td>Doggo</td>\n",
       "      <td>NaN</td>\n",
       "      <td>7</td>\n",
       "    </tr>\n",
       "  </tbody>\n",
       "</table>\n",
       "</div>"
      ],
      "text/plain": [
       "  index    First   Middle          Beard Style  Age\n",
       "0   Dad    Allen    James               Wizard   51\n",
       "1   Son     Ryan  Patrick         Battle Dwarf   25\n",
       "2   Mom  Michele    Leigh                 None   52\n",
       "3   Son    Allen  Michael  Middle-class Hobbit   28\n",
       "4   Dog   BamBam    Doggo                  NaN    7"
      ]
     },
     "execution_count": 267,
     "metadata": {},
     "output_type": "execute_result"
    }
   ],
   "source": [
    "employee_df.reset_index() # resets index and adds a column of old index. It is not in place."
   ]
  },
  {
   "cell_type": "code",
   "execution_count": 268,
   "metadata": {},
   "outputs": [
    {
     "data": {
      "text/html": [
       "<div>\n",
       "<style scoped>\n",
       "    .dataframe tbody tr th:only-of-type {\n",
       "        vertical-align: middle;\n",
       "    }\n",
       "\n",
       "    .dataframe tbody tr th {\n",
       "        vertical-align: top;\n",
       "    }\n",
       "\n",
       "    .dataframe thead th {\n",
       "        text-align: right;\n",
       "    }\n",
       "</style>\n",
       "<table border=\"1\" class=\"dataframe\">\n",
       "  <thead>\n",
       "    <tr style=\"text-align: right;\">\n",
       "      <th></th>\n",
       "      <th>First</th>\n",
       "      <th>Middle</th>\n",
       "      <th>Beard Style</th>\n",
       "      <th>Age</th>\n",
       "    </tr>\n",
       "  </thead>\n",
       "  <tbody>\n",
       "    <tr>\n",
       "      <th>Dad</th>\n",
       "      <td>Allen</td>\n",
       "      <td>James</td>\n",
       "      <td>Wizard</td>\n",
       "      <td>51</td>\n",
       "    </tr>\n",
       "    <tr>\n",
       "      <th>Son</th>\n",
       "      <td>Ryan</td>\n",
       "      <td>Patrick</td>\n",
       "      <td>Battle Dwarf</td>\n",
       "      <td>25</td>\n",
       "    </tr>\n",
       "    <tr>\n",
       "      <th>Mom</th>\n",
       "      <td>Michele</td>\n",
       "      <td>Leigh</td>\n",
       "      <td>None</td>\n",
       "      <td>52</td>\n",
       "    </tr>\n",
       "    <tr>\n",
       "      <th>Son</th>\n",
       "      <td>Allen</td>\n",
       "      <td>Michael</td>\n",
       "      <td>Middle-class Hobbit</td>\n",
       "      <td>28</td>\n",
       "    </tr>\n",
       "    <tr>\n",
       "      <th>Dog</th>\n",
       "      <td>BamBam</td>\n",
       "      <td>Doggo</td>\n",
       "      <td>NaN</td>\n",
       "      <td>7</td>\n",
       "    </tr>\n",
       "  </tbody>\n",
       "</table>\n",
       "</div>"
      ],
      "text/plain": [
       "       First   Middle          Beard Style  Age\n",
       "Dad    Allen    James               Wizard   51\n",
       "Son     Ryan  Patrick         Battle Dwarf   25\n",
       "Mom  Michele    Leigh                 None   52\n",
       "Son    Allen  Michael  Middle-class Hobbit   28\n",
       "Dog   BamBam    Doggo                  NaN    7"
      ]
     },
     "execution_count": 268,
     "metadata": {},
     "output_type": "execute_result"
    }
   ],
   "source": [
    "employee_df"
   ]
  },
  {
   "cell_type": "markdown",
   "metadata": {},
   "source": [
    "##### Example 2.3 (Changing Row Index - Method 3):\n",
    "\n",
    "Method 3 is re-indexing labels (`df.reindex(index=)`) "
   ]
  },
  {
   "cell_type": "markdown",
   "metadata": {},
   "source": [
    "##### Example 2.3.1 (Series):\n",
    "\n",
    "Documentation: https://pandas.pydata.org/pandas-docs/stable/generated/pandas.Series.reindex.html"
   ]
  },
  {
   "cell_type": "code",
   "execution_count": 270,
   "metadata": {},
   "outputs": [
    {
     "data": {
      "text/plain": [
       "a    3\n",
       "b    4\n",
       "c    5\n",
       "d    6\n",
       "4    7\n",
       "dtype: int64"
      ]
     },
     "execution_count": 270,
     "metadata": {},
     "output_type": "execute_result"
    }
   ],
   "source": [
    "series_1 = pd.Series(np.arange(3,8), index = [\"a\", \"b\", \"c\", \"d\", 4])\n",
    "series_1"
   ]
  },
  {
   "cell_type": "code",
   "execution_count": 274,
   "metadata": {
    "scrolled": true
   },
   "outputs": [
    {
     "name": "stdout",
     "output_type": "stream",
     "text": [
      "a        3.0\n",
      "b        4.0\n",
      "New_1    NaN\n",
      "New_2    NaN\n",
      "4        7.0\n",
      "dtype: float64\n",
      "\n",
      " a    3\n",
      "b    4\n",
      "c    5\n",
      "d    6\n",
      "4    7\n",
      "dtype: int64\n"
     ]
    }
   ],
   "source": [
    "new_index = [\"a\", \"b\", \"New_1\", \"New_2\", 4] # change some indexes \n",
    "print(series_1.reindex(new_index))\n",
    "print(\"\\n\", series_1)"
   ]
  },
  {
   "cell_type": "markdown",
   "metadata": {},
   "source": [
    "##### Example 2.3.2 (DataFrames):\n",
    "\n",
    "Documentation: https://pandas.pydata.org/pandas-docs/stable/generated/pandas.DataFrame.reindex.html"
   ]
  },
  {
   "cell_type": "code",
   "execution_count": 289,
   "metadata": {},
   "outputs": [
    {
     "data": {
      "text/html": [
       "<div>\n",
       "<style scoped>\n",
       "    .dataframe tbody tr th:only-of-type {\n",
       "        vertical-align: middle;\n",
       "    }\n",
       "\n",
       "    .dataframe tbody tr th {\n",
       "        vertical-align: top;\n",
       "    }\n",
       "\n",
       "    .dataframe thead th {\n",
       "        text-align: right;\n",
       "    }\n",
       "</style>\n",
       "<table border=\"1\" class=\"dataframe\">\n",
       "  <thead>\n",
       "    <tr style=\"text-align: right;\">\n",
       "      <th></th>\n",
       "      <th>First</th>\n",
       "      <th>Middle</th>\n",
       "      <th>Beard Style</th>\n",
       "      <th>Age</th>\n",
       "    </tr>\n",
       "  </thead>\n",
       "  <tbody>\n",
       "    <tr>\n",
       "      <th>Dad</th>\n",
       "      <td>Allen</td>\n",
       "      <td>James</td>\n",
       "      <td>Wizard</td>\n",
       "      <td>51</td>\n",
       "    </tr>\n",
       "    <tr>\n",
       "      <th>Son</th>\n",
       "      <td>Ryan</td>\n",
       "      <td>Patrick</td>\n",
       "      <td>Battle Dwarf</td>\n",
       "      <td>25</td>\n",
       "    </tr>\n",
       "    <tr>\n",
       "      <th>Mom</th>\n",
       "      <td>Michele</td>\n",
       "      <td>Leigh</td>\n",
       "      <td>None</td>\n",
       "      <td>52</td>\n",
       "    </tr>\n",
       "    <tr>\n",
       "      <th>Son</th>\n",
       "      <td>Allen</td>\n",
       "      <td>Michael</td>\n",
       "      <td>Middle-class Hobbit</td>\n",
       "      <td>28</td>\n",
       "    </tr>\n",
       "    <tr>\n",
       "      <th>Dog</th>\n",
       "      <td>BamBam</td>\n",
       "      <td>Doggo</td>\n",
       "      <td>NaN</td>\n",
       "      <td>7</td>\n",
       "    </tr>\n",
       "  </tbody>\n",
       "</table>\n",
       "</div>"
      ],
      "text/plain": [
       "       First   Middle          Beard Style  Age\n",
       "Dad    Allen    James               Wizard   51\n",
       "Son     Ryan  Patrick         Battle Dwarf   25\n",
       "Mom  Michele    Leigh                 None   52\n",
       "Son    Allen  Michael  Middle-class Hobbit   28\n",
       "Dog   BamBam    Doggo                  NaN    7"
      ]
     },
     "execution_count": 289,
     "metadata": {},
     "output_type": "execute_result"
    }
   ],
   "source": [
    "employee_df = my_df = pd.read_csv(\"csv_file_for_pandas.csv\", index_col = 0)\n",
    "employee_df"
   ]
  },
  {
   "cell_type": "code",
   "execution_count": 286,
   "metadata": {
    "scrolled": false
   },
   "outputs": [],
   "source": [
    "### The following will return a very lengthy error because there are duplicate values in the index!\n",
    "\n",
    "# new_index = [\"Employee_1\", \"Employee_2\", \"Employee_3\", \"Employee_4\", \"Employee_5\"]\n",
    "# employee_df.reindex(new_index) # change some indexes\n",
    "\n",
    "## We'll leave that problem to be solved another time."
   ]
  },
  {
   "cell_type": "code",
   "execution_count": 293,
   "metadata": {},
   "outputs": [
    {
     "data": {
      "text/html": [
       "<div>\n",
       "<style scoped>\n",
       "    .dataframe tbody tr th:only-of-type {\n",
       "        vertical-align: middle;\n",
       "    }\n",
       "\n",
       "    .dataframe tbody tr th {\n",
       "        vertical-align: top;\n",
       "    }\n",
       "\n",
       "    .dataframe thead th {\n",
       "        text-align: right;\n",
       "    }\n",
       "</style>\n",
       "<table border=\"1\" class=\"dataframe\">\n",
       "  <thead>\n",
       "    <tr style=\"text-align: right;\">\n",
       "      <th></th>\n",
       "      <th>Country Name</th>\n",
       "      <th>Population</th>\n",
       "      <th>Size</th>\n",
       "    </tr>\n",
       "  </thead>\n",
       "  <tbody>\n",
       "    <tr>\n",
       "      <th>Country_1</th>\n",
       "      <td>NaN</td>\n",
       "      <td>NaN</td>\n",
       "      <td>NaN</td>\n",
       "    </tr>\n",
       "    <tr>\n",
       "      <th>Country_2</th>\n",
       "      <td>NaN</td>\n",
       "      <td>NaN</td>\n",
       "      <td>NaN</td>\n",
       "    </tr>\n",
       "    <tr>\n",
       "      <th>Country_3</th>\n",
       "      <td>NaN</td>\n",
       "      <td>NaN</td>\n",
       "      <td>NaN</td>\n",
       "    </tr>\n",
       "    <tr>\n",
       "      <th>Country_4</th>\n",
       "      <td>NaN</td>\n",
       "      <td>NaN</td>\n",
       "      <td>NaN</td>\n",
       "    </tr>\n",
       "    <tr>\n",
       "      <th>Country_5</th>\n",
       "      <td>NaN</td>\n",
       "      <td>NaN</td>\n",
       "      <td>NaN</td>\n",
       "    </tr>\n",
       "  </tbody>\n",
       "</table>\n",
       "</div>"
      ],
      "text/plain": [
       "          Country Name  Population  Size\n",
       "Country_1          NaN         NaN   NaN\n",
       "Country_2          NaN         NaN   NaN\n",
       "Country_3          NaN         NaN   NaN\n",
       "Country_4          NaN         NaN   NaN\n",
       "Country_5          NaN         NaN   NaN"
      ]
     },
     "execution_count": 293,
     "metadata": {},
     "output_type": "execute_result"
    }
   ],
   "source": [
    "new_index = [\"Country_1\", \"Country_2\", \"Country_3\", \"Country_4\", \"Country_5\"]\n",
    "prob7_df = prob7_df.reindex(new_index) # change some indexes\n",
    "prob7_df"
   ]
  },
  {
   "cell_type": "markdown",
   "metadata": {},
   "source": [
    "But as we can see, that's now a very nice result. Hmmmm."
   ]
  },
  {
   "cell_type": "markdown",
   "metadata": {},
   "source": [
    "##### Example 2.4 (Adding Rows - Method 1):\n",
    "\n",
    "Method 1 is inserting row within the DataFrame (`pd.concat()`)"
   ]
  },
  {
   "cell_type": "markdown",
   "metadata": {},
   "source": [
    "##### Example 2.4.1 (DataFrame):\n",
    "\n",
    "Documentation: https://pandas.pydata.org/pandas-docs/stable/generated/pandas.concat.html"
   ]
  },
  {
   "cell_type": "code",
   "execution_count": 301,
   "metadata": {},
   "outputs": [
    {
     "data": {
      "text/html": [
       "<div>\n",
       "<style scoped>\n",
       "    .dataframe tbody tr th:only-of-type {\n",
       "        vertical-align: middle;\n",
       "    }\n",
       "\n",
       "    .dataframe tbody tr th {\n",
       "        vertical-align: top;\n",
       "    }\n",
       "\n",
       "    .dataframe thead th {\n",
       "        text-align: right;\n",
       "    }\n",
       "</style>\n",
       "<table border=\"1\" class=\"dataframe\">\n",
       "  <thead>\n",
       "    <tr style=\"text-align: right;\">\n",
       "      <th></th>\n",
       "      <th>First</th>\n",
       "      <th>Middle</th>\n",
       "      <th>Beard Style</th>\n",
       "      <th>Age</th>\n",
       "    </tr>\n",
       "  </thead>\n",
       "  <tbody>\n",
       "    <tr>\n",
       "      <th>Dad</th>\n",
       "      <td>Allen</td>\n",
       "      <td>James</td>\n",
       "      <td>Wizard</td>\n",
       "      <td>51</td>\n",
       "    </tr>\n",
       "    <tr>\n",
       "      <th>Son</th>\n",
       "      <td>Ryan</td>\n",
       "      <td>Patrick</td>\n",
       "      <td>Battle Dwarf</td>\n",
       "      <td>25</td>\n",
       "    </tr>\n",
       "    <tr>\n",
       "      <th>Mom</th>\n",
       "      <td>Michele</td>\n",
       "      <td>Leigh</td>\n",
       "      <td>None</td>\n",
       "      <td>52</td>\n",
       "    </tr>\n",
       "    <tr>\n",
       "      <th>Son</th>\n",
       "      <td>Allen</td>\n",
       "      <td>Michael</td>\n",
       "      <td>Middle-class Hobbit</td>\n",
       "      <td>28</td>\n",
       "    </tr>\n",
       "    <tr>\n",
       "      <th>Dog</th>\n",
       "      <td>BamBam</td>\n",
       "      <td>Doggo</td>\n",
       "      <td>NaN</td>\n",
       "      <td>7</td>\n",
       "    </tr>\n",
       "  </tbody>\n",
       "</table>\n",
       "</div>"
      ],
      "text/plain": [
       "       First   Middle          Beard Style  Age\n",
       "Dad    Allen    James               Wizard   51\n",
       "Son     Ryan  Patrick         Battle Dwarf   25\n",
       "Mom  Michele    Leigh                 None   52\n",
       "Son    Allen  Michael  Middle-class Hobbit   28\n",
       "Dog   BamBam    Doggo                  NaN    7"
      ]
     },
     "execution_count": 301,
     "metadata": {},
     "output_type": "execute_result"
    }
   ],
   "source": [
    "employee_df = my_df = pd.read_csv(\"csv_file_for_pandas.csv\", index_col = 0)\n",
    "employee_df"
   ]
  },
  {
   "cell_type": "code",
   "execution_count": 302,
   "metadata": {
    "scrolled": true
   },
   "outputs": [
    {
     "data": {
      "text/html": [
       "<div>\n",
       "<style scoped>\n",
       "    .dataframe tbody tr th:only-of-type {\n",
       "        vertical-align: middle;\n",
       "    }\n",
       "\n",
       "    .dataframe tbody tr th {\n",
       "        vertical-align: top;\n",
       "    }\n",
       "\n",
       "    .dataframe thead th {\n",
       "        text-align: right;\n",
       "    }\n",
       "</style>\n",
       "<table border=\"1\" class=\"dataframe\">\n",
       "  <thead>\n",
       "    <tr style=\"text-align: right;\">\n",
       "      <th></th>\n",
       "      <th>First</th>\n",
       "      <th>Middle</th>\n",
       "      <th>Beard Style</th>\n",
       "      <th>Age</th>\n",
       "    </tr>\n",
       "  </thead>\n",
       "  <tbody>\n",
       "    <tr>\n",
       "      <th>Stepson</th>\n",
       "      <td>Han</td>\n",
       "      <td>Mansom</td>\n",
       "      <td>Soup filter</td>\n",
       "      <td>31</td>\n",
       "    </tr>\n",
       "  </tbody>\n",
       "</table>\n",
       "</div>"
      ],
      "text/plain": [
       "        First  Middle  Beard Style  Age\n",
       "Stepson   Han  Mansom  Soup filter   31"
      ]
     },
     "execution_count": 302,
     "metadata": {},
     "output_type": "execute_result"
    }
   ],
   "source": [
    "new_entry_list = [{\"First\":\"Han\", \"Middle\":\"Mansom\", \"Beard Style\":\"Soup filter\", \"Age\":31}]\n",
    "new_entry_df = pd.DataFrame(new_entry_list, index = [\"Stepson\"], columns = employee_df.columns)\n",
    "new_entry_df"
   ]
  },
  {
   "cell_type": "code",
   "execution_count": 303,
   "metadata": {
    "scrolled": true
   },
   "outputs": [
    {
     "data": {
      "text/html": [
       "<div>\n",
       "<style scoped>\n",
       "    .dataframe tbody tr th:only-of-type {\n",
       "        vertical-align: middle;\n",
       "    }\n",
       "\n",
       "    .dataframe tbody tr th {\n",
       "        vertical-align: top;\n",
       "    }\n",
       "\n",
       "    .dataframe thead th {\n",
       "        text-align: right;\n",
       "    }\n",
       "</style>\n",
       "<table border=\"1\" class=\"dataframe\">\n",
       "  <thead>\n",
       "    <tr style=\"text-align: right;\">\n",
       "      <th></th>\n",
       "      <th>First</th>\n",
       "      <th>Middle</th>\n",
       "      <th>Beard Style</th>\n",
       "      <th>Age</th>\n",
       "    </tr>\n",
       "  </thead>\n",
       "  <tbody>\n",
       "    <tr>\n",
       "      <th>Dad</th>\n",
       "      <td>Allen</td>\n",
       "      <td>James</td>\n",
       "      <td>Wizard</td>\n",
       "      <td>51</td>\n",
       "    </tr>\n",
       "    <tr>\n",
       "      <th>Son</th>\n",
       "      <td>Ryan</td>\n",
       "      <td>Patrick</td>\n",
       "      <td>Battle Dwarf</td>\n",
       "      <td>25</td>\n",
       "    </tr>\n",
       "    <tr>\n",
       "      <th>Mom</th>\n",
       "      <td>Michele</td>\n",
       "      <td>Leigh</td>\n",
       "      <td>None</td>\n",
       "      <td>52</td>\n",
       "    </tr>\n",
       "    <tr>\n",
       "      <th>Son</th>\n",
       "      <td>Allen</td>\n",
       "      <td>Michael</td>\n",
       "      <td>Middle-class Hobbit</td>\n",
       "      <td>28</td>\n",
       "    </tr>\n",
       "    <tr>\n",
       "      <th>Dog</th>\n",
       "      <td>BamBam</td>\n",
       "      <td>Doggo</td>\n",
       "      <td>NaN</td>\n",
       "      <td>7</td>\n",
       "    </tr>\n",
       "    <tr>\n",
       "      <th>Stepson</th>\n",
       "      <td>Han</td>\n",
       "      <td>Mansom</td>\n",
       "      <td>Soup filter</td>\n",
       "      <td>31</td>\n",
       "    </tr>\n",
       "  </tbody>\n",
       "</table>\n",
       "</div>"
      ],
      "text/plain": [
       "           First   Middle          Beard Style  Age\n",
       "Dad        Allen    James               Wizard   51\n",
       "Son         Ryan  Patrick         Battle Dwarf   25\n",
       "Mom      Michele    Leigh                 None   52\n",
       "Son        Allen  Michael  Middle-class Hobbit   28\n",
       "Dog       BamBam    Doggo                  NaN    7\n",
       "Stepson      Han   Mansom          Soup filter   31"
      ]
     },
     "execution_count": 303,
     "metadata": {},
     "output_type": "execute_result"
    }
   ],
   "source": [
    "# form a new dataframe which is a concatenation of 2 separate dataframes \n",
    "employee_df = pd.concat([employee_df, new_entry_df])\n",
    "\n",
    "employee_df"
   ]
  },
  {
   "cell_type": "markdown",
   "metadata": {},
   "source": [
    "##### Example 2.5 (Adding Rows - Method 2):\n",
    "\n",
    "Method 2 is Adding row at the bottom of the DataFrame (`df.append()` or `df.loc[len(df)] = val`)"
   ]
  },
  {
   "cell_type": "markdown",
   "metadata": {},
   "source": [
    "##### Example 2.5.1 (DataFrame):\n",
    "\n",
    "Documentation: https://pandas.pydata.org/pandas-docs/stable/generated/pandas.DataFrame.append.html"
   ]
  },
  {
   "cell_type": "code",
   "execution_count": 310,
   "metadata": {},
   "outputs": [],
   "source": [
    "employee_df = my_df = pd.read_csv(\"csv_file_for_pandas.csv\", index_col = 0)"
   ]
  },
  {
   "cell_type": "code",
   "execution_count": 311,
   "metadata": {
    "scrolled": true
   },
   "outputs": [
    {
     "data": {
      "text/html": [
       "<div>\n",
       "<style scoped>\n",
       "    .dataframe tbody tr th:only-of-type {\n",
       "        vertical-align: middle;\n",
       "    }\n",
       "\n",
       "    .dataframe tbody tr th {\n",
       "        vertical-align: top;\n",
       "    }\n",
       "\n",
       "    .dataframe thead th {\n",
       "        text-align: right;\n",
       "    }\n",
       "</style>\n",
       "<table border=\"1\" class=\"dataframe\">\n",
       "  <thead>\n",
       "    <tr style=\"text-align: right;\">\n",
       "      <th></th>\n",
       "      <th>First</th>\n",
       "      <th>Middle</th>\n",
       "      <th>Beard Style</th>\n",
       "      <th>Age</th>\n",
       "    </tr>\n",
       "  </thead>\n",
       "  <tbody>\n",
       "    <tr>\n",
       "      <th>Stepson</th>\n",
       "      <td>Han</td>\n",
       "      <td>Mansom</td>\n",
       "      <td>Soup filter</td>\n",
       "      <td>31</td>\n",
       "    </tr>\n",
       "  </tbody>\n",
       "</table>\n",
       "</div>"
      ],
      "text/plain": [
       "        First  Middle  Beard Style  Age\n",
       "Stepson   Han  Mansom  Soup filter   31"
      ]
     },
     "execution_count": 311,
     "metadata": {},
     "output_type": "execute_result"
    }
   ],
   "source": [
    "new_entry_list = [{\"First\":\"Han\", \"Middle\":\"Mansom\", \"Beard Style\":\"Soup filter\", \"Age\":31}]\n",
    "new_entry_df = pd.DataFrame(new_entry_list, index = [\"Stepson\"], columns = employee_df.columns)\n",
    "new_entry_df"
   ]
  },
  {
   "cell_type": "code",
   "execution_count": 312,
   "metadata": {
    "scrolled": false
   },
   "outputs": [
    {
     "data": {
      "text/html": [
       "<div>\n",
       "<style scoped>\n",
       "    .dataframe tbody tr th:only-of-type {\n",
       "        vertical-align: middle;\n",
       "    }\n",
       "\n",
       "    .dataframe tbody tr th {\n",
       "        vertical-align: top;\n",
       "    }\n",
       "\n",
       "    .dataframe thead th {\n",
       "        text-align: right;\n",
       "    }\n",
       "</style>\n",
       "<table border=\"1\" class=\"dataframe\">\n",
       "  <thead>\n",
       "    <tr style=\"text-align: right;\">\n",
       "      <th></th>\n",
       "      <th>First</th>\n",
       "      <th>Middle</th>\n",
       "      <th>Beard Style</th>\n",
       "      <th>Age</th>\n",
       "    </tr>\n",
       "  </thead>\n",
       "  <tbody>\n",
       "    <tr>\n",
       "      <th>Dad</th>\n",
       "      <td>Allen</td>\n",
       "      <td>James</td>\n",
       "      <td>Wizard</td>\n",
       "      <td>51</td>\n",
       "    </tr>\n",
       "    <tr>\n",
       "      <th>Son</th>\n",
       "      <td>Ryan</td>\n",
       "      <td>Patrick</td>\n",
       "      <td>Battle Dwarf</td>\n",
       "      <td>25</td>\n",
       "    </tr>\n",
       "    <tr>\n",
       "      <th>Mom</th>\n",
       "      <td>Michele</td>\n",
       "      <td>Leigh</td>\n",
       "      <td>None</td>\n",
       "      <td>52</td>\n",
       "    </tr>\n",
       "    <tr>\n",
       "      <th>Son</th>\n",
       "      <td>Allen</td>\n",
       "      <td>Michael</td>\n",
       "      <td>Middle-class Hobbit</td>\n",
       "      <td>28</td>\n",
       "    </tr>\n",
       "    <tr>\n",
       "      <th>Dog</th>\n",
       "      <td>BamBam</td>\n",
       "      <td>Doggo</td>\n",
       "      <td>NaN</td>\n",
       "      <td>7</td>\n",
       "    </tr>\n",
       "    <tr>\n",
       "      <th>Stepson</th>\n",
       "      <td>Han</td>\n",
       "      <td>Mansom</td>\n",
       "      <td>Soup filter</td>\n",
       "      <td>31</td>\n",
       "    </tr>\n",
       "  </tbody>\n",
       "</table>\n",
       "</div>"
      ],
      "text/plain": [
       "           First   Middle          Beard Style  Age\n",
       "Dad        Allen    James               Wizard   51\n",
       "Son         Ryan  Patrick         Battle Dwarf   25\n",
       "Mom      Michele    Leigh                 None   52\n",
       "Son        Allen  Michael  Middle-class Hobbit   28\n",
       "Dog       BamBam    Doggo                  NaN    7\n",
       "Stepson      Han   Mansom          Soup filter   31"
      ]
     },
     "execution_count": 312,
     "metadata": {},
     "output_type": "execute_result"
    }
   ],
   "source": [
    "# append new dataframe to bottom \n",
    "employee_df = employee_df.append(new_entry_df)\n",
    "employee_df"
   ]
  },
  {
   "cell_type": "code",
   "execution_count": 313,
   "metadata": {},
   "outputs": [
    {
     "data": {
      "text/plain": [
       "First             Benson\n",
       "Middle         Winniford\n",
       "Beard Style        Payne\n",
       "Age                   29\n",
       "dtype: object"
      ]
     },
     "execution_count": 313,
     "metadata": {},
     "output_type": "execute_result"
    }
   ],
   "source": [
    "new_entry_series = pd.Series([\"Benson\", \"Winniford\", \"Payne\", 29], index = [\"First\", \"Middle\", \"Beard Style\", \"Age\"])\n",
    "new_entry_series"
   ]
  },
  {
   "cell_type": "code",
   "execution_count": 314,
   "metadata": {},
   "outputs": [
    {
     "data": {
      "text/html": [
       "<div>\n",
       "<style scoped>\n",
       "    .dataframe tbody tr th:only-of-type {\n",
       "        vertical-align: middle;\n",
       "    }\n",
       "\n",
       "    .dataframe tbody tr th {\n",
       "        vertical-align: top;\n",
       "    }\n",
       "\n",
       "    .dataframe thead th {\n",
       "        text-align: right;\n",
       "    }\n",
       "</style>\n",
       "<table border=\"1\" class=\"dataframe\">\n",
       "  <thead>\n",
       "    <tr style=\"text-align: right;\">\n",
       "      <th></th>\n",
       "      <th>First</th>\n",
       "      <th>Middle</th>\n",
       "      <th>Beard Style</th>\n",
       "      <th>Age</th>\n",
       "    </tr>\n",
       "  </thead>\n",
       "  <tbody>\n",
       "    <tr>\n",
       "      <th>0</th>\n",
       "      <td>Allen</td>\n",
       "      <td>James</td>\n",
       "      <td>Wizard</td>\n",
       "      <td>51</td>\n",
       "    </tr>\n",
       "    <tr>\n",
       "      <th>1</th>\n",
       "      <td>Ryan</td>\n",
       "      <td>Patrick</td>\n",
       "      <td>Battle Dwarf</td>\n",
       "      <td>25</td>\n",
       "    </tr>\n",
       "    <tr>\n",
       "      <th>2</th>\n",
       "      <td>Michele</td>\n",
       "      <td>Leigh</td>\n",
       "      <td>None</td>\n",
       "      <td>52</td>\n",
       "    </tr>\n",
       "    <tr>\n",
       "      <th>3</th>\n",
       "      <td>Allen</td>\n",
       "      <td>Michael</td>\n",
       "      <td>Middle-class Hobbit</td>\n",
       "      <td>28</td>\n",
       "    </tr>\n",
       "    <tr>\n",
       "      <th>4</th>\n",
       "      <td>BamBam</td>\n",
       "      <td>Doggo</td>\n",
       "      <td>NaN</td>\n",
       "      <td>7</td>\n",
       "    </tr>\n",
       "    <tr>\n",
       "      <th>5</th>\n",
       "      <td>Han</td>\n",
       "      <td>Mansom</td>\n",
       "      <td>Soup filter</td>\n",
       "      <td>31</td>\n",
       "    </tr>\n",
       "    <tr>\n",
       "      <th>6</th>\n",
       "      <td>Benson</td>\n",
       "      <td>Winniford</td>\n",
       "      <td>Payne</td>\n",
       "      <td>29</td>\n",
       "    </tr>\n",
       "  </tbody>\n",
       "</table>\n",
       "</div>"
      ],
      "text/plain": [
       "     First     Middle          Beard Style  Age\n",
       "0    Allen      James               Wizard   51\n",
       "1     Ryan    Patrick         Battle Dwarf   25\n",
       "2  Michele      Leigh                 None   52\n",
       "3    Allen    Michael  Middle-class Hobbit   28\n",
       "4   BamBam      Doggo                  NaN    7\n",
       "5      Han     Mansom          Soup filter   31\n",
       "6   Benson  Winniford                Payne   29"
      ]
     },
     "execution_count": 314,
     "metadata": {},
     "output_type": "execute_result"
    }
   ],
   "source": [
    "# append new series to bottom\n",
    "employee_df = employee_df.append(new_entry_series, ignore_index = True)\n",
    "employee_df"
   ]
  },
  {
   "cell_type": "code",
   "execution_count": 315,
   "metadata": {},
   "outputs": [],
   "source": [
    "employee_df = my_df = pd.read_csv(\"csv_file_for_pandas.csv\", index_col = 0)"
   ]
  },
  {
   "cell_type": "code",
   "execution_count": 317,
   "metadata": {},
   "outputs": [
    {
     "data": {
      "text/html": [
       "<div>\n",
       "<style scoped>\n",
       "    .dataframe tbody tr th:only-of-type {\n",
       "        vertical-align: middle;\n",
       "    }\n",
       "\n",
       "    .dataframe tbody tr th {\n",
       "        vertical-align: top;\n",
       "    }\n",
       "\n",
       "    .dataframe thead th {\n",
       "        text-align: right;\n",
       "    }\n",
       "</style>\n",
       "<table border=\"1\" class=\"dataframe\">\n",
       "  <thead>\n",
       "    <tr style=\"text-align: right;\">\n",
       "      <th></th>\n",
       "      <th>First</th>\n",
       "      <th>Middle</th>\n",
       "      <th>Beard Style</th>\n",
       "      <th>Age</th>\n",
       "    </tr>\n",
       "  </thead>\n",
       "  <tbody>\n",
       "    <tr>\n",
       "      <th>Dad</th>\n",
       "      <td>Allen</td>\n",
       "      <td>James</td>\n",
       "      <td>Wizard</td>\n",
       "      <td>51</td>\n",
       "    </tr>\n",
       "    <tr>\n",
       "      <th>Son</th>\n",
       "      <td>Ryan</td>\n",
       "      <td>Patrick</td>\n",
       "      <td>Battle Dwarf</td>\n",
       "      <td>25</td>\n",
       "    </tr>\n",
       "    <tr>\n",
       "      <th>Mom</th>\n",
       "      <td>Michele</td>\n",
       "      <td>Leigh</td>\n",
       "      <td>None</td>\n",
       "      <td>52</td>\n",
       "    </tr>\n",
       "    <tr>\n",
       "      <th>Son</th>\n",
       "      <td>Allen</td>\n",
       "      <td>Michael</td>\n",
       "      <td>Middle-class Hobbit</td>\n",
       "      <td>28</td>\n",
       "    </tr>\n",
       "    <tr>\n",
       "      <th>Dog</th>\n",
       "      <td>BamBam</td>\n",
       "      <td>Doggo</td>\n",
       "      <td>NaN</td>\n",
       "      <td>7</td>\n",
       "    </tr>\n",
       "    <tr>\n",
       "      <th>5</th>\n",
       "      <td>Benson</td>\n",
       "      <td>Winniford</td>\n",
       "      <td>Payne</td>\n",
       "      <td>29</td>\n",
       "    </tr>\n",
       "  </tbody>\n",
       "</table>\n",
       "</div>"
      ],
      "text/plain": [
       "       First     Middle          Beard Style  Age\n",
       "Dad    Allen      James               Wizard   51\n",
       "Son     Ryan    Patrick         Battle Dwarf   25\n",
       "Mom  Michele      Leigh                 None   52\n",
       "Son    Allen    Michael  Middle-class Hobbit   28\n",
       "Dog   BamBam      Doggo                  NaN    7\n",
       "5     Benson  Winniford                Payne   29"
      ]
     },
     "execution_count": 317,
     "metadata": {},
     "output_type": "execute_result"
    }
   ],
   "source": [
    "employee_df.loc[len(employee_df)] = [\"Benson\", \"Winniford\", \"Payne\", 29]\n",
    "employee_df"
   ]
  },
  {
   "cell_type": "code",
   "execution_count": 320,
   "metadata": {},
   "outputs": [
    {
     "data": {
      "text/html": [
       "<div>\n",
       "<style scoped>\n",
       "    .dataframe tbody tr th:only-of-type {\n",
       "        vertical-align: middle;\n",
       "    }\n",
       "\n",
       "    .dataframe tbody tr th {\n",
       "        vertical-align: top;\n",
       "    }\n",
       "\n",
       "    .dataframe thead th {\n",
       "        text-align: right;\n",
       "    }\n",
       "</style>\n",
       "<table border=\"1\" class=\"dataframe\">\n",
       "  <thead>\n",
       "    <tr style=\"text-align: right;\">\n",
       "      <th></th>\n",
       "      <th>First</th>\n",
       "      <th>Middle</th>\n",
       "      <th>Beard Style</th>\n",
       "      <th>Age</th>\n",
       "    </tr>\n",
       "  </thead>\n",
       "  <tbody>\n",
       "    <tr>\n",
       "      <th>Dad</th>\n",
       "      <td>Allen</td>\n",
       "      <td>James</td>\n",
       "      <td>Wizard</td>\n",
       "      <td>51</td>\n",
       "    </tr>\n",
       "    <tr>\n",
       "      <th>Son</th>\n",
       "      <td>Ryan</td>\n",
       "      <td>Patrick</td>\n",
       "      <td>Battle Dwarf</td>\n",
       "      <td>25</td>\n",
       "    </tr>\n",
       "    <tr>\n",
       "      <th>Mom</th>\n",
       "      <td>Michele</td>\n",
       "      <td>Leigh</td>\n",
       "      <td>None</td>\n",
       "      <td>52</td>\n",
       "    </tr>\n",
       "    <tr>\n",
       "      <th>Son</th>\n",
       "      <td>Allen</td>\n",
       "      <td>Michael</td>\n",
       "      <td>Middle-class Hobbit</td>\n",
       "      <td>28</td>\n",
       "    </tr>\n",
       "    <tr>\n",
       "      <th>Cat</th>\n",
       "      <td>BamBam</td>\n",
       "      <td>Doggo</td>\n",
       "      <td>NaN</td>\n",
       "      <td>7</td>\n",
       "    </tr>\n",
       "    <tr>\n",
       "      <th>5</th>\n",
       "      <td>Benson</td>\n",
       "      <td>Winniford</td>\n",
       "      <td>Payne</td>\n",
       "      <td>29</td>\n",
       "    </tr>\n",
       "  </tbody>\n",
       "</table>\n",
       "</div>"
      ],
      "text/plain": [
       "       First     Middle          Beard Style  Age\n",
       "Dad    Allen      James               Wizard   51\n",
       "Son     Ryan    Patrick         Battle Dwarf   25\n",
       "Mom  Michele      Leigh                 None   52\n",
       "Son    Allen    Michael  Middle-class Hobbit   28\n",
       "Cat   BamBam      Doggo                  NaN    7\n",
       "5     Benson  Winniford                Payne   29"
      ]
     },
     "execution_count": 320,
     "metadata": {},
     "output_type": "execute_result"
    }
   ],
   "source": [
    "employee_df.rename(index=({\"Dog\":\"Cat\"}))"
   ]
  },
  {
   "cell_type": "markdown",
   "metadata": {},
   "source": [
    "##### Example 2.6 (Removing Rows - Method 1):\n",
    "\n",
    "Method 1 is Removing rows based on row index (`df.drop(df.index[])` or `df.drop([row_name])`)"
   ]
  },
  {
   "cell_type": "markdown",
   "metadata": {},
   "source": [
    "##### Example 2.6.1 (Series):\n",
    "\n",
    "Documentation: https://pandas.pydata.org/pandas-docs/stable/generated/pandas.Series.drop.html"
   ]
  },
  {
   "cell_type": "code",
   "execution_count": 321,
   "metadata": {},
   "outputs": [],
   "source": [
    "series_1 = pd.Series(np.arange(3,8), index = [\"a\", \"b\", \"c\", \"d\", 4])"
   ]
  },
  {
   "cell_type": "code",
   "execution_count": 322,
   "metadata": {},
   "outputs": [
    {
     "data": {
      "text/plain": [
       "b    4\n",
       "c    5\n",
       "d    6\n",
       "4    7\n",
       "dtype: int64"
      ]
     },
     "execution_count": 322,
     "metadata": {},
     "output_type": "execute_result"
    }
   ],
   "source": [
    "series_1 = series_1.drop([\"a\"]) # delete the \"a\" row \n",
    "series_1"
   ]
  },
  {
   "cell_type": "code",
   "execution_count": 323,
   "metadata": {},
   "outputs": [
    {
     "data": {
      "text/plain": [
       "c    5\n",
       "d    6\n",
       "4    7\n",
       "dtype: int64"
      ]
     },
     "execution_count": 323,
     "metadata": {},
     "output_type": "execute_result"
    }
   ],
   "source": [
    "series_1 = series_1.drop(series_1.index[0]) # delete the first index of the new indexes (\"b\" row)\n",
    "series_1"
   ]
  },
  {
   "cell_type": "markdown",
   "metadata": {},
   "source": [
    "##### Example 2.6.2 (DataFrames):\n",
    "\n",
    "Documentation: https://pandas.pydata.org/pandas-docs/stable/generated/pandas.DataFrame.drop.html"
   ]
  },
  {
   "cell_type": "code",
   "execution_count": 324,
   "metadata": {},
   "outputs": [],
   "source": [
    "employee_df = my_df = pd.read_csv(\"csv_file_for_pandas.csv\", index_col = 0)"
   ]
  },
  {
   "cell_type": "code",
   "execution_count": 325,
   "metadata": {
    "scrolled": true
   },
   "outputs": [
    {
     "data": {
      "text/html": [
       "<div>\n",
       "<style scoped>\n",
       "    .dataframe tbody tr th:only-of-type {\n",
       "        vertical-align: middle;\n",
       "    }\n",
       "\n",
       "    .dataframe tbody tr th {\n",
       "        vertical-align: top;\n",
       "    }\n",
       "\n",
       "    .dataframe thead th {\n",
       "        text-align: right;\n",
       "    }\n",
       "</style>\n",
       "<table border=\"1\" class=\"dataframe\">\n",
       "  <thead>\n",
       "    <tr style=\"text-align: right;\">\n",
       "      <th></th>\n",
       "      <th>First</th>\n",
       "      <th>Middle</th>\n",
       "      <th>Beard Style</th>\n",
       "      <th>Age</th>\n",
       "    </tr>\n",
       "  </thead>\n",
       "  <tbody>\n",
       "    <tr>\n",
       "      <th>Dad</th>\n",
       "      <td>Allen</td>\n",
       "      <td>James</td>\n",
       "      <td>Wizard</td>\n",
       "      <td>51</td>\n",
       "    </tr>\n",
       "    <tr>\n",
       "      <th>Mom</th>\n",
       "      <td>Michele</td>\n",
       "      <td>Leigh</td>\n",
       "      <td>None</td>\n",
       "      <td>52</td>\n",
       "    </tr>\n",
       "    <tr>\n",
       "      <th>Dog</th>\n",
       "      <td>BamBam</td>\n",
       "      <td>Doggo</td>\n",
       "      <td>NaN</td>\n",
       "      <td>7</td>\n",
       "    </tr>\n",
       "  </tbody>\n",
       "</table>\n",
       "</div>"
      ],
      "text/plain": [
       "       First Middle Beard Style  Age\n",
       "Dad    Allen  James      Wizard   51\n",
       "Mom  Michele  Leigh        None   52\n",
       "Dog   BamBam  Doggo         NaN    7"
      ]
     },
     "execution_count": 325,
     "metadata": {},
     "output_type": "execute_result"
    }
   ],
   "source": [
    "employee_df = employee_df.drop([\"Son\"]) # delete the \"Son\" rows\n",
    "employee_df"
   ]
  },
  {
   "cell_type": "code",
   "execution_count": 326,
   "metadata": {
    "scrolled": true
   },
   "outputs": [
    {
     "data": {
      "text/html": [
       "<div>\n",
       "<style scoped>\n",
       "    .dataframe tbody tr th:only-of-type {\n",
       "        vertical-align: middle;\n",
       "    }\n",
       "\n",
       "    .dataframe tbody tr th {\n",
       "        vertical-align: top;\n",
       "    }\n",
       "\n",
       "    .dataframe thead th {\n",
       "        text-align: right;\n",
       "    }\n",
       "</style>\n",
       "<table border=\"1\" class=\"dataframe\">\n",
       "  <thead>\n",
       "    <tr style=\"text-align: right;\">\n",
       "      <th></th>\n",
       "      <th>First</th>\n",
       "      <th>Middle</th>\n",
       "      <th>Beard Style</th>\n",
       "      <th>Age</th>\n",
       "    </tr>\n",
       "  </thead>\n",
       "  <tbody>\n",
       "    <tr>\n",
       "      <th>Dad</th>\n",
       "      <td>Allen</td>\n",
       "      <td>James</td>\n",
       "      <td>Wizard</td>\n",
       "      <td>51</td>\n",
       "    </tr>\n",
       "    <tr>\n",
       "      <th>Dog</th>\n",
       "      <td>BamBam</td>\n",
       "      <td>Doggo</td>\n",
       "      <td>NaN</td>\n",
       "      <td>7</td>\n",
       "    </tr>\n",
       "  </tbody>\n",
       "</table>\n",
       "</div>"
      ],
      "text/plain": [
       "      First Middle Beard Style  Age\n",
       "Dad   Allen  James      Wizard   51\n",
       "Dog  BamBam  Doggo         NaN    7"
      ]
     },
     "execution_count": 326,
     "metadata": {},
     "output_type": "execute_result"
    }
   ],
   "source": [
    "employee_df = employee_df.drop(employee_df.index[1]) # delete the second index of the new indexes (\"Employee_3\" row)\n",
    "employee_df"
   ]
  },
  {
   "cell_type": "markdown",
   "metadata": {},
   "source": [
    "##### Problem 8:\n",
    "\n",
    "Using the Pandas DataFrame previously created (*prob7_df*):\n",
    "    \n",
    "    * Drop China from the data frame\n",
    "    * Add a new country at the bottom (Russia, Population = 143,989,754, Size = 17,098,246\n",
    "    * Save the answer on prob8_df"
   ]
  },
  {
   "cell_type": "code",
   "execution_count": 334,
   "metadata": {},
   "outputs": [
    {
     "data": {
      "text/html": [
       "<div>\n",
       "<style scoped>\n",
       "    .dataframe tbody tr th:only-of-type {\n",
       "        vertical-align: middle;\n",
       "    }\n",
       "\n",
       "    .dataframe tbody tr th {\n",
       "        vertical-align: top;\n",
       "    }\n",
       "\n",
       "    .dataframe thead th {\n",
       "        text-align: right;\n",
       "    }\n",
       "</style>\n",
       "<table border=\"1\" class=\"dataframe\">\n",
       "  <thead>\n",
       "    <tr style=\"text-align: right;\">\n",
       "      <th></th>\n",
       "      <th>Country Name</th>\n",
       "      <th>Population</th>\n",
       "      <th>Size</th>\n",
       "    </tr>\n",
       "  </thead>\n",
       "  <tbody>\n",
       "    <tr>\n",
       "      <th>0</th>\n",
       "      <td>India</td>\n",
       "      <td>1339180127</td>\n",
       "      <td>3287263</td>\n",
       "    </tr>\n",
       "    <tr>\n",
       "      <th>1</th>\n",
       "      <td>USA</td>\n",
       "      <td>324459463</td>\n",
       "      <td>9629091</td>\n",
       "    </tr>\n",
       "    <tr>\n",
       "      <th>2</th>\n",
       "      <td>Indonesia</td>\n",
       "      <td>263991379</td>\n",
       "      <td>1904556</td>\n",
       "    </tr>\n",
       "    <tr>\n",
       "      <th>3</th>\n",
       "      <td>Brazil</td>\n",
       "      <td>209288278</td>\n",
       "      <td>8511965</td>\n",
       "    </tr>\n",
       "    <tr>\n",
       "      <th>4</th>\n",
       "      <td>Russia</td>\n",
       "      <td>143989754</td>\n",
       "      <td>17098246</td>\n",
       "    </tr>\n",
       "  </tbody>\n",
       "</table>\n",
       "</div>"
      ],
      "text/plain": [
       "  Country Name  Population      Size\n",
       "0        India  1339180127   3287263\n",
       "1          USA   324459463   9629091\n",
       "2    Indonesia   263991379   1904556\n",
       "3       Brazil   209288278   8511965\n",
       "4       Russia   143989754  17098246"
      ]
     },
     "execution_count": 334,
     "metadata": {},
     "output_type": "execute_result"
    }
   ],
   "source": [
    "### Write code here\n",
    "new_entry_series = pd.Series([\"Russia\", \"143989754\", \"17098246\"], index = [\"Country Name\", \"Population\", \"Size\"])\n",
    "prob8_df = prob8_df.append(new_entry_series, ignore_index = True)\n",
    "prob8_df = prob2_df.drop(0)\n",
    "prob8_df\n"
   ]
  },
  {
   "cell_type": "markdown",
   "metadata": {},
   "source": [
    "##### Example 2.7 (Sorting Rows - Method 1):\n",
    "\n",
    "Method 1 is Sorting rows based on column values (`df.sort_values(by = [\"col_name_1\", \"col_name_1\"])`)"
   ]
  },
  {
   "cell_type": "markdown",
   "metadata": {},
   "source": [
    "##### Example 2.7.1 (DataFrames):\n",
    "\n",
    "Documentation: http://pandas.pydata.org/pandas-docs/version/0.17.0/generated/pandas.DataFrame.sort_values.html"
   ]
  },
  {
   "cell_type": "code",
   "execution_count": 335,
   "metadata": {},
   "outputs": [],
   "source": [
    "employee_df = my_df = pd.read_csv(\"csv_file_for_pandas.csv\", index_col = 0)"
   ]
  },
  {
   "cell_type": "code",
   "execution_count": 336,
   "metadata": {},
   "outputs": [
    {
     "data": {
      "text/html": [
       "<div>\n",
       "<style scoped>\n",
       "    .dataframe tbody tr th:only-of-type {\n",
       "        vertical-align: middle;\n",
       "    }\n",
       "\n",
       "    .dataframe tbody tr th {\n",
       "        vertical-align: top;\n",
       "    }\n",
       "\n",
       "    .dataframe thead th {\n",
       "        text-align: right;\n",
       "    }\n",
       "</style>\n",
       "<table border=\"1\" class=\"dataframe\">\n",
       "  <thead>\n",
       "    <tr style=\"text-align: right;\">\n",
       "      <th></th>\n",
       "      <th>First</th>\n",
       "      <th>Middle</th>\n",
       "      <th>Beard Style</th>\n",
       "      <th>Age</th>\n",
       "    </tr>\n",
       "  </thead>\n",
       "  <tbody>\n",
       "    <tr>\n",
       "      <th>Dog</th>\n",
       "      <td>BamBam</td>\n",
       "      <td>Doggo</td>\n",
       "      <td>NaN</td>\n",
       "      <td>7</td>\n",
       "    </tr>\n",
       "    <tr>\n",
       "      <th>Son</th>\n",
       "      <td>Ryan</td>\n",
       "      <td>Patrick</td>\n",
       "      <td>Battle Dwarf</td>\n",
       "      <td>25</td>\n",
       "    </tr>\n",
       "    <tr>\n",
       "      <th>Son</th>\n",
       "      <td>Allen</td>\n",
       "      <td>Michael</td>\n",
       "      <td>Middle-class Hobbit</td>\n",
       "      <td>28</td>\n",
       "    </tr>\n",
       "    <tr>\n",
       "      <th>Dad</th>\n",
       "      <td>Allen</td>\n",
       "      <td>James</td>\n",
       "      <td>Wizard</td>\n",
       "      <td>51</td>\n",
       "    </tr>\n",
       "    <tr>\n",
       "      <th>Mom</th>\n",
       "      <td>Michele</td>\n",
       "      <td>Leigh</td>\n",
       "      <td>None</td>\n",
       "      <td>52</td>\n",
       "    </tr>\n",
       "  </tbody>\n",
       "</table>\n",
       "</div>"
      ],
      "text/plain": [
       "       First   Middle          Beard Style  Age\n",
       "Dog   BamBam    Doggo                  NaN    7\n",
       "Son     Ryan  Patrick         Battle Dwarf   25\n",
       "Son    Allen  Michael  Middle-class Hobbit   28\n",
       "Dad    Allen    James               Wizard   51\n",
       "Mom  Michele    Leigh                 None   52"
      ]
     },
     "execution_count": 336,
     "metadata": {},
     "output_type": "execute_result"
    }
   ],
   "source": [
    "employee_df.sort_values(by = \"Age\") # sort by Age column in ascending fashion"
   ]
  },
  {
   "cell_type": "code",
   "execution_count": 337,
   "metadata": {
    "scrolled": false
   },
   "outputs": [
    {
     "data": {
      "text/html": [
       "<div>\n",
       "<style scoped>\n",
       "    .dataframe tbody tr th:only-of-type {\n",
       "        vertical-align: middle;\n",
       "    }\n",
       "\n",
       "    .dataframe tbody tr th {\n",
       "        vertical-align: top;\n",
       "    }\n",
       "\n",
       "    .dataframe thead th {\n",
       "        text-align: right;\n",
       "    }\n",
       "</style>\n",
       "<table border=\"1\" class=\"dataframe\">\n",
       "  <thead>\n",
       "    <tr style=\"text-align: right;\">\n",
       "      <th></th>\n",
       "      <th>First</th>\n",
       "      <th>Middle</th>\n",
       "      <th>Beard Style</th>\n",
       "      <th>Age</th>\n",
       "    </tr>\n",
       "  </thead>\n",
       "  <tbody>\n",
       "    <tr>\n",
       "      <th>Son</th>\n",
       "      <td>Ryan</td>\n",
       "      <td>Patrick</td>\n",
       "      <td>Battle Dwarf</td>\n",
       "      <td>25</td>\n",
       "    </tr>\n",
       "    <tr>\n",
       "      <th>Son</th>\n",
       "      <td>Allen</td>\n",
       "      <td>Michael</td>\n",
       "      <td>Middle-class Hobbit</td>\n",
       "      <td>28</td>\n",
       "    </tr>\n",
       "    <tr>\n",
       "      <th>Mom</th>\n",
       "      <td>Michele</td>\n",
       "      <td>Leigh</td>\n",
       "      <td>None</td>\n",
       "      <td>52</td>\n",
       "    </tr>\n",
       "    <tr>\n",
       "      <th>Dad</th>\n",
       "      <td>Allen</td>\n",
       "      <td>James</td>\n",
       "      <td>Wizard</td>\n",
       "      <td>51</td>\n",
       "    </tr>\n",
       "    <tr>\n",
       "      <th>Dog</th>\n",
       "      <td>BamBam</td>\n",
       "      <td>Doggo</td>\n",
       "      <td>NaN</td>\n",
       "      <td>7</td>\n",
       "    </tr>\n",
       "  </tbody>\n",
       "</table>\n",
       "</div>"
      ],
      "text/plain": [
       "       First   Middle          Beard Style  Age\n",
       "Son     Ryan  Patrick         Battle Dwarf   25\n",
       "Son    Allen  Michael  Middle-class Hobbit   28\n",
       "Mom  Michele    Leigh                 None   52\n",
       "Dad    Allen    James               Wizard   51\n",
       "Dog   BamBam    Doggo                  NaN    7"
      ]
     },
     "execution_count": 337,
     "metadata": {},
     "output_type": "execute_result"
    }
   ],
   "source": [
    "employee_df.sort_values(by = \"Middle\", ascending = False) # sort by First column in descending fashion"
   ]
  },
  {
   "cell_type": "markdown",
   "metadata": {},
   "source": [
    "##### Example 2.8 (Sorting Rows - Method 2):\n",
    "\n",
    "Method 2 is Sorting rows based on labels (`df.sort_index(axis=0)`)"
   ]
  },
  {
   "cell_type": "markdown",
   "metadata": {},
   "source": [
    "##### Example 2.8.1 (DataFrames):\n",
    "\n",
    "Documentation: https://pandas.pydata.org/pandas-docs/stable/generated/pandas.DataFrame.sort_index.html"
   ]
  },
  {
   "cell_type": "code",
   "execution_count": 338,
   "metadata": {},
   "outputs": [],
   "source": [
    "employee_df = my_df = pd.read_csv(\"csv_file_for_pandas.csv\", index_col = 0)"
   ]
  },
  {
   "cell_type": "code",
   "execution_count": 339,
   "metadata": {
    "scrolled": false
   },
   "outputs": [
    {
     "data": {
      "text/html": [
       "<div>\n",
       "<style scoped>\n",
       "    .dataframe tbody tr th:only-of-type {\n",
       "        vertical-align: middle;\n",
       "    }\n",
       "\n",
       "    .dataframe tbody tr th {\n",
       "        vertical-align: top;\n",
       "    }\n",
       "\n",
       "    .dataframe thead th {\n",
       "        text-align: right;\n",
       "    }\n",
       "</style>\n",
       "<table border=\"1\" class=\"dataframe\">\n",
       "  <thead>\n",
       "    <tr style=\"text-align: right;\">\n",
       "      <th></th>\n",
       "      <th>First</th>\n",
       "      <th>Middle</th>\n",
       "      <th>Beard Style</th>\n",
       "      <th>Age</th>\n",
       "    </tr>\n",
       "  </thead>\n",
       "  <tbody>\n",
       "    <tr>\n",
       "      <th>Son</th>\n",
       "      <td>Ryan</td>\n",
       "      <td>Patrick</td>\n",
       "      <td>Battle Dwarf</td>\n",
       "      <td>25</td>\n",
       "    </tr>\n",
       "    <tr>\n",
       "      <th>Son</th>\n",
       "      <td>Allen</td>\n",
       "      <td>Michael</td>\n",
       "      <td>Middle-class Hobbit</td>\n",
       "      <td>28</td>\n",
       "    </tr>\n",
       "    <tr>\n",
       "      <th>Mom</th>\n",
       "      <td>Michele</td>\n",
       "      <td>Leigh</td>\n",
       "      <td>None</td>\n",
       "      <td>52</td>\n",
       "    </tr>\n",
       "    <tr>\n",
       "      <th>Dog</th>\n",
       "      <td>BamBam</td>\n",
       "      <td>Doggo</td>\n",
       "      <td>NaN</td>\n",
       "      <td>7</td>\n",
       "    </tr>\n",
       "    <tr>\n",
       "      <th>Dad</th>\n",
       "      <td>Allen</td>\n",
       "      <td>James</td>\n",
       "      <td>Wizard</td>\n",
       "      <td>51</td>\n",
       "    </tr>\n",
       "  </tbody>\n",
       "</table>\n",
       "</div>"
      ],
      "text/plain": [
       "       First   Middle          Beard Style  Age\n",
       "Son     Ryan  Patrick         Battle Dwarf   25\n",
       "Son    Allen  Michael  Middle-class Hobbit   28\n",
       "Mom  Michele    Leigh                 None   52\n",
       "Dog   BamBam    Doggo                  NaN    7\n",
       "Dad    Allen    James               Wizard   51"
      ]
     },
     "execution_count": 339,
     "metadata": {},
     "output_type": "execute_result"
    }
   ],
   "source": [
    "employee_df.sort_index(axis=0, ascending=False) # sort rows"
   ]
  },
  {
   "cell_type": "markdown",
   "metadata": {},
   "source": [
    "##### Problem 9:\n",
    "\n",
    "Using the Pandas DataFrame previously created (*prob8_df*):\n",
    "    \n",
    "    * Sort by Population ascending and in place"
   ]
  },
  {
   "cell_type": "code",
   "execution_count": 373,
   "metadata": {},
   "outputs": [
    {
     "ename": "TypeError",
     "evalue": "'<' not supported between instances of 'str' and 'int'",
     "output_type": "error",
     "traceback": [
      "\u001b[0;31m---------------------------------------------------------------------------\u001b[0m",
      "\u001b[0;31mTypeError\u001b[0m                                 Traceback (most recent call last)",
      "\u001b[0;32m<ipython-input-373-1725dd2507c8>\u001b[0m in \u001b[0;36m<module>\u001b[0;34m()\u001b[0m\n\u001b[1;32m      2\u001b[0m \u001b[0;31m### The Boolean operators > < don't know what to do. So we must convert the column to integers\u001b[0m\u001b[0;34m\u001b[0m\u001b[0;34m\u001b[0m\u001b[0m\n\u001b[1;32m      3\u001b[0m \u001b[0;34m\u001b[0m\u001b[0m\n\u001b[0;32m----> 4\u001b[0;31m \u001b[0mprob8_df\u001b[0m\u001b[0;34m.\u001b[0m\u001b[0msort_values\u001b[0m\u001b[0;34m(\u001b[0m\u001b[0mby\u001b[0m\u001b[0;34m=\u001b[0m\u001b[0;34m\"Population\"\u001b[0m\u001b[0;34m,\u001b[0m \u001b[0mascending\u001b[0m\u001b[0;34m=\u001b[0m\u001b[0;32mTrue\u001b[0m\u001b[0;34m)\u001b[0m\u001b[0;34m\u001b[0m\u001b[0m\n\u001b[0m",
      "\u001b[0;32m/Library/Frameworks/Python.framework/Versions/3.6/lib/python3.6/site-packages/pandas/core/frame.py\u001b[0m in \u001b[0;36msort_values\u001b[0;34m(self, by, axis, ascending, inplace, kind, na_position)\u001b[0m\n\u001b[1;32m   3632\u001b[0m \u001b[0;34m\u001b[0m\u001b[0m\n\u001b[1;32m   3633\u001b[0m             indexer = nargsort(k, kind=kind, ascending=ascending,\n\u001b[0;32m-> 3634\u001b[0;31m                                na_position=na_position)\n\u001b[0m\u001b[1;32m   3635\u001b[0m \u001b[0;34m\u001b[0m\u001b[0m\n\u001b[1;32m   3636\u001b[0m         new_data = self._data.take(indexer,\n",
      "\u001b[0;32m/Library/Frameworks/Python.framework/Versions/3.6/lib/python3.6/site-packages/pandas/core/sorting.py\u001b[0m in \u001b[0;36mnargsort\u001b[0;34m(items, kind, ascending, na_position)\u001b[0m\n\u001b[1;32m    248\u001b[0m         \u001b[0mnon_nans\u001b[0m \u001b[0;34m=\u001b[0m \u001b[0mnon_nans\u001b[0m\u001b[0;34m[\u001b[0m\u001b[0;34m:\u001b[0m\u001b[0;34m:\u001b[0m\u001b[0;34m-\u001b[0m\u001b[0;36m1\u001b[0m\u001b[0;34m]\u001b[0m\u001b[0;34m\u001b[0m\u001b[0m\n\u001b[1;32m    249\u001b[0m         \u001b[0mnon_nan_idx\u001b[0m \u001b[0;34m=\u001b[0m \u001b[0mnon_nan_idx\u001b[0m\u001b[0;34m[\u001b[0m\u001b[0;34m:\u001b[0m\u001b[0;34m:\u001b[0m\u001b[0;34m-\u001b[0m\u001b[0;36m1\u001b[0m\u001b[0;34m]\u001b[0m\u001b[0;34m\u001b[0m\u001b[0m\n\u001b[0;32m--> 250\u001b[0;31m     \u001b[0mindexer\u001b[0m \u001b[0;34m=\u001b[0m \u001b[0mnon_nan_idx\u001b[0m\u001b[0;34m[\u001b[0m\u001b[0mnon_nans\u001b[0m\u001b[0;34m.\u001b[0m\u001b[0margsort\u001b[0m\u001b[0;34m(\u001b[0m\u001b[0mkind\u001b[0m\u001b[0;34m=\u001b[0m\u001b[0mkind\u001b[0m\u001b[0;34m)\u001b[0m\u001b[0;34m]\u001b[0m\u001b[0;34m\u001b[0m\u001b[0m\n\u001b[0m\u001b[1;32m    251\u001b[0m     \u001b[0;32mif\u001b[0m \u001b[0;32mnot\u001b[0m \u001b[0mascending\u001b[0m\u001b[0;34m:\u001b[0m\u001b[0;34m\u001b[0m\u001b[0m\n\u001b[1;32m    252\u001b[0m         \u001b[0mindexer\u001b[0m \u001b[0;34m=\u001b[0m \u001b[0mindexer\u001b[0m\u001b[0;34m[\u001b[0m\u001b[0;34m:\u001b[0m\u001b[0;34m:\u001b[0m\u001b[0;34m-\u001b[0m\u001b[0;36m1\u001b[0m\u001b[0;34m]\u001b[0m\u001b[0;34m\u001b[0m\u001b[0m\n",
      "\u001b[0;31mTypeError\u001b[0m: '<' not supported between instances of 'str' and 'int'"
     ]
    }
   ],
   "source": [
    "### Uh-oh! We start off with an error. Why? Because the values int he Population column are objects.\n",
    "### The Boolean operators > < don't know what to do. So we must convert the column to integers\n",
    "\n",
    "prob8_df.sort_values(by=\"Population\", ascending=True)"
   ]
  },
  {
   "cell_type": "code",
   "execution_count": 368,
   "metadata": {},
   "outputs": [
    {
     "data": {
      "text/plain": [
       "Country Name    object\n",
       "Population      object\n",
       "Size            object\n",
       "dtype: object"
      ]
     },
     "execution_count": 368,
     "metadata": {},
     "output_type": "execute_result"
    }
   ],
   "source": [
    "### Since this data is coming from a CSV spreadsheet the dtype 'O' (object)\n",
    "\n",
    "prob9_df = prob8_df.copy(deep = True)\n",
    "\n",
    "prob9_df[\"Population\"] = prob9_df[\"Population\"].infer_objects()\n",
    "prob9_df.dtypes"
   ]
  },
  {
   "cell_type": "code",
   "execution_count": 369,
   "metadata": {},
   "outputs": [
    {
     "data": {
      "text/plain": [
       "Country Name    object\n",
       "Population       int64\n",
       "Size            object\n",
       "dtype: object"
      ]
     },
     "execution_count": 369,
     "metadata": {},
     "output_type": "execute_result"
    }
   ],
   "source": [
    "# Obviously that didn't work, so we try another method:\n",
    "\n",
    "prob9_df[\"Population\"] = prob9_df[\"Population\"].apply(pd.to_numeric, errors = 'ignore') #using 'coerce' will attempt to force the conversion, but we will use ignore and follow up by checking the dtype as to avoid any data loss\n",
    "\n",
    "prob9_df.dtypes"
   ]
  },
  {
   "cell_type": "code",
   "execution_count": 370,
   "metadata": {},
   "outputs": [
    {
     "data": {
      "text/plain": [
       "Country Name    object\n",
       "Population       int64\n",
       "Size            object\n",
       "dtype: object"
      ]
     },
     "execution_count": 370,
     "metadata": {},
     "output_type": "execute_result"
    }
   ],
   "source": [
    "# SUCCESS! There is also another method that will successfully force the conversion:\n",
    "prob9_df = prob8_df.copy(deep = True)\n",
    "\n",
    "prob9_df[\"Population\"] = prob9_df[\"Population\"].astype(int)\n",
    "\n",
    "prob9_df.dtypes"
   ]
  },
  {
   "cell_type": "code",
   "execution_count": 386,
   "metadata": {},
   "outputs": [
    {
     "data": {
      "text/html": [
       "<div>\n",
       "<style scoped>\n",
       "    .dataframe tbody tr th:only-of-type {\n",
       "        vertical-align: middle;\n",
       "    }\n",
       "\n",
       "    .dataframe tbody tr th {\n",
       "        vertical-align: top;\n",
       "    }\n",
       "\n",
       "    .dataframe thead th {\n",
       "        text-align: right;\n",
       "    }\n",
       "</style>\n",
       "<table border=\"1\" class=\"dataframe\">\n",
       "  <thead>\n",
       "    <tr style=\"text-align: right;\">\n",
       "      <th></th>\n",
       "      <th>Country Name</th>\n",
       "      <th>Population</th>\n",
       "      <th>Size</th>\n",
       "    </tr>\n",
       "  </thead>\n",
       "  <tbody>\n",
       "    <tr>\n",
       "      <th>4</th>\n",
       "      <td>Russia</td>\n",
       "      <td>143989754</td>\n",
       "      <td>17098246</td>\n",
       "    </tr>\n",
       "    <tr>\n",
       "      <th>3</th>\n",
       "      <td>Brazil</td>\n",
       "      <td>209288278</td>\n",
       "      <td>8511965</td>\n",
       "    </tr>\n",
       "    <tr>\n",
       "      <th>2</th>\n",
       "      <td>Indonesia</td>\n",
       "      <td>263991379</td>\n",
       "      <td>1904556</td>\n",
       "    </tr>\n",
       "    <tr>\n",
       "      <th>1</th>\n",
       "      <td>USA</td>\n",
       "      <td>324459463</td>\n",
       "      <td>9629091</td>\n",
       "    </tr>\n",
       "    <tr>\n",
       "      <th>0</th>\n",
       "      <td>India</td>\n",
       "      <td>1339180127</td>\n",
       "      <td>3287263</td>\n",
       "    </tr>\n",
       "  </tbody>\n",
       "</table>\n",
       "</div>"
      ],
      "text/plain": [
       "  Country Name  Population      Size\n",
       "4       Russia   143989754  17098246\n",
       "3       Brazil   209288278   8511965\n",
       "2    Indonesia   263991379   1904556\n",
       "1          USA   324459463   9629091\n",
       "0        India  1339180127   3287263"
      ]
     },
     "execution_count": 386,
     "metadata": {},
     "output_type": "execute_result"
    }
   ],
   "source": [
    "### FINALLY we win:\n",
    "\n",
    "prob9_df = prob9_df.sort_values(by=\"Population\", ascending=True)\n",
    "prob9_df"
   ]
  },
  {
   "cell_type": "markdown",
   "metadata": {},
   "source": [
    "#### Part 3 (Manipulating Columns):"
   ]
  },
  {
   "cell_type": "markdown",
   "metadata": {},
   "source": [
    "##### Example 3.1 (Changing Column Names - Method 1):\n",
    "\n",
    "Method 1 is Explicitly assign the column names (`df.columns = [\"new_col_1\", \"new_col_2\"]`)"
   ]
  },
  {
   "cell_type": "code",
   "execution_count": 375,
   "metadata": {},
   "outputs": [],
   "source": [
    "employee_df = my_df = pd.read_csv(\"csv_file_for_pandas.csv\", index_col = 0)"
   ]
  },
  {
   "cell_type": "code",
   "execution_count": 376,
   "metadata": {
    "scrolled": true
   },
   "outputs": [
    {
     "data": {
      "text/html": [
       "<div>\n",
       "<style scoped>\n",
       "    .dataframe tbody tr th:only-of-type {\n",
       "        vertical-align: middle;\n",
       "    }\n",
       "\n",
       "    .dataframe tbody tr th {\n",
       "        vertical-align: top;\n",
       "    }\n",
       "\n",
       "    .dataframe thead th {\n",
       "        text-align: right;\n",
       "    }\n",
       "</style>\n",
       "<table border=\"1\" class=\"dataframe\">\n",
       "  <thead>\n",
       "    <tr style=\"text-align: right;\">\n",
       "      <th></th>\n",
       "      <th>First_Name</th>\n",
       "      <th>Middle_Name</th>\n",
       "      <th>Beard_Style</th>\n",
       "      <th>Age_Years</th>\n",
       "    </tr>\n",
       "  </thead>\n",
       "  <tbody>\n",
       "    <tr>\n",
       "      <th>Dad</th>\n",
       "      <td>Allen</td>\n",
       "      <td>James</td>\n",
       "      <td>Wizard</td>\n",
       "      <td>51</td>\n",
       "    </tr>\n",
       "    <tr>\n",
       "      <th>Son</th>\n",
       "      <td>Ryan</td>\n",
       "      <td>Patrick</td>\n",
       "      <td>Battle Dwarf</td>\n",
       "      <td>25</td>\n",
       "    </tr>\n",
       "    <tr>\n",
       "      <th>Mom</th>\n",
       "      <td>Michele</td>\n",
       "      <td>Leigh</td>\n",
       "      <td>None</td>\n",
       "      <td>52</td>\n",
       "    </tr>\n",
       "    <tr>\n",
       "      <th>Son</th>\n",
       "      <td>Allen</td>\n",
       "      <td>Michael</td>\n",
       "      <td>Middle-class Hobbit</td>\n",
       "      <td>28</td>\n",
       "    </tr>\n",
       "    <tr>\n",
       "      <th>Dog</th>\n",
       "      <td>BamBam</td>\n",
       "      <td>Doggo</td>\n",
       "      <td>NaN</td>\n",
       "      <td>7</td>\n",
       "    </tr>\n",
       "  </tbody>\n",
       "</table>\n",
       "</div>"
      ],
      "text/plain": [
       "    First_Name Middle_Name          Beard_Style  Age_Years\n",
       "Dad      Allen       James               Wizard         51\n",
       "Son       Ryan     Patrick         Battle Dwarf         25\n",
       "Mom    Michele       Leigh                 None         52\n",
       "Son      Allen     Michael  Middle-class Hobbit         28\n",
       "Dog     BamBam       Doggo                  NaN          7"
      ]
     },
     "execution_count": 376,
     "metadata": {},
     "output_type": "execute_result"
    }
   ],
   "source": [
    "employee_df.columns = [\"First_Name\", \"Middle_Name\", \"Beard_Style\", \"Age_Years\"]\n",
    "employee_df"
   ]
  },
  {
   "cell_type": "markdown",
   "metadata": {},
   "source": [
    "##### Example 3.2 (Changing Column Names - Method 2):\n",
    "\n",
    "Method 2 is Renaming the columns (`df.rename(columns=)`"
   ]
  },
  {
   "cell_type": "code",
   "execution_count": 377,
   "metadata": {},
   "outputs": [],
   "source": [
    "employee_df = my_df = pd.read_csv(\"csv_file_for_pandas.csv\", index_col = 0)"
   ]
  },
  {
   "cell_type": "code",
   "execution_count": 378,
   "metadata": {
    "scrolled": false
   },
   "outputs": [
    {
     "data": {
      "text/html": [
       "<div>\n",
       "<style scoped>\n",
       "    .dataframe tbody tr th:only-of-type {\n",
       "        vertical-align: middle;\n",
       "    }\n",
       "\n",
       "    .dataframe tbody tr th {\n",
       "        vertical-align: top;\n",
       "    }\n",
       "\n",
       "    .dataframe thead th {\n",
       "        text-align: right;\n",
       "    }\n",
       "</style>\n",
       "<table border=\"1\" class=\"dataframe\">\n",
       "  <thead>\n",
       "    <tr style=\"text-align: right;\">\n",
       "      <th></th>\n",
       "      <th>First_Name</th>\n",
       "      <th>Middle</th>\n",
       "      <th>Beard Style</th>\n",
       "      <th>Age_Years</th>\n",
       "    </tr>\n",
       "  </thead>\n",
       "  <tbody>\n",
       "    <tr>\n",
       "      <th>Dad</th>\n",
       "      <td>Allen</td>\n",
       "      <td>James</td>\n",
       "      <td>Wizard</td>\n",
       "      <td>51</td>\n",
       "    </tr>\n",
       "    <tr>\n",
       "      <th>Son</th>\n",
       "      <td>Ryan</td>\n",
       "      <td>Patrick</td>\n",
       "      <td>Battle Dwarf</td>\n",
       "      <td>25</td>\n",
       "    </tr>\n",
       "    <tr>\n",
       "      <th>Mom</th>\n",
       "      <td>Michele</td>\n",
       "      <td>Leigh</td>\n",
       "      <td>None</td>\n",
       "      <td>52</td>\n",
       "    </tr>\n",
       "    <tr>\n",
       "      <th>Son</th>\n",
       "      <td>Allen</td>\n",
       "      <td>Michael</td>\n",
       "      <td>Middle-class Hobbit</td>\n",
       "      <td>28</td>\n",
       "    </tr>\n",
       "    <tr>\n",
       "      <th>Dog</th>\n",
       "      <td>BamBam</td>\n",
       "      <td>Doggo</td>\n",
       "      <td>NaN</td>\n",
       "      <td>7</td>\n",
       "    </tr>\n",
       "  </tbody>\n",
       "</table>\n",
       "</div>"
      ],
      "text/plain": [
       "    First_Name   Middle          Beard Style  Age_Years\n",
       "Dad      Allen    James               Wizard         51\n",
       "Son       Ryan  Patrick         Battle Dwarf         25\n",
       "Mom    Michele    Leigh                 None         52\n",
       "Son      Allen  Michael  Middle-class Hobbit         28\n",
       "Dog     BamBam    Doggo                  NaN          7"
      ]
     },
     "execution_count": 378,
     "metadata": {},
     "output_type": "execute_result"
    }
   ],
   "source": [
    "employee_df.rename(columns = {\"First\":\"First_Name\", \"Last\":\"Last_Name\", \"Beard style\":\"Beard_Style\", \"Age\":\"Age_Years\"})"
   ]
  },
  {
   "cell_type": "markdown",
   "metadata": {},
   "source": [
    "##### Example 3.3 (Changing Column Names - Method 3):\n",
    "\n",
    "Method 3 is Re-indexing column names (`df.reindex(columns=)`) "
   ]
  },
  {
   "cell_type": "code",
   "execution_count": 382,
   "metadata": {},
   "outputs": [],
   "source": [
    "employee_df = my_df = pd.read_csv(\"csv_file_for_pandas.csv\", index_col = 0)"
   ]
  },
  {
   "cell_type": "code",
   "execution_count": 387,
   "metadata": {
    "scrolled": true
   },
   "outputs": [],
   "source": [
    "new_columns = [\"First_Name\", \"Middle_Name\", \"Beard_Style\", \"Age_Years\"]\n",
    "employee_df = employee_df.reindex(columns=new_columns)"
   ]
  },
  {
   "cell_type": "code",
   "execution_count": 388,
   "metadata": {},
   "outputs": [
    {
     "data": {
      "text/html": [
       "<div>\n",
       "<style scoped>\n",
       "    .dataframe tbody tr th:only-of-type {\n",
       "        vertical-align: middle;\n",
       "    }\n",
       "\n",
       "    .dataframe tbody tr th {\n",
       "        vertical-align: top;\n",
       "    }\n",
       "\n",
       "    .dataframe thead th {\n",
       "        text-align: right;\n",
       "    }\n",
       "</style>\n",
       "<table border=\"1\" class=\"dataframe\">\n",
       "  <thead>\n",
       "    <tr style=\"text-align: right;\">\n",
       "      <th></th>\n",
       "      <th>First_Name</th>\n",
       "      <th>Middle_Name</th>\n",
       "      <th>Beard_Style</th>\n",
       "      <th>Age_Years</th>\n",
       "    </tr>\n",
       "  </thead>\n",
       "  <tbody>\n",
       "    <tr>\n",
       "      <th>Dad</th>\n",
       "      <td>NaN</td>\n",
       "      <td>NaN</td>\n",
       "      <td>NaN</td>\n",
       "      <td>NaN</td>\n",
       "    </tr>\n",
       "    <tr>\n",
       "      <th>Son</th>\n",
       "      <td>NaN</td>\n",
       "      <td>NaN</td>\n",
       "      <td>NaN</td>\n",
       "      <td>NaN</td>\n",
       "    </tr>\n",
       "    <tr>\n",
       "      <th>Mom</th>\n",
       "      <td>NaN</td>\n",
       "      <td>NaN</td>\n",
       "      <td>NaN</td>\n",
       "      <td>NaN</td>\n",
       "    </tr>\n",
       "    <tr>\n",
       "      <th>Son</th>\n",
       "      <td>NaN</td>\n",
       "      <td>NaN</td>\n",
       "      <td>NaN</td>\n",
       "      <td>NaN</td>\n",
       "    </tr>\n",
       "    <tr>\n",
       "      <th>Dog</th>\n",
       "      <td>NaN</td>\n",
       "      <td>NaN</td>\n",
       "      <td>NaN</td>\n",
       "      <td>NaN</td>\n",
       "    </tr>\n",
       "  </tbody>\n",
       "</table>\n",
       "</div>"
      ],
      "text/plain": [
       "     First_Name  Middle_Name  Beard_Style  Age_Years\n",
       "Dad         NaN          NaN          NaN        NaN\n",
       "Son         NaN          NaN          NaN        NaN\n",
       "Mom         NaN          NaN          NaN        NaN\n",
       "Son         NaN          NaN          NaN        NaN\n",
       "Dog         NaN          NaN          NaN        NaN"
      ]
     },
     "execution_count": 388,
     "metadata": {},
     "output_type": "execute_result"
    }
   ],
   "source": [
    "employee_df ### Uh-oh, why does this happen?"
   ]
  },
  {
   "cell_type": "markdown",
   "metadata": {},
   "source": [
    "##### Example 3.4 (Adding Columns - Method 1):\n",
    "\n",
    "Method 1 is Inserting column within the DataFrame (`df.insert(column_position, column = \"new_col_name\", value = )`)"
   ]
  },
  {
   "cell_type": "code",
   "execution_count": 390,
   "metadata": {},
   "outputs": [],
   "source": [
    "employee_df = my_df = pd.read_csv(\"csv_file_for_pandas.csv\", index_col = 0)"
   ]
  },
  {
   "cell_type": "code",
   "execution_count": 391,
   "metadata": {
    "scrolled": false
   },
   "outputs": [
    {
     "data": {
      "text/html": [
       "<div>\n",
       "<style scoped>\n",
       "    .dataframe tbody tr th:only-of-type {\n",
       "        vertical-align: middle;\n",
       "    }\n",
       "\n",
       "    .dataframe tbody tr th {\n",
       "        vertical-align: top;\n",
       "    }\n",
       "\n",
       "    .dataframe thead th {\n",
       "        text-align: right;\n",
       "    }\n",
       "</style>\n",
       "<table border=\"1\" class=\"dataframe\">\n",
       "  <thead>\n",
       "    <tr style=\"text-align: right;\">\n",
       "      <th></th>\n",
       "      <th>First</th>\n",
       "      <th>Middle</th>\n",
       "      <th>Salary</th>\n",
       "      <th>Beard Style</th>\n",
       "      <th>Age</th>\n",
       "    </tr>\n",
       "  </thead>\n",
       "  <tbody>\n",
       "    <tr>\n",
       "      <th>Dad</th>\n",
       "      <td>Allen</td>\n",
       "      <td>James</td>\n",
       "      <td>9999999</td>\n",
       "      <td>Wizard</td>\n",
       "      <td>51</td>\n",
       "    </tr>\n",
       "    <tr>\n",
       "      <th>Son</th>\n",
       "      <td>Ryan</td>\n",
       "      <td>Patrick</td>\n",
       "      <td>9872348756</td>\n",
       "      <td>Battle Dwarf</td>\n",
       "      <td>25</td>\n",
       "    </tr>\n",
       "    <tr>\n",
       "      <th>Mom</th>\n",
       "      <td>Michele</td>\n",
       "      <td>Leigh</td>\n",
       "      <td>999913379999</td>\n",
       "      <td>None</td>\n",
       "      <td>52</td>\n",
       "    </tr>\n",
       "    <tr>\n",
       "      <th>Son</th>\n",
       "      <td>Allen</td>\n",
       "      <td>Michael</td>\n",
       "      <td>5</td>\n",
       "      <td>Middle-class Hobbit</td>\n",
       "      <td>28</td>\n",
       "    </tr>\n",
       "    <tr>\n",
       "      <th>Dog</th>\n",
       "      <td>BamBam</td>\n",
       "      <td>Doggo</td>\n",
       "      <td>0</td>\n",
       "      <td>NaN</td>\n",
       "      <td>7</td>\n",
       "    </tr>\n",
       "  </tbody>\n",
       "</table>\n",
       "</div>"
      ],
      "text/plain": [
       "       First   Middle        Salary          Beard Style  Age\n",
       "Dad    Allen    James       9999999               Wizard   51\n",
       "Son     Ryan  Patrick    9872348756         Battle Dwarf   25\n",
       "Mom  Michele    Leigh  999913379999                 None   52\n",
       "Son    Allen  Michael             5  Middle-class Hobbit   28\n",
       "Dog   BamBam    Doggo             0                  NaN    7"
      ]
     },
     "execution_count": 391,
     "metadata": {},
     "output_type": "execute_result"
    }
   ],
   "source": [
    "employee_df.insert(2, column = \"Salary\", value = [9999999, 9872348756, 999913379999, 5, 0])\n",
    "employee_df"
   ]
  },
  {
   "cell_type": "markdown",
   "metadata": {},
   "source": [
    "##### Example 3.5 (Adding Columns - Method 2):\n",
    "\n",
    "Method 2 is Adding column to the end of the DataFrame (`df[\"new_col_name\"] = pd.Series()`)"
   ]
  },
  {
   "cell_type": "code",
   "execution_count": null,
   "metadata": {
    "collapsed": true
   },
   "outputs": [],
   "source": [
    "employee_df = my_df = pd.read_csv(\"csv_file_for_pandas.csv\", index_col = 0)"
   ]
  },
  {
   "cell_type": "code",
   "execution_count": 392,
   "metadata": {
    "scrolled": false
   },
   "outputs": [
    {
     "data": {
      "text/plain": [
       "Dad    100\n",
       "Son    200\n",
       "Mom    150\n",
       "Son    450\n",
       "Dog      0\n",
       "dtype: int64"
      ]
     },
     "execution_count": 392,
     "metadata": {},
     "output_type": "execute_result"
    }
   ],
   "source": [
    "new_series = pd.Series([100,200,150,450,0], index = employee_df.index)\n",
    "new_series"
   ]
  },
  {
   "cell_type": "code",
   "execution_count": 393,
   "metadata": {
    "scrolled": true
   },
   "outputs": [
    {
     "data": {
      "text/html": [
       "<div>\n",
       "<style scoped>\n",
       "    .dataframe tbody tr th:only-of-type {\n",
       "        vertical-align: middle;\n",
       "    }\n",
       "\n",
       "    .dataframe tbody tr th {\n",
       "        vertical-align: top;\n",
       "    }\n",
       "\n",
       "    .dataframe thead th {\n",
       "        text-align: right;\n",
       "    }\n",
       "</style>\n",
       "<table border=\"1\" class=\"dataframe\">\n",
       "  <thead>\n",
       "    <tr style=\"text-align: right;\">\n",
       "      <th></th>\n",
       "      <th>First</th>\n",
       "      <th>Middle</th>\n",
       "      <th>Salary</th>\n",
       "      <th>Beard Style</th>\n",
       "      <th>Age</th>\n",
       "    </tr>\n",
       "  </thead>\n",
       "  <tbody>\n",
       "    <tr>\n",
       "      <th>Dad</th>\n",
       "      <td>Allen</td>\n",
       "      <td>James</td>\n",
       "      <td>100</td>\n",
       "      <td>Wizard</td>\n",
       "      <td>51</td>\n",
       "    </tr>\n",
       "    <tr>\n",
       "      <th>Son</th>\n",
       "      <td>Ryan</td>\n",
       "      <td>Patrick</td>\n",
       "      <td>200</td>\n",
       "      <td>Battle Dwarf</td>\n",
       "      <td>25</td>\n",
       "    </tr>\n",
       "    <tr>\n",
       "      <th>Mom</th>\n",
       "      <td>Michele</td>\n",
       "      <td>Leigh</td>\n",
       "      <td>150</td>\n",
       "      <td>None</td>\n",
       "      <td>52</td>\n",
       "    </tr>\n",
       "    <tr>\n",
       "      <th>Son</th>\n",
       "      <td>Allen</td>\n",
       "      <td>Michael</td>\n",
       "      <td>450</td>\n",
       "      <td>Middle-class Hobbit</td>\n",
       "      <td>28</td>\n",
       "    </tr>\n",
       "    <tr>\n",
       "      <th>Dog</th>\n",
       "      <td>BamBam</td>\n",
       "      <td>Doggo</td>\n",
       "      <td>0</td>\n",
       "      <td>NaN</td>\n",
       "      <td>7</td>\n",
       "    </tr>\n",
       "  </tbody>\n",
       "</table>\n",
       "</div>"
      ],
      "text/plain": [
       "       First   Middle  Salary          Beard Style  Age\n",
       "Dad    Allen    James     100               Wizard   51\n",
       "Son     Ryan  Patrick     200         Battle Dwarf   25\n",
       "Mom  Michele    Leigh     150                 None   52\n",
       "Son    Allen  Michael     450  Middle-class Hobbit   28\n",
       "Dog   BamBam    Doggo       0                  NaN    7"
      ]
     },
     "execution_count": 393,
     "metadata": {},
     "output_type": "execute_result"
    }
   ],
   "source": [
    "employee_df[\"Salary\"] = new_series\n",
    "employee_df"
   ]
  },
  {
   "cell_type": "markdown",
   "metadata": {},
   "source": [
    "##### Example 3.6 (Removing Columns - Method 1):\n",
    "\n",
    "Method 1 is Deleting column using `del` (`del df[\"col_name\"]`)"
   ]
  },
  {
   "cell_type": "code",
   "execution_count": 394,
   "metadata": {},
   "outputs": [],
   "source": [
    "employee_df = my_df = pd.read_csv(\"csv_file_for_pandas.csv\", index_col = 0)"
   ]
  },
  {
   "cell_type": "code",
   "execution_count": 395,
   "metadata": {
    "scrolled": true
   },
   "outputs": [
    {
     "data": {
      "text/html": [
       "<div>\n",
       "<style scoped>\n",
       "    .dataframe tbody tr th:only-of-type {\n",
       "        vertical-align: middle;\n",
       "    }\n",
       "\n",
       "    .dataframe tbody tr th {\n",
       "        vertical-align: top;\n",
       "    }\n",
       "\n",
       "    .dataframe thead th {\n",
       "        text-align: right;\n",
       "    }\n",
       "</style>\n",
       "<table border=\"1\" class=\"dataframe\">\n",
       "  <thead>\n",
       "    <tr style=\"text-align: right;\">\n",
       "      <th></th>\n",
       "      <th>First</th>\n",
       "      <th>Middle</th>\n",
       "      <th>Beard Style</th>\n",
       "    </tr>\n",
       "  </thead>\n",
       "  <tbody>\n",
       "    <tr>\n",
       "      <th>Dad</th>\n",
       "      <td>Allen</td>\n",
       "      <td>James</td>\n",
       "      <td>Wizard</td>\n",
       "    </tr>\n",
       "    <tr>\n",
       "      <th>Son</th>\n",
       "      <td>Ryan</td>\n",
       "      <td>Patrick</td>\n",
       "      <td>Battle Dwarf</td>\n",
       "    </tr>\n",
       "    <tr>\n",
       "      <th>Mom</th>\n",
       "      <td>Michele</td>\n",
       "      <td>Leigh</td>\n",
       "      <td>None</td>\n",
       "    </tr>\n",
       "    <tr>\n",
       "      <th>Son</th>\n",
       "      <td>Allen</td>\n",
       "      <td>Michael</td>\n",
       "      <td>Middle-class Hobbit</td>\n",
       "    </tr>\n",
       "    <tr>\n",
       "      <th>Dog</th>\n",
       "      <td>BamBam</td>\n",
       "      <td>Doggo</td>\n",
       "      <td>NaN</td>\n",
       "    </tr>\n",
       "  </tbody>\n",
       "</table>\n",
       "</div>"
      ],
      "text/plain": [
       "       First   Middle          Beard Style\n",
       "Dad    Allen    James               Wizard\n",
       "Son     Ryan  Patrick         Battle Dwarf\n",
       "Mom  Michele    Leigh                 None\n",
       "Son    Allen  Michael  Middle-class Hobbit\n",
       "Dog   BamBam    Doggo                  NaN"
      ]
     },
     "execution_count": 395,
     "metadata": {},
     "output_type": "execute_result"
    }
   ],
   "source": [
    "del employee_df[\"Age\"]\n",
    "employee_df"
   ]
  },
  {
   "cell_type": "markdown",
   "metadata": {},
   "source": [
    "##### Example 3.7 (Removing Columns - Method 2):\n",
    "\n",
    "Method 2 is Deleting column using `pop` (`df.pop(\"col_name\")`)"
   ]
  },
  {
   "cell_type": "code",
   "execution_count": 396,
   "metadata": {},
   "outputs": [
    {
     "data": {
      "text/html": [
       "<div>\n",
       "<style scoped>\n",
       "    .dataframe tbody tr th:only-of-type {\n",
       "        vertical-align: middle;\n",
       "    }\n",
       "\n",
       "    .dataframe tbody tr th {\n",
       "        vertical-align: top;\n",
       "    }\n",
       "\n",
       "    .dataframe thead th {\n",
       "        text-align: right;\n",
       "    }\n",
       "</style>\n",
       "<table border=\"1\" class=\"dataframe\">\n",
       "  <thead>\n",
       "    <tr style=\"text-align: right;\">\n",
       "      <th></th>\n",
       "      <th>First</th>\n",
       "      <th>Middle</th>\n",
       "      <th>Beard Style</th>\n",
       "      <th>Age</th>\n",
       "    </tr>\n",
       "  </thead>\n",
       "  <tbody>\n",
       "    <tr>\n",
       "      <th>Dad</th>\n",
       "      <td>Allen</td>\n",
       "      <td>James</td>\n",
       "      <td>Wizard</td>\n",
       "      <td>51</td>\n",
       "    </tr>\n",
       "    <tr>\n",
       "      <th>Son</th>\n",
       "      <td>Ryan</td>\n",
       "      <td>Patrick</td>\n",
       "      <td>Battle Dwarf</td>\n",
       "      <td>25</td>\n",
       "    </tr>\n",
       "    <tr>\n",
       "      <th>Mom</th>\n",
       "      <td>Michele</td>\n",
       "      <td>Leigh</td>\n",
       "      <td>None</td>\n",
       "      <td>52</td>\n",
       "    </tr>\n",
       "    <tr>\n",
       "      <th>Son</th>\n",
       "      <td>Allen</td>\n",
       "      <td>Michael</td>\n",
       "      <td>Middle-class Hobbit</td>\n",
       "      <td>28</td>\n",
       "    </tr>\n",
       "    <tr>\n",
       "      <th>Dog</th>\n",
       "      <td>BamBam</td>\n",
       "      <td>Doggo</td>\n",
       "      <td>NaN</td>\n",
       "      <td>7</td>\n",
       "    </tr>\n",
       "  </tbody>\n",
       "</table>\n",
       "</div>"
      ],
      "text/plain": [
       "       First   Middle          Beard Style  Age\n",
       "Dad    Allen    James               Wizard   51\n",
       "Son     Ryan  Patrick         Battle Dwarf   25\n",
       "Mom  Michele    Leigh                 None   52\n",
       "Son    Allen  Michael  Middle-class Hobbit   28\n",
       "Dog   BamBam    Doggo                  NaN    7"
      ]
     },
     "execution_count": 396,
     "metadata": {},
     "output_type": "execute_result"
    }
   ],
   "source": [
    "employee_df = my_df = pd.read_csv(\"csv_file_for_pandas.csv\", index_col = 0)\n",
    "employee_df"
   ]
  },
  {
   "cell_type": "code",
   "execution_count": 397,
   "metadata": {
    "scrolled": true
   },
   "outputs": [
    {
     "data": {
      "text/html": [
       "<div>\n",
       "<style scoped>\n",
       "    .dataframe tbody tr th:only-of-type {\n",
       "        vertical-align: middle;\n",
       "    }\n",
       "\n",
       "    .dataframe tbody tr th {\n",
       "        vertical-align: top;\n",
       "    }\n",
       "\n",
       "    .dataframe thead th {\n",
       "        text-align: right;\n",
       "    }\n",
       "</style>\n",
       "<table border=\"1\" class=\"dataframe\">\n",
       "  <thead>\n",
       "    <tr style=\"text-align: right;\">\n",
       "      <th></th>\n",
       "      <th>First</th>\n",
       "      <th>Beard Style</th>\n",
       "      <th>Age</th>\n",
       "    </tr>\n",
       "  </thead>\n",
       "  <tbody>\n",
       "    <tr>\n",
       "      <th>Dad</th>\n",
       "      <td>Allen</td>\n",
       "      <td>Wizard</td>\n",
       "      <td>51</td>\n",
       "    </tr>\n",
       "    <tr>\n",
       "      <th>Son</th>\n",
       "      <td>Ryan</td>\n",
       "      <td>Battle Dwarf</td>\n",
       "      <td>25</td>\n",
       "    </tr>\n",
       "    <tr>\n",
       "      <th>Mom</th>\n",
       "      <td>Michele</td>\n",
       "      <td>None</td>\n",
       "      <td>52</td>\n",
       "    </tr>\n",
       "    <tr>\n",
       "      <th>Son</th>\n",
       "      <td>Allen</td>\n",
       "      <td>Middle-class Hobbit</td>\n",
       "      <td>28</td>\n",
       "    </tr>\n",
       "    <tr>\n",
       "      <th>Dog</th>\n",
       "      <td>BamBam</td>\n",
       "      <td>NaN</td>\n",
       "      <td>7</td>\n",
       "    </tr>\n",
       "  </tbody>\n",
       "</table>\n",
       "</div>"
      ],
      "text/plain": [
       "       First          Beard Style  Age\n",
       "Dad    Allen               Wizard   51\n",
       "Son     Ryan         Battle Dwarf   25\n",
       "Mom  Michele                 None   52\n",
       "Son    Allen  Middle-class Hobbit   28\n",
       "Dog   BamBam                  NaN    7"
      ]
     },
     "execution_count": 397,
     "metadata": {},
     "output_type": "execute_result"
    }
   ],
   "source": [
    "employee_df.pop(\"Middle\")\n",
    "employee_df"
   ]
  },
  {
   "cell_type": "markdown",
   "metadata": {},
   "source": [
    "##### Example 3.8 (Removing Columns - Method 3):\n",
    "\n",
    "Method 3 is Removing columns using `drop` (`df.drop([\"col_name_1\", \"col_name_5\"])`)"
   ]
  },
  {
   "cell_type": "code",
   "execution_count": 400,
   "metadata": {},
   "outputs": [],
   "source": [
    "employee_df = my_df = pd.read_csv(\"csv_file_for_pandas.csv\", index_col = 0)"
   ]
  },
  {
   "cell_type": "code",
   "execution_count": 402,
   "metadata": {
    "scrolled": false
   },
   "outputs": [
    {
     "data": {
      "text/html": [
       "<div>\n",
       "<style scoped>\n",
       "    .dataframe tbody tr th:only-of-type {\n",
       "        vertical-align: middle;\n",
       "    }\n",
       "\n",
       "    .dataframe tbody tr th {\n",
       "        vertical-align: top;\n",
       "    }\n",
       "\n",
       "    .dataframe thead th {\n",
       "        text-align: right;\n",
       "    }\n",
       "</style>\n",
       "<table border=\"1\" class=\"dataframe\">\n",
       "  <thead>\n",
       "    <tr style=\"text-align: right;\">\n",
       "      <th></th>\n",
       "      <th>Beard Style</th>\n",
       "      <th>Age</th>\n",
       "    </tr>\n",
       "  </thead>\n",
       "  <tbody>\n",
       "    <tr>\n",
       "      <th>Dad</th>\n",
       "      <td>Wizard</td>\n",
       "      <td>51</td>\n",
       "    </tr>\n",
       "    <tr>\n",
       "      <th>Son</th>\n",
       "      <td>Battle Dwarf</td>\n",
       "      <td>25</td>\n",
       "    </tr>\n",
       "    <tr>\n",
       "      <th>Mom</th>\n",
       "      <td>None</td>\n",
       "      <td>52</td>\n",
       "    </tr>\n",
       "    <tr>\n",
       "      <th>Son</th>\n",
       "      <td>Middle-class Hobbit</td>\n",
       "      <td>28</td>\n",
       "    </tr>\n",
       "    <tr>\n",
       "      <th>Dog</th>\n",
       "      <td>NaN</td>\n",
       "      <td>7</td>\n",
       "    </tr>\n",
       "  </tbody>\n",
       "</table>\n",
       "</div>"
      ],
      "text/plain": [
       "             Beard Style  Age\n",
       "Dad               Wizard   51\n",
       "Son         Battle Dwarf   25\n",
       "Mom                 None   52\n",
       "Son  Middle-class Hobbit   28\n",
       "Dog                  NaN    7"
      ]
     },
     "execution_count": 402,
     "metadata": {},
     "output_type": "execute_result"
    }
   ],
   "source": [
    "employee_df.drop([\"First\", \"Middle\"], axis = 1)"
   ]
  },
  {
   "cell_type": "markdown",
   "metadata": {},
   "source": [
    "##### Example 3.9 (Sorting Columns - Method 1):\n",
    "\n",
    "Method 1 is Sorting columns based on column names (`df.sort_index(axis=1)`)"
   ]
  },
  {
   "cell_type": "code",
   "execution_count": 403,
   "metadata": {},
   "outputs": [],
   "source": [
    "employee_df = my_df = pd.read_csv(\"csv_file_for_pandas.csv\", index_col = 0)"
   ]
  },
  {
   "cell_type": "code",
   "execution_count": 404,
   "metadata": {
    "scrolled": false
   },
   "outputs": [
    {
     "data": {
      "text/html": [
       "<div>\n",
       "<style scoped>\n",
       "    .dataframe tbody tr th:only-of-type {\n",
       "        vertical-align: middle;\n",
       "    }\n",
       "\n",
       "    .dataframe tbody tr th {\n",
       "        vertical-align: top;\n",
       "    }\n",
       "\n",
       "    .dataframe thead th {\n",
       "        text-align: right;\n",
       "    }\n",
       "</style>\n",
       "<table border=\"1\" class=\"dataframe\">\n",
       "  <thead>\n",
       "    <tr style=\"text-align: right;\">\n",
       "      <th></th>\n",
       "      <th>Age</th>\n",
       "      <th>Beard Style</th>\n",
       "      <th>First</th>\n",
       "      <th>Middle</th>\n",
       "    </tr>\n",
       "  </thead>\n",
       "  <tbody>\n",
       "    <tr>\n",
       "      <th>Dad</th>\n",
       "      <td>51</td>\n",
       "      <td>Wizard</td>\n",
       "      <td>Allen</td>\n",
       "      <td>James</td>\n",
       "    </tr>\n",
       "    <tr>\n",
       "      <th>Son</th>\n",
       "      <td>25</td>\n",
       "      <td>Battle Dwarf</td>\n",
       "      <td>Ryan</td>\n",
       "      <td>Patrick</td>\n",
       "    </tr>\n",
       "    <tr>\n",
       "      <th>Mom</th>\n",
       "      <td>52</td>\n",
       "      <td>None</td>\n",
       "      <td>Michele</td>\n",
       "      <td>Leigh</td>\n",
       "    </tr>\n",
       "    <tr>\n",
       "      <th>Son</th>\n",
       "      <td>28</td>\n",
       "      <td>Middle-class Hobbit</td>\n",
       "      <td>Allen</td>\n",
       "      <td>Michael</td>\n",
       "    </tr>\n",
       "    <tr>\n",
       "      <th>Dog</th>\n",
       "      <td>7</td>\n",
       "      <td>NaN</td>\n",
       "      <td>BamBam</td>\n",
       "      <td>Doggo</td>\n",
       "    </tr>\n",
       "  </tbody>\n",
       "</table>\n",
       "</div>"
      ],
      "text/plain": [
       "     Age          Beard Style    First   Middle\n",
       "Dad   51               Wizard    Allen    James\n",
       "Son   25         Battle Dwarf     Ryan  Patrick\n",
       "Mom   52                 None  Michele    Leigh\n",
       "Son   28  Middle-class Hobbit    Allen  Michael\n",
       "Dog    7                  NaN   BamBam    Doggo"
      ]
     },
     "execution_count": 404,
     "metadata": {},
     "output_type": "execute_result"
    }
   ],
   "source": [
    "employee_df.sort_index(axis=1)"
   ]
  },
  {
   "cell_type": "markdown",
   "metadata": {},
   "source": [
    "##### Problem 10:\n",
    "\n",
    "Using the Pandas DataFrame previously created (*prob8_df*):\n",
    "    \n",
    "    * Rename the columns as \"Count\", \"Pop\" and \"Area\"\"\n",
    "    * Add a new column called \"Pop/Area\" and has as values the ratio of the Population over the Area"
   ]
  },
  {
   "cell_type": "code",
   "execution_count": 406,
   "metadata": {},
   "outputs": [
    {
     "data": {
      "text/html": [
       "<div>\n",
       "<style scoped>\n",
       "    .dataframe tbody tr th:only-of-type {\n",
       "        vertical-align: middle;\n",
       "    }\n",
       "\n",
       "    .dataframe tbody tr th {\n",
       "        vertical-align: top;\n",
       "    }\n",
       "\n",
       "    .dataframe thead th {\n",
       "        text-align: right;\n",
       "    }\n",
       "</style>\n",
       "<table border=\"1\" class=\"dataframe\">\n",
       "  <thead>\n",
       "    <tr style=\"text-align: right;\">\n",
       "      <th></th>\n",
       "      <th>Country Name</th>\n",
       "      <th>Population</th>\n",
       "      <th>Size</th>\n",
       "    </tr>\n",
       "  </thead>\n",
       "  <tbody>\n",
       "    <tr>\n",
       "      <th>0</th>\n",
       "      <td>India</td>\n",
       "      <td>1339180127</td>\n",
       "      <td>3287263</td>\n",
       "    </tr>\n",
       "    <tr>\n",
       "      <th>1</th>\n",
       "      <td>USA</td>\n",
       "      <td>324459463</td>\n",
       "      <td>9629091</td>\n",
       "    </tr>\n",
       "    <tr>\n",
       "      <th>2</th>\n",
       "      <td>Indonesia</td>\n",
       "      <td>263991379</td>\n",
       "      <td>1904556</td>\n",
       "    </tr>\n",
       "    <tr>\n",
       "      <th>3</th>\n",
       "      <td>Brazil</td>\n",
       "      <td>209288278</td>\n",
       "      <td>8511965</td>\n",
       "    </tr>\n",
       "    <tr>\n",
       "      <th>4</th>\n",
       "      <td>Russia</td>\n",
       "      <td>143989754</td>\n",
       "      <td>17098246</td>\n",
       "    </tr>\n",
       "  </tbody>\n",
       "</table>\n",
       "</div>"
      ],
      "text/plain": [
       "  Country Name  Population      Size\n",
       "0        India  1339180127   3287263\n",
       "1          USA   324459463   9629091\n",
       "2    Indonesia   263991379   1904556\n",
       "3       Brazil   209288278   8511965\n",
       "4       Russia   143989754  17098246"
      ]
     },
     "execution_count": 406,
     "metadata": {},
     "output_type": "execute_result"
    }
   ],
   "source": [
    "prob8_df"
   ]
  },
  {
   "cell_type": "code",
   "execution_count": 411,
   "metadata": {},
   "outputs": [
    {
     "data": {
      "text/html": [
       "<div>\n",
       "<style scoped>\n",
       "    .dataframe tbody tr th:only-of-type {\n",
       "        vertical-align: middle;\n",
       "    }\n",
       "\n",
       "    .dataframe tbody tr th {\n",
       "        vertical-align: top;\n",
       "    }\n",
       "\n",
       "    .dataframe thead th {\n",
       "        text-align: right;\n",
       "    }\n",
       "</style>\n",
       "<table border=\"1\" class=\"dataframe\">\n",
       "  <thead>\n",
       "    <tr style=\"text-align: right;\">\n",
       "      <th></th>\n",
       "      <th>Count</th>\n",
       "      <th>Pop</th>\n",
       "      <th>Area</th>\n",
       "    </tr>\n",
       "  </thead>\n",
       "  <tbody>\n",
       "    <tr>\n",
       "      <th>0</th>\n",
       "      <td>India</td>\n",
       "      <td>1339180127</td>\n",
       "      <td>3287263</td>\n",
       "    </tr>\n",
       "    <tr>\n",
       "      <th>1</th>\n",
       "      <td>USA</td>\n",
       "      <td>324459463</td>\n",
       "      <td>9629091</td>\n",
       "    </tr>\n",
       "    <tr>\n",
       "      <th>2</th>\n",
       "      <td>Indonesia</td>\n",
       "      <td>263991379</td>\n",
       "      <td>1904556</td>\n",
       "    </tr>\n",
       "    <tr>\n",
       "      <th>3</th>\n",
       "      <td>Brazil</td>\n",
       "      <td>209288278</td>\n",
       "      <td>8511965</td>\n",
       "    </tr>\n",
       "    <tr>\n",
       "      <th>4</th>\n",
       "      <td>Russia</td>\n",
       "      <td>143989754</td>\n",
       "      <td>17098246</td>\n",
       "    </tr>\n",
       "  </tbody>\n",
       "</table>\n",
       "</div>"
      ],
      "text/plain": [
       "       Count         Pop      Area\n",
       "0      India  1339180127   3287263\n",
       "1        USA   324459463   9629091\n",
       "2  Indonesia   263991379   1904556\n",
       "3     Brazil   209288278   8511965\n",
       "4     Russia   143989754  17098246"
      ]
     },
     "execution_count": 411,
     "metadata": {},
     "output_type": "execute_result"
    }
   ],
   "source": [
    "### Write code here\n",
    "\n",
    "prob8_df = prob8_df.rename(columns = {\"Country Name\":\"Count\", \"Population\":\"Pop\", \"Size\":\"Area\"})\n",
    "prob8_df"
   ]
  }
 ],
 "metadata": {
  "kernelspec": {
   "display_name": "Python 3",
   "language": "python",
   "name": "python3"
  },
  "language_info": {
   "codemirror_mode": {
    "name": "ipython",
    "version": 3
   },
   "file_extension": ".py",
   "mimetype": "text/x-python",
   "name": "python",
   "nbconvert_exporter": "python",
   "pygments_lexer": "ipython3",
   "version": "3.7.0"
  },
  "toc": {
   "base_numbering": 1,
   "nav_menu": {},
   "number_sections": false,
   "sideBar": true,
   "skip_h1_title": false,
   "title_cell": "Table of Contents",
   "title_sidebar": "Contents",
   "toc_cell": true,
   "toc_position": {
    "height": "827px",
    "left": "252px",
    "top": "228px",
    "width": "499px"
   },
   "toc_section_display": true,
   "toc_window_display": true
  }
 },
 "nbformat": 4,
 "nbformat_minor": 2
}
