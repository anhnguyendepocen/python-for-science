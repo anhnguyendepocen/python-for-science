{
 "cells": [
  {
   "cell_type": "markdown",
   "metadata": {},
   "source": [
    "### Problem 4:\n",
    "\n",
    "The end result is to have 2 variables (`latitude` and `longitude`) which will store your current latitude and longitude. To create these variables, use packing and unpacking as shown above. If you don't know your current latitude and longitude, type in your address or nearest landmark or city in the searchbar of [this link](https://mynasadata.larc.nasa.gov/latitudelongitude-finder/)\n",
    "\n",
    "Notes\n",
    "- Use string formatting to output your result \n",
    "- Do not just create 2 separate variables \n",
    "- It is inefficient (i.e. not \"Pythonic\") to just index a list to arrive at your result"
   ]
  },
  {
   "cell_type": "code",
   "execution_count": 1,
   "metadata": {},
   "outputs": [],
   "source": [
    "my_coordinates = [45.878512, -123.443433]"
   ]
  },
  {
   "cell_type": "code",
   "execution_count": 2,
   "metadata": {},
   "outputs": [],
   "source": [
    "# method 1 (inefficient and not Pythonic)\n",
    "latitude = my_coordinates[0]\n",
    "longitude = my_coordinates[1]"
   ]
  },
  {
   "cell_type": "code",
   "execution_count": 3,
   "metadata": {},
   "outputs": [],
   "source": [
    "# method 1 (efficient and Pythonic)\n",
    "latitude, longitude = my_coordinates"
   ]
  },
  {
   "cell_type": "code",
   "execution_count": 4,
   "metadata": {},
   "outputs": [
    {
     "name": "stdout",
     "output_type": "stream",
     "text": [
      "My latitude is 45.878512 and my longitude is -123.443433\n"
     ]
    }
   ],
   "source": [
    "print(\"My latitude is {} and my longitude is {}\".format(latitude, longitude))"
   ]
  },
  {
   "cell_type": "markdown",
   "metadata": {},
   "source": [
    "### Problem 5\n",
    "\n",
    "Create a dictionary 3 different ways that contain key-value pairs corresponding to your city of birth, country of birth and current city. Add an element to any of the 3 dictionaries which contains your current country."
   ]
  },
  {
   "cell_type": "code",
   "execution_count": 7,
   "metadata": {
    "scrolled": true
   },
   "outputs": [
    {
     "name": "stdout",
     "output_type": "stream",
     "text": [
      "{'city_birth': 'Quito', 'country_birth': 'Ecuador', 'current_city': 'Olympia'}\n"
     ]
    }
   ],
   "source": [
    "# method 1\n",
    "my_dict_1 = dict([(\"city_birth\", \"Quito\"), (\"country_birth\", \"Ecuador\"), (\"current_city\", \"Olympia\")])\n",
    "print(my_dict_1)"
   ]
  },
  {
   "cell_type": "code",
   "execution_count": 8,
   "metadata": {},
   "outputs": [
    {
     "name": "stdout",
     "output_type": "stream",
     "text": [
      "{'city_birth': 'Quito', 'country_birth': 'Ecuador', 'current_city': 'Seattle'}\n"
     ]
    }
   ],
   "source": [
    "# method 2\n",
    "my_dict_2 = {\"city_birth\":\"Quito\", \"country_birth\":\"Ecuador\", \"current_city\":\"Seattle\"}\n",
    "print(my_dict_2)"
   ]
  },
  {
   "cell_type": "code",
   "execution_count": 9,
   "metadata": {
    "scrolled": true
   },
   "outputs": [
    {
     "name": "stdout",
     "output_type": "stream",
     "text": [
      "{'city_birth': 'Quito', 'country_birth': 'Ecuador', 'current_city': 'Portland'}\n"
     ]
    }
   ],
   "source": [
    "# method 3\n",
    "my_dict_3 = dict(city_birth = \"Quito\", country_birth = \"Ecuador\", current_city = \"Portland\")\n",
    "print(my_dict_3)"
   ]
  },
  {
   "cell_type": "code",
   "execution_count": 10,
   "metadata": {},
   "outputs": [
    {
     "name": "stdout",
     "output_type": "stream",
     "text": [
      "{'city_birth': 'Quito', 'country_birth': 'Ecuador', 'current_city': 'Olympia', 'current_country': 'United States'}\n"
     ]
    }
   ],
   "source": [
    "# add an element to dictionary from method 1\n",
    "my_dict_1[\"current_country\"] = \"United States\"\n",
    "print(my_dict_1)"
   ]
  }
 ],
 "metadata": {
  "kernelspec": {
   "display_name": "Python 3",
   "language": "python",
   "name": "python3"
  },
  "language_info": {
   "codemirror_mode": {
    "name": "ipython",
    "version": 3
   },
   "file_extension": ".py",
   "mimetype": "text/x-python",
   "name": "python",
   "nbconvert_exporter": "python",
   "pygments_lexer": "ipython3",
   "version": "3.6.5"
  }
 },
 "nbformat": 4,
 "nbformat_minor": 2
}
