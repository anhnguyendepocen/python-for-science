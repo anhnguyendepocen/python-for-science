{
 "cells": [
  {
   "cell_type": "markdown",
   "metadata": {},
   "source": [
    "# Beginner Python and Math for Data Science\n",
    "## Lecture 2\n",
    "### Python Built-In Data Types"
   ]
  },
  {
   "cell_type": "markdown",
   "metadata": {},
   "source": [
    "### Problem 1:\n",
    "\n",
    "Create a list and enter in the items `\"c\"`, `\"a\"`, `\"b\"`, `1`, `3`, `2` then reverse this list so it looks like `2`, `3`, ... Print your result.  \n",
    "\n",
    "- Use list slicing in your answer \n",
    "- Do not use any embedded functions in Python to reverse the list "
   ]
  },
  {
   "cell_type": "code",
   "execution_count": 1,
   "metadata": {},
   "outputs": [
    {
     "name": "stdout",
     "output_type": "stream",
     "text": [
      "[2, 3, 1, 'b', 'a', 'c']\n"
     ]
    }
   ],
   "source": [
    "my_list = [\"c\", \"a\", \"b\", 1, 3, 2]\n",
    "my_list_reversed = my_list[::-1]\n",
    "print(my_list_reversed)"
   ]
  },
  {
   "cell_type": "markdown",
   "metadata": {},
   "source": [
    "### Problem 2:\n",
    "\n",
    "Create 2 lists: the first list with your first name and the second list with your last name. Combine the two lists to make a list that contains your entire name. Repeat your name as many times as letters in your full name. \n",
    "\n",
    "Try adding your last name to your first name using both list concatenation and built-in functions."
   ]
  },
  {
   "cell_type": "code",
   "execution_count": 135,
   "metadata": {},
   "outputs": [],
   "source": [
    "first_name = [\"A\", \"l\", \"l\", \"e\", \"n\"]\n",
    "last_name = [\"H\", \"a\", \"r\", \"t\"]"
   ]
  },
  {
   "cell_type": "code",
   "execution_count": 136,
   "metadata": {},
   "outputs": [
    {
     "data": {
      "text/plain": [
       "['A', 'l', 'l', 'e', 'n', 'H', 'a', 'r', 't']"
      ]
     },
     "execution_count": 136,
     "metadata": {},
     "output_type": "execute_result"
    }
   ],
   "source": [
    "# method 1\n",
    "full_name_1 = first_name + last_name \n",
    "full_name_1"
   ]
  },
  {
   "cell_type": "code",
   "execution_count": 137,
   "metadata": {},
   "outputs": [
    {
     "data": {
      "text/plain": [
       "['A', 'l', 'l', 'e', 'n', 'H', 'a', 'r', 't']"
      ]
     },
     "execution_count": 137,
     "metadata": {},
     "output_type": "execute_result"
    }
   ],
   "source": [
    "# method 2\n",
    "first_name[len(first_name):len(first_name)] = last_name\n",
    "first_name"
   ]
  },
  {
   "cell_type": "code",
   "execution_count": 139,
   "metadata": {},
   "outputs": [
    {
     "data": {
      "text/plain": [
       "['A', 'l', 'l', 'e', 'n', 'H', 'a', 'r', 't']"
      ]
     },
     "execution_count": 139,
     "metadata": {},
     "output_type": "execute_result"
    }
   ],
   "source": [
    "# method 3\n",
    "first_name = [\"A\", \"l\", \"l\", \"e\", \"n\"]\n",
    "first_name.extend(last_name)\n",
    "first_name"
   ]
  },
  {
   "cell_type": "code",
   "execution_count": 140,
   "metadata": {
    "scrolled": true
   },
   "outputs": [
    {
     "name": "stdout",
     "output_type": "stream",
     "text": [
      "['A', 'l', 'l', 'e', 'n', 'H', 'a', 'r', 't', 'A', 'l', 'l', 'e', 'n', 'H', 'a', 'r', 't', 'A', 'l', 'l', 'e', 'n', 'H', 'a', 'r', 't', 'A', 'l', 'l', 'e', 'n', 'H', 'a', 'r', 't', 'A', 'l', 'l', 'e', 'n', 'H', 'a', 'r', 't', 'A', 'l', 'l', 'e', 'n', 'H', 'a', 'r', 't', 'A', 'l', 'l', 'e', 'n', 'H', 'a', 'r', 't', 'A', 'l', 'l', 'e', 'n', 'H', 'a', 'r', 't', 'A', 'l', 'l', 'e', 'n', 'H', 'a', 'r', 't']\n"
     ]
    }
   ],
   "source": [
    "print(full_name_1 * len(full_name_1)) # using method 1 "
   ]
  },
  {
   "cell_type": "markdown",
   "metadata": {},
   "source": [
    "### Problem 3\n",
    "\n",
    "Repeat the first part of problem 2 (combining first and last name), but using strings.\n",
    "\n",
    "Notes:\n",
    "- Create the 2 strings in lower case and then use a built-in string method to capitalize the words (see link for the proper function to use)\n",
    "- Use string formatting to output your results"
   ]
  },
  {
   "cell_type": "code",
   "execution_count": 124,
   "metadata": {},
   "outputs": [],
   "source": [
    "first_name = \"allen\"\n",
    "last_name = \"hart\""
   ]
  },
  {
   "cell_type": "code",
   "execution_count": 125,
   "metadata": {},
   "outputs": [],
   "source": [
    "first_name = first_name.capitalize()\n",
    "last_name = last_name.capitalize()"
   ]
  },
  {
   "cell_type": "code",
   "execution_count": 126,
   "metadata": {},
   "outputs": [
    {
     "data": {
      "text/plain": [
       "'Allen Hart'"
      ]
     },
     "execution_count": 126,
     "metadata": {},
     "output_type": "execute_result"
    }
   ],
   "source": [
    "full_name = first_name + \" \" + last_name\n",
    "full_name"
   ]
  },
  {
   "cell_type": "code",
   "execution_count": 127,
   "metadata": {},
   "outputs": [
    {
     "name": "stdout",
     "output_type": "stream",
     "text": [
      "My full name is Allen Hart\n"
     ]
    }
   ],
   "source": [
    "print(\"My full name is {}\".format(full_name))"
   ]
  },
  {
   "cell_type": "code",
   "execution_count": null,
   "metadata": {},
   "outputs": [],
   "source": []
  }
 ],
 "metadata": {
  "kernelspec": {
   "display_name": "Python 3",
   "language": "python",
   "name": "python3"
  },
  "language_info": {
   "codemirror_mode": {
    "name": "ipython",
    "version": 3
   },
   "file_extension": ".py",
   "mimetype": "text/x-python",
   "name": "python",
   "nbconvert_exporter": "python",
   "pygments_lexer": "ipython3",
   "version": "3.6.5"
  }
 },
 "nbformat": 4,
 "nbformat_minor": 2
}
