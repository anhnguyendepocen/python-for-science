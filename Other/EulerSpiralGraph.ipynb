{
 "cells": [
  {
   "cell_type": "markdown",
   "metadata": {},
   "source": [
    "# Interactive Euler Spiral Graph:\n",
    "\n",
    "What makes this problem tricky? What makes it tricky is that fact that our graphing utilities in python require finite data sets and for the most part dont do well to simply graph a given function.\n",
    "\n",
    "An Euler Spiral is drawn parametrically. We will need four variables `P, Q, u, t`.\n",
    " - P(t) = integral of cos(u^2) du\n",
    " - Q(t) = integral of sin(u^2) du\n",
    " - u = variable of integration\n",
    " - t = upper bound of integration\n",
    " - 0 = lower bound of integration (zero)\n",
    " \n",
    "Our general strategy will be to:\n",
    " 1. Use Python to produce a high-accuracy approximation\n",
    " 2. Define the integrand of each function P and Q\n",
    " 3. Define each integral as a function"
   ]
  },
  {
   "cell_type": "code",
   "execution_count": 21,
   "metadata": {},
   "outputs": [],
   "source": [
    "from sympy import *\n",
    "import numpy as np\n",
    "import matplotlib.pyplot as plt\n",
    "%matplotlib inline \n",
    "import pandas as pd\n",
    "\n",
    "x, y, u = symbols('x y u')\n",
    "pi = np.pi"
   ]
  },
  {
   "cell_type": "code",
   "execution_count": 51,
   "metadata": {},
   "outputs": [],
   "source": [
    "prec = 0.1 # level of precision\n",
    "\n",
    "def euler_x(s):\n",
    "    return integrate(sin(u**2), (u, s - prec, s + prec))\n",
    "\n",
    "def euler_y(s):\n",
    "    return integrate(cos(u**2), (u, s - prec, s + prec))\n"
   ]
  },
  {
   "cell_type": "code",
   "execution_count": 52,
   "metadata": {},
   "outputs": [
    {
     "data": {
      "text/plain": [
       "[<matplotlib.lines.Line2D at 0x10f498358>]"
      ]
     },
     "execution_count": 52,
     "metadata": {},
     "output_type": "execute_result"
    },
    {
     "data": {
      "image/png": "[encoded data removed]",
      "text/plain": [
       "<Figure size 432x288 with 1 Axes>"
      ]
     },
     "metadata": {},
     "output_type": "display_data"
    }
   ],
   "source": [
    "step = prec\n",
    "t = 0.5 # upper bound of integral\n",
    "r = 0 # lower bound of integral\n",
    "x = np.arange(r, t + step, step)\n",
    "y = np.arange(r, t + step, step)\n",
    "\n",
    "for num in x:\n",
    "    num = euler_x(num)\n",
    "for num in y:\n",
    "    num = euler_y(num)\n",
    "\n",
    "plt.plot(x, y)"
   ]
  },
  {
   "cell_type": "code",
   "execution_count": null,
   "metadata": {},
   "outputs": [],
   "source": [
    "print(x)"
   ]
  },
  {
   "cell_type": "code",
   "execution_count": 50,
   "metadata": {},
   "outputs": [
    {
     "data": {
      "text/plain": [
       "-3*sqrt(2)*sqrt(pi)*fresnels(0.09*sqrt(2)/sqrt(pi))*gamma(3/4)/(8*gamma(7/4)) + 3*sqrt(2)*sqrt(pi)*fresnels(0.11*sqrt(2)/sqrt(pi))*gamma(3/4)/(8*gamma(7/4))"
      ]
     },
     "execution_count": 50,
     "metadata": {},
     "output_type": "execute_result"
    }
   ],
   "source": [
    "euler_x(0.1)"
   ]
  },
  {
   "cell_type": "code",
   "execution_count": null,
   "metadata": {},
   "outputs": [],
   "source": []
  }
 ],
 "metadata": {
  "kernelspec": {
   "display_name": "Python 3",
   "language": "python",
   "name": "python3"
  },
  "language_info": {
   "codemirror_mode": {
    "name": "ipython",
    "version": 3
   },
   "file_extension": ".py",
   "mimetype": "text/x-python",
   "name": "python",
   "nbconvert_exporter": "python",
   "pygments_lexer": "ipython3",
   "version": "3.6.5"
  }
 },
 "nbformat": 4,
 "nbformat_minor": 2
}
