{
 "cells": [
  {
   "cell_type": "markdown",
   "metadata": {
    "toc": true
   },
   "source": [
    "<h1>Table of Contents<span class=\"tocSkip\"></span></h1>\n",
    "<div class=\"toc\"><ul class=\"toc-item\"><li><span><a href=\"#Lecture-4\" data-toc-modified-id=\"Lecture-4-1\">Lecture 4</a></span><ul class=\"toc-item\"><li><span><a href=\"#Advanced-Beginner-Concepts-of-Python-and-Introduction-to-Numpy\" data-toc-modified-id=\"Advanced-Beginner-Concepts-of-Python-and-Introduction-to-Numpy-1.1\">Advanced Beginner Concepts of Python and Introduction to Numpy</a></span><ul class=\"toc-item\"><li><span><a href=\"#4.1-Lambda-Expressions\" data-toc-modified-id=\"4.1-Lambda-Expressions-1.1.1\">4.1 Lambda Expressions</a></span></li><li><span><a href=\"#4.1.1-What-are-Lambda-Expressions?\" data-toc-modified-id=\"4.1.1-What-are-Lambda-Expressions?-1.1.2\">4.1.1 What are Lambda Expressions?</a></span></li><li><span><a href=\"#4.1.2-Lambda-Expressions-in-Python:\" data-toc-modified-id=\"4.1.2-Lambda-Expressions-in-Python:-1.1.3\">4.1.2 Lambda Expressions in Python:</a></span><ul class=\"toc-item\"><li><span><a href=\"#Part-1-(Functions-using-def-and-lambda):\" data-toc-modified-id=\"Part-1-(Functions-using-def-and-lambda):-1.1.3.1\">Part 1 (Functions using <code>def</code> and <code>lambda</code>):</a></span><ul class=\"toc-item\"><li><span><a href=\"#Example-1.1-(Square-Number):\" data-toc-modified-id=\"Example-1.1-(Square-Number):-1.1.3.1.1\">Example 1.1 (Square Number):</a></span></li><li><span><a href=\"#Example-1.2-(Add-Numbers):\" data-toc-modified-id=\"Example-1.2-(Add-Numbers):-1.1.3.1.2\">Example 1.2 (Add Numbers):</a></span></li></ul></li><li><span><a href=\"#Part-2-(Proper-Usage-of-Lambda-Functions):\" data-toc-modified-id=\"Part-2-(Proper-Usage-of-Lambda-Functions):-1.1.3.2\">Part 2 (Proper Usage of Lambda Functions):</a></span><ul class=\"toc-item\"><li><span><a href=\"#Example-2.1-(Expression-1):\" data-toc-modified-id=\"Example-2.1-(Expression-1):-1.1.3.2.1\">Example 2.1 (Expression 1):</a></span></li><li><span><a href=\"#Example-2.2-(Expression-2):\" data-toc-modified-id=\"Example-2.2-(Expression-2):-1.1.3.2.2\">Example 2.2 (Expression 2):</a></span></li><li><span><a href=\"#Example-2.3-(Expression-3):\" data-toc-modified-id=\"Example-2.3-(Expression-3):-1.1.3.2.3\">Example 2.3 (Expression 3):</a></span></li></ul></li><li><span><a href=\"#Part-3-(Improper-Usage-of-Lambda-Functions):\" data-toc-modified-id=\"Part-3-(Improper-Usage-of-Lambda-Functions):-1.1.3.3\">Part 3 (Improper Usage of Lambda Functions):</a></span><ul class=\"toc-item\"><li><span><a href=\"#Example-3.1-(Statement-1):\" data-toc-modified-id=\"Example-3.1-(Statement-1):-1.1.3.3.1\">Example 3.1 (Statement 1):</a></span></li><li><span><a href=\"#Example-3.2-(Multiple-Expressions-and-Statements):\" data-toc-modified-id=\"Example-3.2-(Multiple-Expressions-and-Statements):-1.1.3.3.2\">Example 3.2 (Multiple Expressions and Statements):</a></span></li></ul></li></ul></li></ul></li><li><span><a href=\"#4.2-Map,-Filter,-and-Reduce-Functions\" data-toc-modified-id=\"4.2-Map,-Filter,-and-Reduce-Functions-1.2\">4.2 Map, Filter, and Reduce Functions</a></span><ul class=\"toc-item\"><li><span><a href=\"#4.2.1-Map-Functions\" data-toc-modified-id=\"4.2.1-Map-Functions-1.2.1\">4.2.1 Map Functions</a></span><ul class=\"toc-item\"><li><span><a href=\"#Part-1-(Loop-vs.-Map-Function):\" data-toc-modified-id=\"Part-1-(Loop-vs.-Map-Function):-1.2.1.1\">Part 1 (Loop vs. Map Function):</a></span><ul class=\"toc-item\"><li><span><a href=\"#Example-1.1-(Celsius-to-Fahrenheit):\" data-toc-modified-id=\"Example-1.1-(Celsius-to-Fahrenheit):-1.2.1.1.1\">Example 1.1 (Celsius to Fahrenheit):</a></span></li><li><span><a href=\"#Example-1.2-(Squared):\" data-toc-modified-id=\"Example-1.2-(Squared):-1.2.1.1.2\">Example 1.2 (Squared):</a></span></li></ul></li><li><span><a href=\"#Part-2-(Map-Function-with-Lambda-Expression):\" data-toc-modified-id=\"Part-2-(Map-Function-with-Lambda-Expression):-1.2.1.2\">Part 2 (Map Function with Lambda Expression):</a></span><ul class=\"toc-item\"><li><span><a href=\"#Example-2.1-(Celsius-to-Fahrenheit):\" data-toc-modified-id=\"Example-2.1-(Celsius-to-Fahrenheit):-1.2.1.2.1\">Example 2.1 (Celsius to Fahrenheit):</a></span></li><li><span><a href=\"#Example-2.2-(Squared):\" data-toc-modified-id=\"Example-2.2-(Squared):-1.2.1.2.2\">Example 2.2 (Squared):</a></span></li></ul></li><li><span><a href=\"#Part-3-(Multiple-Arguments):\" data-toc-modified-id=\"Part-3-(Multiple-Arguments):-1.2.1.3\">Part 3 (Multiple Arguments):</a></span><ul class=\"toc-item\"><li><span><a href=\"#Example-3.1-(Adding-2-Sequences):\" data-toc-modified-id=\"Example-3.1-(Adding-2-Sequences):-1.2.1.3.1\">Example 3.1 (Adding 2 Sequences):</a></span></li></ul></li><li><span><a href=\"#Part-4-(List-of-Functions):\" data-toc-modified-id=\"Part-4-(List-of-Functions):-1.2.1.4\">Part 4 (List of Functions):</a></span><ul class=\"toc-item\"><li><span><a href=\"#Problem-1:\" data-toc-modified-id=\"Problem-1:-1.2.1.4.1\">Problem 1:</a></span></li></ul></li></ul></li><li><span><a href=\"#4.2.2-Filter-Functions\" data-toc-modified-id=\"4.2.2-Filter-Functions-1.2.2\">4.2.2 Filter Functions</a></span><ul class=\"toc-item\"><li><span><a href=\"#Part-1-(Loop-vs.-Filter-Function):\" data-toc-modified-id=\"Part-1-(Loop-vs.-Filter-Function):-1.2.2.1\">Part 1 (Loop vs. Filter Function):</a></span><ul class=\"toc-item\"><li><span><a href=\"#Example-1.1-(Greater-than-Value):\" data-toc-modified-id=\"Example-1.1-(Greater-than-Value):-1.2.2.1.1\">Example 1.1 (Greater than Value):</a></span></li><li><span><a href=\"#Example-1.2-(Even-Check):\" data-toc-modified-id=\"Example-1.2-(Even-Check):-1.2.2.1.2\">Example 1.2 (Even Check):</a></span></li></ul></li><li><span><a href=\"#Part-2-(Filter-Function-with-Lambda-Expression):\" data-toc-modified-id=\"Part-2-(Filter-Function-with-Lambda-Expression):-1.2.2.2\">Part 2 (Filter Function with Lambda Expression):</a></span><ul class=\"toc-item\"><li><span><a href=\"#Example-2.1-(Greater-than-Value):\" data-toc-modified-id=\"Example-2.1-(Greater-than-Value):-1.2.2.2.1\">Example 2.1 (Greater than Value):</a></span></li><li><span><a href=\"#Example-2.2-(Even):\" data-toc-modified-id=\"Example-2.2-(Even):-1.2.2.2.2\">Example 2.2 (Even):</a></span></li></ul></li></ul></li><li><span><a href=\"#4.2.3-Reduce-Functions\" data-toc-modified-id=\"4.2.3-Reduce-Functions-1.2.3\">4.2.3 Reduce Functions</a></span><ul class=\"toc-item\"><li><ul class=\"toc-item\"><li><span><a href=\"#Example-1-(Loop-vs.-Reduce-Function):\" data-toc-modified-id=\"Example-1-(Loop-vs.-Reduce-Function):-1.2.3.0.1\">Example 1 (Loop vs. Reduce Function):</a></span></li><li><span><a href=\"#Example-2-(Reduce-Function-with-Lambda-Expression):\" data-toc-modified-id=\"Example-2-(Reduce-Function-with-Lambda-Expression):-1.2.3.0.2\">Example 2 (Reduce Function with Lambda Expression):</a></span></li></ul></li></ul></li></ul></li><li><span><a href=\"#4.3-Comprehension:\" data-toc-modified-id=\"4.3-Comprehension:-1.3\">4.3 Comprehension:</a></span><ul class=\"toc-item\"><li><span><a href=\"#4.3.1-What-is-Comprehension?\" data-toc-modified-id=\"4.3.1-What-is-Comprehension?-1.3.1\">4.3.1 What is Comprehension?</a></span></li><li><span><a href=\"#4.3.2-Comprehension-in-Python:\" data-toc-modified-id=\"4.3.2-Comprehension-in-Python:-1.3.2\">4.3.2 Comprehension in Python:</a></span><ul class=\"toc-item\"><li><span><a href=\"#Part-1-(Standard-For-Loop-vs.-List-Comprehension-vs.-Map/Lambda):\" data-toc-modified-id=\"Part-1-(Standard-For-Loop-vs.-List-Comprehension-vs.-Map/Lambda):-1.3.2.1\">Part 1 (Standard For Loop vs. List Comprehension vs. Map/Lambda):</a></span><ul class=\"toc-item\"><li><span><a href=\"#Example-1.1-(Squares-using-Standard-For-Loop):\" data-toc-modified-id=\"Example-1.1-(Squares-using-Standard-For-Loop):-1.3.2.1.1\">Example 1.1 (Squares using Standard For Loop):</a></span></li><li><span><a href=\"#Example-1.2-(Squares-using-List-Comprehension):\" data-toc-modified-id=\"Example-1.2-(Squares-using-List-Comprehension):-1.3.2.1.2\">Example 1.2 (Squares using List Comprehension):</a></span></li><li><span><a href=\"#Example-1.3-(Squares-using-Map-and-Lambda):\" data-toc-modified-id=\"Example-1.3-(Squares-using-Map-and-Lambda):-1.3.2.1.3\">Example 1.3 (Squares using Map and Lambda):</a></span></li><li><span><a href=\"#Example-1.4-(Even-Numvers-using-Standard-For-Loop):\" data-toc-modified-id=\"Example-1.4-(Even-Numvers-using-Standard-For-Loop):-1.3.2.1.4\">Example 1.4 (Even Numvers using Standard For Loop):</a></span></li><li><span><a href=\"#Example-1.5-(Even-Numbers-using-List-Comprehension):\" data-toc-modified-id=\"Example-1.5-(Even-Numbers-using-List-Comprehension):-1.3.2.1.5\">Example 1.5 (Even Numbers using List Comprehension):</a></span></li><li><span><a href=\"#Example-1.6-(Even-Numbers-using-Filter-and-Lambda):\" data-toc-modified-id=\"Example-1.6-(Even-Numbers-using-Filter-and-Lambda):-1.3.2.1.6\">Example 1.6 (Even Numbers using Filter and Lambda):</a></span></li></ul></li><li><span><a href=\"#Part-2-(Multiple-Expressions-in-List-Comprehensions):\" data-toc-modified-id=\"Part-2-(Multiple-Expressions-in-List-Comprehensions):-1.3.2.2\">Part 2 (Multiple Expressions in List Comprehensions):</a></span><ul class=\"toc-item\"><li><span><a href=\"#Example-2.1-(Multiple-Expressions-1):\" data-toc-modified-id=\"Example-2.1-(Multiple-Expressions-1):-1.3.2.2.1\">Example 2.1 (Multiple Expressions 1):</a></span></li><li><span><a href=\"#Example-2.2-(Multiple-Expressions-2):\" data-toc-modified-id=\"Example-2.2-(Multiple-Expressions-2):-1.3.2.2.2\">Example 2.2 (Multiple Expressions 2):</a></span></li></ul></li><li><span><a href=\"#Part-3-(Nested-List-Comprehension):\" data-toc-modified-id=\"Part-3-(Nested-List-Comprehension):-1.3.2.3\">Part 3 (Nested List Comprehension):</a></span><ul class=\"toc-item\"><li><span><a href=\"#Example-3.1-(Nested-List-Comprehension-1):\" data-toc-modified-id=\"Example-3.1-(Nested-List-Comprehension-1):-1.3.2.3.1\">Example 3.1 (Nested List Comprehension 1):</a></span></li><li><span><a href=\"#Example-3.2-(Nested-List-Comprehension-2):\" data-toc-modified-id=\"Example-3.2-(Nested-List-Comprehension-2):-1.3.2.3.2\">Example 3.2 (Nested List Comprehension 2):</a></span></li></ul></li><li><span><a href=\"#Part-4-(Dictionary-and-Set-Comprehensions):\" data-toc-modified-id=\"Part-4-(Dictionary-and-Set-Comprehensions):-1.3.2.4\">Part 4 (Dictionary and Set Comprehensions):</a></span><ul class=\"toc-item\"><li><span><a href=\"#Example-4.1-(Dictionary-Comprehension):\" data-toc-modified-id=\"Example-4.1-(Dictionary-Comprehension):-1.3.2.4.1\">Example 4.1 (Dictionary Comprehension):</a></span></li><li><span><a href=\"#Example-4.2-(Set-Comprehension):\" data-toc-modified-id=\"Example-4.2-(Set-Comprehension):-1.3.2.4.2\">Example 4.2 (Set Comprehension):</a></span></li><li><span><a href=\"#Problem-2:\" data-toc-modified-id=\"Problem-2:-1.3.2.4.3\">Problem 2:</a></span></li></ul></li></ul></li></ul></li><li><span><a href=\"#4.4-NumPy\" data-toc-modified-id=\"4.4-NumPy-1.4\">4.4 NumPy</a></span><ul class=\"toc-item\"><li><span><a href=\"#4.4.1-What-is-NumPy?\" data-toc-modified-id=\"4.4.1-What-is-NumPy?-1.4.1\">4.4.1 What is NumPy?</a></span></li><li><span><a href=\"#4.4.2-NumPy-Basics:\" data-toc-modified-id=\"4.4.2-NumPy-Basics:-1.4.2\">4.4.2 NumPy Basics:</a></span></li><li><span><a href=\"#4.4.2.1-NumPy-Array-Definitions:\" data-toc-modified-id=\"4.4.2.1-NumPy-Array-Definitions:-1.4.3\">4.4.2.1 NumPy Array Definitions:</a></span></li><li><span><a href=\"#4.4.2.2-NumPy-Array-Attributes:\" data-toc-modified-id=\"4.4.2.2-NumPy-Array-Attributes:-1.4.4\">4.4.2.2 NumPy Array Attributes:</a></span></li><li><span><a href=\"#4.4.2.3-NumPy-Array-Functions-and-Capabilities:\" data-toc-modified-id=\"4.4.2.3-NumPy-Array-Functions-and-Capabilities:-1.4.5\">4.4.2.3 NumPy Array Functions and Capabilities:</a></span></li><li><span><a href=\"#4.4.2.4-Printing-Arrays:\" data-toc-modified-id=\"4.4.2.4-Printing-Arrays:-1.4.6\">4.4.2.4 Printing Arrays:</a></span></li><li><span><a href=\"#4.4.3-Group-1:-NumPy-Array-Creation-Routines:\" data-toc-modified-id=\"4.4.3-Group-1:-NumPy-Array-Creation-Routines:-1.4.7\">4.4.3 Group 1: NumPy Array Creation Routines:</a></span><ul class=\"toc-item\"><li><span><a href=\"#Part-1:-Ones-and-Zeros\" data-toc-modified-id=\"Part-1:-Ones-and-Zeros-1.4.7.1\">Part 1: Ones and Zeros</a></span><ul class=\"toc-item\"><li><span><a href=\"#Example-1.1-Creating-a-NumPy-array-of-Zeros:\" data-toc-modified-id=\"Example-1.1-Creating-a-NumPy-array-of-Zeros:-1.4.7.1.1\">Example 1.1 Creating a NumPy array of Zeros:</a></span></li><li><span><a href=\"#Example-1.2-Creating-a-NumPy-array-of-Ones:\" data-toc-modified-id=\"Example-1.2-Creating-a-NumPy-array-of-Ones:-1.4.7.1.2\">Example 1.2 Creating a NumPy array of Ones:</a></span></li><li><span><a href=\"#Example-1.3-Creating-a-NumPy-array-of-New-Values:\" data-toc-modified-id=\"Example-1.3-Creating-a-NumPy-array-of-New-Values:-1.4.7.1.3\">Example 1.3 Creating a NumPy array of New Values:</a></span></li><li><span><a href=\"#Example-1.4-Creating-an-Empty-NumPy-Array:\" data-toc-modified-id=\"Example-1.4-Creating-an-Empty-NumPy-Array:-1.4.7.1.4\">Example 1.4 Creating an Empty NumPy Array:</a></span></li></ul></li><li><span><a href=\"#Part-2:-From-Existing-Data\" data-toc-modified-id=\"Part-2:-From-Existing-Data-1.4.7.2\">Part 2: From Existing Data</a></span><ul class=\"toc-item\"><li><span><a href=\"#Example-2.1-Creating-a-NumPy-Array-from-a-List:\" data-toc-modified-id=\"Example-2.1-Creating-a-NumPy-Array-from-a-List:-1.4.7.2.1\">Example 2.1 Creating a NumPy Array from a List:</a></span></li><li><span><a href=\"#Example-2.2-Creating-a-NumPy-Array-from-a-Tuple:\" data-toc-modified-id=\"Example-2.2-Creating-a-NumPy-Array-from-a-Tuple:-1.4.7.2.2\">Example 2.2 Creating a NumPy Array from a Tuple:</a></span></li><li><span><a href=\"#Example-2.3-Creating-a-NumPy-Array-as-a-Copy:\" data-toc-modified-id=\"Example-2.3-Creating-a-NumPy-Array-as-a-Copy:-1.4.7.2.3\">Example 2.3 Creating a NumPy Array as a Copy:</a></span></li></ul></li><li><span><a href=\"#Part-3:-Numerical-Ranges\" data-toc-modified-id=\"Part-3:-Numerical-Ranges-1.4.7.3\">Part 3: Numerical Ranges</a></span><ul class=\"toc-item\"><li><span><a href=\"#Example-3.1-Return-an-Array-with-arange():\" data-toc-modified-id=\"Example-3.1-Return-an-Array-with-arange():-1.4.7.3.1\">Example 3.1 Return an Array with <code>arange()</code>:</a></span></li><li><span><a href=\"#Example-3.2-Return-an-Array-with-linspace():\" data-toc-modified-id=\"Example-3.2-Return-an-Array-with-linspace():-1.4.7.3.2\">Example 3.2 Return an Array with <code>linspace()</code>:</a></span></li></ul></li></ul></li><li><span><a href=\"#4.4.4-Group-2:-NumPy-Array-Indexing-and-Slicing:\" data-toc-modified-id=\"4.4.4-Group-2:-NumPy-Array-Indexing-and-Slicing:-1.4.8\">4.4.4 Group 2: NumPy Array Indexing and Slicing:</a></span></li><li><span><a href=\"#4.4.4.1-NumPy-Array-Indexing-and-Slicing-(Method-1:-Basic-Slicing-and-Indexing):\" data-toc-modified-id=\"4.4.4.1-NumPy-Array-Indexing-and-Slicing-(Method-1:-Basic-Slicing-and-Indexing):-1.4.9\">4.4.4.1 NumPy Array Indexing and Slicing (Method 1: Basic Slicing and Indexing):</a></span><ul class=\"toc-item\"><li><span><a href=\"#Part-1-(Basic-Slicing-and-Indexing-with-Object-1---obj-is-a-Slice-Object):\" data-toc-modified-id=\"Part-1-(Basic-Slicing-and-Indexing-with-Object-1---obj-is-a-Slice-Object):-1.4.9.1\">Part 1 (Basic Slicing and Indexing with Object 1 - <code>obj</code> is a Slice Object):</a></span><ul class=\"toc-item\"><li><span><a href=\"#Example-1.1-(Examples-with-One-Dimensional-Arrays):\" data-toc-modified-id=\"Example-1.1-(Examples-with-One-Dimensional-Arrays):-1.4.9.1.1\">Example 1.1 (Examples with One-Dimensional Arrays):</a></span></li><li><span><a href=\"#Example-1.2-(Examples-with-Multi-Dimensional-Arrays):\" data-toc-modified-id=\"Example-1.2-(Examples-with-Multi-Dimensional-Arrays):-1.4.9.1.2\">Example 1.2 (Examples with Multi-Dimensional Arrays):</a></span></li></ul></li><li><span><a href=\"#Part-2-(Basic-Slicing-and-Indexing-with-Object-2---obj-is-an-Integer):\" data-toc-modified-id=\"Part-2-(Basic-Slicing-and-Indexing-with-Object-2---obj-is-an-Integer):-1.4.9.2\">Part 2 (Basic Slicing and Indexing with Object 2 - <code>obj</code> is an Integer):</a></span><ul class=\"toc-item\"><li><span><a href=\"#Example-2.1--(Examples-with-One-Dimensional-Arrays):\" data-toc-modified-id=\"Example-2.1--(Examples-with-One-Dimensional-Arrays):-1.4.9.2.1\">Example 2.1  (Examples with One-Dimensional Arrays):</a></span></li><li><span><a href=\"#Example-2.2-(Examples-with-Two-Dimensional-Arrays):\" data-toc-modified-id=\"Example-2.2-(Examples-with-Two-Dimensional-Arrays):-1.4.9.2.2\">Example 2.2 (Examples with Two-Dimensional Arrays):</a></span></li></ul></li><li><span><a href=\"#Part-3-(Basic-Slicing-and-Indexing-with-Object-3---obj-is-a-Tuple-of-Slice-and-Integer):\" data-toc-modified-id=\"Part-3-(Basic-Slicing-and-Indexing-with-Object-3---obj-is-a-Tuple-of-Slice-and-Integer):-1.4.9.3\">Part 3 (Basic Slicing and Indexing with Object 3 - <code>obj</code> is a Tuple of Slice and Integer):</a></span><ul class=\"toc-item\"><li><span><a href=\"#Example-3.1-(Examples-with-Two-Dimensional-Arrays):\" data-toc-modified-id=\"Example-3.1-(Examples-with-Two-Dimensional-Arrays):-1.4.9.3.1\">Example 3.1 (Examples with Two-Dimensional Arrays):</a></span></li></ul></li><li><span><a href=\"#Part-4-(Basic-Slicing-and-Indexing-with-Object-4---obj-is-an-Elipsis-Object):\" data-toc-modified-id=\"Part-4-(Basic-Slicing-and-Indexing-with-Object-4---obj-is-an-Elipsis-Object):-1.4.9.4\">Part 4 (Basic Slicing and Indexing with Object 4 - <code>obj</code> is an Elipsis Object):</a></span><ul class=\"toc-item\"><li><span><a href=\"#Example-4.1-(Examples-with-Two-Dimensional-Arrays):\" data-toc-modified-id=\"Example-4.1-(Examples-with-Two-Dimensional-Arrays):-1.4.9.4.1\">Example 4.1 (Examples with Two-Dimensional Arrays):</a></span></li><li><span><a href=\"#Example-4.2-(Examples-with-Three-Dimensional-Arrays):\" data-toc-modified-id=\"Example-4.2-(Examples-with-Three-Dimensional-Arrays):-1.4.9.4.2\">Example 4.2 (Examples with Three-Dimensional Arrays):</a></span></li></ul></li><li><span><a href=\"#Part-5-(Basic-Slicing-and-Indexing-with-Object-5---obj-is-an-Newaxis-Object):\" data-toc-modified-id=\"Part-5-(Basic-Slicing-and-Indexing-with-Object-5---obj-is-an-Newaxis-Object):-1.4.9.5\">Part 5 (Basic Slicing and Indexing with Object 5 - <code>obj</code> is an Newaxis Object):</a></span><ul class=\"toc-item\"><li><span><a href=\"#Example-5.1-(Examples-with-One-Dimensional-Arrays):\" data-toc-modified-id=\"Example-5.1-(Examples-with-One-Dimensional-Arrays):-1.4.9.5.1\">Example 5.1 (Examples with One-Dimensional Arrays):</a></span></li><li><span><a href=\"#Example-5.2-(Examples-with-Two-Dimensional-Arrays):\" data-toc-modified-id=\"Example-5.2-(Examples-with-Two-Dimensional-Arrays):-1.4.9.5.2\">Example 5.2 (Examples with Two-Dimensional Arrays):</a></span></li></ul></li><li><span><a href=\"#Part-6-(Basic-Slicing-and-Indexing-with-Object-6---obj-is-a-non-ndarray-Object):\" data-toc-modified-id=\"Part-6-(Basic-Slicing-and-Indexing-with-Object-6---obj-is-a-non-ndarray-Object):-1.4.9.6\">Part 6 (Basic Slicing and Indexing with Object 6 - <code>obj</code> is a non-ndarray Object):</a></span><ul class=\"toc-item\"><li><span><a href=\"#Example-6.1-(Examples-with-Two-Dimensional-Arrays):\" data-toc-modified-id=\"Example-6.1-(Examples-with-Two-Dimensional-Arrays):-1.4.9.6.1\">Example 6.1 (Examples with Two-Dimensional Arrays):</a></span></li></ul></li></ul></li><li><span><a href=\"#4.4.4.2-NumPy-Array-Indexing-and-Slicing-(Method-2:-Advanced-Indexing):\" data-toc-modified-id=\"4.4.4.2-NumPy-Array-Indexing-and-Slicing-(Method-2:-Advanced-Indexing):-1.4.10\">4.4.4.2 NumPy Array Indexing and Slicing (Method 2: Advanced Indexing):</a></span><ul class=\"toc-item\"><li><span><a href=\"#Part-1-Integer-Advanced-Indexing\" data-toc-modified-id=\"Part-1-Integer-Advanced-Indexing-1.4.10.1\">Part 1 Integer Advanced Indexing</a></span><ul class=\"toc-item\"><li><span><a href=\"#Example-1.1-(Advanced-Indexing-with-Object-1---obj-is-a-Non-Tuple-Sequence-Object):\" data-toc-modified-id=\"Example-1.1-(Advanced-Indexing-with-Object-1---obj-is-a-Non-Tuple-Sequence-Object):-1.4.10.1.1\">Example 1.1 (Advanced Indexing with Object 1 - <code>obj</code> is a Non-Tuple Sequence Object):</a></span></li><li><span><a href=\"#Example-1.2-(Advanced-Indexing-with-Object-2---obj-is-an-ndarray-Object):\" data-toc-modified-id=\"Example-1.2-(Advanced-Indexing-with-Object-2---obj-is-an-ndarray-Object):-1.4.10.1.2\">Example 1.2 (Advanced Indexing with Object 2 - <code>obj</code> is an ndarray Object):</a></span></li></ul></li><li><span><a href=\"#Part-2:-Boolean-Array-Indexing:\" data-toc-modified-id=\"Part-2:-Boolean-Array-Indexing:-1.4.10.2\">Part 2: Boolean Array Indexing:</a></span><ul class=\"toc-item\"><li><span><a href=\"#Example-2.1-(Boolean-Array-Indexing-with-Object-1---obj-is-an-Array-Object-of-Boolean-Type):\" data-toc-modified-id=\"Example-2.1-(Boolean-Array-Indexing-with-Object-1---obj-is-an-Array-Object-of-Boolean-Type):-1.4.10.2.1\">Example 2.1 (Boolean Array Indexing with Object 1 - <code>obj</code> is an Array Object of Boolean Type):</a></span></li><li><span><a href=\"#Example-2.2-(Boolean-Array-Indexing-with-Object-1---obj-is-an-Array-Object-of-Boolean-Type):\" data-toc-modified-id=\"Example-2.2-(Boolean-Array-Indexing-with-Object-1---obj-is-an-Array-Object-of-Boolean-Type):-1.4.10.2.2\">Example 2.2 (Boolean Array Indexing with Object 1 - <code>obj</code> is an Array Object of Boolean Type):</a></span></li></ul></li></ul></li><li><span><a href=\"#4.4.5-Group-3:-NumPy-Array-Manipulation-Routines:\" data-toc-modified-id=\"4.4.5-Group-3:-NumPy-Array-Manipulation-Routines:-1.4.11\">4.4.5 Group 3: NumPy Array Manipulation Routines:</a></span><ul class=\"toc-item\"><li><span><a href=\"#Part-1:-Changing-Array-Shape\" data-toc-modified-id=\"Part-1:-Changing-Array-Shape-1.4.11.1\">Part 1: Changing Array Shape</a></span><ul class=\"toc-item\"><li><span><a href=\"#Example-1.1-(Changing-array-shape-with-reshape):\" data-toc-modified-id=\"Example-1.1-(Changing-array-shape-with-reshape):-1.4.11.1.1\">Example 1.1 (Changing array shape with <code>reshape</code>):</a></span></li><li><span><a href=\"#Example-1.2-(Changing-array-shape-with-ravel):\" data-toc-modified-id=\"Example-1.2-(Changing-array-shape-with-ravel):-1.4.11.1.2\">Example 1.2 (Changing array shape with <code>ravel</code>):</a></span></li><li><span><a href=\"#Example-1.3-(Changing-array-shape-with-flatten):\" data-toc-modified-id=\"Example-1.3-(Changing-array-shape-with-flatten):-1.4.11.1.3\">Example 1.3 (Changing array shape with <code>flatten</code>):</a></span></li><li><span><a href=\"#Example-1.4-(Changing-array-shape-with-flat):\" data-toc-modified-id=\"Example-1.4-(Changing-array-shape-with-flat):-1.4.11.1.4\">Example 1.4 (Changing array shape with <code>flat</code>):</a></span></li></ul></li><li><span><a href=\"#Part-2:-Changing-Array-Dimensions:\" data-toc-modified-id=\"Part-2:-Changing-Array-Dimensions:-1.4.11.2\">Part 2: Changing Array Dimensions:</a></span><ul class=\"toc-item\"><li><span><a href=\"#Example-2.1-(Changing-array-dimensions-with-squeeze):\" data-toc-modified-id=\"Example-2.1-(Changing-array-dimensions-with-squeeze):-1.4.11.2.1\">Example 2.1 (Changing array dimensions with <code>squeeze</code>):</a></span></li></ul></li><li><span><a href=\"#Part-3:-Joining-Arrays:\" data-toc-modified-id=\"Part-3:-Joining-Arrays:-1.4.11.3\">Part 3: Joining Arrays:</a></span><ul class=\"toc-item\"><li><span><a href=\"#Example-3.1-(Joining-arrays-with-vstack-and-hstack):\" data-toc-modified-id=\"Example-3.1-(Joining-arrays-with-vstack-and-hstack):-1.4.11.3.1\">Example 3.1 (Joining arrays with <code>vstack</code> and <code>hstack</code>):</a></span></li><li><span><a href=\"#Example-3.2-(Joining-arrays-using-concatenate,-r_-and-c_):\" data-toc-modified-id=\"Example-3.2-(Joining-arrays-using-concatenate,-r_-and-c_):-1.4.11.3.2\">Example 3.2 (Joining arrays using <code>concatenate</code>, <code>r_</code> and <code>c_</code>):</a></span></li></ul></li><li><span><a href=\"#Part-4:-Splitting-Arrays\" data-toc-modified-id=\"Part-4:-Splitting-Arrays-1.4.11.4\">Part 4: Splitting Arrays</a></span><ul class=\"toc-item\"><li><span><a href=\"#Example-4.1-(Splitting-arrays-using-hsplit-and-vsplit):\" data-toc-modified-id=\"Example-4.1-(Splitting-arrays-using-hsplit-and-vsplit):-1.4.11.4.1\">Example 4.1 (Splitting arrays using <code>hsplit</code> and <code>vsplit</code>):</a></span></li></ul></li><li><span><a href=\"#Part-5-(Adding,-modifying-and-removing-elements-of-arrays):\" data-toc-modified-id=\"Part-5-(Adding,-modifying-and-removing-elements-of-arrays):-1.4.11.5\">Part 5 (Adding, modifying and removing elements of arrays):</a></span><ul class=\"toc-item\"><li><span><a href=\"#Example-5.1-(Adding,-modifying-and-removing-elements-of-arrays-using-delete):\" data-toc-modified-id=\"Example-5.1-(Adding,-modifying-and-removing-elements-of-arrays-using-delete):-1.4.11.5.1\">Example 5.1 (Adding, modifying and removing elements of arrays using <code>delete</code>):</a></span></li><li><span><a href=\"#Example-5.2-(Adding,-modifying-and-removing-elements-of-arrays-using-resize):\" data-toc-modified-id=\"Example-5.2-(Adding,-modifying-and-removing-elements-of-arrays-using-resize):-1.4.11.5.2\">Example 5.2 (Adding, modifying and removing elements of arrays using <code>resize</code>):</a></span></li><li><span><a href=\"#Example-5.3-(Adding,-modifying-and-removing-elements-of-arrays-using-insert):\" data-toc-modified-id=\"Example-5.3-(Adding,-modifying-and-removing-elements-of-arrays-using-insert):-1.4.11.5.3\">Example 5.3 (Adding, modifying and removing elements of arrays using <code>insert</code>):</a></span></li></ul></li></ul></li><li><span><a href=\"#4.4.6-Group-4:-NumPy-Array-Iteration-Routines:\" data-toc-modified-id=\"4.4.6-Group-4:-NumPy-Array-Iteration-Routines:-1.4.12\">4.4.6 Group 4: NumPy Array Iteration Routines:</a></span><ul class=\"toc-item\"><li><ul class=\"toc-item\"><li><span><a href=\"#Example-1-(Array-Iteration-without-nditer):\" data-toc-modified-id=\"Example-1-(Array-Iteration-without-nditer):-1.4.12.0.1\">Example 1 (Array Iteration without <code>nditer</code>):</a></span></li><li><span><a href=\"#Example-2-(Array-Iteration-with-nditer):\" data-toc-modified-id=\"Example-2-(Array-Iteration-with-nditer):-1.4.12.0.2\">Example 2 (Array Iteration with <code>nditer</code>):</a></span></li><li><span><a href=\"#Example-3-(Modifying-array-results):\" data-toc-modified-id=\"Example-3-(Modifying-array-results):-1.4.12.0.3\">Example 3 (Modifying array results):</a></span></li></ul></li></ul></li><li><span><a href=\"#4.4.7-Group-5:-NumPy-Array-Basic-Operations:\" data-toc-modified-id=\"4.4.7-Group-5:-NumPy-Array-Basic-Operations:-1.4.13\">4.4.7 Group 5: NumPy Array Basic Operations:</a></span></li><li><span><a href=\"#4.4.7.1-Broadcasting:\" data-toc-modified-id=\"4.4.7.1-Broadcasting:-1.4.14\">4.4.7.1 Broadcasting:</a></span><ul class=\"toc-item\"><li><span><a href=\"#Part-1-(Broadcasting-Rules):\" data-toc-modified-id=\"Part-1-(Broadcasting-Rules):-1.4.14.1\">Part 1 (Broadcasting Rules):</a></span><ul class=\"toc-item\"><li><span><a href=\"#Example-1.1-(Broadcasting-Rules---1):\" data-toc-modified-id=\"Example-1.1-(Broadcasting-Rules---1):-1.4.14.1.1\">Example 1.1 (Broadcasting Rules - 1):</a></span></li><li><span><a href=\"#Example-1.2-(Broadcasting-Rules---2):\" data-toc-modified-id=\"Example-1.2-(Broadcasting-Rules---2):-1.4.14.1.2\">Example 1.2 (Broadcasting Rules - 2):</a></span></li><li><span><a href=\"#Example-1.3-(Broadcasting-Rules---3):\" data-toc-modified-id=\"Example-1.3-(Broadcasting-Rules---3):-1.4.14.1.3\">Example 1.3 (Broadcasting Rules - 3):</a></span></li></ul></li><li><span><a href=\"#Part-2-(Practical-Examples):\" data-toc-modified-id=\"Part-2-(Practical-Examples):-1.4.14.2\">Part 2 (Practical Examples):</a></span><ul class=\"toc-item\"><li><span><a href=\"#Example-2.1-(Two-Arrays-with-Same-Shapes):\" data-toc-modified-id=\"Example-2.1-(Two-Arrays-with-Same-Shapes):-1.4.14.2.1\">Example 2.1 (Two Arrays with Same Shapes):</a></span></li><li><span><a href=\"#Example-2.2-(Two-Arrays-with-Different-Shapes---1):\" data-toc-modified-id=\"Example-2.2-(Two-Arrays-with-Different-Shapes---1):-1.4.14.2.2\">Example 2.2 (Two Arrays with Different Shapes - 1):</a></span></li><li><span><a href=\"#Example-2.3-(Two-Arrays-with-Different-Shapes---2):\" data-toc-modified-id=\"Example-2.3-(Two-Arrays-with-Different-Shapes---2):-1.4.14.2.3\">Example 2.3 (Two Arrays with Different Shapes - 2):</a></span></li><li><span><a href=\"#Example-2.4-(Two-Arrays-with-Different-Shapes---3):\" data-toc-modified-id=\"Example-2.4-(Two-Arrays-with-Different-Shapes---3):-1.4.14.2.4\">Example 2.4 (Two Arrays with Different Shapes - 3):</a></span></li></ul></li></ul></li><li><span><a href=\"#4.4.7.2-Basic-Operations:\" data-toc-modified-id=\"4.4.7.2-Basic-Operations:-1.4.15\">4.4.7.2 Basic Operations:</a></span><ul class=\"toc-item\"><li><span><a href=\"#Part-1-(Element-Wise-Operators):\" data-toc-modified-id=\"Part-1-(Element-Wise-Operators):-1.4.15.1\">Part 1 (Element-Wise Operators):</a></span><ul class=\"toc-item\"><li><span><a href=\"#Example-1.1-(Math-Operations):\" data-toc-modified-id=\"Example-1.1-(Math-Operations):-1.4.15.1.1\">Example 1.1 (Math Operations):</a></span></li><li><span><a href=\"#Example-1.2-(Trigonemtric-Functions):\" data-toc-modified-id=\"Example-1.2-(Trigonemtric-Functions):-1.4.15.1.2\">Example 1.2 (Trigonemtric Functions):</a></span></li><li><span><a href=\"#Example-1.3-(Comparison-Functions):\" data-toc-modified-id=\"Example-1.3-(Comparison-Functions):-1.4.15.1.3\">Example 1.3 (Comparison Functions):</a></span></li></ul></li><li><span><a href=\"#Part-2-(Axis-Operators)\" data-toc-modified-id=\"Part-2-(Axis-Operators)-1.4.15.2\">Part 2 (Axis Operators)</a></span><ul class=\"toc-item\"><li><span><a href=\"#Example-2.1-(Ordering):\" data-toc-modified-id=\"Example-2.1-(Ordering):-1.4.15.2.1\">Example 2.1 (Ordering):</a></span></li><li><span><a href=\"#Example-2.2-(Questions):\" data-toc-modified-id=\"Example-2.2-(Questions):-1.4.15.2.2\">Example 2.2 (Questions):</a></span></li><li><span><a href=\"#Example-2.3-(Operations):\" data-toc-modified-id=\"Example-2.3-(Operations):-1.4.15.2.3\">Example 2.3 (Operations):</a></span></li><li><span><a href=\"#Problem-1-Revisited:\" data-toc-modified-id=\"Problem-1-Revisited:-1.4.15.2.4\">Problem 1 Revisited:</a></span></li><li><span><a href=\"#Problem-2:\" data-toc-modified-id=\"Problem-2:-1.4.15.2.5\">Problem 2:</a></span></li></ul></li></ul></li></ul></li></ul></li></ul></div>"
   ]
  },
  {
   "cell_type": "markdown",
   "metadata": {},
   "source": [
    "# Lecture 4\n",
    "## Advanced Beginner Concepts of Python and Introduction to Numpy"
   ]
  },
  {
   "cell_type": "markdown",
   "metadata": {},
   "source": [
    "__Purpose:__ The purpose of this lecture is two-fold: 1. Introduce some [\"advanced beginner\"](http://www.health.nsw.gov.au/nursing/projects/Documents/novice-expert-benner.pdf) concepts that go beyond if statements, loops, and functions and 2. Introduce the Numpy Package which will become a staple in your \"Data Science Toolbox.\" The advanced beginner topics will cover Lambda Expressions, Map/Reduce/Filter Functions, and Comprehension (i.e. List Comprehension). The Introduction to Numpy topics will cover the basics of what Numpy is and its capabilities as well creating arrays, accessing elements in arrays, manipulating arrays and some basic operations with Numpy arrays. \n",
    "\n",
    "__At the end of this lecture you will be able to:__\n",
    "> 1. Understand Lambda Expressions and use them to write functions\n",
    "> 2. Use map/reduce/filter functions in conjunction with Lambda Expressions\n",
    "> 3. Understand Comprehensions such as List Comprehension and compare them to map/reduce/filter approach \n",
    "> 4. Understand what the Numpy Package is and what it can be used for \n",
    "> 5. Understand the concept of a Numpy Array and they can be created, accessed, and manipulated\n",
    "> 6. Perform basic operations on Numpy Arrays "
   ]
  },
  {
   "cell_type": "markdown",
   "metadata": {},
   "source": [
    "### 4.1 Lambda Expressions"
   ]
  },
  {
   "cell_type": "markdown",
   "metadata": {},
   "source": [
    "### 4.1.1 What are Lambda Expressions?"
   ]
  },
  {
   "cell_type": "markdown",
   "metadata": {},
   "source": [
    "__Overview:__\n",
    "- __[Lambda Expressions](https://docs.python.org/3/tutorial/controlflow.html#lambda-expressions):__ Lambda Expressions are small, anonymous functions that can be created with the `lambda` keyword  \n",
    "- Lambda Expressions are just another tool for building functions. In summary, we can build a function in Python using one of the following methods:\n",
    "> 1. `def` keyword as we saw in Lecture 3\n",
    "> 2. `lambda` keyword as explained here\n",
    "- Functions built using Lambda Expressions have a few dominating characteristics:\n",
    "> 1. __Anonymous:__ Lambda Functions are __[Anonymous Functions](https://en.wikipedia.org/wiki/Anonymous_function)__ which means they do not require a name to be used immediately and can be developed without a proper definition (like we needed with `def` in Lecture 3)\n",
    "> 2. __Ad-Hoc:__ Lambda Functions are used in an \"ad-hoc\" fashion. This means that we only create the function when we need it, use it immediately, and never use it again\n",
    "> 3. __Short:__ Lambda Functions support only minimal input, requiring that the body of the function is short\n",
    "- Lambda Expressions are NOT mandatory and we can definitely do without them, but in some scenarios they can be useful for writing cleaner and more efficient code \n",
    "\n",
    "__Helpful Points:__\n",
    "1. Many programming languages support Anonymous Functions in different forms, while Python supports it using the `lambda` form\n",
    "2. Lambda Expressions are most beneficial when used in conjunction with the functions `map()`, `filter()`, and `reduce()` which are covered in subsequent sections"
   ]
  },
  {
   "cell_type": "markdown",
   "metadata": {},
   "source": [
    "### 4.1.2 Lambda Expressions in Python:"
   ]
  },
  {
   "cell_type": "markdown",
   "metadata": {},
   "source": [
    "__Overview:__\n",
    "- In general, Functions using Lambda Expressions can be written in Python using the following syntax: `func_name = lambda input : <expression>` vs. a Function using the `def` keyword: `def func_name(input): return <expression>`\n",
    "- The reason why Lambda Functions are anonymous is because we don't need to assign the Lambda Function to a variable, per se: `lambda input : <expression>` \n",
    "- Notice the differences between a function built with the `lambda` keyword and a function built with the `def` keyword: \n",
    "> 1. No `return` statement in Lambda Functions (it is there, but only implicitly) \n",
    "> 2. Lambda Functions are ALWAYS one-line, whereas traditional functions are not \n",
    "- In practice, Lambda Expressions can accept the following (basically anything that can be used on the right-hand side of the equal `=` sign): \n",
    "> 1. Mathematical operations (i.e adding, subtracting, multiplying, etc.)\n",
    "> 2. String operations (i.e. slicing `[:]`)\n",
    "> 3. Any Function (i.e. `print()`)\n",
    "> 4. Conditional Expressions (i.e. \"large\" if x > 100 else \"small\" - see Lecture 3)\n",
    "- In practice, Lambda Expressions can NOT accept the following (basically anything that does not return a value):\n",
    "> 1. Assignment statements (i.e. x = 1)\n",
    "> 2. Multiple Expressions (i.e. `print()` and slicing `[:]`)\n",
    "\n",
    "__Helpful Points:__\n",
    "1. Lambdas are restrictive because, strictly speaking, they can take only a single __[expression](https://docs.python.org/3/reference/expressions.html)__ (expressions \"represent\" something like a number or string and any value is an expression vs. a __[statement](https://docs.python.org/2/reference/simple_stmts.html)__ which is \"doing\" something like assigning a value to some variable)\n",
    "2. Lambda Functions can also take multiple inputs (just like tradtional functions) in the following way: `lambda input_1, input_2: <expression>`\n",
    "\n",
    "__Practice:__ Examples of Lambda Expressions in Python"
   ]
  },
  {
   "cell_type": "markdown",
   "metadata": {},
   "source": [
    "#### Part 1 (Functions using `def` and `lambda`):"
   ]
  },
  {
   "cell_type": "markdown",
   "metadata": {},
   "source": [
    "##### Example 1.1 (Square Number):"
   ]
  },
  {
   "cell_type": "code",
   "execution_count": 1,
   "metadata": {},
   "outputs": [],
   "source": [
    "# function to square a number using def\n",
    "def square_def(num):\n",
    "    return num ** 2"
   ]
  },
  {
   "cell_type": "code",
   "execution_count": 2,
   "metadata": {},
   "outputs": [
    {
     "data": {
      "text/plain": [
       "25"
      ]
     },
     "execution_count": 2,
     "metadata": {},
     "output_type": "execute_result"
    }
   ],
   "source": [
    "square_def(5)"
   ]
  },
  {
   "cell_type": "code",
   "execution_count": 3,
   "metadata": {},
   "outputs": [
    {
     "data": {
      "text/plain": [
       "<function __main__.<lambda>(num)>"
      ]
     },
     "execution_count": 3,
     "metadata": {},
     "output_type": "execute_result"
    }
   ],
   "source": [
    "# function to square a number using lambda\n",
    "lambda num: num ** 2 # we don't name this function (thus, anonymous)"
   ]
  },
  {
   "cell_type": "code",
   "execution_count": 4,
   "metadata": {},
   "outputs": [],
   "source": [
    "square_lambda = lambda num: num ** 2"
   ]
  },
  {
   "cell_type": "code",
   "execution_count": 7,
   "metadata": {},
   "outputs": [
    {
     "data": {
      "text/plain": [
       "625"
      ]
     },
     "execution_count": 7,
     "metadata": {},
     "output_type": "execute_result"
    }
   ],
   "source": [
    "square_lambda(square_def(5))"
   ]
  },
  {
   "cell_type": "markdown",
   "metadata": {},
   "source": [
    "##### Example 1.2 (Add Numbers):"
   ]
  },
  {
   "cell_type": "code",
   "execution_count": 15,
   "metadata": {},
   "outputs": [],
   "source": [
    "# function to add two numbers using def \n",
    "def add_nums_def(num_1, num_2): \n",
    "    return num_1 + num_2"
   ]
  },
  {
   "cell_type": "code",
   "execution_count": 12,
   "metadata": {},
   "outputs": [
    {
     "data": {
      "text/plain": [
       "34"
      ]
     },
     "execution_count": 12,
     "metadata": {},
     "output_type": "execute_result"
    }
   ],
   "source": [
    "add_nums_def(30, 4)"
   ]
  },
  {
   "cell_type": "code",
   "execution_count": 10,
   "metadata": {},
   "outputs": [
    {
     "data": {
      "text/plain": [
       "<function __main__.<lambda>(num_1, num_2)>"
      ]
     },
     "execution_count": 10,
     "metadata": {},
     "output_type": "execute_result"
    }
   ],
   "source": [
    "# function to add two numbers using lambda\n",
    "lambda num_1, num_2: num_1 + num_2"
   ]
  },
  {
   "cell_type": "code",
   "execution_count": 13,
   "metadata": {},
   "outputs": [],
   "source": [
    "add_nums_lambda = lambda num_1, num_2: num_1 + num_2"
   ]
  },
  {
   "cell_type": "code",
   "execution_count": 14,
   "metadata": {},
   "outputs": [
    {
     "data": {
      "text/plain": [
       "34"
      ]
     },
     "execution_count": 14,
     "metadata": {},
     "output_type": "execute_result"
    }
   ],
   "source": [
    "add_nums_lambda(30, 4)"
   ]
  },
  {
   "cell_type": "markdown",
   "metadata": {},
   "source": [
    "#### Part 2 (Proper Usage of Lambda Functions):\n",
    "\n",
    "- Recall, in order to be part of a Lambda Function, it has to be an expression (i.e. has to evaluate to something)"
   ]
  },
  {
   "cell_type": "markdown",
   "metadata": {},
   "source": [
    "##### Example 2.1 (Expression 1):"
   ]
  },
  {
   "cell_type": "code",
   "execution_count": 16,
   "metadata": {},
   "outputs": [
    {
     "data": {
      "text/plain": [
       "False"
      ]
     },
     "execution_count": 16,
     "metadata": {},
     "output_type": "execute_result"
    }
   ],
   "source": [
    "5%2 == 0 # evaluates to a Boolean value so it is okay for a Lambda "
   ]
  },
  {
   "cell_type": "code",
   "execution_count": 17,
   "metadata": {},
   "outputs": [],
   "source": [
    "# function to check if number is even\n",
    "check_even = lambda num: num%2 == 0 "
   ]
  },
  {
   "cell_type": "code",
   "execution_count": 18,
   "metadata": {},
   "outputs": [
    {
     "data": {
      "text/plain": [
       "True"
      ]
     },
     "execution_count": 18,
     "metadata": {},
     "output_type": "execute_result"
    }
   ],
   "source": [
    "check_even(2)"
   ]
  },
  {
   "cell_type": "markdown",
   "metadata": {},
   "source": [
    "##### Example 2.2 (Expression 2):"
   ]
  },
  {
   "cell_type": "code",
   "execution_count": 19,
   "metadata": {},
   "outputs": [
    {
     "data": {
      "text/plain": [
       "'hna'"
      ]
     },
     "execution_count": 19,
     "metadata": {},
     "output_type": "execute_result"
    }
   ],
   "source": [
    "my_string = \"Krishna\"\n",
    "my_string[-3::] # evaluates to a String so it is okay for a Lambda"
   ]
  },
  {
   "cell_type": "code",
   "execution_count": 23,
   "metadata": {},
   "outputs": [],
   "source": [
    "# function to get the last 3 letters of a string \n",
    "last_three = lambda string: string[-3::]"
   ]
  },
  {
   "cell_type": "code",
   "execution_count": 24,
   "metadata": {
    "scrolled": true
   },
   "outputs": [
    {
     "data": {
      "text/plain": [
       "'hna'"
      ]
     },
     "execution_count": 24,
     "metadata": {},
     "output_type": "execute_result"
    }
   ],
   "source": [
    "last_three(my_string)"
   ]
  },
  {
   "cell_type": "markdown",
   "metadata": {},
   "source": [
    "##### Example 2.3 (Expression 3):\n",
    "\n",
    "- Recall in Lecture 2 the `sorted()` function which has an argument called `key` to specify a function to be called on each list element prior to making comparisons\n",
    "- We can use a Lambda Function inside this `key` parameter to define a custom function that we want to be called on each list element"
   ]
  },
  {
   "cell_type": "code",
   "execution_count": 26,
   "metadata": {},
   "outputs": [
    {
     "name": "stdout",
     "output_type": "stream",
     "text": [
      "['Sena', 'krishna', 'paul', 'robin']\n"
     ]
    }
   ],
   "source": [
    "staff_list = [\"robin\", \"Sena\", \"paul\", \"krishna\"]\n",
    "\n",
    "# sort by first name\n",
    "staff_list.sort()\n",
    "print(staff_list)"
   ]
  },
  {
   "cell_type": "markdown",
   "metadata": {},
   "source": [
    "This method fails because there are some strings as \"capital\" letters and some strings as \"lower case\" letters"
   ]
  },
  {
   "cell_type": "code",
   "execution_count": 29,
   "metadata": {},
   "outputs": [
    {
     "name": "stdout",
     "output_type": "stream",
     "text": [
      "['krishna', 'paul', 'robin', 'Sena']\n"
     ]
    }
   ],
   "source": [
    "import math #used for the proceeding cells\n",
    "# sort by first name, convert to lower case before sorting \n",
    "staff_list.sort(key = str.lower)\n",
    "print(staff_list)"
   ]
  },
  {
   "cell_type": "code",
   "execution_count": 34,
   "metadata": {},
   "outputs": [
    {
     "name": "stdout",
     "output_type": "stream",
     "text": [
      "[('paul', 11), ('robin', 21), ('krishna', 23), ('Sena', 90)]\n"
     ]
    }
   ],
   "source": [
    "staff_list_age = [(\"robin\", 21), (\"Sena\", 90), (\"paul\", 11), (\"krishna\", int(math.exp(3.14)))]\n",
    "\n",
    "# sort by age\n",
    "staff_list_age.sort(key = lambda employee: employee[1])\n",
    "print(staff_list_age)"
   ]
  },
  {
   "cell_type": "markdown",
   "metadata": {},
   "source": [
    "#### Part 3 (Improper Usage of Lambda Functions):\n",
    "- Recall, statements and multiple expressions can not be used in Lambda Functions"
   ]
  },
  {
   "cell_type": "markdown",
   "metadata": {},
   "source": [
    "##### Example 3.1 (Statement 1):"
   ]
  },
  {
   "cell_type": "code",
   "execution_count": 35,
   "metadata": {},
   "outputs": [],
   "source": [
    "a = 1  # doesn't evaluate to anything, therefore it is not okay for a Lambda"
   ]
  },
  {
   "cell_type": "code",
   "execution_count": 36,
   "metadata": {},
   "outputs": [
    {
     "ename": "SyntaxError",
     "evalue": "can't assign to lambda (<ipython-input-36-b1ee5fd541bd>, line 1)",
     "output_type": "error",
     "traceback": [
      "\u001b[0;36m  File \u001b[0;32m\"<ipython-input-36-b1ee5fd541bd>\"\u001b[0;36m, line \u001b[0;32m1\u001b[0m\n\u001b[0;31m    change_a = lambda a: a = 1\u001b[0m\n\u001b[0m              ^\u001b[0m\n\u001b[0;31mSyntaxError\u001b[0m\u001b[0;31m:\u001b[0m can't assign to lambda\n"
     ]
    }
   ],
   "source": [
    "change_a = lambda a: a = 1"
   ]
  },
  {
   "cell_type": "code",
   "execution_count": 37,
   "metadata": {},
   "outputs": [],
   "source": [
    "# functions evaluated using the def keyword can support statements, of course \n",
    "def change_a(a):\n",
    "    a = 1\n",
    "    return(a)"
   ]
  },
  {
   "cell_type": "code",
   "execution_count": null,
   "metadata": {},
   "outputs": [],
   "source": [
    "a = 10\n",
    "change_a(10)"
   ]
  },
  {
   "cell_type": "code",
   "execution_count": 40,
   "metadata": {},
   "outputs": [
    {
     "ename": "SyntaxError",
     "evalue": "can't assign to lambda (<ipython-input-40-dae98fd667d9>, line 2)",
     "output_type": "error",
     "traceback": [
      "\u001b[0;36m  File \u001b[0;32m\"<ipython-input-40-dae98fd667d9>\"\u001b[0;36m, line \u001b[0;32m2\u001b[0m\n\u001b[0;31m    change_a = lambda a: a = a/a\u001b[0m\n\u001b[0m              ^\u001b[0m\n\u001b[0;31mSyntaxError\u001b[0m\u001b[0;31m:\u001b[0m can't assign to lambda\n"
     ]
    }
   ],
   "source": [
    "#again, we see below that we can't assign to lambda\n",
    "change_a = lambda a: a = a/a"
   ]
  },
  {
   "cell_type": "markdown",
   "metadata": {},
   "source": [
    "##### Example 3.2 (Multiple Expressions and Statements):"
   ]
  },
  {
   "cell_type": "code",
   "execution_count": 43,
   "metadata": {
    "scrolled": true
   },
   "outputs": [
    {
     "ename": "SyntaxError",
     "evalue": "invalid syntax (<ipython-input-43-6dc5da62f31f>, line 2)",
     "output_type": "error",
     "traceback": [
      "\u001b[0;36m  File \u001b[0;32m\"<ipython-input-43-6dc5da62f31f>\"\u001b[0;36m, line \u001b[0;32m2\u001b[0m\n\u001b[0;31m    print_lower = lambda string: string = string.lower() print(string)\u001b[0m\n\u001b[0m                                                             ^\u001b[0m\n\u001b[0;31mSyntaxError\u001b[0m\u001b[0;31m:\u001b[0m invalid syntax\n"
     ]
    }
   ],
   "source": [
    "#here we see that lambda cannot support multiple expressions\n",
    "print_lower = lambda string: string = string.lower() print(string)"
   ]
  },
  {
   "cell_type": "code",
   "execution_count": 44,
   "metadata": {},
   "outputs": [],
   "source": [
    "# functions evaluated using the def keyword can support multiple expressions and statements, of course\n",
    "def print_lower(string):\n",
    "    string = string.lower()\n",
    "    print(string)"
   ]
  },
  {
   "cell_type": "code",
   "execution_count": 45,
   "metadata": {},
   "outputs": [
    {
     "name": "stdout",
     "output_type": "stream",
     "text": [
      "idiocracy: donald trump is the president, amazon acquires whole foods, and bayerbuys monsanto.\n"
     ]
    }
   ],
   "source": [
    "my_str = \"Idiocracy: Donald Trump is the president, Amazon acquires Whole Foods, and BayerBuys Monsanto.\"\n",
    "print_lower(my_str)"
   ]
  },
  {
   "cell_type": "markdown",
   "metadata": {},
   "source": [
    "## 4.2 Map, Filter, and Reduce Functions"
   ]
  },
  {
   "cell_type": "markdown",
   "metadata": {},
   "source": [
    "### 4.2.1 Map Functions"
   ]
  },
  {
   "cell_type": "markdown",
   "metadata": {},
   "source": [
    "__Overview:__\n",
    "- __[Map Function](https://docs.python.org/2/library/functions.html#map):__ Map is a built-in Python function and is useful for applying a function to every item of an `iterable` (i.e. sequence such as `list`, `str`, etc.) and returns a list of the results \n",
    "- The general form of the `map()` function is the following: `map(function, iterable, ...)`\n",
    "- Map functions make it easier to perform a function on every element of a sequence as opposed to wrapping this in a `for` loop and then applying the function on every iteration, for example (see Part 1 examples below) \n",
    "\n",
    "__Helpful Points:__\n",
    "1. The `map()` function can have more than one `iterable` passed into as long as the `function` requires this many arguments (see Part 3 examples below)\n",
    "2. If the `function` argument is `None`, the __[Identity Function](https://en.wikipedia.org/wiki/Identity_function)__ is assumed which returns the `iterable` as is (doesn't change its elements) \n",
    "3. Remember, Map Functions are commonly used in conjunction with Lambda Expressions (see Part 2 examples below)\n",
    "\n",
    "__Practice:__ Example of Map Functions in Python "
   ]
  },
  {
   "cell_type": "markdown",
   "metadata": {},
   "source": [
    "#### Part 1 (Loop vs. Map Function):"
   ]
  },
  {
   "cell_type": "markdown",
   "metadata": {},
   "source": [
    "##### Example 1.1 (Celsius to Fahrenheit):"
   ]
  },
  {
   "cell_type": "code",
   "execution_count": 46,
   "metadata": {},
   "outputs": [],
   "source": [
    "# define a function to convert celsius into fahrenheit \n",
    "def fahrenheit(cels):\n",
    "    return ((float(9/5)*cels + 32))"
   ]
  },
  {
   "cell_type": "code",
   "execution_count": 47,
   "metadata": {},
   "outputs": [],
   "source": [
    "temps_cels = [0, 32, 50, 100]"
   ]
  },
  {
   "cell_type": "code",
   "execution_count": 48,
   "metadata": {},
   "outputs": [
    {
     "name": "stdout",
     "output_type": "stream",
     "text": [
      "[32.0, 89.6, 122.0, 212.0]\n"
     ]
    }
   ],
   "source": [
    "# convert every element of the list to fahrenheit without map function\n",
    "temps_fahr = []\n",
    "for temps in temps_cels:\n",
    "    fahr = fahrenheit(temps) \n",
    "    temps_fahr.append(fahr)\n",
    "    \n",
    "print(temps_fahr)"
   ]
  },
  {
   "cell_type": "code",
   "execution_count": 49,
   "metadata": {},
   "outputs": [
    {
     "name": "stdout",
     "output_type": "stream",
     "text": [
      "<map object at 0x104beb7f0>\n",
      "[32.0, 89.6, 122.0, 212.0]\n"
     ]
    }
   ],
   "source": [
    "# convert every element of the list to fahrenheit with map function\n",
    "print(map(fahrenheit, temps_cels))\n",
    "print(list(map(fahrenheit, temps_cels)))"
   ]
  },
  {
   "cell_type": "markdown",
   "metadata": {},
   "source": [
    "##### Example 1.2 (Squared):"
   ]
  },
  {
   "cell_type": "code",
   "execution_count": 50,
   "metadata": {},
   "outputs": [],
   "source": [
    "# define a function to square a number\n",
    "def squared(num):\n",
    "    return num ** 2"
   ]
  },
  {
   "cell_type": "code",
   "execution_count": 51,
   "metadata": {},
   "outputs": [],
   "source": [
    "my_nums = [2, 3, 5, 10]"
   ]
  },
  {
   "cell_type": "code",
   "execution_count": 53,
   "metadata": {},
   "outputs": [
    {
     "name": "stdout",
     "output_type": "stream",
     "text": [
      "[4, 9, 25, 100]\n"
     ]
    }
   ],
   "source": [
    "# square every element of the list without map function\n",
    "squared_nums = []\n",
    "for num in my_nums:\n",
    "    squared_num = squared(num)\n",
    "    squared_nums.append(squared_num)\n",
    "\n",
    "print(squared_nums)\n",
    "\n",
    "#uggggggggggggghhh that was labor"
   ]
  },
  {
   "cell_type": "code",
   "execution_count": 55,
   "metadata": {},
   "outputs": [
    {
     "name": "stdout",
     "output_type": "stream",
     "text": [
      "<map object at 0x104b70c88>\n",
      "[4, 9, 25, 100]\n"
     ]
    }
   ],
   "source": [
    "# square every element of the list with map function\n",
    "print(map(squared, my_nums))\n",
    "print(list(map(squared, my_nums)))\n",
    "\n",
    "#goodness, that was nice"
   ]
  },
  {
   "cell_type": "markdown",
   "metadata": {},
   "source": [
    "#### Part 2 (Map Function with Lambda Expression):\n",
    "\n",
    "- In the example above, we created (and named) a function using the `def` keyword. This allowed us to call on that function at any future point in the program\n",
    "- What if we created the same function, but anonymously (without a name) and just used it on an \"as-needed\" basis and \"threw it away\" when we were finished with it "
   ]
  },
  {
   "cell_type": "markdown",
   "metadata": {},
   "source": [
    "##### Example 2.1 (Celsius to Fahrenheit):"
   ]
  },
  {
   "cell_type": "code",
   "execution_count": 56,
   "metadata": {},
   "outputs": [],
   "source": [
    "temps_cels = [0, 32, 50, 100]"
   ]
  },
  {
   "cell_type": "code",
   "execution_count": 57,
   "metadata": {},
   "outputs": [
    {
     "name": "stdout",
     "output_type": "stream",
     "text": [
      "[32.0, 89.6, 122.0, 212.0]\n"
     ]
    }
   ],
   "source": [
    "# map and lambda function\n",
    "print(list(map(lambda cels: float(9/5)*cels + 32, temps_cels)))"
   ]
  },
  {
   "cell_type": "code",
   "execution_count": 62,
   "metadata": {},
   "outputs": [],
   "source": [
    "#but what about this?\n",
    "def tempadelic(temps_list): print(list(map(lambda cels: float(9/5)*cels + 32, temps_list)))"
   ]
  },
  {
   "cell_type": "code",
   "execution_count": 64,
   "metadata": {},
   "outputs": [
    {
     "name": "stdout",
     "output_type": "stream",
     "text": [
      "[32.0, 89.6, 122.0, 212.0]\n"
     ]
    }
   ],
   "source": [
    "tempadelic(temps_cels)\n",
    "\n",
    "#that could be useful!"
   ]
  },
  {
   "cell_type": "markdown",
   "metadata": {},
   "source": [
    "##### Example 2.2 (Squared):"
   ]
  },
  {
   "cell_type": "code",
   "execution_count": 65,
   "metadata": {},
   "outputs": [],
   "source": [
    "my_nums = [2, 3, 5, 10]"
   ]
  },
  {
   "cell_type": "code",
   "execution_count": 66,
   "metadata": {},
   "outputs": [
    {
     "name": "stdout",
     "output_type": "stream",
     "text": [
      "[4, 9, 25, 100]\n"
     ]
    }
   ],
   "source": [
    "# map and lambda function\n",
    "print(list(map(lambda num: num ** 2, my_nums)))"
   ]
  },
  {
   "cell_type": "markdown",
   "metadata": {},
   "source": [
    "It is clear in the above examples that this is a very efficient way of writing this program as we were able to save over 10 lines of code with a simple, one-line equivalent. In this one-line equivalent, the Lambda Function was not defined by name and we \"threw it away\" after that line, which means we can't aceess it outside that Lambda Expression"
   ]
  },
  {
   "cell_type": "markdown",
   "metadata": {},
   "source": [
    "#### Part 3 (Multiple Arguments):"
   ]
  },
  {
   "cell_type": "markdown",
   "metadata": {},
   "source": [
    "##### Example 3.1 (Adding 2 Sequences):"
   ]
  },
  {
   "cell_type": "code",
   "execution_count": 67,
   "metadata": {},
   "outputs": [],
   "source": [
    "# function to add two numbers\n",
    "def add(x, y):\n",
    "    return x + y"
   ]
  },
  {
   "cell_type": "code",
   "execution_count": 68,
   "metadata": {},
   "outputs": [],
   "source": [
    "x_list = [1, 5, 3]\n",
    "y_list = [2, 3, 4]"
   ]
  },
  {
   "cell_type": "code",
   "execution_count": 69,
   "metadata": {},
   "outputs": [
    {
     "name": "stdout",
     "output_type": "stream",
     "text": [
      "[3, 8, 7]\n"
     ]
    }
   ],
   "source": [
    "print(list(map(add, x_list, y_list))) # 2 arguments are required in the function so we can pass in 2 iterables "
   ]
  },
  {
   "cell_type": "markdown",
   "metadata": {},
   "source": [
    "The above example adds each element of the lists together, one element at a time. Do I smell linear algebra ?!"
   ]
  },
  {
   "cell_type": "markdown",
   "metadata": {},
   "source": [
    "#### Part 4 (List of Functions):"
   ]
  },
  {
   "cell_type": "code",
   "execution_count": 70,
   "metadata": {},
   "outputs": [],
   "source": [
    "# define a function to multiply by 2\n",
    "def multi(num):\n",
    "    return num * 2\n",
    "\n",
    "# define a function to divide by 2\n",
    "def divide(num):\n",
    "    return num / 2"
   ]
  },
  {
   "cell_type": "code",
   "execution_count": 71,
   "metadata": {},
   "outputs": [
    {
     "name": "stdout",
     "output_type": "stream",
     "text": [
      "[4, 1.0]\n",
      "[8, 2.0]\n",
      "[12, 3.0]\n",
      "[16, 4.0]\n",
      "[20, 5.0]\n"
     ]
    }
   ],
   "source": [
    "# list of functions as the iterable object\n",
    "func_list = [multi, divide]\n",
    "\n",
    "for i in range(2, 11, 2):\n",
    "    res = list(map(lambda x: x(i), func_list))\n",
    "    print(res)"
   ]
  },
  {
   "cell_type": "markdown",
   "metadata": {},
   "source": [
    "This last example is very interesting. We can pass a function name (i.e. `multi`, and `divide`) as an argument into a Lambda Function. Recall the only stipulation with Lambda Functions was that it had to contain an expression and since a function evaluates to a number, this is valid for Lambda Functions. \n",
    "\n",
    "The interpretation is the following (for the first iteration):\n",
    "- At the first iteration, `i = 2`, so the statement reads: `res = list(map(lambda x: x(2), func_list))`, but `func_list` is a sequence of length 2, so the first element goes first: `lambda multi: multi(2)` which is evaluated as 4 and is the first element of the result. The second element goes next: `lambda divide: divide(2)` which is evaluated as 1.0 and is the second element of the result: `[4, 1.0]`"
   ]
  },
  {
   "cell_type": "markdown",
   "metadata": {},
   "source": [
    "##### Problem 1: \n",
    "\n",
    "Write a program to take a sentence and return the number of letters in each word to a list. For example, if you have the sentence: \"Allen prefers the spartan lifestyle to the intoxicating lull of a dull-toothed colony.\".\n",
    "\n",
    "- Show how you can do this using a `map` + `lambda` function, but also with a traditional function definition with `def` (although this may be redundant, show it anyways so you get used to comparing `def` with `lambda` style functions \n",
    "- Some hints:\n",
    "> 1. First, initialize the sentence as a variable then use an appropriate string method to split the sentence into words\n",
    "> 2. Then, calculate the length of each word and return this to a list "
   ]
  },
  {
   "cell_type": "code",
   "execution_count": 84,
   "metadata": {},
   "outputs": [
    {
     "name": "stdout",
     "output_type": "stream",
     "text": [
      "Tell me a sentence, mister: Tell WHO a sentence?!\n",
      "[4, 3, 1, 10]\n"
     ]
    }
   ],
   "source": [
    "# Write your code here\n",
    "print(list(map(lambda x: len(x), input(\"Tell me a sentence, mister: \").split())))\n",
    "\n"
   ]
  },
  {
   "cell_type": "markdown",
   "metadata": {},
   "source": [
    "### 4.2.2 Filter Functions"
   ]
  },
  {
   "cell_type": "markdown",
   "metadata": {},
   "source": [
    "__Overview:__\n",
    "- __[Filter Function](https://docs.python.org/2/library/functions.html#filter):__ Filter is a built-in function and is useful for a cosntructing a list of elements from the `iterable` argument for which the `function` returned `True` (it filters out all the elements of the `iterable` that were evaluated as `False`)  \n",
    "- The general form of the `filter()` function is the following: `filter(function, iterable)`\n",
    "- The `function` used in the first argument must return a Boolean Value (`True` or `False`) \n",
    "- Similar to Map functions, Filter functions make it easier to perform a function on every element of a sequence as opposed to wrapping this in a `for` loop and then applying the function on every iteration, for example (see Part 1 examples below) \n",
    "\n",
    "__Helpful Points:__\n",
    "1. Similar to the Map function, if the `function` argument is `None`, the __[Identity Function](https://en.wikipedia.org/wiki/Identity_function)__ is assumed which returns the `iterable` as is (doesn't change its elements) \n",
    "2. Remember, Reduce Functions are commonly used in conjunction with Lambda Expressions (see Part 2 examples below)\n",
    "\n",
    "__Practice:__ Example of Filter Functions in Python "
   ]
  },
  {
   "cell_type": "markdown",
   "metadata": {},
   "source": [
    "#### Part 1 (Loop vs. Filter Function):"
   ]
  },
  {
   "cell_type": "markdown",
   "metadata": {},
   "source": [
    "##### Example 1.1 (Greater than Value):"
   ]
  },
  {
   "cell_type": "code",
   "execution_count": 85,
   "metadata": {},
   "outputs": [],
   "source": [
    "# function to check if a value is greater than or equal to 3\n",
    "def over_3(num):\n",
    "    if num >= 3:\n",
    "        return True"
   ]
  },
  {
   "cell_type": "code",
   "execution_count": 86,
   "metadata": {},
   "outputs": [],
   "source": [
    "my_list = [2, 4, 10, 3, 1]"
   ]
  },
  {
   "cell_type": "code",
   "execution_count": 87,
   "metadata": {},
   "outputs": [
    {
     "name": "stdout",
     "output_type": "stream",
     "text": [
      "[4, 10, 3]\n"
     ]
    }
   ],
   "source": [
    "# filter the list so it contains only elements that are greater or equal than 3 without filter function\n",
    "over_3_list = []\n",
    "for num in my_list:\n",
    "    # check if function returns true\n",
    "    if over_3(num):\n",
    "        over_3_list.append(num)\n",
    "\n",
    "print(over_3_list)"
   ]
  },
  {
   "cell_type": "code",
   "execution_count": 88,
   "metadata": {},
   "outputs": [
    {
     "name": "stdout",
     "output_type": "stream",
     "text": [
      "[4, 10, 3]\n"
     ]
    }
   ],
   "source": [
    "# filter the list so it contains only elements that are greater or equal than 3 with filter function\n",
    "print(list(filter(over_3, my_list)))"
   ]
  },
  {
   "cell_type": "markdown",
   "metadata": {},
   "source": [
    "##### Example 1.2 (Even Check):"
   ]
  },
  {
   "cell_type": "code",
   "execution_count": 89,
   "metadata": {},
   "outputs": [],
   "source": [
    "# function to check if a value is even\n",
    "def even(num):\n",
    "    if num % 2 == 0:\n",
    "        return True"
   ]
  },
  {
   "cell_type": "code",
   "execution_count": 90,
   "metadata": {},
   "outputs": [],
   "source": [
    "my_list = [2, 4, 10, 3, 1]"
   ]
  },
  {
   "cell_type": "code",
   "execution_count": 91,
   "metadata": {},
   "outputs": [
    {
     "name": "stdout",
     "output_type": "stream",
     "text": [
      "[2, 4, 10]\n"
     ]
    }
   ],
   "source": [
    "# filter the list so it contains only elements that are even without filter function\n",
    "even_list = []\n",
    "for num in my_list:\n",
    "    # check if function returns true\n",
    "    if even(num):\n",
    "        even_list.append(num)\n",
    "\n",
    "print(even_list)"
   ]
  },
  {
   "cell_type": "code",
   "execution_count": 92,
   "metadata": {},
   "outputs": [
    {
     "name": "stdout",
     "output_type": "stream",
     "text": [
      "[2, 4, 10]\n"
     ]
    }
   ],
   "source": [
    "# filter the list so it contains only elements that are even with filter function\n",
    "print(list(filter(even, my_list)))"
   ]
  },
  {
   "cell_type": "markdown",
   "metadata": {},
   "source": [
    "#### Part 2 (Filter Function with Lambda Expression):\n",
    "\n",
    "- In the example above, we created (and named) a function using the `def` keyword. This allowed us to call on that function at any future point in the program\n",
    "- What if we created the same function, but anonymously (without a name) and just used it on an \"as-needed\" basis and \"threw it away\" when we were finished with it "
   ]
  },
  {
   "cell_type": "markdown",
   "metadata": {},
   "source": [
    "##### Example 2.1 (Greater than Value):"
   ]
  },
  {
   "cell_type": "code",
   "execution_count": 93,
   "metadata": {},
   "outputs": [
    {
     "name": "stdout",
     "output_type": "stream",
     "text": [
      "[4, 10, 3]\n"
     ]
    }
   ],
   "source": [
    "print(list(filter(lambda num: num >= 3, my_list)))"
   ]
  },
  {
   "cell_type": "markdown",
   "metadata": {},
   "source": [
    "##### Example 2.2 (Even):"
   ]
  },
  {
   "cell_type": "code",
   "execution_count": 94,
   "metadata": {},
   "outputs": [
    {
     "name": "stdout",
     "output_type": "stream",
     "text": [
      "[2, 4, 10]\n"
     ]
    }
   ],
   "source": [
    "print(list(filter(lambda num: num % 2 == 0, my_list)))"
   ]
  },
  {
   "cell_type": "markdown",
   "metadata": {},
   "source": [
    "### 4.2.3 Reduce Functions"
   ]
  },
  {
   "cell_type": "markdown",
   "metadata": {},
   "source": [
    "__Overview:__\n",
    "- __[Reduce Function](https://docs.python.org/2/library/functions.html#reduce):__ Reduce Function is useful for applying a function of 2 arguments cumulatively to the items of `iterable`, from left to right, so to reduce the iterable to a single value \n",
    "- The general form of the `reduce()` function is the following: `reduce(function, iterable)`\n",
    "- For a sequence `seq = [s1, s2, s3, ..., sn]`, calling `reduce(function, seq)` would result in the following operations: \n",
    "> 1. First 2 elements (s1, s2) are applied to the function (`func(s1, s2)`) and the list now becomes `[func(s1, s2), s3, ..., sn]`\n",
    "> 2. Result of 1 and the third element (func(s1, s2), s3) are applied to the function (`func(func(s1, s2), s3)`) and the list now becomes `[func(func(s1, s2), s3), ..., sn]`\n",
    "> 3. Continue like this until there is only one element left \n",
    "\n",
    "__Helpful Points:__\n",
    "1. Remember, Reduce Functions are commonly used in conjunction with Lambda Expressions (see Example 2 below)\n",
    "\n",
    "__Practice:__ Example of Reduce Functions in Python "
   ]
  },
  {
   "cell_type": "markdown",
   "metadata": {},
   "source": [
    "##### Example 1 (Loop vs. Reduce Function):"
   ]
  },
  {
   "cell_type": "code",
   "execution_count": 95,
   "metadata": {},
   "outputs": [],
   "source": [
    "# function to calculate product \n",
    "def product_seq(num_1, num_2):\n",
    "    return num_1 * num_2"
   ]
  },
  {
   "cell_type": "code",
   "execution_count": 96,
   "metadata": {},
   "outputs": [],
   "source": [
    "my_list = [2, 4, 10, 3, 1]"
   ]
  },
  {
   "cell_type": "code",
   "execution_count": 97,
   "metadata": {},
   "outputs": [
    {
     "name": "stdout",
     "output_type": "stream",
     "text": [
      "240\n"
     ]
    }
   ],
   "source": [
    "# reduce the list to one number which is a rolling product without reduce function \n",
    "prod = 1 \n",
    "for num in my_list:\n",
    "    prod = product_seq(prod, num)\n",
    "\n",
    "print(prod)"
   ]
  },
  {
   "cell_type": "code",
   "execution_count": 98,
   "metadata": {},
   "outputs": [],
   "source": [
    "# import the reduce function from the functools module (recall this syntax from lecture 3)\n",
    "from functools import reduce"
   ]
  },
  {
   "cell_type": "code",
   "execution_count": 99,
   "metadata": {
    "scrolled": true
   },
   "outputs": [
    {
     "name": "stdout",
     "output_type": "stream",
     "text": [
      "240\n"
     ]
    }
   ],
   "source": [
    "# reduce the list to one number which is a rolling product with reduce function \n",
    "print(reduce(product_seq, [2, 4, 10, 3, 1]))"
   ]
  },
  {
   "cell_type": "markdown",
   "metadata": {},
   "source": [
    "##### Example 2 (Reduce Function with Lambda Expression):\n",
    "\n",
    "- In the example above, we created (and named) a function using the `def` keyword. This allowed us to call on that function at any future point in the program\n",
    "- What if we created the same function, but anonymously (without a name) and just used it on an \"as-needed\" basis and \"threw it away\" when we were finished with it "
   ]
  },
  {
   "cell_type": "code",
   "execution_count": 100,
   "metadata": {},
   "outputs": [
    {
     "name": "stdout",
     "output_type": "stream",
     "text": [
      "113\n"
     ]
    }
   ],
   "source": [
    "my_list = [47, 11, 42, 13]\n",
    "print(reduce(lambda num_1, num_2: num_1 + num_2, my_list))"
   ]
  },
  {
   "cell_type": "markdown",
   "metadata": {},
   "source": [
    "Reduce Functions are easily visualized. In the above example, the following visualization illustrates what takes place: <img src=\"img22.png\">"
   ]
  },
  {
   "cell_type": "markdown",
   "metadata": {},
   "source": [
    "Interpretation:\n",
    "- For the sequence `seq = [47, 11, 42, 14]`, calling `reduce(function, seq)` results in the following operations: \n",
    "> 1. First 2 elements (47, 11) are applied to the function (`func(s1, s2)`) and the list now becomes `[58, 42, 13]`\n",
    "> 2. Result of 1 and the third element (58, 42) are applied to the function (`func(58, 42)`) and the list now becomes `[100, 13]`\n",
    "> 3. Result of 2 and the fourth element (100, 13) are applied to the function (`func(100, 13)`) and the list now becomes `[113]`\n",
    "> 4. Since the list only has one more value, the reduce operation is complete"
   ]
  },
  {
   "cell_type": "markdown",
   "metadata": {},
   "source": [
    "## 4.3 Comprehension:"
   ]
  },
  {
   "cell_type": "markdown",
   "metadata": {},
   "source": [
    "### 4.3.1 What is Comprehension?"
   ]
  },
  {
   "cell_type": "markdown",
   "metadata": {},
   "source": [
    "__Overview:__ \n",
    "- __[Comprehension](https://docs.python.org/3/tutorial/datastructures.html#list-comprehensions):__ Comprehension provides a concise way in Python to create lists, dictionaries, and sets in a very concise and efficient way \n",
    "- Comprehension provides a complete substitute for the `lambda` function as well as the functions `map()`, `filter()`, and `reduce()` that we saw in section 4.1 and 4.2, respectively \n",
    "\n",
    "__Helpful Points:__\n",
    "1. Comprehension is Python's way of implementing a well-known notation in mathematics. For example, mathematicians would write {$x^2 | x \\in N$} which means \"x squared for all x in N\" (you will soon notice this verbiage translates almost exactly to how the associated comprehension in Python would be written) \n",
    "2. Python's creator (Guide van Rossum) prefers comprehension over `map`, `filter`, `reduce`, and `lambda` but this comes down to personal preference. Which do you find easier to interpret? "
   ]
  },
  {
   "cell_type": "markdown",
   "metadata": {},
   "source": [
    "### 4.3.2 Comprehension in Python:"
   ]
  },
  {
   "cell_type": "markdown",
   "metadata": {},
   "source": [
    "__Overview:__\n",
    "- Python can construct comprehensions in the following way:\n",
    "> 1. __List Comprehension:__ `[<expression> for var in vars]` which constructs a `list` from the outputs of a `for` loop\n",
    "> 2. __Dictionary Comprehension:__ `{key: value for var in vars}` which constructs a `dict` from the outputs of a `for` loop\n",
    "> 3. __Set Comprehension:__ `{value for var in vars}` which constructs a `set` from the outputs of a `for` loop\n",
    "\n",
    "__Helpful Points:__\n",
    "1. It is possible to have more than one expression for the outputs of the `for` loop (if this is the case, you have to enclose the expressions as a tuple `( )` (see Examples below)\n",
    "2. Comprehension can also be used in Nested For Loops (see Examples below) \n",
    "\n",
    "__Practice:__ Examples of Comprehensions in Python "
   ]
  },
  {
   "cell_type": "markdown",
   "metadata": {},
   "source": [
    "#### Part 1 (Standard For Loop vs. List Comprehension vs. Map/Lambda):"
   ]
  },
  {
   "cell_type": "markdown",
   "metadata": {},
   "source": [
    "##### Example 1.1 (Squares using Standard For Loop):"
   ]
  },
  {
   "cell_type": "code",
   "execution_count": 101,
   "metadata": {},
   "outputs": [],
   "source": [
    "my_list = [1, 3, 7, 8, 9, 10]"
   ]
  },
  {
   "cell_type": "code",
   "execution_count": 104,
   "metadata": {},
   "outputs": [
    {
     "name": "stdout",
     "output_type": "stream",
     "text": [
      "CPU times: user 4 µs, sys: 1 µs, total: 5 µs\n",
      "Wall time: 9.06 µs\n",
      "[1, 9, 49, 64, 81, 100]\n"
     ]
    }
   ],
   "source": [
    "%time\n",
    "my_list_squared_1 = []\n",
    "for num in my_list:\n",
    "    my_list_squared_1.append(num ** 2)\n",
    "\n",
    "print(my_list_squared_1)"
   ]
  },
  {
   "cell_type": "markdown",
   "metadata": {},
   "source": [
    "##### Example 1.2 (Squares using List Comprehension):"
   ]
  },
  {
   "cell_type": "code",
   "execution_count": 122,
   "metadata": {},
   "outputs": [
    {
     "name": "stdout",
     "output_type": "stream",
     "text": [
      "CPU times: user 4 µs, sys: 1 µs, total: 5 µs\n",
      "Wall time: 8.82 µs\n",
      "[1, 9, 49, 64, 81, 100]\n"
     ]
    }
   ],
   "source": [
    "%time\n",
    "my_list_squared_2 = [num ** 2 for num in my_list]\n",
    "print(my_list_squared_2)"
   ]
  },
  {
   "cell_type": "markdown",
   "metadata": {},
   "source": [
    "In general, List Comprehenseion consists of brackets containing an expression followed by a `for` clause, then zero or more `for` or `if` clauses. The result will be a new list resulting from evaluating the expression in the context of the `for` and `if` clauses."
   ]
  },
  {
   "cell_type": "markdown",
   "metadata": {},
   "source": [
    "##### Example 1.3 (Squares using Map and Lambda):"
   ]
  },
  {
   "cell_type": "code",
   "execution_count": 115,
   "metadata": {},
   "outputs": [
    {
     "name": "stdout",
     "output_type": "stream",
     "text": [
      "CPU times: user 6 µs, sys: 2 µs, total: 8 µs\n",
      "Wall time: 12.9 µs\n",
      "[1, 9, 49, 64, 81, 100]\n"
     ]
    }
   ],
   "source": [
    "%time\n",
    "my_list_squared_3 = list(map(lambda num: num ** 2, my_list))\n",
    "print(my_list_squared_3)"
   ]
  },
  {
   "cell_type": "markdown",
   "metadata": {},
   "source": [
    "Of the examples above, which do you find more readable and interpretable? "
   ]
  },
  {
   "cell_type": "markdown",
   "metadata": {},
   "source": [
    "##### Example 1.4 (Even Numvers using Standard For Loop):"
   ]
  },
  {
   "cell_type": "code",
   "execution_count": 123,
   "metadata": {},
   "outputs": [],
   "source": [
    "my_list = [1, 3, 7, 8, 9, 10]"
   ]
  },
  {
   "cell_type": "code",
   "execution_count": 124,
   "metadata": {},
   "outputs": [
    {
     "name": "stdout",
     "output_type": "stream",
     "text": [
      "[8, 10]\n"
     ]
    }
   ],
   "source": [
    "my_list_even_1 = []\n",
    "for num in my_list:\n",
    "    if num % 2 == 0:\n",
    "        my_list_even_1.append(num)\n",
    "\n",
    "print(my_list_even_1)"
   ]
  },
  {
   "cell_type": "markdown",
   "metadata": {},
   "source": [
    "##### Example 1.5 (Even Numbers using List Comprehension):"
   ]
  },
  {
   "cell_type": "code",
   "execution_count": 125,
   "metadata": {},
   "outputs": [
    {
     "name": "stdout",
     "output_type": "stream",
     "text": [
      "[8, 10]\n"
     ]
    }
   ],
   "source": [
    "my_list_even_2 = [num for num in my_list if num % 2 == 0]\n",
    "print(my_list_even_2)"
   ]
  },
  {
   "cell_type": "markdown",
   "metadata": {},
   "source": [
    "##### Example 1.6 (Even Numbers using Filter and Lambda):"
   ]
  },
  {
   "cell_type": "code",
   "execution_count": 126,
   "metadata": {},
   "outputs": [
    {
     "name": "stdout",
     "output_type": "stream",
     "text": [
      "[8, 10]\n"
     ]
    }
   ],
   "source": [
    "my_list_even_3 = list(filter(lambda num: num % 2 == 0, my_list))\n",
    "print(my_list_even_3)"
   ]
  },
  {
   "cell_type": "markdown",
   "metadata": {},
   "source": [
    "#### Part 2 (Multiple Expressions in List Comprehensions):"
   ]
  },
  {
   "cell_type": "markdown",
   "metadata": {},
   "source": [
    "##### Example 2.1 (Multiple Expressions 1):"
   ]
  },
  {
   "cell_type": "code",
   "execution_count": 131,
   "metadata": {},
   "outputs": [
    {
     "ename": "SyntaxError",
     "evalue": "invalid syntax (<ipython-input-131-ec0cee9618ba>, line 2)",
     "output_type": "error",
     "traceback": [
      "\u001b[0;36m  File \u001b[0;32m\"<ipython-input-131-ec0cee9618ba>\"\u001b[0;36m, line \u001b[0;32m2\u001b[0m\n\u001b[0;31m    print([x, x**2 for x in range(10)])\u001b[0m\n\u001b[0m                     ^\u001b[0m\n\u001b[0;31mSyntaxError\u001b[0m\u001b[0;31m:\u001b[0m invalid syntax\n"
     ]
    }
   ],
   "source": [
    "# create a list of 2-tuples in the form of (number, square)\n",
    "print([x, x**2 for x in range(10)])"
   ]
  },
  {
   "cell_type": "markdown",
   "metadata": {},
   "source": [
    "Note: if you are returning multiple expressions, you have to enclose them in brackets of some sort, such as parantheses: `(` and `)`"
   ]
  },
  {
   "cell_type": "code",
   "execution_count": 132,
   "metadata": {},
   "outputs": [
    {
     "name": "stdout",
     "output_type": "stream",
     "text": [
      "[(0, 0), (1, 1), (2, 4), (3, 9), (4, 16), (5, 25), (6, 36), (7, 49), (8, 64), (9, 81)]\n"
     ]
    }
   ],
   "source": [
    "# create a list of 2-tuples in the form of (number, square)\n",
    "print([(x, x**2) for x in range(10)])"
   ]
  },
  {
   "cell_type": "markdown",
   "metadata": {},
   "source": [
    "##### Example 2.2 (Multiple Expressions 2):"
   ]
  },
  {
   "cell_type": "code",
   "execution_count": 133,
   "metadata": {},
   "outputs": [
    {
     "name": "stdout",
     "output_type": "stream",
     "text": [
      "[('catman', 'CATMAN'), ('dingo', 'DINGO'), ('dynarex', 'DYNAREX'), ('vinyl', 'VINYL')]\n"
     ]
    }
   ],
   "source": [
    "# create a list of 2-tuples in the form of (upper-case, lower-case)\n",
    "my_list = [\"Catman\", \"Dingo\", \"Dynarex\", \"Vinyl\"]\n",
    "print([(word.lower(), word.upper()) for word in my_list])"
   ]
  },
  {
   "cell_type": "markdown",
   "metadata": {},
   "source": [
    "#### Part 3 (Nested List Comprehension):"
   ]
  },
  {
   "cell_type": "markdown",
   "metadata": {},
   "source": [
    "##### Example 3.1 (Nested List Comprehension 1):"
   ]
  },
  {
   "cell_type": "code",
   "execution_count": 134,
   "metadata": {},
   "outputs": [],
   "source": [
    "teams = [\"PGH\", \"SFO\", \"OLY\"]\n",
    "years = [2010, 2011, 2012, 2013, 2014, 2015, 2016, 2017]"
   ]
  },
  {
   "cell_type": "code",
   "execution_count": 135,
   "metadata": {},
   "outputs": [
    {
     "name": "stdout",
     "output_type": "stream",
     "text": [
      "['PGH-2010', 'PGH-2011', 'PGH-2012', 'PGH-2013', 'PGH-2014', 'PGH-2015', 'PGH-2016', 'PGH-2017', 'SFO-2010', 'SFO-2011', 'SFO-2012', 'SFO-2013', 'SFO-2014', 'SFO-2015', 'SFO-2016', 'SFO-2017', 'OLY-2010', 'OLY-2011', 'OLY-2012', 'OLY-2013', 'OLY-2014', 'OLY-2015', 'OLY-2016', 'OLY-2017']\n"
     ]
    }
   ],
   "source": [
    "# number of unique combinations of team-year using for loop\n",
    "combo_list = []\n",
    "for team in teams:\n",
    "    for year in years:\n",
    "        combo_list.append(team + \"-\" + str(year))\n",
    "\n",
    "print(combo_list)"
   ]
  },
  {
   "cell_type": "code",
   "execution_count": 136,
   "metadata": {
    "scrolled": true
   },
   "outputs": [
    {
     "name": "stdout",
     "output_type": "stream",
     "text": [
      "['PGH-2010', 'PGH-2011', 'PGH-2012', 'PGH-2013', 'PGH-2014', 'PGH-2015', 'PGH-2016', 'PGH-2017', 'SFO-2010', 'SFO-2011', 'SFO-2012', 'SFO-2013', 'SFO-2014', 'SFO-2015', 'SFO-2016', 'SFO-2017', 'OLY-2010', 'OLY-2011', 'OLY-2012', 'OLY-2013', 'OLY-2014', 'OLY-2015', 'OLY-2016', 'OLY-2017']\n"
     ]
    }
   ],
   "source": [
    "# number of unique combintions of team-uear using list comprehension\n",
    "print([team + \"-\" + str(year) for team in teams for year in years])"
   ]
  },
  {
   "cell_type": "markdown",
   "metadata": {},
   "source": [
    "Notice that with nested list comprehension, you read the `for` loops from left to right which begin at the outer-most loop and continue to the inner-most loop"
   ]
  },
  {
   "cell_type": "markdown",
   "metadata": {},
   "source": [
    "##### Example 3.2 (Nested List Comprehension 2):"
   ]
  },
  {
   "cell_type": "code",
   "execution_count": 137,
   "metadata": {},
   "outputs": [],
   "source": [
    "my_list_1 = [3, 4, 5, 6]\n",
    "my_list_2 = [5, 4, 3, 6]"
   ]
  },
  {
   "cell_type": "code",
   "execution_count": 138,
   "metadata": {},
   "outputs": [
    {
     "name": "stdout",
     "output_type": "stream",
     "text": [
      "[(3, 5), (3, 4), (3, 6), (4, 5), (4, 3), (4, 6), (5, 4), (5, 3), (5, 6), (6, 5), (6, 4), (6, 3)]\n"
     ]
    }
   ],
   "source": [
    "# combine elements of 2 lists if they are not equal using for loop\n",
    "new_list = []\n",
    "for num_1 in my_list_1:\n",
    "    for num_2 in my_list_2:\n",
    "        if num_1 != num_2:\n",
    "            new_list.append((num_1, num_2))\n",
    "\n",
    "print(new_list)"
   ]
  },
  {
   "cell_type": "code",
   "execution_count": 139,
   "metadata": {},
   "outputs": [
    {
     "name": "stdout",
     "output_type": "stream",
     "text": [
      "[(3, 5), (3, 4), (3, 6), (4, 5), (4, 3), (4, 6), (5, 4), (5, 3), (5, 6), (6, 5), (6, 4), (6, 3)]\n"
     ]
    }
   ],
   "source": [
    "print([(num_1, num_2) for num_1 in my_list_1 for num_2 in my_list_2 if num_1 != num_2])"
   ]
  },
  {
   "cell_type": "markdown",
   "metadata": {},
   "source": [
    "#### Part 4 (Dictionary and Set Comprehensions):"
   ]
  },
  {
   "cell_type": "markdown",
   "metadata": {},
   "source": [
    "##### Example 4.1 (Dictionary Comprehension):"
   ]
  },
  {
   "cell_type": "code",
   "execution_count": 140,
   "metadata": {},
   "outputs": [],
   "source": [
    "employee_list = [\"Brack\", \"Toast\", \"Man\", \"Shark\"]"
   ]
  },
  {
   "cell_type": "code",
   "execution_count": 141,
   "metadata": {},
   "outputs": [
    {
     "name": "stdout",
     "output_type": "stream",
     "text": [
      "{'Brack': 5, 'Toast': 5, 'Man': 3, 'Shark': 5}\n"
     ]
    }
   ],
   "source": [
    "# return a dictionary of employee name : number of letters in employee name using for loop\n",
    "employee_dict = {}\n",
    "for employee in employee_list:\n",
    "    employee_dict[employee] = len(employee)\n",
    "\n",
    "print(employee_dict)"
   ]
  },
  {
   "cell_type": "code",
   "execution_count": 143,
   "metadata": {},
   "outputs": [
    {
     "name": "stdout",
     "output_type": "stream",
     "text": [
      "{'Brack': 5, 'Toast': 5, 'Man': 3, 'Shark': 5}\n"
     ]
    }
   ],
   "source": [
    "# return a dictionary of employee name : number of letters in employee name using dictionary comprehension \n",
    "print({employee : len(employee) for employee in employee_list})"
   ]
  },
  {
   "cell_type": "markdown",
   "metadata": {},
   "source": [
    "##### Example 4.2 (Set Comprehension):"
   ]
  },
  {
   "cell_type": "code",
   "execution_count": 144,
   "metadata": {},
   "outputs": [],
   "source": [
    "my_list = [2, 3, 3, 4, 4, 5, 6, 6, 7, 10, 11, 11]"
   ]
  },
  {
   "cell_type": "code",
   "execution_count": 145,
   "metadata": {},
   "outputs": [
    {
     "name": "stdout",
     "output_type": "stream",
     "text": [
      "[2, 4, 4, 6, 6, 10]\n",
      "{2, 10, 4, 6}\n"
     ]
    }
   ],
   "source": [
    "# return a set of numbers that are even using for loop \n",
    "even_list = []\n",
    "for num in my_list:\n",
    "    if num % 2 == 0:\n",
    "        even_list.append(num)\n",
    "\n",
    "print(even_list)\n",
    "print(set(even_list))"
   ]
  },
  {
   "cell_type": "code",
   "execution_count": 153,
   "metadata": {},
   "outputs": [
    {
     "name": "stdout",
     "output_type": "stream",
     "text": [
      "{11, 3, 5, 7}\n",
      "Those are some mighty prime numbers right there!\n"
     ]
    }
   ],
   "source": [
    "# return a set of numbers that are even using set comprehension \n",
    "print({num+1 for num in my_list if num % 2 == 0})\n",
    "\n",
    "print(\"Those are some mighty prime numbers right there!\")"
   ]
  },
  {
   "cell_type": "markdown",
   "metadata": {},
   "source": [
    "##### Problem 2:\n",
    "\n",
    "Use list comprehension to \"flatten a list of lists\". This means that if you have a nested list (`[[1,2,3], [4,5,6], [7,8,9]]`), you want to achieve the following: `[1,2,3,4,5,6,7,8,9]` which is no longer nested. \n",
    "\n",
    "- Flatten the following list: `[[\"a\", \"b\",\"c\"], [1, 2, 3], [\"Gordon\"]]` to achieve `['a', 'b', 'c', 1, 2, 3, 'Gordon']`\n",
    "- Use List Comprehension and you will need a Nested For Loop equivalent \n",
    "- This is a very frequent \"problem\" to have so you should be familiar with how to handle this scenario"
   ]
  },
  {
   "cell_type": "code",
   "execution_count": 169,
   "metadata": {},
   "outputs": [
    {
     "name": "stdout",
     "output_type": "stream",
     "text": [
      "[1, 2, 3, 4, 5, 6, 7, 8, 9]\n",
      "[1, 2, 3, 4, 5, 6, 7, 8, 9]\n"
     ]
    }
   ],
   "source": [
    "# Write your code here\n",
    "stacked_list = [[1,2,3], [4,5,6], [7,8,9]]\n",
    "print([elements for sub_lists in stacked_list for elements in sub_lists])\n",
    "\n",
    "#That was tricky. Here's the same function using for loops:\n",
    "\n",
    "output_list = []\n",
    "for sub_lists in stacked_list:\n",
    "    for elements in sub_lists:\n",
    "        output_list.append(elements)       \n",
    "print(output_list)"
   ]
  },
  {
   "cell_type": "markdown",
   "metadata": {},
   "source": [
    "## 4.4 NumPy"
   ]
  },
  {
   "cell_type": "markdown",
   "metadata": {},
   "source": [
    "### 4.4.1 What is NumPy?"
   ]
  },
  {
   "cell_type": "markdown",
   "metadata": {},
   "source": [
    "__Overview:__\n",
    "- __[NumPy](http://www.numpy.org/):__ NumPy, which stands for \"Numerical Python\", is the fundamental package (recall in Lecture 3 the definition of a package) for performing \"scientific computation\" in Python \n",
    "- Python's original intention was NOT for [Numerical Computing](https://en.wikipedia.org/wiki/Numerical_analysis) and therefore required additional tools to do this type of analysis \n",
    "- In recent years, the NumPy Package has become a staple in the Data Scientist's toolbox for some of the following reasons:\n",
    "> 1. NumPy is the foundation on which all higher-level tools used by Data Scientists are built on such as [`pandas`](http://pandas.pydata.org/) and [`scikit-learn`](http://scikit-learn.org/stable/)\n",
    "> 2. The NumPy Array is also the fundamental building block on top of which Tensor objects are built in [`TensorFlow`](https://www.tensorflow.org/) which is a popular package for [Machine Learning](https://en.wikipedia.org/wiki/Machine_learning) in Python \n",
    "> 3. As a Data Scientist, it is common to deal with large arrays that have many rows and columns as well as third dimensions (i.e. think about the pixels of an image). NumPy Arrays allow you store these large arrays in an efficient manner \n",
    "> 4. As a Data Scientist, it is a common task to perform operations on an entire array. NumPy Arrays allow you to do this without the use of `for` loops\n",
    "> 5. Linear Algebra (see Lecture 7 and 8) is a core mathematical concept that is absolutely essential to becoming a Data Scientist and the NumPy Package has many internal functions for performing beginner to advanced routines in Linear Alebgra\n",
    "\n",
    "- Now you understand why Data Scientists use the NumPy Package, but what is it about the NumPy Package that allow us, as users of the NumPy Package, to realize these benefits? \n",
    "> 1. NumPy's main object is the Multi-Dimensional [Array](https://en.wikipedia.org/wiki/Array_data_type#Multi-dimensional_arrays) which is extremely fast and convenient for working with data sets \n",
    "> 2. NumPy's arrays allow us to perform [vectorized](https://en.wikipedia.org/wiki/Vectorization) operations on entire arrays which means the same operation is applied all at once rather than to each individual elements one at a time (like `for` loops)\n",
    "> 3. The NumPy Package has hundred's of functions grouped into about 30 categories which can be found [here](https://docs.scipy.org/doc/numpy-1.13.0/reference/routines.html). Some of the most important functions for Data Scientists can be found in the following groups:\n",
    ">> a. __[Mathematical Functions](https://docs.scipy.org/doc/numpy-1.13.0/reference/routines.math.html):__ Mathematical Functions include trigonemtric functions, hyperbolic functions, sums/products/differences, exponents and logarithms, etc.<br>\n",
    ">> b. __[Statistics](https://docs.scipy.org/doc/numpy-1.13.0/reference/routines.statistics.html):__ Statistics Functions including averages, variances, correlation, histograms, etc.<br> \n",
    ">> c. __[Linear Algebra](https://docs.scipy.org/doc/numpy-1.13.0/reference/routines.linalg.html):__ Matrix and Vector Products, Decompositions, Solving Equations, etc. (This is covered in detail in Lecture 8)"
   ]
  },
  {
   "cell_type": "markdown",
   "metadata": {},
   "source": [
    "### 4.4.2 NumPy Basics:"
   ]
  },
  {
   "cell_type": "markdown",
   "metadata": {},
   "source": [
    "### 4.4.2.1 NumPy Array Definitions: "
   ]
  },
  {
   "cell_type": "markdown",
   "metadata": {},
   "source": [
    "__Overview:__ \n",
    "- The cornerstone of the NumPy Package is the \"homogenous multi-dimensional array\" known as the NumPy Array \n",
    "- To understand NumPy's main object, we have to understand the concept of an __Array__ which can be thought of as a table of elements (usually numbers), all of the same type (i.e. all of type `int`)\n",
    "- We have already seen what a List looks like (i.e. `[1,2,3]`), well, this can also be though of as an array of rank 1 and length 3 (more on definitions below) \n",
    " \n",
    "__Helpful Points:__\n",
    "1. A few key definitions will be important to understand before we start working with arrays. In NumPy:\n",
    ">> a. __Axis__: An array's axis refers to the number of __[Dimensions](https://en.wikipedia.org/wiki/Dimension)__ in the array (i.e. a one-dimensional array such as `[1,2,3]` has 1 axis)<br>\n",
    ">> b. __Rank__: Rank of an array refers to the number of axes in the array (i.e. a two-dimensional array such as:\n",
    ">> > `[[1,2,3],`<br>\n",
    ">> >  `[4,5,6]]` has rank 2 because it has 2 axes (and it has 2 axes, because it has 2 dimensions - one along the rows and one along the columns)\n",
    "\n",
    "In summary, NumPy considers __Dimensions__, __Axes__, and __Rank__ to mean the same thing\n",
    ">> c. __Length__: Length of an array refers to the number of elements in each axis (i.e. a two-dimensional array such as:<br>\n",
    ">> > `[[1,0,0],`<br>\n",
    ">> >  `[0,1,2]]` has length 2 in its first axis (rows) and length 3 in its second axis (columns) )"
   ]
  },
  {
   "cell_type": "markdown",
   "metadata": {},
   "source": [
    "### 4.4.2.2 NumPy Array Attributes:"
   ]
  },
  {
   "cell_type": "markdown",
   "metadata": {},
   "source": [
    "__Overview:__\n",
    "- When we create arrays, they are made as an `ndarray` object, also known as just an `array` object\n",
    "- All `ndarray` objects have the following characteristics:\n",
    "> 1. __Dimension:__ Dimension of an array can be accessed by `ndarray.ndim`\n",
    "> 2. __Shape:__ Shape of an array can be accessed by `ndarray.shape`. Shape provides a tuple of integers indicating the length of the array in each dimension. For example, shape is (n, m) for an array with n rows and m columns\n",
    "> 3. __Size:__ Size of an array can be accessed by `ndarray.size`. SIze refers to the total number of elements of the array (product of the elements of `shape`)\n",
    "> 4. __Type:__ The type of elements in the array can be accessed by `ndarray.dtype`. Array types can either be the standard Python types (see Lecture 1) or NumPy specific types: `numpy.int32`, `numpy.int16`, and `numpy.float64`\n",
    "> 5. __[Row-Major Ordering](https://en.wikipedia.org/wiki/Row-_and_column-major_order):__ NumPy arrays are \"filled\" by rows. For example in an array of size (2, 2), the cells would be filled in the following order: (1,1), (1,2), (2,1), (2,2), rather than Column-Major Ordering which is filled in this order: (1,1), (2, 1), (1, 2), (2, 2)\n",
    "\n",
    "__Helpful Points:__\n",
    "1. When you create a NumPy array, you can find out what the dimension, shape, size, and type is by envoking the commands mentioned above (i.e. `my_array.ndim` will tell you the dimensions of `my_array`)\n",
    "2. See examples in Section 4.4.3 below to see how these characteristics are examined in NumPy arrays \n",
    "3. It is useful to note that Base Python also as an `array` object, but it only supports one-dimensional arrays and has much less functionality compared to NumPy \n",
    "4. The only \"special value\" in NumPy is `NaN`, not `None` like in base Python. You can access this by `np.nan` "
   ]
  },
  {
   "cell_type": "markdown",
   "metadata": {},
   "source": [
    "### 4.4.2.3 NumPy Array Functions and Capabilities:"
   ]
  },
  {
   "cell_type": "markdown",
   "metadata": {},
   "source": [
    "__Overview:__\n",
    "- The NumPy Package supports hundreds of useful functions and capabilities for Data Scientsits and the entire list, grouped by category, can be found [here](https://docs.scipy.org/doc/numpy-1.13.0/reference/routines.html)\n",
    "- We will explore the following groups of functions and capabilities in great detail throughout this lecture and the rest of the course:\n",
    "> 1. __[Array Creation Routines](https://docs.scipy.org/doc/numpy-1.13.0/reference/routines.array-creation.html):__ These functions will allow us to create many different types of NumPy arrays such as ones and zeros, arrays from existing data, arrays from numerical ranges, etc.\n",
    "> 2. __[Array Indexing and Slicing](https://docs.scipy.org/doc/numpy/reference/arrays.indexing.html):__ NumPy supports indexing and slicing similar to Python's Sequence Types (i.e. `list`, `str`, `tuple`, and `range`). A helpful resource is [here](https://docs.scipy.org/doc/numpy-dev/user/quickstart.html#indexing-slicing-and-iterating) \n",
    "> 3. __[Array Manipulation Routines](https://docs.scipy.org/doc/numpy-1.13.0/reference/routines.array-manipulation.html):__ These functions will allows us to change array shapes, number of dimensions, and kind of array as well as joining, splitting, and adding/removing elements of arrays \n",
    "> 4. __[Array Iteration Routines](https://docs.scipy.org/doc/numpy/reference/arrays.nditer.html):__ This capability allows you to iterate over multidimensional arrays and simply visit each element or perform an operation on each element\n",
    "> 5. __[Basic Operations](https://docs.scipy.org/doc/numpy-1.13.0/reference/routines.char.html):__ These functions will allow us to perform basic operations on NumPy arrays such as arithmetic operations and we will see the difference between element-wise operations and vectorized operations\n",
    "> 6. __[Linear Algebra](https://docs.scipy.org/doc/numpy-1.13.0/reference/routines.linalg.html)__\n",
    "> 7. __[Mathematical Functions](https://docs.scipy.org/doc/numpy-1.13.0/reference/routines.math.html)__\n",
    "> 8. __[Random Sampling](https://docs.scipy.org/doc/numpy-1.13.0/reference/routines.random.html)__\n",
    "> 9. __[Statistics](https://docs.scipy.org/doc/numpy-1.13.0/reference/routines.statistics.html)__\n",
    "\n",
    "__Helpful Points:__\n",
    "1. This lecture will cover groups 1 - 5, group 6 will be covered in Lecture 8, group 7 in Lecture 9, group 8 in Lecture 10, and group 9 in Lectures 11 and 12 \n",
    "2. The functions that belong to the groups above can be used in either of the following 2 ways:\n",
    "> a. Accessing a function from within NumPy's collection of modules (`numpy.copy(array_name)` where `copy` is the function and `numpy` is the module name). Note that `array_name` does not have to be an `ndarray` object type<br>\n",
    "> b. Accessing a method from within an NumPy `ndarray` object type (`array_name.copy()`) where `copy` is the method that `ndarray` objects are \"capable\" of. Note that `array_name` DOES have to be an `ndarray` object type  "
   ]
  },
  {
   "cell_type": "markdown",
   "metadata": {},
   "source": [
    "### 4.4.2.4 Printing Arrays:"
   ]
  },
  {
   "cell_type": "markdown",
   "metadata": {},
   "source": [
    "__Overview:__ \n",
    "- Before we start creating NumPy arrays and viewing their outputs, we have to understand how NumPy displays arrays when using the `print()` function so we can interpret the results\n",
    "- NumPy generally prints arrays in a similar way to nested lists, but with the following rules:\n",
    "> 1. __Rule 1:__ The last axis (see above for definition) is printed from left to right \n",
    "> 2. __Rule 2:__ The second-to-last axis is printed from top to bottom\n",
    "> 3. __Rule 3:__ The remaining axes are also printed from top to bottom \n",
    "\n",
    "__Helpful Points:__\n",
    "1. Each slice/layer is separated from the next by an empty line\n",
    "2. The printing conventions used by NumPy will be clear once we start looking at some NumPy arrays \n",
    "3. If the array is too large to be printed, NumPy will automatically skip the central part of the array and only print the corners"
   ]
  },
  {
   "cell_type": "markdown",
   "metadata": {},
   "source": [
    "### 4.4.3 Group 1: NumPy Array Creation Routines:"
   ]
  },
  {
   "cell_type": "markdown",
   "metadata": {},
   "source": [
    "__Overview:__\n",
    "- There are 4 main ways of creating NumPy arrays in Python:\n",
    "> 1. __Ones and Zeros:__ These are arrays filled with ones or zeros and are mostly used for initializing NumPy arrays \n",
    "> 2. __From Existing Data:__ It is possible to create an array from a regular Python list or tuple and the type of the array is deduced from the type of the elements in the sequences \n",
    "> 3. __Numerical Ranges:__ These are arrays filled with numbers from a range (similar to the `range()` function in Python)\n",
    "\n",
    "__Helpful Points:__\n",
    "1. Examples below will review each method of creating NumPy arrays\n",
    "2. Before you start creating and using NumPy arrays, we have to impor the NumPy Package (recall how to do this from Lecture 3) using `import numpy as np` which uses an alias for the package name\n",
    "\n",
    "__Practice:__ Examples of Creating NumPy arrays in Python"
   ]
  },
  {
   "cell_type": "code",
   "execution_count": 170,
   "metadata": {},
   "outputs": [],
   "source": [
    "# remove all variables so we can just see numpy in our environment"
   ]
  },
  {
   "cell_type": "code",
   "execution_count": 171,
   "metadata": {},
   "outputs": [
    {
     "name": "stdout",
     "output_type": "stream",
     "text": [
      "Once deleted, variables cannot be recovered. Proceed (y/[n])? y\n"
     ]
    }
   ],
   "source": [
    "%reset "
   ]
  },
  {
   "cell_type": "code",
   "execution_count": 172,
   "metadata": {},
   "outputs": [],
   "source": [
    "import numpy as np"
   ]
  },
  {
   "cell_type": "code",
   "execution_count": 173,
   "metadata": {},
   "outputs": [
    {
     "name": "stdout",
     "output_type": "stream",
     "text": [
      "Variable   Type      Data/Info\n",
      "------------------------------\n",
      "np         module    <module 'numpy' from '/Li<...>kages/numpy/__init__.py'>\n"
     ]
    }
   ],
   "source": [
    "%whos"
   ]
  },
  {
   "cell_type": "markdown",
   "metadata": {},
   "source": [
    "#### Part 1: Ones and Zeros"
   ]
  },
  {
   "cell_type": "markdown",
   "metadata": {},
   "source": [
    "##### Example 1.1 Creating a NumPy array of Zeros:\n",
    "\n",
    "The [`numpy.zeros()`](https://docs.scipy.org/doc/numpy-1.13.0/reference/generated/numpy.zeros.html#numpy.zeros) returns a new array of a given shape and type, filled with zeros"
   ]
  },
  {
   "cell_type": "code",
   "execution_count": 174,
   "metadata": {
    "scrolled": false
   },
   "outputs": [
    {
     "data": {
      "text/plain": [
       "array([0., 0., 0., 0.])"
      ]
     },
     "execution_count": 174,
     "metadata": {},
     "output_type": "execute_result"
    }
   ],
   "source": [
    "# one-dimensional array\n",
    "zero = np.zeros((4,))\n",
    "zero"
   ]
  },
  {
   "cell_type": "code",
   "execution_count": 175,
   "metadata": {},
   "outputs": [
    {
     "name": "stdout",
     "output_type": "stream",
     "text": [
      "[0. 0. 0. 0.]\n"
     ]
    }
   ],
   "source": [
    "print(zero)"
   ]
  },
  {
   "cell_type": "markdown",
   "metadata": {},
   "source": [
    "Recall the printing rules in Section 4.4.2.4 above:\n",
    "\n",
    "1. __Rule 1:__ The last axis (4) is printed from left to right  \n",
    "2. __Rule 2:__ Not valid\n",
    "3. __Rule 3:__ Not valid"
   ]
  },
  {
   "cell_type": "markdown",
   "metadata": {},
   "source": [
    "Note: The shape we set as `(4,)` which is the same as `(4)` is NOT the same as the shape `(4,1)`. The former indicates one dimension (rank 1) and the second indicates two dimensions (rank 2). "
   ]
  },
  {
   "cell_type": "code",
   "execution_count": 176,
   "metadata": {},
   "outputs": [
    {
     "data": {
      "text/plain": [
       "numpy.ndarray"
      ]
     },
     "execution_count": 176,
     "metadata": {},
     "output_type": "execute_result"
    }
   ],
   "source": [
    "type(zero)"
   ]
  },
  {
   "cell_type": "code",
   "execution_count": 177,
   "metadata": {},
   "outputs": [
    {
     "data": {
      "text/plain": [
       "(4,)"
      ]
     },
     "execution_count": 177,
     "metadata": {},
     "output_type": "execute_result"
    }
   ],
   "source": [
    "zero.shape"
   ]
  },
  {
   "cell_type": "markdown",
   "metadata": {},
   "source": [
    "Since the array is one-dimensional, there is only one axis which has elements and the number of elements is 4. Consider this picture here, but ignore the numbers inside the boxes as they are just random values: <img src=\"img25.png\">"
   ]
  },
  {
   "cell_type": "code",
   "execution_count": 178,
   "metadata": {},
   "outputs": [
    {
     "data": {
      "text/plain": [
       "1"
      ]
     },
     "execution_count": 178,
     "metadata": {},
     "output_type": "execute_result"
    }
   ],
   "source": [
    "zero.ndim"
   ]
  },
  {
   "cell_type": "markdown",
   "metadata": {},
   "source": [
    "The dimension is 1 since there is 1 axis"
   ]
  },
  {
   "cell_type": "code",
   "execution_count": 179,
   "metadata": {},
   "outputs": [
    {
     "data": {
      "text/plain": [
       "4"
      ]
     },
     "execution_count": 179,
     "metadata": {},
     "output_type": "execute_result"
    }
   ],
   "source": [
    "zero.size"
   ]
  },
  {
   "cell_type": "markdown",
   "metadata": {},
   "source": [
    "The size is 4 since there are 4 elements"
   ]
  },
  {
   "cell_type": "code",
   "execution_count": 180,
   "metadata": {},
   "outputs": [
    {
     "data": {
      "text/plain": [
       "dtype('float64')"
      ]
     },
     "execution_count": 180,
     "metadata": {},
     "output_type": "execute_result"
    }
   ],
   "source": [
    "zero.dtype"
   ]
  },
  {
   "cell_type": "markdown",
   "metadata": {},
   "source": [
    "The default `dtype` of the `np.zeros()` function is `float64`. You can override this parameter by entering in another type into the `dtype` parameter (see below example)"
   ]
  },
  {
   "cell_type": "markdown",
   "metadata": {},
   "source": [
    "##### Example 1.2 Creating a NumPy array of Ones:\n",
    "\n",
    "The [`numpy.ones()`](https://docs.scipy.org/doc/numpy-1.13.0/reference/generated/numpy.ones.html#numpy.ones) returns a new array of a given shape and type, filled with ones"
   ]
  },
  {
   "cell_type": "code",
   "execution_count": 189,
   "metadata": {
    "scrolled": true
   },
   "outputs": [
    {
     "data": {
      "text/plain": [
       "array([[1, 1, 1],\n",
       "       [1, 1, 1]])"
      ]
     },
     "execution_count": 189,
     "metadata": {},
     "output_type": "execute_result"
    }
   ],
   "source": [
    "# two-dimensional array\n",
    "one = np.ones((2,3), dtype = np.int)\n",
    "one"
   ]
  },
  {
   "cell_type": "code",
   "execution_count": 190,
   "metadata": {},
   "outputs": [
    {
     "name": "stdout",
     "output_type": "stream",
     "text": [
      "[[1 1 1]\n",
      " [1 1 1]]\n"
     ]
    }
   ],
   "source": [
    "print(one)"
   ]
  },
  {
   "cell_type": "markdown",
   "metadata": {},
   "source": [
    "Recall the printing rules in Section 4.4.2.4 above:\n",
    "\n",
    "1. __Rule 1:__ The last axis (3) is printed from left to right\n",
    "2. __Rule 2:__ The second-to-last axis (2) is printed from top to bottom\n",
    "3. __Rule 3:__ Not valid "
   ]
  },
  {
   "cell_type": "code",
   "execution_count": 191,
   "metadata": {},
   "outputs": [
    {
     "data": {
      "text/plain": [
       "(2, 3)"
      ]
     },
     "execution_count": 191,
     "metadata": {},
     "output_type": "execute_result"
    }
   ],
   "source": [
    "one.shape"
   ]
  },
  {
   "cell_type": "markdown",
   "metadata": {},
   "source": [
    "The shape is in the format of `(n,m)` where `n` is the number of rows and `m` is the number of columns. There are 2 rows in this array and 3 columns. Consider this picture here, but ignore the numbers inside the boxes as they are just random values: <img src=\"img24.png\">"
   ]
  },
  {
   "cell_type": "code",
   "execution_count": 192,
   "metadata": {},
   "outputs": [
    {
     "data": {
      "text/plain": [
       "2"
      ]
     },
     "execution_count": 192,
     "metadata": {},
     "output_type": "execute_result"
    }
   ],
   "source": [
    "one.ndim"
   ]
  },
  {
   "cell_type": "markdown",
   "metadata": {},
   "source": [
    "The dimension is 2 since there are 2 axes (rows and columns)"
   ]
  },
  {
   "cell_type": "code",
   "execution_count": 193,
   "metadata": {},
   "outputs": [
    {
     "data": {
      "text/plain": [
       "6"
      ]
     },
     "execution_count": 193,
     "metadata": {},
     "output_type": "execute_result"
    }
   ],
   "source": [
    "one.size"
   ]
  },
  {
   "cell_type": "markdown",
   "metadata": {},
   "source": [
    "The size is 6 since there are 6 elements"
   ]
  },
  {
   "cell_type": "code",
   "execution_count": 194,
   "metadata": {
    "scrolled": true
   },
   "outputs": [
    {
     "data": {
      "text/plain": [
       "dtype('int64')"
      ]
     },
     "execution_count": 194,
     "metadata": {},
     "output_type": "execute_result"
    }
   ],
   "source": [
    "one.dtype"
   ]
  },
  {
   "cell_type": "markdown",
   "metadata": {},
   "source": [
    "##### Example 1.3 Creating a NumPy array of New Values:\n",
    "\n",
    "The [`numpy.full()`](https://docs.scipy.org/doc/numpy-1.13.0/reference/generated/numpy.ones.html#numpy.full) returns a new array of a given shape and type, filled with `fill_value`"
   ]
  },
  {
   "cell_type": "code",
   "execution_count": 195,
   "metadata": {
    "scrolled": true
   },
   "outputs": [
    {
     "data": {
      "text/plain": [
       "array([[[10, 10],\n",
       "        [10, 10],\n",
       "        [10, 10]],\n",
       "\n",
       "       [[10, 10],\n",
       "        [10, 10],\n",
       "        [10, 10]],\n",
       "\n",
       "       [[10, 10],\n",
       "        [10, 10],\n",
       "        [10, 10]],\n",
       "\n",
       "       [[10, 10],\n",
       "        [10, 10],\n",
       "        [10, 10]]])"
      ]
     },
     "execution_count": 195,
     "metadata": {},
     "output_type": "execute_result"
    }
   ],
   "source": [
    "# three-dimensional array\n",
    "full = np.full((4,3,2), 10)\n",
    "full"
   ]
  },
  {
   "cell_type": "code",
   "execution_count": 196,
   "metadata": {},
   "outputs": [
    {
     "name": "stdout",
     "output_type": "stream",
     "text": [
      "[[[10 10]\n",
      "  [10 10]\n",
      "  [10 10]]\n",
      "\n",
      " [[10 10]\n",
      "  [10 10]\n",
      "  [10 10]]\n",
      "\n",
      " [[10 10]\n",
      "  [10 10]\n",
      "  [10 10]]\n",
      "\n",
      " [[10 10]\n",
      "  [10 10]\n",
      "  [10 10]]]\n"
     ]
    }
   ],
   "source": [
    "print(full)"
   ]
  },
  {
   "cell_type": "markdown",
   "metadata": {},
   "source": [
    "Recall the printing rules in Section 4.4.2.4 above:\n",
    "\n",
    "1. __Rule 1:__ The last axis (2) is printed from left to right\n",
    "2. __Rule 2:__ The second-to-last axis (3) is printed from top to bottom\n",
    "3. __Rule 3:__ The remaining axes (4) are also printed from top to bottom "
   ]
  },
  {
   "cell_type": "code",
   "execution_count": 197,
   "metadata": {},
   "outputs": [
    {
     "data": {
      "text/plain": [
       "(4, 3, 2)"
      ]
     },
     "execution_count": 197,
     "metadata": {},
     "output_type": "execute_result"
    }
   ],
   "source": [
    "full.shape"
   ]
  },
  {
   "cell_type": "markdown",
   "metadata": {},
   "source": [
    "The shape is in the format of `(n,m,p)` `n` is the number of rows, `m` is the number of columns and `p` is the depth. There are 4 rows, 3 columns, and depth of 2. This may be a bit confusing to reconcile the result with the interpretation of the shape. Remember you are always looking at the array from an aerial view and you should think of the result as \"layers\", where each layer has dimension `(3,2)` and are shown from top to bottom. Consider this picture here, but ignore the numbers inside the boxes as they are just random values: <img src=\"img23.png\">"
   ]
  },
  {
   "cell_type": "code",
   "execution_count": 198,
   "metadata": {},
   "outputs": [
    {
     "data": {
      "text/plain": [
       "3"
      ]
     },
     "execution_count": 198,
     "metadata": {},
     "output_type": "execute_result"
    }
   ],
   "source": [
    "full.ndim"
   ]
  },
  {
   "cell_type": "markdown",
   "metadata": {},
   "source": [
    "The dimension is 3 since there are 3 axes (rows, columns, and depth)"
   ]
  },
  {
   "cell_type": "code",
   "execution_count": 199,
   "metadata": {},
   "outputs": [
    {
     "data": {
      "text/plain": [
       "24"
      ]
     },
     "execution_count": 199,
     "metadata": {},
     "output_type": "execute_result"
    }
   ],
   "source": [
    "full.size"
   ]
  },
  {
   "cell_type": "markdown",
   "metadata": {},
   "source": [
    "The size is 24 since there are 24 elements"
   ]
  },
  {
   "cell_type": "code",
   "execution_count": 200,
   "metadata": {
    "scrolled": false
   },
   "outputs": [
    {
     "data": {
      "text/plain": [
       "dtype('int64')"
      ]
     },
     "execution_count": 200,
     "metadata": {},
     "output_type": "execute_result"
    }
   ],
   "source": [
    "one.dtype"
   ]
  },
  {
   "cell_type": "markdown",
   "metadata": {},
   "source": [
    "##### Example 1.4 Creating an Empty NumPy Array:\n",
    "\n",
    "The [`np.empty()`](https://docs.scipy.org/doc/numpy-1.13.0/reference/generated/numpy.empty.html#numpy.empty) function returns a new array of a given shape and type, without initializing entries "
   ]
  },
  {
   "cell_type": "code",
   "execution_count": 203,
   "metadata": {},
   "outputs": [
    {
     "name": "stdout",
     "output_type": "stream",
     "text": [
      "[[2.68156159e+154 2.32035511e+077]\n",
      " [1.29074037e-231 2.82470657e-309]]\n"
     ]
    }
   ],
   "source": [
    "# two-dimensional array \n",
    "empty = np.empty((2,2))\n",
    "print(empty)"
   ]
  },
  {
   "cell_type": "markdown",
   "metadata": {},
   "source": [
    "Be careful when using the `np.empty()` function because, unlike `np.zeros()`, this function does not actually populate the entries with numbers, requiring to set each value manually in the array. "
   ]
  },
  {
   "cell_type": "markdown",
   "metadata": {},
   "source": [
    "#### Part 2: From Existing Data "
   ]
  },
  {
   "cell_type": "markdown",
   "metadata": {},
   "source": [
    "##### Example 2.1 Creating a NumPy Array from a List:\n",
    "\n",
    "The [`np.array()`](https://docs.scipy.org/doc/numpy-1.13.0/reference/generated/numpy.array.html#numpy.array) creates an array from another object "
   ]
  },
  {
   "cell_type": "code",
   "execution_count": 204,
   "metadata": {},
   "outputs": [
    {
     "data": {
      "text/plain": [
       "array([1, 2, 3, 4, 5])"
      ]
     },
     "execution_count": 204,
     "metadata": {},
     "output_type": "execute_result"
    }
   ],
   "source": [
    "# one-dimensional array \n",
    "list_one = [1, 2, 3, 4, 5]\n",
    "array_one = np.array(list_one)\n",
    "array_one"
   ]
  },
  {
   "cell_type": "code",
   "execution_count": 205,
   "metadata": {},
   "outputs": [
    {
     "data": {
      "text/plain": [
       "array([[1., 2., 3.],\n",
       "       [4., 5., 6.]])"
      ]
     },
     "execution_count": 205,
     "metadata": {},
     "output_type": "execute_result"
    }
   ],
   "source": [
    "# two-dimensional array\n",
    "list_two = [[1,2,3], [4,5,6]]\n",
    "array_two = np.array(list_two, dtype = np.float64)\n",
    "array_two"
   ]
  },
  {
   "cell_type": "markdown",
   "metadata": {},
   "source": [
    "We can see that the function `np.array()` transforms a sequence of sequences (i.e. list of lists) into two-dimensional arrays "
   ]
  },
  {
   "cell_type": "markdown",
   "metadata": {},
   "source": [
    "##### Example 2.2 Creating a NumPy Array from a Tuple:"
   ]
  },
  {
   "cell_type": "code",
   "execution_count": 206,
   "metadata": {},
   "outputs": [
    {
     "data": {
      "text/plain": [
       "array([1. , 2. , 3. , 4. , 4.5])"
      ]
     },
     "execution_count": 206,
     "metadata": {},
     "output_type": "execute_result"
    }
   ],
   "source": [
    "# one-dimensional array\n",
    "tuple_one = (1.0, 2.0, 3.0, 4.0, 4.5)\n",
    "array_one_1 = np.array(tuple_one)\n",
    "array_one_1"
   ]
  },
  {
   "cell_type": "code",
   "execution_count": 207,
   "metadata": {},
   "outputs": [
    {
     "data": {
      "text/plain": [
       "array([[1., 2., 3.],\n",
       "       [4., 5., 6.]])"
      ]
     },
     "execution_count": 207,
     "metadata": {},
     "output_type": "execute_result"
    }
   ],
   "source": [
    "# two-dimensional array\n",
    "tuple_two = ((1,2,3), (4,5,6))\n",
    "array_two = np.array(tuple_two, dtype = np.float64)\n",
    "array_two"
   ]
  },
  {
   "cell_type": "markdown",
   "metadata": {},
   "source": [
    "##### Example 2.3 Creating a NumPy Array as a Copy:\n",
    "\n",
    "The [`np.copy()`](https://docs.scipy.org/doc/numpy-1.13.0/reference/generated/numpy.copy.html#numpy.copy) returns an array copy of the given object"
   ]
  },
  {
   "cell_type": "code",
   "execution_count": 208,
   "metadata": {},
   "outputs": [],
   "source": [
    "# one-dimensional array\n",
    "array_1 = np.array([1,2,3])\n",
    "array_2 = array_1 # reference to array_1 \n",
    "array_3 = np.copy(array_1) # copy of array_2"
   ]
  },
  {
   "cell_type": "code",
   "execution_count": 209,
   "metadata": {},
   "outputs": [
    {
     "data": {
      "text/plain": [
       "array([1, 2, 3])"
      ]
     },
     "execution_count": 209,
     "metadata": {},
     "output_type": "execute_result"
    }
   ],
   "source": [
    "array_1"
   ]
  },
  {
   "cell_type": "code",
   "execution_count": 210,
   "metadata": {
    "scrolled": true
   },
   "outputs": [
    {
     "data": {
      "text/plain": [
       "array([1, 2, 3])"
      ]
     },
     "execution_count": 210,
     "metadata": {},
     "output_type": "execute_result"
    }
   ],
   "source": [
    "array_2"
   ]
  },
  {
   "cell_type": "code",
   "execution_count": 211,
   "metadata": {},
   "outputs": [
    {
     "data": {
      "text/plain": [
       "array([1, 2, 3])"
      ]
     },
     "execution_count": 211,
     "metadata": {},
     "output_type": "execute_result"
    }
   ],
   "source": [
    "array_3"
   ]
  },
  {
   "cell_type": "code",
   "execution_count": 212,
   "metadata": {},
   "outputs": [],
   "source": [
    "# change array_1 to see which arrays changed\n",
    "array_1[0] = 2"
   ]
  },
  {
   "cell_type": "code",
   "execution_count": 213,
   "metadata": {},
   "outputs": [
    {
     "data": {
      "text/plain": [
       "array([2, 2, 3])"
      ]
     },
     "execution_count": 213,
     "metadata": {},
     "output_type": "execute_result"
    }
   ],
   "source": [
    "array_1"
   ]
  },
  {
   "cell_type": "code",
   "execution_count": 214,
   "metadata": {},
   "outputs": [
    {
     "data": {
      "text/plain": [
       "array([2, 2, 3])"
      ]
     },
     "execution_count": 214,
     "metadata": {},
     "output_type": "execute_result"
    }
   ],
   "source": [
    "array_2 # changes since it references array_1"
   ]
  },
  {
   "cell_type": "code",
   "execution_count": 215,
   "metadata": {},
   "outputs": [
    {
     "data": {
      "text/plain": [
       "array([1, 2, 3])"
      ]
     },
     "execution_count": 215,
     "metadata": {},
     "output_type": "execute_result"
    }
   ],
   "source": [
    "array_3 # does not change since it is a deep copy of array_1 (i.e. does not reference it)"
   ]
  },
  {
   "cell_type": "markdown",
   "metadata": {},
   "source": [
    "When assigning `array_1` to `array_2`, `array_2` is referencing `array_` (recall the definition of views in Lecture 2). This explains why if `array_1` is changed, `array_2` is also changed. However, whenn using the `copy()` function, we are creating a Deep Copy of `array_1` and assigning it to `array_3`. This explains why if `array_1` is changed, `array_3` is not changed. "
   ]
  },
  {
   "cell_type": "markdown",
   "metadata": {},
   "source": [
    "#### Part 3: Numerical Ranges"
   ]
  },
  {
   "cell_type": "markdown",
   "metadata": {},
   "source": [
    "##### Example 3.1 Return an Array with `arange()`:\n",
    "\n",
    "The [`arange()`](https://docs.scipy.org/doc/numpy-1.13.0/reference/generated/numpy.arange.html#numpy.arange) function returns evenly spaced values within a given interval. If integer values are passed into the `start`, `stop`, and `step`, then this function is equivalent to Python's `range()` function (see Lecture 2) but returns an object of type `ndarray` rather than an object of type `list`. \n",
    "\n",
    "Notes:\n",
    "1. The `arange()` function will always return a one-dimensional array and if you would like to get a two-dimensional array from this, you must use the `reshape()` function which is explained later on this lecture in Array Manipulation Routines\n",
    "2. Similar to the `range()` function, the `arange()` function can also have ommitted arguments and also works with the infamous \"half-open interval\" `[start, stop)`,"
   ]
  },
  {
   "cell_type": "code",
   "execution_count": 216,
   "metadata": {},
   "outputs": [
    {
     "data": {
      "text/plain": [
       "array([0, 1, 2])"
      ]
     },
     "execution_count": 216,
     "metadata": {},
     "output_type": "execute_result"
    }
   ],
   "source": [
    "# start = 0, stop = 3, step = 1\n",
    "arange_1 = np.arange(3) # one-dimensional array with values from 0 to 2 \n",
    "arange_1"
   ]
  },
  {
   "cell_type": "code",
   "execution_count": 217,
   "metadata": {},
   "outputs": [
    {
     "data": {
      "text/plain": [
       "array([ 1,  3,  5,  7,  9, 11, 13, 15, 17, 19, 21])"
      ]
     },
     "execution_count": 217,
     "metadata": {},
     "output_type": "execute_result"
    }
   ],
   "source": [
    "# start = 1, stop = 22, step = 2\n",
    "arange_2 = np.arange(1, 22, 2) # one-dimensional array with valyes from 1 to 21, by 2 (all odd numbers)\n",
    "arange_2"
   ]
  },
  {
   "cell_type": "markdown",
   "metadata": {},
   "source": [
    "##### Example 3.2 Return an Array with `linspace()`:"
   ]
  },
  {
   "cell_type": "markdown",
   "metadata": {},
   "source": [
    "The [`linspace()`](https://docs.scipy.org/doc/numpy-1.13.0/reference/generated/numpy.linspace.html#numpy.linspace) function returns a pre-specified number of values evenly space, calculated over the interval `[start,stop]`. \n",
    "\n",
    "Notes:\n",
    "1. The `linspace()` function, similar to `arange()` will also return a one-dimensional array \n",
    "2. Unlike `arange()`, the `linspace()` function does not specify a step size, but specifies the number of samples\n",
    "2. Unlike `arange()`, the `linspace()` function has \"both-closed interval\" `[start,stop]`. You can control whether the lsat value is printed out using the `endpoint` argument (If `True`, `stop` is the last sample, otherwise, it is not included. Default value is `True`)"
   ]
  },
  {
   "cell_type": "code",
   "execution_count": 218,
   "metadata": {},
   "outputs": [
    {
     "data": {
      "text/plain": [
       "array([ 3.        ,  3.14285714,  3.28571429,  3.42857143,  3.57142857,\n",
       "        3.71428571,  3.85714286,  4.        ,  4.14285714,  4.28571429,\n",
       "        4.42857143,  4.57142857,  4.71428571,  4.85714286,  5.        ,\n",
       "        5.14285714,  5.28571429,  5.42857143,  5.57142857,  5.71428571,\n",
       "        5.85714286,  6.        ,  6.14285714,  6.28571429,  6.42857143,\n",
       "        6.57142857,  6.71428571,  6.85714286,  7.        ,  7.14285714,\n",
       "        7.28571429,  7.42857143,  7.57142857,  7.71428571,  7.85714286,\n",
       "        8.        ,  8.14285714,  8.28571429,  8.42857143,  8.57142857,\n",
       "        8.71428571,  8.85714286,  9.        ,  9.14285714,  9.28571429,\n",
       "        9.42857143,  9.57142857,  9.71428571,  9.85714286, 10.        ])"
      ]
     },
     "execution_count": 218,
     "metadata": {},
     "output_type": "execute_result"
    }
   ],
   "source": [
    "# start = 3, stop = 10, num = 50 (default) and endpoint included \n",
    "linspace_1 = np.linspace(3, 10)\n",
    "linspace_1"
   ]
  },
  {
   "cell_type": "code",
   "execution_count": 219,
   "metadata": {},
   "outputs": [
    {
     "data": {
      "text/plain": [
       "50"
      ]
     },
     "execution_count": 219,
     "metadata": {},
     "output_type": "execute_result"
    }
   ],
   "source": [
    "linspace_1.size"
   ]
  },
  {
   "cell_type": "markdown",
   "metadata": {},
   "source": [
    "By default, the `num` argument is 50, so the `linspace` function will output 50 evenly space numbers between the start and stop values (inclusive)"
   ]
  },
  {
   "cell_type": "code",
   "execution_count": 229,
   "metadata": {},
   "outputs": [
    {
     "data": {
      "text/plain": [
       "array([ 2. ,  3.8,  5.6,  7.4,  9.2, 11. , 12.8, 14.6, 16.4, 18.2])"
      ]
     },
     "execution_count": 229,
     "metadata": {},
     "output_type": "execute_result"
    }
   ],
   "source": [
    "# start = 2, stop = 20, num = 10 and endpoint not included \n",
    "linspace_2 = np.linspace(2, 20, num = 10, endpoint = False)\n",
    "linspace_2"
   ]
  },
  {
   "cell_type": "markdown",
   "metadata": {},
   "source": [
    "Note: If you are using floating point numbers (`float`), you should use the `linspace` function and NOT the `arange` function since it is generally not possible with `arange` function to predict the number of elements obtained due to the floating point precision "
   ]
  },
  {
   "cell_type": "markdown",
   "metadata": {},
   "source": [
    "### 4.4.4 Group 2: NumPy Array Indexing and Slicing:"
   ]
  },
  {
   "cell_type": "markdown",
   "metadata": {},
   "source": [
    "### 4.4.4.1 NumPy Array Indexing and Slicing (Method 1: Basic Slicing and Indexing):"
   ]
  },
  {
   "cell_type": "markdown",
   "metadata": {},
   "source": [
    "__Overview:__\n",
    "- The first way of indexing and slicing an NumPy Array is through basic slicing and indexing \n",
    "- __[Basic Slicing and Indexing](https://docs.scipy.org/doc/numpy/reference/arrays.indexing.html#basic-slicing-and-indexing)__  Basic slicing replicates the same style of slicing sequences like we saw in Lecture 2, but in N dimensions. Basic Slicing occurs if any of the following take the place of the `obj` in the general form of an index: `array_name[obj]`:\n",
    "> 1. __Object 1:__ `obj` is a `slice` object in the form of `start:stop:step` inside brackets `[` and `]` or `slice()`<br>\n",
    "> 2. __Object 2:__ `obj` is an integer<br>\n",
    "> 3. __Object 3:__ `obj` is a tuple of `slice` objects AND integers<br> \n",
    "> 4. __Object 4:__ `obj` is an `Ellipsis` object or `...`<br> \n",
    "> 5. __object 5:__ `obj` is the [`newaxis`](https://docs.scipy.org/doc/numpy/reference/arrays.indexing.html#numpy.newaxis) object<br> \n",
    "> 6. __Object 6:__ `obj` is any non-ndarray sequence (such as `list`) which contains any of `slice` objects, the `Elipsis` object, and/or the `newaxis` object  \n",
    "\n",
    "In general, the `obj` can be any of the above or any combination of any of the above in the form of a tuple: `array_name[(obj_1, obj_2, obj_3, obj_4, obj_5, obj_6)]`, which is equivalent to `array_name[obj_1, obj_2, obj_3, obj_4, obj_5, obj_6]`. The latter is the format typically used.\n",
    "\n",
    "__Helpful Points:__\n",
    "1. When indeixing a NumPy array, the result is usually an array with type `ndarray` (with some exceptions, see below)\n",
    "2. As in Python, all the indices are zero-based (see Lecture 2) \n",
    "3. All arrays generated by basic slicing and indexing are always views (see Lecture 3) of the original array \n",
    "4. There are some \"Indexing __[Nota Bene](https://en.wikipedia.org/wiki/Nota_bene)__\" which are highlighted in the examples below by \"NB.1\", \"NB.2\", etc.\n",
    "\n",
    "__Practice:__ Examples of NumPy Array Basic Slicing and Indexing in Python "
   ]
  },
  {
   "cell_type": "markdown",
   "metadata": {},
   "source": [
    "#### Part 1 (Basic Slicing and Indexing with Object 1 - `obj` is a Slice Object):"
   ]
  },
  {
   "cell_type": "markdown",
   "metadata": {},
   "source": [
    "##### Example 1.1 (Examples with One-Dimensional Arrays):"
   ]
  },
  {
   "cell_type": "code",
   "execution_count": 230,
   "metadata": {},
   "outputs": [
    {
     "name": "stdout",
     "output_type": "stream",
     "text": [
      "[ 0  1  2  3  4  5  6  7  8  9 10 11 12]\n"
     ]
    }
   ],
   "source": [
    "my_array = np.arange(0, 13) # one-dimensional array with numbers same as indices\n",
    "print(my_array)"
   ]
  },
  {
   "cell_type": "code",
   "execution_count": 231,
   "metadata": {},
   "outputs": [
    {
     "data": {
      "text/plain": [
       "array([0, 1, 2])"
      ]
     },
     "execution_count": 231,
     "metadata": {},
     "output_type": "execute_result"
    }
   ],
   "source": [
    "# start = 0, stop = 3, step = 1\n",
    "my_array[0:3] # elements 0,1,2"
   ]
  },
  {
   "cell_type": "code",
   "execution_count": 232,
   "metadata": {},
   "outputs": [
    {
     "data": {
      "text/plain": [
       "array([0, 2, 4])"
      ]
     },
     "execution_count": 232,
     "metadata": {},
     "output_type": "execute_result"
    }
   ],
   "source": [
    "# start = 0, stop = 6, step = 2\n",
    "my_array[0:6:2] # elements 0,2,4"
   ]
  },
  {
   "cell_type": "code",
   "execution_count": 233,
   "metadata": {},
   "outputs": [
    {
     "data": {
      "text/plain": [
       "array([ 7,  8,  9, 10])"
      ]
     },
     "execution_count": 233,
     "metadata": {},
     "output_type": "execute_result"
    }
   ],
   "source": [
    "# start = -6, stop = -2, step = 1\n",
    "my_array[-6:-2] # elements -6, -5, -4, -3 (from the right)"
   ]
  },
  {
   "cell_type": "code",
   "execution_count": 234,
   "metadata": {},
   "outputs": [
    {
     "data": {
      "text/plain": [
       "array([6, 5, 4])"
      ]
     },
     "execution_count": 234,
     "metadata": {},
     "output_type": "execute_result"
    }
   ],
   "source": [
    "# start = 3, stop = 6, step = -1\n",
    "my_array[6:3:-1] # elements 6, 5, 4"
   ]
  },
  {
   "cell_type": "code",
   "execution_count": 235,
   "metadata": {},
   "outputs": [
    {
     "data": {
      "text/plain": [
       "array([6, 5, 4])"
      ]
     },
     "execution_count": 235,
     "metadata": {},
     "output_type": "execute_result"
    }
   ],
   "source": [
    "my_array[slice(6, 3, -1)] # same as above"
   ]
  },
  {
   "cell_type": "markdown",
   "metadata": {},
   "source": [
    "##### Example 1.2 (Examples with Multi-Dimensional Arrays):\n",
    "\n",
    "To index multi-dimensional arrays, each dimension is separated by a comma `,` and within each dimension, the slicing rules apply `start:stop:step` (i.e. for a two-dimensional array called `array_name`, `array_name[start:stop, start:stop]`)"
   ]
  },
  {
   "cell_type": "code",
   "execution_count": 236,
   "metadata": {
    "scrolled": true
   },
   "outputs": [
    {
     "name": "stdout",
     "output_type": "stream",
     "text": [
      "[[0 1 2 3 4 5]\n",
      " [0 1 2 3 4 5]]\n"
     ]
    }
   ],
   "source": [
    "my_array_1 = np.array([[0,1,2,3,4,5], [0,1,2,3,4,5]]) # two dimensional array with numbers same as indices \n",
    "print(my_array_1)"
   ]
  },
  {
   "cell_type": "code",
   "execution_count": 237,
   "metadata": {},
   "outputs": [
    {
     "data": {
      "text/plain": [
       "(2, 6)"
      ]
     },
     "execution_count": 237,
     "metadata": {},
     "output_type": "execute_result"
    }
   ],
   "source": [
    "my_array_1.shape"
   ]
  },
  {
   "cell_type": "code",
   "execution_count": 238,
   "metadata": {},
   "outputs": [
    {
     "data": {
      "text/plain": [
       "array([[0, 1, 2, 3, 4, 5]])"
      ]
     },
     "execution_count": 238,
     "metadata": {},
     "output_type": "execute_result"
    }
   ],
   "source": [
    "my_array_1[1:2] # second row (same as my_array_1[1:2, :])"
   ]
  },
  {
   "cell_type": "markdown",
   "metadata": {},
   "source": [
    "__Indexing NB.1:__ If fewer indices are provided than the number of axes, the missing indices are considered complete slices `:`. This is why `my_array_1[1:2]` which only provides one index, but the array has 2 axes, has a missing slice of `:`."
   ]
  },
  {
   "cell_type": "code",
   "execution_count": 239,
   "metadata": {},
   "outputs": [
    {
     "data": {
      "text/plain": [
       "array([[1, 2],\n",
       "       [1, 2]])"
      ]
     },
     "execution_count": 239,
     "metadata": {},
     "output_type": "execute_result"
    }
   ],
   "source": [
    "my_array_1[:, 1:3] # all rows, second and third column"
   ]
  },
  {
   "cell_type": "code",
   "execution_count": 240,
   "metadata": {},
   "outputs": [
    {
     "data": {
      "text/plain": [
       "array([[3, 5]])"
      ]
     },
     "execution_count": 240,
     "metadata": {},
     "output_type": "execute_result"
    }
   ],
   "source": [
    "my_array_1[1:2, 3::2] # second row, fourth to sixth column with step 2 "
   ]
  },
  {
   "cell_type": "code",
   "execution_count": 244,
   "metadata": {
    "scrolled": true
   },
   "outputs": [
    {
     "data": {
      "text/plain": [
       "array([[1, 2, 3],\n",
       "       [1, 2, 3]])"
      ]
     },
     "execution_count": 244,
     "metadata": {},
     "output_type": "execute_result"
    }
   ],
   "source": [
    "my_array_1[:, -5:-2] # all rows, second to fourth columns"
   ]
  },
  {
   "cell_type": "code",
   "execution_count": 245,
   "metadata": {},
   "outputs": [
    {
     "data": {
      "text/plain": [
       "array([[1, 2, 3],\n",
       "       [1, 2, 3]])"
      ]
     },
     "execution_count": 245,
     "metadata": {},
     "output_type": "execute_result"
    }
   ],
   "source": [
    "my_array_1[slice(None,None), slice(-5,-2)]"
   ]
  },
  {
   "cell_type": "markdown",
   "metadata": {},
   "source": [
    "#### Part 2 (Basic Slicing and Indexing with Object 2 - `obj` is an Integer):"
   ]
  },
  {
   "cell_type": "markdown",
   "metadata": {},
   "source": [
    "##### Example 2.1  (Examples with One-Dimensional Arrays):"
   ]
  },
  {
   "cell_type": "code",
   "execution_count": 251,
   "metadata": {},
   "outputs": [
    {
     "name": "stdout",
     "output_type": "stream",
     "text": [
      "[ 0  1  2  3  4  5  6  7  8  9 10 11 12]\n"
     ]
    }
   ],
   "source": [
    "my_array = np.arange(0, 13) # one-dimensional array with index length of 13\n",
    "print(my_array)"
   ]
  },
  {
   "cell_type": "code",
   "execution_count": 253,
   "metadata": {},
   "outputs": [
    {
     "data": {
      "text/plain": [
       "4"
      ]
     },
     "execution_count": 253,
     "metadata": {},
     "output_type": "execute_result"
    }
   ],
   "source": [
    "my_array[4] # 5th element"
   ]
  },
  {
   "cell_type": "code",
   "execution_count": 254,
   "metadata": {},
   "outputs": [
    {
     "data": {
      "text/plain": [
       "numpy.int64"
      ]
     },
     "execution_count": 254,
     "metadata": {},
     "output_type": "execute_result"
    }
   ],
   "source": [
    "type(my_array[2])"
   ]
  },
  {
   "cell_type": "code",
   "execution_count": 256,
   "metadata": {},
   "outputs": [
    {
     "data": {
      "text/plain": [
       "array([4])"
      ]
     },
     "execution_count": 256,
     "metadata": {},
     "output_type": "execute_result"
    }
   ],
   "source": [
    "my_array[4:5] # same as above, but with slicing "
   ]
  },
  {
   "cell_type": "code",
   "execution_count": 273,
   "metadata": {
    "scrolled": true
   },
   "outputs": [
    {
     "name": "stdout",
     "output_type": "stream",
     "text": [
      "[100 101 102 103 104 105 106 107 108 109 110 111 112]\n"
     ]
    }
   ],
   "source": [
    "type(my_array[2:3])\n",
    "print(my_array+100)"
   ]
  },
  {
   "cell_type": "markdown",
   "metadata": {},
   "source": [
    "__Indexing NB.2:__ If an array is indexed by one or more elements that is equal to the number of axes and each element is an integer, the result of the index will be a scalar and NOT an array. This is why we see a difference in the output when indexing by an integer `my_array[2]` vs. slicing `my_array[2:3]`. Since `my_array` has one axis and we index by one element which is also an integer, the former returns a scalar object and the latter returns an array object. "
   ]
  },
  {
   "cell_type": "markdown",
   "metadata": {},
   "source": [
    "##### Example 2.2 (Examples with Two-Dimensional Arrays):"
   ]
  },
  {
   "cell_type": "code",
   "execution_count": 274,
   "metadata": {},
   "outputs": [
    {
     "name": "stdout",
     "output_type": "stream",
     "text": [
      "[[0 1 2 3 4 5]\n",
      " [0 1 2 3 4 5]]\n"
     ]
    }
   ],
   "source": [
    "my_array_1 = np.array([[0,1,2,3,4,5], [0,1,2,3,4,5]]) # two dimensional array with numbers same as indices \n",
    "print(my_array_1)"
   ]
  },
  {
   "cell_type": "code",
   "execution_count": 275,
   "metadata": {},
   "outputs": [
    {
     "data": {
      "text/plain": [
       "2"
      ]
     },
     "execution_count": 275,
     "metadata": {},
     "output_type": "execute_result"
    }
   ],
   "source": [
    "my_array_1[1, 2] # second row, third column"
   ]
  },
  {
   "cell_type": "code",
   "execution_count": 276,
   "metadata": {},
   "outputs": [
    {
     "data": {
      "text/plain": [
       "numpy.int64"
      ]
     },
     "execution_count": 276,
     "metadata": {},
     "output_type": "execute_result"
    }
   ],
   "source": [
    "type(my_array_1[1, 2])"
   ]
  },
  {
   "cell_type": "code",
   "execution_count": 277,
   "metadata": {},
   "outputs": [
    {
     "data": {
      "text/plain": [
       "array([[2]])"
      ]
     },
     "execution_count": 277,
     "metadata": {},
     "output_type": "execute_result"
    }
   ],
   "source": [
    "my_array_1[1:2, 2:3] # same as above, but with slicing "
   ]
  },
  {
   "cell_type": "code",
   "execution_count": 278,
   "metadata": {
    "scrolled": true
   },
   "outputs": [
    {
     "data": {
      "text/plain": [
       "numpy.ndarray"
      ]
     },
     "execution_count": 278,
     "metadata": {},
     "output_type": "execute_result"
    }
   ],
   "source": [
    "type(my_array_1[1:2, 2:3])"
   ]
  },
  {
   "cell_type": "markdown",
   "metadata": {},
   "source": [
    "__Indexing NB.2:__ This is why we see a difference in the output when indexing by 2 integers `my_array_1[1,2]` vs. slicing `my_array[1:2, 2:3]`. Since `my_array_1` has 2 axes and we index by two elements which are also integers, the former returns a scalar object and the latter returns an array object. "
   ]
  },
  {
   "cell_type": "markdown",
   "metadata": {},
   "source": [
    "#### Part 3 (Basic Slicing and Indexing with Object 3 - `obj` is a Tuple of Slice and Integer):"
   ]
  },
  {
   "cell_type": "markdown",
   "metadata": {},
   "source": [
    "##### Example 3.1 (Examples with Two-Dimensional Arrays):"
   ]
  },
  {
   "cell_type": "code",
   "execution_count": 279,
   "metadata": {},
   "outputs": [
    {
     "name": "stdout",
     "output_type": "stream",
     "text": [
      "[[0 1 2 3 4 5]\n",
      " [0 1 2 3 4 5]]\n"
     ]
    }
   ],
   "source": [
    "my_array_1 = np.array([[0,1,2,3,4,5], [0,1,2,3,4,5]]) # two dimensional array with numbers same as indices \n",
    "print(my_array_1)"
   ]
  },
  {
   "cell_type": "code",
   "execution_count": 280,
   "metadata": {},
   "outputs": [
    {
     "data": {
      "text/plain": [
       "array([3, 4, 5])"
      ]
     },
     "execution_count": 280,
     "metadata": {},
     "output_type": "execute_result"
    }
   ],
   "source": [
    "index_1 = my_array_1[1, 3:6] # second row and third, fourth, and fifth columns \n",
    "index_1"
   ]
  },
  {
   "cell_type": "code",
   "execution_count": 281,
   "metadata": {},
   "outputs": [
    {
     "data": {
      "text/plain": [
       "1"
      ]
     },
     "execution_count": 281,
     "metadata": {},
     "output_type": "execute_result"
    }
   ],
   "source": [
    "index_1.ndim"
   ]
  },
  {
   "cell_type": "code",
   "execution_count": 287,
   "metadata": {},
   "outputs": [
    {
     "data": {
      "text/plain": [
       "array([[10,  4,  5]])"
      ]
     },
     "execution_count": 287,
     "metadata": {},
     "output_type": "execute_result"
    }
   ],
   "source": [
    "index_2 = my_array_1[1:2, 3:6] # same as above, but with slicing \n",
    "index_2                        #as we will see soon, this is only a view of index_1 !"
   ]
  },
  {
   "cell_type": "code",
   "execution_count": 283,
   "metadata": {},
   "outputs": [
    {
     "data": {
      "text/plain": [
       "2"
      ]
     },
     "execution_count": 283,
     "metadata": {},
     "output_type": "execute_result"
    }
   ],
   "source": [
    "index_2.ndim"
   ]
  },
  {
   "cell_type": "markdown",
   "metadata": {},
   "source": [
    "__Indexing NB.3:__ The dimension of the index is equal to the number of non-integer elements in the index. This is why the dimension of `index_1` is 1 since it only has one non-integer element as an index (the `1` element is ignored as this is an integer element). Conversely, the dimension of `index_2` is 2 since it has two non-integer elements as indices.\n",
    "\n",
    "Notice also the difference in formatiing of the output: `array([3, 4, 5])` vs `array([[3, 4, 5]])`"
   ]
  },
  {
   "cell_type": "code",
   "execution_count": 284,
   "metadata": {},
   "outputs": [],
   "source": [
    "# check if index is a copy or a view by changing my_array_1\n",
    "my_array_1[1, 3] = 10"
   ]
  },
  {
   "cell_type": "code",
   "execution_count": 285,
   "metadata": {},
   "outputs": [
    {
     "name": "stdout",
     "output_type": "stream",
     "text": [
      "[[ 0  1  2  3  4  5]\n",
      " [ 0  1  2 10  4  5]]\n"
     ]
    }
   ],
   "source": [
    "print(my_array_1)"
   ]
  },
  {
   "cell_type": "code",
   "execution_count": 286,
   "metadata": {},
   "outputs": [
    {
     "name": "stdout",
     "output_type": "stream",
     "text": [
      "[10  4  5]\n"
     ]
    }
   ],
   "source": [
    "print(index_1)"
   ]
  },
  {
   "cell_type": "markdown",
   "metadata": {},
   "source": [
    "__Indexing NB.4:__ When we perform NumPy Array indexing through basic slicing and indexing and save this result to a variable, this variable is a view NOT a copy of the original variable. Therefore, you can see that if we change `my_array_1`, the index variable `index_1` also changes as it merely references that variable. "
   ]
  },
  {
   "cell_type": "markdown",
   "metadata": {},
   "source": [
    "#### Part 4 (Basic Slicing and Indexing with Object 4 - `obj` is an Elipsis Object):"
   ]
  },
  {
   "cell_type": "markdown",
   "metadata": {},
   "source": [
    "##### Example 4.1 (Examples with Two-Dimensional Arrays):"
   ]
  },
  {
   "cell_type": "code",
   "execution_count": 288,
   "metadata": {},
   "outputs": [
    {
     "name": "stdout",
     "output_type": "stream",
     "text": [
      "[[0 1 2 3 4 5]\n",
      " [0 1 2 3 4 5]]\n"
     ]
    }
   ],
   "source": [
    "my_array_1 = np.array([[0,1,2,3,4,5], [0,1,2,3,4,5]]) # two dimensional array with numbers same as indices \n",
    "print(my_array_1)"
   ]
  },
  {
   "cell_type": "code",
   "execution_count": 289,
   "metadata": {},
   "outputs": [
    {
     "data": {
      "text/plain": [
       "2"
      ]
     },
     "execution_count": 289,
     "metadata": {},
     "output_type": "execute_result"
    }
   ],
   "source": [
    "my_array_1.ndim"
   ]
  },
  {
   "cell_type": "code",
   "execution_count": 303,
   "metadata": {},
   "outputs": [
    {
     "name": "stdout",
     "output_type": "stream",
     "text": [
      "[1 1]\n",
      "[2 2]\n",
      "[3 3]\n",
      "[4 4]\n",
      "[[2 3 4]\n",
      " [2 3 4]]\n"
     ]
    }
   ],
   "source": [
    "print(my_array_1[..., 1]) # 1st column, all rows\n",
    "print(my_array_1[..., 2]) # 2nd column, all rows\n",
    "print(my_array_1[..., 3]) # 3rd column, all rows\n",
    "print(my_array_1[..., 4]) # 4th column, all rows\n",
    "print(my_array_1[..., 2:5]) #Note also that a slice of colums for all rows can also be returned"
   ]
  },
  {
   "cell_type": "markdown",
   "metadata": {},
   "source": [
    "We can see in the above example that `my_array_` has 2 dimensions so the elipsis takes the position of the first axis (\":\"). In general, the use of the Elipsis is to take the position of as many of `:` that are needed to make a selection tuple of the same length as the dimension of the array."
   ]
  },
  {
   "cell_type": "code",
   "execution_count": 297,
   "metadata": {},
   "outputs": [
    {
     "data": {
      "text/plain": [
       "array([0, 1, 2, 3, 4, 5])"
      ]
     },
     "execution_count": 297,
     "metadata": {},
     "output_type": "execute_result"
    }
   ],
   "source": [
    "my_array_1[0, ...] # first row, all columns"
   ]
  },
  {
   "cell_type": "markdown",
   "metadata": {},
   "source": [
    "##### Example 4.2 (Examples with Three-Dimensional Arrays):"
   ]
  },
  {
   "cell_type": "code",
   "execution_count": 304,
   "metadata": {},
   "outputs": [
    {
     "name": "stdout",
     "output_type": "stream",
     "text": [
      "[[[5 5]\n",
      "  [5 5]]\n",
      "\n",
      " [[5 5]\n",
      "  [5 5]]\n",
      "\n",
      " [[5 5]\n",
      "  [5 5]]]\n"
     ]
    }
   ],
   "source": [
    "my_array_2 = np.full((3,2,2), 5) # three dimensional array \n",
    "print(my_array_2)"
   ]
  },
  {
   "cell_type": "code",
   "execution_count": 305,
   "metadata": {},
   "outputs": [
    {
     "data": {
      "text/plain": [
       "3"
      ]
     },
     "execution_count": 305,
     "metadata": {},
     "output_type": "execute_result"
    }
   ],
   "source": [
    "my_array_2.ndim"
   ]
  },
  {
   "cell_type": "code",
   "execution_count": 306,
   "metadata": {},
   "outputs": [
    {
     "data": {
      "text/plain": [
       "array([5, 5])"
      ]
     },
     "execution_count": 306,
     "metadata": {},
     "output_type": "execute_result"
    }
   ],
   "source": [
    "my_array_2[1, 1, ...] # 2nd row, 2nd column, all depth (equivalent to my_array_2[1, 1, :])"
   ]
  },
  {
   "cell_type": "code",
   "execution_count": 307,
   "metadata": {},
   "outputs": [
    {
     "data": {
      "text/plain": [
       "array([[5, 5],\n",
       "       [5, 5]])"
      ]
     },
     "execution_count": 307,
     "metadata": {},
     "output_type": "execute_result"
    }
   ],
   "source": [
    "my_array_2[2, ...] # 3rd row, all columns, all depth (equivalent to my_array_2[2, :, :])"
   ]
  },
  {
   "cell_type": "code",
   "execution_count": 308,
   "metadata": {
    "scrolled": true
   },
   "outputs": [
    {
     "data": {
      "text/plain": [
       "array([[5, 5],\n",
       "       [5, 5],\n",
       "       [5, 5]])"
      ]
     },
     "execution_count": 308,
     "metadata": {},
     "output_type": "execute_result"
    }
   ],
   "source": [
    "my_array_2[..., 0] # all rows, all columns, depth layer 1 (equivalent to my_array_2[:, :, 0])"
   ]
  },
  {
   "cell_type": "markdown",
   "metadata": {},
   "source": [
    "#### Part 5 (Basic Slicing and Indexing with Object 5 - `obj` is an Newaxis Object):"
   ]
  },
  {
   "cell_type": "markdown",
   "metadata": {},
   "source": [
    "##### Example 5.1 (Examples with One-Dimensional Arrays):"
   ]
  },
  {
   "cell_type": "code",
   "execution_count": 309,
   "metadata": {},
   "outputs": [
    {
     "name": "stdout",
     "output_type": "stream",
     "text": [
      "[ 0  1  2  3  4  5  6  7  8  9 10 11 12]\n"
     ]
    }
   ],
   "source": [
    "my_array = np.arange(0, 13) # one-dimensional array with numbers same as indices\n",
    "print(my_array)"
   ]
  },
  {
   "cell_type": "code",
   "execution_count": 310,
   "metadata": {},
   "outputs": [
    {
     "data": {
      "text/plain": [
       "(13,)"
      ]
     },
     "execution_count": 310,
     "metadata": {},
     "output_type": "execute_result"
    }
   ],
   "source": [
    "my_array.shape"
   ]
  },
  {
   "cell_type": "code",
   "execution_count": 311,
   "metadata": {},
   "outputs": [
    {
     "name": "stdout",
     "output_type": "stream",
     "text": [
      "[[ 0]\n",
      " [ 1]\n",
      " [ 2]\n",
      " [ 3]\n",
      " [ 4]\n",
      " [ 5]\n",
      " [ 6]\n",
      " [ 7]\n",
      " [ 8]\n",
      " [ 9]\n",
      " [10]\n",
      " [11]\n",
      " [12]]\n"
     ]
    }
   ],
   "source": [
    "print(my_array[:, np.newaxis]) # adds a new axis in the axis 1 position of length 1 "
   ]
  },
  {
   "cell_type": "code",
   "execution_count": 312,
   "metadata": {},
   "outputs": [
    {
     "data": {
      "text/plain": [
       "(13, 1)"
      ]
     },
     "execution_count": 312,
     "metadata": {},
     "output_type": "execute_result"
    }
   ],
   "source": [
    "my_array[:, np.newaxis].shape"
   ]
  },
  {
   "cell_type": "markdown",
   "metadata": {},
   "source": [
    "We can see that the `np.newaxis` in axis 1 position has added a new axis such that the dimension of `my_array` is now 2. When the new axis was made, a length of 1 is by default added, such that there is 1 column and 13 rows in this case.  "
   ]
  },
  {
   "cell_type": "code",
   "execution_count": 313,
   "metadata": {},
   "outputs": [
    {
     "name": "stdout",
     "output_type": "stream",
     "text": [
      "[[ 0  1  2  3  4  5  6  7  8  9 10 11 12]]\n"
     ]
    }
   ],
   "source": [
    "print(my_array[np.newaxis, :]) # adds a new axis in the axis 0 position of length 1"
   ]
  },
  {
   "cell_type": "code",
   "execution_count": 314,
   "metadata": {},
   "outputs": [
    {
     "data": {
      "text/plain": [
       "(1, 13)"
      ]
     },
     "execution_count": 314,
     "metadata": {},
     "output_type": "execute_result"
    }
   ],
   "source": [
    "my_array[np.newaxis, :].shape"
   ]
  },
  {
   "cell_type": "markdown",
   "metadata": {},
   "source": [
    "We can see that the `np.newaxis` in axis 0 position has added a new axis such that the dimension of `my_array` is now 2. When the new axis was made, a length of 1 is by default added, such that there is 1 row in this case and 13 columns. "
   ]
  },
  {
   "cell_type": "markdown",
   "metadata": {},
   "source": [
    "##### Example 5.2 (Examples with Two-Dimensional Arrays):"
   ]
  },
  {
   "cell_type": "code",
   "execution_count": 316,
   "metadata": {},
   "outputs": [
    {
     "name": "stdout",
     "output_type": "stream",
     "text": [
      "[[0 1 2 3 4 5]\n",
      " [0 1 2 3 4 5]]\n"
     ]
    }
   ],
   "source": [
    "my_array_1 = np.array([[0,1,2,3,4,5], [0,1,2,3,4,5]])\n",
    "print(my_array_1)"
   ]
  },
  {
   "cell_type": "code",
   "execution_count": 317,
   "metadata": {},
   "outputs": [
    {
     "data": {
      "text/plain": [
       "(2, 6)"
      ]
     },
     "execution_count": 317,
     "metadata": {},
     "output_type": "execute_result"
    }
   ],
   "source": [
    "my_array_1.shape"
   ]
  },
  {
   "cell_type": "code",
   "execution_count": 318,
   "metadata": {},
   "outputs": [
    {
     "name": "stdout",
     "output_type": "stream",
     "text": [
      "[[[0]\n",
      "  [1]\n",
      "  [2]\n",
      "  [3]\n",
      "  [4]\n",
      "  [5]]\n",
      "\n",
      " [[0]\n",
      "  [1]\n",
      "  [2]\n",
      "  [3]\n",
      "  [4]\n",
      "  [5]]]\n"
     ]
    }
   ],
   "source": [
    "print(my_array_1[:, :, np.newaxis]) # adds a new axis in the axis 2 position of length 1 "
   ]
  },
  {
   "cell_type": "code",
   "execution_count": 319,
   "metadata": {
    "scrolled": true
   },
   "outputs": [
    {
     "data": {
      "text/plain": [
       "(2, 1, 6)"
      ]
     },
     "execution_count": 319,
     "metadata": {},
     "output_type": "execute_result"
    }
   ],
   "source": [
    "my_array_1[:, np.newaxis, :].shape"
   ]
  },
  {
   "cell_type": "markdown",
   "metadata": {},
   "source": [
    "We can see that the `np.newaxis` in axis 2 position has added a new axis such that the dimension of `my_array` is now 3. When the new axis was made, a length of 1 is by default added, such that there is 2 rows, 1 column and a depth of 6."
   ]
  },
  {
   "cell_type": "markdown",
   "metadata": {},
   "source": [
    "#### Part 6 (Basic Slicing and Indexing with Object 6 - `obj` is a non-ndarray Object):"
   ]
  },
  {
   "cell_type": "markdown",
   "metadata": {},
   "source": [
    "##### Example 6.1 (Examples with Two-Dimensional Arrays):"
   ]
  },
  {
   "cell_type": "code",
   "execution_count": 320,
   "metadata": {},
   "outputs": [
    {
     "name": "stdout",
     "output_type": "stream",
     "text": [
      "[[0 1 2 3 4 5]\n",
      " [0 1 2 3 4 5]]\n"
     ]
    }
   ],
   "source": [
    "my_array_1 = np.array([[0,1,2,3,4,5], [0,1,2,3,4,5]])\n",
    "print(my_array_1)"
   ]
  },
  {
   "cell_type": "code",
   "execution_count": 321,
   "metadata": {},
   "outputs": [
    {
     "data": {
      "text/plain": [
       "(2, 6)"
      ]
     },
     "execution_count": 321,
     "metadata": {},
     "output_type": "execute_result"
    }
   ],
   "source": [
    "my_array_1.shape"
   ]
  },
  {
   "cell_type": "code",
   "execution_count": 325,
   "metadata": {},
   "outputs": [
    {
     "name": "stdout",
     "output_type": "stream",
     "text": [
      "[[3 4 5]\n",
      " [3 4 5]]\n"
     ]
    }
   ],
   "source": [
    "print(my_array_1[[..., slice(3,6)]]) # all rows, columns 4,5, and 6"
   ]
  },
  {
   "cell_type": "code",
   "execution_count": 326,
   "metadata": {},
   "outputs": [
    {
     "name": "stdout",
     "output_type": "stream",
     "text": [
      "[[[0 1 2 3 4 5]]]\n"
     ]
    }
   ],
   "source": [
    "print(my_array_1[[slice(0,1), np.newaxis, ...]]) # first row, all columns (which turns into depth) with additional axis of length 1 "
   ]
  },
  {
   "cell_type": "code",
   "execution_count": 327,
   "metadata": {},
   "outputs": [
    {
     "data": {
      "text/plain": [
       "(1, 1, 6)"
      ]
     },
     "execution_count": 327,
     "metadata": {},
     "output_type": "execute_result"
    }
   ],
   "source": [
    "my_array_1[[slice(0,1), np.newaxis, ...]].shape"
   ]
  },
  {
   "cell_type": "markdown",
   "metadata": {},
   "source": [
    "We can see in the example above that we can use a non-ndarray sequence such as a `list` to combine `slice` object, the `Elipsis`, object, and/or the `newaxis`."
   ]
  },
  {
   "cell_type": "markdown",
   "metadata": {},
   "source": [
    "### 4.4.4.2 NumPy Array Indexing and Slicing (Method 2: Advanced Indexing):"
   ]
  },
  {
   "cell_type": "markdown",
   "metadata": {},
   "source": [
    "__Overview:__\n",
    "- The second way of indexing and slicing an NumPy Array is through advanced indexing \n",
    "- __[Advanced Indexing](https://docs.scipy.org/doc/numpy/reference/arrays.indexing.html#advanced-indexing)__  Advanced Indexing occurs in two different types:\n",
    "\n",
    "> 1. __[Integer Advanced Indexing](https://docs.scipy.org/doc/numpy/reference/arrays.indexing.html#integer-array-indexing):__ Integer Advanced Indexing occurs if any of the following take the place of the `obj` in the general form of an index: `array_name[obj]`:\n",
    ">> a. __Object 1:__ `obj` is a non-tuple sequence object (i.e. a `list`) <br>\n",
    ">> b. __Object 2:__ `obj` is an `ndarray` object of data type `int` or `bool`<br>\n",
    ">> c. __Object 3:__ `obj` is a tuple with at least one sequence object (object 1) or ndarray (object 2)<br>\n",
    "> 2. __[Booleaan Array Indexing](https://docs.scipy.org/doc/numpy/reference/arrays.indexing.html#boolean-array-indexing):__ Boolean Advanced Indexing occurs if any of the following take the place of the `obj` in the general form of an index: `array_name[obj]`:\n",
    ">> a. __Object 1:__ `obj` is an array object of Boolean type, such as may be returned from comparison operators (i.e. `>`, `<=`, etc.)\n",
    "\n",
    "__Helpful Points:__\n",
    "1. All arrays generated by advanced indexing are always copies (see Lecture 3) of the original array \n",
    "2. There are some additional \"Indexing Nota Bene\" which are highlighted in the examples below by \"NB.5\", \"NB.6\", etc.\n",
    "\n",
    "__Practice:__ Examples of NumPy Array Advanced Indexing in Python "
   ]
  },
  {
   "cell_type": "markdown",
   "metadata": {},
   "source": [
    "#### Part 1 Integer Advanced Indexing "
   ]
  },
  {
   "cell_type": "markdown",
   "metadata": {},
   "source": [
    "##### Example 1.1 (Advanced Indexing with Object 1 - `obj` is a Non-Tuple Sequence Object):"
   ]
  },
  {
   "cell_type": "code",
   "execution_count": 328,
   "metadata": {},
   "outputs": [
    {
     "name": "stdout",
     "output_type": "stream",
     "text": [
      "[[ 0  1  2  3  4  5]\n",
      " [ 6  7  8  9 10 11]]\n"
     ]
    }
   ],
   "source": [
    "my_array_1 = np.array([[0,1,2,3,4,5], [6,7,8,9,10,11]]) # two dimensional array with numbers same as indices \n",
    "print(my_array_1)"
   ]
  },
  {
   "cell_type": "code",
   "execution_count": 329,
   "metadata": {},
   "outputs": [
    {
     "data": {
      "text/plain": [
       "array([ 2, 11])"
      ]
     },
     "execution_count": 329,
     "metadata": {},
     "output_type": "execute_result"
    }
   ],
   "source": [
    "my_array_1[[0,1],[2,5]] # get element 2 from the first row and element 5 from the third row"
   ]
  },
  {
   "cell_type": "markdown",
   "metadata": {},
   "source": [
    "We can see that with Advanced Indexing with Object 1, we can use a list of 2 lists to access very specific elements of the NumPy Array. In the example above, we can interpret the indexes in the following way: The first list `[0,1]` stipulates the rows in the array that we want to access and the second list `[2,5]` indicates the elements of each row that we want to access (i.e. the 2nd element from row 0 and the 5th element from row 5)."
   ]
  },
  {
   "cell_type": "code",
   "execution_count": 330,
   "metadata": {},
   "outputs": [
    {
     "name": "stdout",
     "output_type": "stream",
     "text": [
      "[ 1 10]\n"
     ]
    }
   ],
   "source": [
    "index_1 = my_array_1[[0,1], [1,4]] # get element 1 from the first row and element 4 from the second row\n",
    "print(index_1)"
   ]
  },
  {
   "cell_type": "code",
   "execution_count": 331,
   "metadata": {},
   "outputs": [
    {
     "name": "stdout",
     "output_type": "stream",
     "text": [
      "[[  0 100   2   3   4   5]\n",
      " [  6   7   8   9  10  11]]\n"
     ]
    }
   ],
   "source": [
    "# change my_array_1 \n",
    "my_array_1[0, 1] = 100\n",
    "print(my_array_1)"
   ]
  },
  {
   "cell_type": "code",
   "execution_count": 332,
   "metadata": {},
   "outputs": [
    {
     "name": "stdout",
     "output_type": "stream",
     "text": [
      "[ 1 10]\n"
     ]
    }
   ],
   "source": [
    "# check index_1\n",
    "print(index_1)"
   ]
  },
  {
   "cell_type": "markdown",
   "metadata": {},
   "source": [
    "__Indexing NB.5:__ When we perform NumPy Array indexing through advancing indexing and save this result to a variable, this variable is a copy NOT a view of the original variable, unlike basic slicing and indexing. Therefore, you can see that if we change `my_array_1`, the index variable `index_1` does not change since it is a new object. "
   ]
  },
  {
   "cell_type": "markdown",
   "metadata": {},
   "source": [
    "##### Example 1.2 (Advanced Indexing with Object 2 - `obj` is an ndarray Object):"
   ]
  },
  {
   "cell_type": "code",
   "execution_count": 333,
   "metadata": {},
   "outputs": [
    {
     "name": "stdout",
     "output_type": "stream",
     "text": [
      "[[0 1 2]\n",
      " [3 4 5]\n",
      " [6 7 8]]\n"
     ]
    }
   ],
   "source": [
    "my_array_2 = np.array([[0,1,2], [3,4,5], [6,7,8]]) # two dimensional array \n",
    "print(my_array_2)"
   ]
  },
  {
   "cell_type": "code",
   "execution_count": 344,
   "metadata": {},
   "outputs": [
    {
     "data": {
      "text/plain": [
       "array([[0, 1],\n",
       "       [3, 4]])"
      ]
     },
     "execution_count": 344,
     "metadata": {},
     "output_type": "execute_result"
    }
   ],
   "source": [
    "# create indexes as separate variables and then pass them as individual indexes below\n",
    "rows = np.array([[0, 0], [1,1]], dtype = np.intp)\n",
    "columns = np.array([[0, 1], [0, 1]], dtype = np.intp)\n",
    "\n",
    "my_array_2[rows, columns] # gives us the 4 corners of the array"
   ]
  },
  {
   "cell_type": "code",
   "execution_count": 346,
   "metadata": {},
   "outputs": [
    {
     "data": {
      "text/plain": [
       "array([[0, 2],\n",
       "       [6, 8]])"
      ]
     },
     "execution_count": 346,
     "metadata": {},
     "output_type": "execute_result"
    }
   ],
   "source": [
    "# for comparison\n",
    "rows = np.array([[0, 0], [2,2]], dtype = np.intp)\n",
    "columns = np.array([[0, 2], [0, 2]], dtype = np.intp)\n",
    "\n",
    "my_array_2[rows, columns] # we call on the for outermost corneres of the array"
   ]
  },
  {
   "cell_type": "markdown",
   "metadata": {},
   "source": [
    "We can see that with Advanced Indexing with object 2, we can use two arrays to access the 4 corners of a NumPy Array. In the example above, we can interpret the indexes in the following way: The first array `[[0,0], [2,2]]` stipulates the rows in the array that we want to access and the second array `[[0,2], [0,2]]]`. This translates into the following:\n",
    "\n",
    "> 1. The first value (top left corner) is in the 0th row and the 0th column which appear as the first elements in the index arrays\n",
    "> 2. The second value (top right corner) is in the 0th row and 2nd column which appear as the second elements in the index arrays \n",
    "> 3. The third value (bottom left corner) is in the 2nd row and 0th column which appear as the third elements in the index arrays \n",
    "> 4. The fourth value (bottom right corner) is in the 2nd row and 2nd column which appear as the fourth elements in the index arrays "
   ]
  },
  {
   "cell_type": "code",
   "execution_count": 347,
   "metadata": {},
   "outputs": [
    {
     "data": {
      "text/plain": [
       "array([[0, 2],\n",
       "       [6, 8]])"
      ]
     },
     "execution_count": 347,
     "metadata": {},
     "output_type": "execute_result"
    }
   ],
   "source": [
    "my_array_2[np.ix_([0,2], [0,2])] # get the same result using the np.ix_ function "
   ]
  },
  {
   "cell_type": "code",
   "execution_count": 348,
   "metadata": {
    "scrolled": true
   },
   "outputs": [
    {
     "data": {
      "text/plain": [
       "array([0, 8])"
      ]
     },
     "execution_count": 348,
     "metadata": {},
     "output_type": "execute_result"
    }
   ],
   "source": [
    "my_array_2[([0,2], [0,2])] # without the np.ix_ function, only the diagonal elements are accessed "
   ]
  },
  {
   "cell_type": "code",
   "execution_count": 349,
   "metadata": {},
   "outputs": [
    {
     "data": {
      "text/plain": [
       "array([0, 4, 8])"
      ]
     },
     "execution_count": 349,
     "metadata": {},
     "output_type": "execute_result"
    }
   ],
   "source": [
    "np.diagonal(my_array_2) # full diagonal using built-in numpy function "
   ]
  },
  {
   "cell_type": "markdown",
   "metadata": {},
   "source": [
    "We can see that using the `np.ix_` function, we are able to get the same 4 diagonals of the array. However, notice how the row and column indexes are now lists (`[0,2]` and `[0,2]`, respectively), compared to the array row and columns indexes above when `np.ix_` was not used. There is some \"deep\" stuff happening behind the scenes here based on a concept called __Broadcasting__ that will be explained later. At this point, it is okay to think about the `np.ix_` function as making the process of accessing elements more efficient as it achieves it with less arguments. See below for some insight into what is happening with `np.ix_`"
   ]
  },
  {
   "cell_type": "code",
   "execution_count": 350,
   "metadata": {},
   "outputs": [],
   "source": [
    "# replicate the np.ix_ function\n",
    "rows = np.array([0,2], dtype = np.intp)\n",
    "columns = np.array([0,2], dtype = np.intp)"
   ]
  },
  {
   "cell_type": "code",
   "execution_count": 351,
   "metadata": {},
   "outputs": [
    {
     "data": {
      "text/plain": [
       "array([[0],\n",
       "       [2]])"
      ]
     },
     "execution_count": 351,
     "metadata": {},
     "output_type": "execute_result"
    }
   ],
   "source": [
    "# increase dimension of rows with length 1 \n",
    "rows[:, np.newaxis]"
   ]
  },
  {
   "cell_type": "code",
   "execution_count": 352,
   "metadata": {},
   "outputs": [
    {
     "data": {
      "text/plain": [
       "(2, 1)"
      ]
     },
     "execution_count": 352,
     "metadata": {},
     "output_type": "execute_result"
    }
   ],
   "source": [
    "rows[:, np.newaxis].shape"
   ]
  },
  {
   "cell_type": "code",
   "execution_count": 353,
   "metadata": {},
   "outputs": [
    {
     "data": {
      "text/plain": [
       "(2,)"
      ]
     },
     "execution_count": 353,
     "metadata": {},
     "output_type": "execute_result"
    }
   ],
   "source": [
    "columns.shape"
   ]
  },
  {
   "cell_type": "code",
   "execution_count": 354,
   "metadata": {},
   "outputs": [
    {
     "data": {
      "text/plain": [
       "(2, 2)"
      ]
     },
     "execution_count": 354,
     "metadata": {},
     "output_type": "execute_result"
    }
   ],
   "source": [
    "my_array_2[rows[:, np.newaxis], columns].shape"
   ]
  },
  {
   "cell_type": "code",
   "execution_count": 355,
   "metadata": {},
   "outputs": [
    {
     "name": "stdout",
     "output_type": "stream",
     "text": [
      "[[0 1 2]\n",
      " [3 4 5]\n",
      " [6 7 8]]\n"
     ]
    }
   ],
   "source": [
    "print(my_array_2)"
   ]
  },
  {
   "cell_type": "markdown",
   "metadata": {},
   "source": [
    "These examples about should show pretty clearly what is going on here. We are using arrays as our indexing objects:\n",
    "\n",
    "__Indexing NB.6:__ When we perform NumPy Array indexing through Advanced Indexing, the result shape is related to the broadcast indexing array shapes. This is why the shape of `my_array_2[rows[:, np.newaxis], columns]` is `(2,2)` since the 1d array `columns` (shape `(2,)`) is \"broadcast\" across the 2d array `rows[:, np.newaxis]` (shape `(2,1)`) to form a new array of shape `(2,2)`. More on broadcasting later, but important to note the concept at play here. "
   ]
  },
  {
   "cell_type": "markdown",
   "metadata": {},
   "source": [
    "#### Part 2: Boolean Array Indexing:"
   ]
  },
  {
   "cell_type": "markdown",
   "metadata": {},
   "source": [
    "##### Example 2.1 (Boolean Array Indexing with Object 1 - `obj` is an Array Object of Boolean Type):"
   ]
  },
  {
   "cell_type": "code",
   "execution_count": 357,
   "metadata": {},
   "outputs": [
    {
     "name": "stdout",
     "output_type": "stream",
     "text": [
      "[[ 1.  2.]\n",
      " [nan  3.]\n",
      " [nan nan]]\n"
     ]
    }
   ],
   "source": [
    "my_array_3 = np.array([[1, 2], [np.nan, 3], [np.nan, np.nan]]) #nan means \"not a number\"\n",
    "print(my_array_3)"
   ]
  },
  {
   "cell_type": "code",
   "execution_count": 358,
   "metadata": {},
   "outputs": [
    {
     "data": {
      "text/plain": [
       "2"
      ]
     },
     "execution_count": 358,
     "metadata": {},
     "output_type": "execute_result"
    }
   ],
   "source": [
    "my_array_3.ndim"
   ]
  },
  {
   "cell_type": "code",
   "execution_count": 359,
   "metadata": {},
   "outputs": [
    {
     "data": {
      "text/plain": [
       "array([[False, False],\n",
       "       [ True, False],\n",
       "       [ True,  True]])"
      ]
     },
     "execution_count": 359,
     "metadata": {},
     "output_type": "execute_result"
    }
   ],
   "source": [
    "# check which elements of the array are NaN\n",
    "np.isnan(my_array_3) # returns a boolean array, therefore we can use it for boolean array indexing "
   ]
  },
  {
   "cell_type": "code",
   "execution_count": 360,
   "metadata": {},
   "outputs": [
    {
     "data": {
      "text/plain": [
       "2"
      ]
     },
     "execution_count": 360,
     "metadata": {},
     "output_type": "execute_result"
    }
   ],
   "source": [
    "np.isnan(my_array_3).ndim"
   ]
  },
  {
   "cell_type": "code",
   "execution_count": 363,
   "metadata": {},
   "outputs": [
    {
     "data": {
      "text/plain": [
       "array([1., 2., 3.])"
      ]
     },
     "execution_count": 363,
     "metadata": {},
     "output_type": "execute_result"
    }
   ],
   "source": [
    "my_array_3[~ np.isnan(my_array_3)] # find all entries from an array which are not NaN (use tilda ~ operator for not)"
   ]
  },
  {
   "cell_type": "code",
   "execution_count": 364,
   "metadata": {},
   "outputs": [
    {
     "data": {
      "text/plain": [
       "1"
      ]
     },
     "execution_count": 364,
     "metadata": {},
     "output_type": "execute_result"
    }
   ],
   "source": [
    "my_array_3[~ np.isnan(my_array_3)].ndim"
   ]
  },
  {
   "cell_type": "markdown",
   "metadata": {},
   "source": [
    "__Indexing NB.7:__ When we peform NumPy Array Indexing through Boolean Array Indexing and the dimension of the index object has the same dimension of the array itself, the result is a 1-dimensional array filled with the elements of the original array corresponding to the `True` values of the index object. This is why we see that the dimension of the result (`my_array_3[~ np.isnan(my_array_3)]`) is 1 because the dimension of both the original array (`my_array_3`) and the index object (`np.isnan(my_array_3)`) have dimension 2. "
   ]
  },
  {
   "cell_type": "markdown",
   "metadata": {},
   "source": [
    "##### Example 2.2 (Boolean Array Indexing with Object 1 - `obj` is an Array Object of Boolean Type):"
   ]
  },
  {
   "cell_type": "code",
   "execution_count": 365,
   "metadata": {},
   "outputs": [
    {
     "name": "stdout",
     "output_type": "stream",
     "text": [
      "[[0 1 2]\n",
      " [3 4 5]\n",
      " [6 7 8]]\n"
     ]
    }
   ],
   "source": [
    "my_array_2 = np.array([[0,1,2], [3,4,5], [6,7,8]]) # two dimensional array \n",
    "print(my_array_2)"
   ]
  },
  {
   "cell_type": "code",
   "execution_count": 366,
   "metadata": {},
   "outputs": [
    {
     "data": {
      "text/plain": [
       "array([[False, False, False],\n",
       "       [False, False, False],\n",
       "       [ True,  True,  True]])"
      ]
     },
     "execution_count": 366,
     "metadata": {},
     "output_type": "execute_result"
    }
   ],
   "source": [
    "# check which elements of the array are greater than 5\n",
    "my_array_2 > 5 # returns a boolean array, therefore we can use it for boolean array indexing"
   ]
  },
  {
   "cell_type": "code",
   "execution_count": 367,
   "metadata": {},
   "outputs": [
    {
     "data": {
      "text/plain": [
       "array([6, 7, 8])"
      ]
     },
     "execution_count": 367,
     "metadata": {},
     "output_type": "execute_result"
    }
   ],
   "source": [
    "my_array_2[my_array_2 > 5]"
   ]
  },
  {
   "cell_type": "markdown",
   "metadata": {},
   "source": [
    "### 4.4.5 Group 3: NumPy Array Manipulation Routines:"
   ]
  },
  {
   "cell_type": "markdown",
   "metadata": {},
   "source": [
    "__Overview:__\n",
    "- There are many ways to manipulate arrays in NumPy which can be found [here](https://docs.scipy.org/doc/numpy/reference/routines.array-manipulation.html). These methods can (mostly) be organized into the following categories:\n",
    "> 1. __Group 1:__ Changing array shape (uses functions such as `ravel`, `reshape`, `flat`, etc.)\n",
    "> 2. __Group 2:__ Changing array dimensions (uses functions such as `squeeze`, etc.)\n",
    "> 3. __Group 3:__ Joining arrays (uses functions such as `dstack`, `stack`, `hstack`, `vstack`, etc.)\n",
    "> 4. __Group 4:__ Splitting arrays (uses functions such as `split`, `dsplit`, `hsplit`, etc.)\n",
    "> 5. __Group 5:__ Adding, modifying and removing elements (uses functions such as `delete`, `insert`, `resize`, etc.)\n",
    "\n",
    "__Helpful Points:__\n",
    "1. There are additional functions that perform manipulation routines but are used less commonly such as `tile`, `repeat`, etc.\n",
    "\n",
    "__Practice:__ Examples of NumPy Array Manipulation Routines in Python "
   ]
  },
  {
   "cell_type": "markdown",
   "metadata": {},
   "source": [
    "#### Part 1: Changing Array Shape "
   ]
  },
  {
   "cell_type": "markdown",
   "metadata": {},
   "source": [
    "##### Example 1.1 (Changing array shape with `reshape`):\n",
    "\n",
    "The `reshape` function gives a new shape to an array object without changing its data"
   ]
  },
  {
   "cell_type": "code",
   "execution_count": 368,
   "metadata": {},
   "outputs": [
    {
     "data": {
      "text/plain": [
       "array([ 0,  1,  2,  3,  4,  5,  6,  7,  8,  9, 10, 11])"
      ]
     },
     "execution_count": 368,
     "metadata": {},
     "output_type": "execute_result"
    }
   ],
   "source": [
    "np.arange(12) # recall this provides a range of numbers from 0 to 11"
   ]
  },
  {
   "cell_type": "code",
   "execution_count": 369,
   "metadata": {},
   "outputs": [
    {
     "data": {
      "text/plain": [
       "(12,)"
      ]
     },
     "execution_count": 369,
     "metadata": {},
     "output_type": "execute_result"
    }
   ],
   "source": [
    "np.arange(12).shape"
   ]
  },
  {
   "cell_type": "code",
   "execution_count": 370,
   "metadata": {},
   "outputs": [
    {
     "name": "stdout",
     "output_type": "stream",
     "text": [
      "[[ 0  1  2  3]\n",
      " [ 4  5  6  7]\n",
      " [ 8  9 10 11]]\n"
     ]
    }
   ],
   "source": [
    "my_array = np.arange(12).reshape(3,4) # reshape the (12,1) array to an array of shape (3,4)\n",
    "print(my_array)"
   ]
  },
  {
   "cell_type": "markdown",
   "metadata": {},
   "source": [
    "Notice that the `reshape` function requires a shape that is compatible with the original shape of the array. Since the product of the new shape (3,4) is equal to the shape of the original array, it is considered compatible).\n",
    "\n",
    "NOTE: Since NumPy performs operation in \"row-major ordering\", the rows get filled first and then the columns vs. \"column-major ordering\" where the columns get filled first and then the rows. "
   ]
  },
  {
   "cell_type": "code",
   "execution_count": 371,
   "metadata": {},
   "outputs": [
    {
     "ename": "ValueError",
     "evalue": "cannot reshape array of size 12 into shape (3,5)",
     "output_type": "error",
     "traceback": [
      "\u001b[0;31m---------------------------------------------------------------------------\u001b[0m",
      "\u001b[0;31mValueError\u001b[0m                                Traceback (most recent call last)",
      "\u001b[0;32m<ipython-input-371-76d4b28c8dd7>\u001b[0m in \u001b[0;36m<module>\u001b[0;34m()\u001b[0m\n\u001b[0;32m----> 1\u001b[0;31m \u001b[0mnp\u001b[0m\u001b[0;34m.\u001b[0m\u001b[0marange\u001b[0m\u001b[0;34m(\u001b[0m\u001b[0;36m12\u001b[0m\u001b[0;34m)\u001b[0m\u001b[0;34m.\u001b[0m\u001b[0mreshape\u001b[0m\u001b[0;34m(\u001b[0m\u001b[0;36m3\u001b[0m\u001b[0;34m,\u001b[0m\u001b[0;36m5\u001b[0m\u001b[0;34m)\u001b[0m \u001b[0;31m# not compatible shape given shape of original array\u001b[0m\u001b[0;34m\u001b[0m\u001b[0m\n\u001b[0m",
      "\u001b[0;31mValueError\u001b[0m: cannot reshape array of size 12 into shape (3,5)"
     ]
    }
   ],
   "source": [
    "np.arange(12).reshape(3,5) # not compatible shape given shape of original array "
   ]
  },
  {
   "cell_type": "markdown",
   "metadata": {},
   "source": [
    "##### Example 1.2 (Changing array shape with `ravel`):\n",
    "\n",
    "The `ravel` function returns a contiguous flattened array"
   ]
  },
  {
   "cell_type": "code",
   "execution_count": 372,
   "metadata": {},
   "outputs": [
    {
     "name": "stdout",
     "output_type": "stream",
     "text": [
      "[[ 0  1  2  3]\n",
      " [ 4  5  6  7]\n",
      " [ 8  9 10 11]]\n"
     ]
    }
   ],
   "source": [
    "my_array = np.arange(12).reshape(3,4) # reshape the (12,1) array to an array of shape (3,4)\n",
    "print(my_array)"
   ]
  },
  {
   "cell_type": "code",
   "execution_count": 373,
   "metadata": {},
   "outputs": [
    {
     "name": "stdout",
     "output_type": "stream",
     "text": [
      "[ 0  1  2  3  4  5  6  7  8  9 10 11]\n"
     ]
    }
   ],
   "source": [
    "a_ravel = my_array.ravel()\n",
    "print(a_ravel)"
   ]
  },
  {
   "cell_type": "code",
   "execution_count": 374,
   "metadata": {
    "scrolled": true
   },
   "outputs": [
    {
     "name": "stdout",
     "output_type": "stream",
     "text": [
      "[[  0   1   2 100]\n",
      " [  4   5   6   7]\n",
      " [  8   9  10  11]]\n"
     ]
    }
   ],
   "source": [
    "my_array[0,3] = 100\n",
    "print(my_array)"
   ]
  },
  {
   "cell_type": "code",
   "execution_count": 375,
   "metadata": {},
   "outputs": [
    {
     "name": "stdout",
     "output_type": "stream",
     "text": [
      "[  0   1   2 100   4   5   6   7   8   9  10  11]\n"
     ]
    }
   ],
   "source": [
    "print(a_ravel) # view not a copy so it is modified when original array is modified "
   ]
  },
  {
   "cell_type": "markdown",
   "metadata": {},
   "source": [
    "##### Example 1.3 (Changing array shape with `flatten`):\n",
    "\n",
    "The `flatten` function returns a copy of the array collapsed into one dimension"
   ]
  },
  {
   "cell_type": "code",
   "execution_count": 376,
   "metadata": {},
   "outputs": [
    {
     "name": "stdout",
     "output_type": "stream",
     "text": [
      "[[ 0  1  2  3]\n",
      " [ 4  5  6  7]\n",
      " [ 8  9 10 11]]\n"
     ]
    }
   ],
   "source": [
    "my_array = np.arange(12).reshape(3,4) # reshape the (12,1) array to an array of shape (3,4)\n",
    "print(my_array)"
   ]
  },
  {
   "cell_type": "code",
   "execution_count": 377,
   "metadata": {
    "scrolled": true
   },
   "outputs": [
    {
     "name": "stdout",
     "output_type": "stream",
     "text": [
      "[ 0  1  2  3  4  5  6  7  8  9 10 11]\n"
     ]
    }
   ],
   "source": [
    "a_flatten = my_array.flatten()\n",
    "print(a_flatten)"
   ]
  },
  {
   "cell_type": "code",
   "execution_count": 378,
   "metadata": {
    "scrolled": true
   },
   "outputs": [
    {
     "name": "stdout",
     "output_type": "stream",
     "text": [
      "[[  0   1   2   3]\n",
      " [  4   5   6   7]\n",
      " [  8   9 222  11]]\n"
     ]
    }
   ],
   "source": [
    "my_array[2,2] = 222\n",
    "print(my_array)"
   ]
  },
  {
   "cell_type": "code",
   "execution_count": 379,
   "metadata": {},
   "outputs": [
    {
     "name": "stdout",
     "output_type": "stream",
     "text": [
      "[ 0  1  2  3  4  5  6  7  8  9 10 11]\n"
     ]
    }
   ],
   "source": [
    "print(a_flatten) # copy not a view so it is not modified when original array is modified "
   ]
  },
  {
   "cell_type": "markdown",
   "metadata": {},
   "source": [
    "##### Example 1.4 (Changing array shape with `flat`):\n",
    "\n",
    "The `flat` function returns a 1-d iterator over the array (helpful for loops)"
   ]
  },
  {
   "cell_type": "code",
   "execution_count": 380,
   "metadata": {},
   "outputs": [
    {
     "name": "stdout",
     "output_type": "stream",
     "text": [
      "[[ 0  1  2  3]\n",
      " [ 4  5  6  7]\n",
      " [ 8  9 10 11]]\n"
     ]
    }
   ],
   "source": [
    "my_array = np.arange(12).reshape(3,4) # reshape the (12,1) array to an array of shape (3,4)\n",
    "print(my_array)"
   ]
  },
  {
   "cell_type": "code",
   "execution_count": 381,
   "metadata": {},
   "outputs": [
    {
     "name": "stdout",
     "output_type": "stream",
     "text": [
      "<numpy.flatiter object at 0x7fb8f493be00>\n"
     ]
    }
   ],
   "source": [
    "a_flat = my_array.flat\n",
    "print(a_flat)"
   ]
  },
  {
   "cell_type": "markdown",
   "metadata": {},
   "source": [
    "#### Part 2: Changing Array Dimensions:"
   ]
  },
  {
   "cell_type": "markdown",
   "metadata": {},
   "source": [
    "##### Example 2.1 (Changing array dimensions with `squeeze`):\n",
    "\n",
    "The `squeeze` function remove single-dimensional entries from the shape of an array "
   ]
  },
  {
   "cell_type": "code",
   "execution_count": 382,
   "metadata": {},
   "outputs": [
    {
     "name": "stdout",
     "output_type": "stream",
     "text": [
      "[[[ 0]\n",
      "  [ 1]\n",
      "  [ 2]\n",
      "  [ 3]]\n",
      "\n",
      " [[ 4]\n",
      "  [ 5]\n",
      "  [ 6]\n",
      "  [ 7]]\n",
      "\n",
      " [[ 8]\n",
      "  [ 9]\n",
      "  [10]\n",
      "  [11]]]\n"
     ]
    }
   ],
   "source": [
    "my_array = np.arange(12).reshape(3,4,1)\n",
    "print(my_array)"
   ]
  },
  {
   "cell_type": "code",
   "execution_count": 383,
   "metadata": {},
   "outputs": [
    {
     "data": {
      "text/plain": [
       "(3, 4, 1)"
      ]
     },
     "execution_count": 383,
     "metadata": {},
     "output_type": "execute_result"
    }
   ],
   "source": [
    "my_array.shape"
   ]
  },
  {
   "cell_type": "code",
   "execution_count": 384,
   "metadata": {
    "scrolled": true
   },
   "outputs": [
    {
     "data": {
      "text/plain": [
       "(3, 4)"
      ]
     },
     "execution_count": 384,
     "metadata": {},
     "output_type": "execute_result"
    }
   ],
   "source": [
    "np.squeeze(my_array).shape # removes the third dimensions since it is a single-dimension entry "
   ]
  },
  {
   "cell_type": "markdown",
   "metadata": {},
   "source": [
    "NOTE: See also `broadcast`, `expand_dims`, etc."
   ]
  },
  {
   "cell_type": "markdown",
   "metadata": {},
   "source": [
    "#### Part 3: Joining Arrays:"
   ]
  },
  {
   "cell_type": "markdown",
   "metadata": {},
   "source": [
    "##### Example 3.1 (Joining arrays with `vstack` and `hstack`):\n",
    "\n",
    "- The `vstack` function stacks arrays in sequence vertically (row wise)\n",
    "- The `hstack` function stacks arrays in sequence horiztonally (column wise)"
   ]
  },
  {
   "cell_type": "code",
   "execution_count": 386,
   "metadata": {},
   "outputs": [
    {
     "name": "stdout",
     "output_type": "stream",
     "text": [
      "[[0 1 2 3 4]\n",
      " [5 6 7 8 9]]\n",
      "[[0. 0. 0. 0. 0.]\n",
      " [0. 0. 0. 0. 0.]]\n"
     ]
    }
   ],
   "source": [
    "array_1 = np.arange(10).reshape(2,5)\n",
    "array_2 = np.zeros((2,5))\n",
    "print(array_1)\n",
    "print(array_2)"
   ]
  },
  {
   "cell_type": "code",
   "execution_count": 387,
   "metadata": {},
   "outputs": [
    {
     "data": {
      "text/plain": [
       "array([[0., 1., 2., 3., 4.],\n",
       "       [5., 6., 7., 8., 9.],\n",
       "       [0., 0., 0., 0., 0.],\n",
       "       [0., 0., 0., 0., 0.]])"
      ]
     },
     "execution_count": 387,
     "metadata": {},
     "output_type": "execute_result"
    }
   ],
   "source": [
    "np.vstack((array_1, array_2)) # stack sequences vertically "
   ]
  },
  {
   "cell_type": "code",
   "execution_count": 388,
   "metadata": {},
   "outputs": [
    {
     "data": {
      "text/plain": [
       "array([[0., 1., 2., 3., 4., 0., 0., 0., 0., 0.],\n",
       "       [5., 6., 7., 8., 9., 0., 0., 0., 0., 0.]])"
      ]
     },
     "execution_count": 388,
     "metadata": {},
     "output_type": "execute_result"
    }
   ],
   "source": [
    "np.hstack((array_1, array_2)) # stack sequences horizontally"
   ]
  },
  {
   "cell_type": "markdown",
   "metadata": {},
   "source": [
    "##### Example 3.2 (Joining arrays using `concatenate`, `r_` and `c_`):\n",
    "\n",
    "- The `concatenate` function joins a sequence of arrays along an existing axis \n",
    "- The `r_` function translates slice objects to concatenation along the first axis\n",
    "- The `c_` function translates slice objects to concatenation along the second axis "
   ]
  },
  {
   "cell_type": "code",
   "execution_count": 389,
   "metadata": {},
   "outputs": [
    {
     "name": "stdout",
     "output_type": "stream",
     "text": [
      "[[0 1 2 3 4]\n",
      " [5 6 7 8 9]]\n",
      "[[0. 0. 0. 0. 0.]\n",
      " [0. 0. 0. 0. 0.]]\n"
     ]
    }
   ],
   "source": [
    "array_1 = np.arange(10).reshape(2,5)\n",
    "array_2 = np.zeros((2,5))\n",
    "print(array_1)\n",
    "print(array_2)"
   ]
  },
  {
   "cell_type": "code",
   "execution_count": 390,
   "metadata": {},
   "outputs": [
    {
     "data": {
      "text/plain": [
       "array([[0., 1., 2., 3., 4.],\n",
       "       [5., 6., 7., 8., 9.],\n",
       "       [0., 0., 0., 0., 0.],\n",
       "       [0., 0., 0., 0., 0.]])"
      ]
     },
     "execution_count": 390,
     "metadata": {},
     "output_type": "execute_result"
    }
   ],
   "source": [
    "np.concatenate((array_1, array_2), axis = 0) # same as vstack"
   ]
  },
  {
   "cell_type": "code",
   "execution_count": 391,
   "metadata": {},
   "outputs": [
    {
     "data": {
      "text/plain": [
       "array([[0., 1., 2., 3., 4., 0., 0., 0., 0., 0.],\n",
       "       [5., 6., 7., 8., 9., 0., 0., 0., 0., 0.]])"
      ]
     },
     "execution_count": 391,
     "metadata": {},
     "output_type": "execute_result"
    }
   ],
   "source": [
    "np.concatenate((array_1, array_2), axis = 1) # same as hstack"
   ]
  },
  {
   "cell_type": "code",
   "execution_count": 392,
   "metadata": {},
   "outputs": [
    {
     "data": {
      "text/plain": [
       "array([[0., 1., 2., 3., 4.],\n",
       "       [5., 6., 7., 8., 9.],\n",
       "       [0., 0., 0., 0., 0.],\n",
       "       [0., 0., 0., 0., 0.]])"
      ]
     },
     "execution_count": 392,
     "metadata": {},
     "output_type": "execute_result"
    }
   ],
   "source": [
    "np.r_[array_1, array_2] # same as vstack "
   ]
  },
  {
   "cell_type": "code",
   "execution_count": 393,
   "metadata": {},
   "outputs": [
    {
     "data": {
      "text/plain": [
       "array([1, 2, 3, 0, 0, 4, 5, 6])"
      ]
     },
     "execution_count": 393,
     "metadata": {},
     "output_type": "execute_result"
    }
   ],
   "source": [
    "np.r_[np.array([1,2,3]), 0, 0, np.array([4,5,6])] "
   ]
  },
  {
   "cell_type": "code",
   "execution_count": 394,
   "metadata": {},
   "outputs": [
    {
     "data": {
      "text/plain": [
       "array([[0., 1., 2., 3., 4., 0., 0., 0., 0., 0.],\n",
       "       [5., 6., 7., 8., 9., 0., 0., 0., 0., 0.]])"
      ]
     },
     "execution_count": 394,
     "metadata": {},
     "output_type": "execute_result"
    }
   ],
   "source": [
    "np.c_[array_1, array_2] # same as hstack "
   ]
  },
  {
   "cell_type": "code",
   "execution_count": 395,
   "metadata": {},
   "outputs": [
    {
     "data": {
      "text/plain": [
       "array([[1, 2, 3, 0, 0, 4, 5, 6]])"
      ]
     },
     "execution_count": 395,
     "metadata": {},
     "output_type": "execute_result"
    }
   ],
   "source": [
    "np.c_[np.array([[1,2,3]]), 0, 0, np.array([[4,5,6]])] "
   ]
  },
  {
   "cell_type": "markdown",
   "metadata": {},
   "source": [
    "NOTE: See also `stack`, `column_stack`, `block`, etc."
   ]
  },
  {
   "cell_type": "markdown",
   "metadata": {},
   "source": [
    "#### Part 4: Splitting Arrays"
   ]
  },
  {
   "cell_type": "markdown",
   "metadata": {},
   "source": [
    "##### Example 4.1 (Splitting arrays using `hsplit` and `vsplit`):\n",
    "\n",
    "- The `hsplit` function splits an array into multiple sub-arrays horizontally (column-wise)\n",
    "- The `vsplit` function splits an array into multiple sub-arrays vertically (row-wise)"
   ]
  },
  {
   "cell_type": "code",
   "execution_count": 401,
   "metadata": {},
   "outputs": [
    {
     "name": "stdout",
     "output_type": "stream",
     "text": [
      "[[ 0  1  2  3]\n",
      " [ 4  5  6  7]\n",
      " [ 8  9 10 11]\n",
      " [12 13 14 15]\n",
      " [16 17 18 19]\n",
      " [20 21 22 23]]\n"
     ]
    }
   ],
   "source": [
    "my_array = np.arange(24).reshape(6, 4)\n",
    "print(my_array)"
   ]
  },
  {
   "cell_type": "code",
   "execution_count": 402,
   "metadata": {},
   "outputs": [
    {
     "data": {
      "text/plain": [
       "[array([[ 0,  1],\n",
       "        [ 4,  5],\n",
       "        [ 8,  9],\n",
       "        [12, 13],\n",
       "        [16, 17],\n",
       "        [20, 21]]), array([[ 2,  3],\n",
       "        [ 6,  7],\n",
       "        [10, 11],\n",
       "        [14, 15],\n",
       "        [18, 19],\n",
       "        [22, 23]])]"
      ]
     },
     "execution_count": 402,
     "metadata": {},
     "output_type": "execute_result"
    }
   ],
   "source": [
    "np.hsplit(my_array, 2) # split the array into 2 equal sub-arrays column-wise "
   ]
  },
  {
   "cell_type": "code",
   "execution_count": 398,
   "metadata": {},
   "outputs": [
    {
     "data": {
      "text/plain": [
       "[array([[0, 1, 2, 3],\n",
       "        [4, 5, 6, 7]]), array([[ 8,  9, 10, 11],\n",
       "        [12, 13, 14, 15]]), array([[16, 17, 18, 19],\n",
       "        [20, 21, 22, 23]])]"
      ]
     },
     "execution_count": 398,
     "metadata": {},
     "output_type": "execute_result"
    }
   ],
   "source": [
    "np.vsplit(my_array, 3) # split the array into 3 equal sub-arrays row-wise "
   ]
  },
  {
   "cell_type": "markdown",
   "metadata": {},
   "source": [
    "See also `split`, `dsplit`, etc.\n",
    "\n",
    "NOTE: The rows and colums must be split in into sections that are perfect divisors of the axis length or an error will result."
   ]
  },
  {
   "cell_type": "markdown",
   "metadata": {},
   "source": [
    "#### Part 5 (Adding, modifying and removing elements of arrays):"
   ]
  },
  {
   "cell_type": "markdown",
   "metadata": {},
   "source": [
    "##### Example 5.1 (Adding, modifying and removing elements of arrays using `delete`):\n",
    "\n",
    "- The `delete` function returns a new array with sub-arrays along an axis deleted "
   ]
  },
  {
   "cell_type": "code",
   "execution_count": 403,
   "metadata": {},
   "outputs": [
    {
     "name": "stdout",
     "output_type": "stream",
     "text": [
      "[[ 0  1  2  3]\n",
      " [ 4  5  6  7]\n",
      " [ 8  9 10 11]\n",
      " [12 13 14 15]\n",
      " [16 17 18 19]\n",
      " [20 21 22 23]]\n"
     ]
    }
   ],
   "source": [
    "my_array = np.arange(24).reshape(6, 4)\n",
    "print(my_array)"
   ]
  },
  {
   "cell_type": "code",
   "execution_count": 404,
   "metadata": {},
   "outputs": [
    {
     "data": {
      "text/plain": [
       "array([[ 0,  1,  2,  3],\n",
       "       [ 4,  5,  6,  7],\n",
       "       [ 8,  9, 10, 11],\n",
       "       [16, 17, 18, 19],\n",
       "       [20, 21, 22, 23]])"
      ]
     },
     "execution_count": 404,
     "metadata": {},
     "output_type": "execute_result"
    }
   ],
   "source": [
    "np.delete(my_array, 3, 0) # delete the 4th row which is in the 0 axis"
   ]
  },
  {
   "cell_type": "markdown",
   "metadata": {},
   "source": [
    "##### Example 5.2 (Adding, modifying and removing elements of arrays using `resize`):\n",
    "\n",
    "- The `resize` function returns a new array with the specified shape "
   ]
  },
  {
   "cell_type": "code",
   "execution_count": 405,
   "metadata": {},
   "outputs": [
    {
     "name": "stdout",
     "output_type": "stream",
     "text": [
      "[[ 0  1  2  3]\n",
      " [ 4  5  6  7]\n",
      " [ 8  9 10 11]\n",
      " [12 13 14 15]\n",
      " [16 17 18 19]\n",
      " [20 21 22 23]]\n"
     ]
    }
   ],
   "source": [
    "my_array = np.arange(24).reshape(6, 4)\n",
    "print(my_array)"
   ]
  },
  {
   "cell_type": "code",
   "execution_count": 406,
   "metadata": {},
   "outputs": [
    {
     "data": {
      "text/plain": [
       "array([[ 0,  1,  2],\n",
       "       [ 3,  4,  5],\n",
       "       [ 6,  7,  8],\n",
       "       [ 9, 10, 11],\n",
       "       [12, 13, 14],\n",
       "       [15, 16, 17],\n",
       "       [18, 19, 20]])"
      ]
     },
     "execution_count": 406,
     "metadata": {},
     "output_type": "execute_result"
    }
   ],
   "source": [
    "np.resize(my_array, (7,3)) # can be smaller than original array (then deletes numbers)"
   ]
  },
  {
   "cell_type": "code",
   "execution_count": 407,
   "metadata": {},
   "outputs": [
    {
     "data": {
      "text/plain": [
       "array([[ 0,  1,  2,  3,  4],\n",
       "       [ 5,  6,  7,  8,  9],\n",
       "       [10, 11, 12, 13, 14],\n",
       "       [15, 16, 17, 18, 19],\n",
       "       [20, 21, 22, 23,  0],\n",
       "       [ 1,  2,  3,  4,  5],\n",
       "       [ 6,  7,  8,  9, 10],\n",
       "       [11, 12, 13, 14, 15]])"
      ]
     },
     "execution_count": 407,
     "metadata": {},
     "output_type": "execute_result"
    }
   ],
   "source": [
    "np.resize(my_array, (8,5)) # can be larger than original array (then starts recycling numbers)"
   ]
  },
  {
   "cell_type": "markdown",
   "metadata": {},
   "source": [
    "##### Example 5.3 (Adding, modifying and removing elements of arrays using `insert`):\n",
    "\n",
    "- The `insert` function inserts values along the given axis before the given indices"
   ]
  },
  {
   "cell_type": "code",
   "execution_count": 408,
   "metadata": {},
   "outputs": [
    {
     "name": "stdout",
     "output_type": "stream",
     "text": [
      "[[0 1 2 3 4]\n",
      " [5 6 7 8 9]]\n"
     ]
    }
   ],
   "source": [
    "my_array_1 = np.arange(10).reshape(2,5)\n",
    "print(my_array_1)"
   ]
  },
  {
   "cell_type": "code",
   "execution_count": 409,
   "metadata": {},
   "outputs": [
    {
     "data": {
      "text/plain": [
       "array([[  0,   1,   2,   3,   4],\n",
       "       [100, 100, 100, 100, 100],\n",
       "       [  5,   6,   7,   8,   9]])"
      ]
     },
     "execution_count": 409,
     "metadata": {},
     "output_type": "execute_result"
    }
   ],
   "source": [
    "np.insert(my_array_1, 1, 100, axis = 0) # insert 100 before the 1st index in axis 0"
   ]
  },
  {
   "cell_type": "markdown",
   "metadata": {},
   "source": [
    "NOTE: See also `append`, `trim_zeros`, etc."
   ]
  },
  {
   "cell_type": "markdown",
   "metadata": {},
   "source": [
    "### 4.4.6 Group 4: NumPy Array Iteration Routines:"
   ]
  },
  {
   "cell_type": "markdown",
   "metadata": {},
   "source": [
    "__Overview:__\n",
    "- It is possible to iterate over NumPy Arrays without the use of any additional function, but the capabilities are limited\n",
    "- Instead, iterating over NumPy Arrays in Pythong is better using the [`nditer`](https://docs.scipy.org/doc/numpy/reference/generated/numpy.nditer.html#numpy.nditer)\n",
    "- Iterating over arrays can range from the most basic (i.e. visiting every element in an array) to the most advanced (i.e. wrapping a loop in Cython)\n",
    "- In general, there are many ways to iterate over NumPy arrays and information about each method can be found [here](https://docs.scipy.org/doc/numpy/reference/arrays.nditer.html)\n",
    "\n",
    "__Helpful Points:__\n",
    "1. Recall in the introduction of NumPy that NumPy Array's advanced capabilities of __Broadcasting__, in some cases, reduce the need to write a for loop. We will see broadcasting in the next section \n",
    "\n",
    "__Practice:__ Examples of NumPy Array Iteration Routines in Python "
   ]
  },
  {
   "cell_type": "markdown",
   "metadata": {},
   "source": [
    "##### Example 1 (Array Iteration without `nditer`):"
   ]
  },
  {
   "cell_type": "code",
   "execution_count": 410,
   "metadata": {},
   "outputs": [
    {
     "name": "stdout",
     "output_type": "stream",
     "text": [
      "[[0 1 2]\n",
      " [3 4 5]]\n"
     ]
    }
   ],
   "source": [
    "my_array = np.arange(6).reshape(2,3)\n",
    "print(my_array)"
   ]
  },
  {
   "cell_type": "code",
   "execution_count": 411,
   "metadata": {},
   "outputs": [
    {
     "name": "stdout",
     "output_type": "stream",
     "text": [
      "[0 1 2]\n",
      "[3 4 5]\n"
     ]
    }
   ],
   "source": [
    "for row in my_array: # iterates over rows \n",
    "    print(row)"
   ]
  },
  {
   "cell_type": "code",
   "execution_count": 412,
   "metadata": {},
   "outputs": [
    {
     "data": {
      "text/plain": [
       "<numpy.flatiter at 0x7fb8f595ee00>"
      ]
     },
     "execution_count": 412,
     "metadata": {},
     "output_type": "execute_result"
    }
   ],
   "source": [
    "my_array.flat # the flat function returns an iterator which we can iterate over "
   ]
  },
  {
   "cell_type": "code",
   "execution_count": 413,
   "metadata": {},
   "outputs": [
    {
     "name": "stdout",
     "output_type": "stream",
     "text": [
      "0\n",
      "1\n",
      "2\n",
      "3\n",
      "4\n",
      "5\n"
     ]
    }
   ],
   "source": [
    "for element in my_array.flat: # iterates over every element in the array \n",
    "    print(element)"
   ]
  },
  {
   "cell_type": "markdown",
   "metadata": {},
   "source": [
    "##### Example 2 (Array Iteration with `nditer`):"
   ]
  },
  {
   "cell_type": "code",
   "execution_count": 414,
   "metadata": {},
   "outputs": [
    {
     "name": "stdout",
     "output_type": "stream",
     "text": [
      "[[0 1 2]\n",
      " [3 4 5]]\n"
     ]
    }
   ],
   "source": [
    "my_array = np.arange(6).reshape(2,3)\n",
    "print(my_array)"
   ]
  },
  {
   "cell_type": "code",
   "execution_count": 415,
   "metadata": {},
   "outputs": [
    {
     "name": "stdout",
     "output_type": "stream",
     "text": [
      "0\n",
      "1\n",
      "2\n",
      "3\n",
      "4\n",
      "5\n"
     ]
    }
   ],
   "source": [
    "for elem in np.nditer(my_array): # loop through every element of the array (same as np.flat above)\n",
    "    print(elem)"
   ]
  },
  {
   "cell_type": "code",
   "execution_count": 416,
   "metadata": {},
   "outputs": [
    {
     "name": "stdout",
     "output_type": "stream",
     "text": [
      "[[0 3]\n",
      " [1 4]\n",
      " [2 5]]\n"
     ]
    }
   ],
   "source": [
    "print(my_array.T)# take the transpose of the array "
   ]
  },
  {
   "cell_type": "code",
   "execution_count": 417,
   "metadata": {},
   "outputs": [
    {
     "name": "stdout",
     "output_type": "stream",
     "text": [
      "0\n",
      "1\n",
      "2\n",
      "3\n",
      "4\n",
      "5\n"
     ]
    }
   ],
   "source": [
    "for elem in np.nditer(my_array.T): # loop through every element of the array (same as np.flat above)\n",
    "    print(elem)"
   ]
  },
  {
   "cell_type": "markdown",
   "metadata": {},
   "source": [
    "You will notice that if we print every element of the array, then [transpose](https://en.wikipedia.org/wiki/Transpose) the array and print every element again, the same result is shown. This is because the `nditer` function iterates over elements in the order that they exist in memory, not necessarily in the order they are shown in the array. "
   ]
  },
  {
   "cell_type": "code",
   "execution_count": 418,
   "metadata": {},
   "outputs": [
    {
     "name": "stdout",
     "output_type": "stream",
     "text": [
      "0\n",
      "1\n",
      "2\n",
      "3\n",
      "4\n",
      "5\n"
     ]
    }
   ],
   "source": [
    "for elem in np.nditer(my_array, order = \"C\"): # loop through every element of the array in contiguous order (by row)\n",
    "    print(elem)"
   ]
  },
  {
   "cell_type": "code",
   "execution_count": 420,
   "metadata": {},
   "outputs": [
    {
     "name": "stdout",
     "output_type": "stream",
     "text": [
      "0\n",
      "3\n",
      "1\n",
      "4\n",
      "2\n",
      "5\n"
     ]
    }
   ],
   "source": [
    "for elem in np.nditer(my_array.T, order = \"C\"): # loop through every element of the array in contiguous order (by row)\n",
    "    print(elem)                                 #notice that this is (.T) transposed"
   ]
  },
  {
   "cell_type": "markdown",
   "metadata": {},
   "source": [
    "You will notice that now the two iterations print out different values. Therefore, the `nditer` iterator is iterating over elements as they appear in the array and not as they appaear in memory. To achieve this result, we had to specify the order as \"C\" for [contiguous](https://en.wikipedia.org/wiki/Contiguity#Computer_science)"
   ]
  },
  {
   "cell_type": "markdown",
   "metadata": {},
   "source": [
    "##### Example 3 (Modifying array results):"
   ]
  },
  {
   "cell_type": "code",
   "execution_count": 421,
   "metadata": {},
   "outputs": [
    {
     "name": "stdout",
     "output_type": "stream",
     "text": [
      "[[0 1 2]\n",
      " [3 4 5]]\n"
     ]
    }
   ],
   "source": [
    "my_array = np.arange(6).reshape(2,3)\n",
    "print(my_array)"
   ]
  },
  {
   "cell_type": "code",
   "execution_count": 422,
   "metadata": {},
   "outputs": [
    {
     "ename": "ValueError",
     "evalue": "assignment destination is read-only",
     "output_type": "error",
     "traceback": [
      "\u001b[0;31m---------------------------------------------------------------------------\u001b[0m",
      "\u001b[0;31mValueError\u001b[0m                                Traceback (most recent call last)",
      "\u001b[0;32m<ipython-input-422-acad7afbf9c9>\u001b[0m in \u001b[0;36m<module>\u001b[0;34m()\u001b[0m\n\u001b[1;32m      1\u001b[0m \u001b[0;32mfor\u001b[0m \u001b[0melem\u001b[0m \u001b[0;32min\u001b[0m \u001b[0mnp\u001b[0m\u001b[0;34m.\u001b[0m\u001b[0mnditer\u001b[0m\u001b[0;34m(\u001b[0m\u001b[0mmy_array\u001b[0m\u001b[0;34m)\u001b[0m\u001b[0;34m:\u001b[0m \u001b[0;31m# add 10 to every value in the array\u001b[0m\u001b[0;34m\u001b[0m\u001b[0m\n\u001b[0;32m----> 2\u001b[0;31m     \u001b[0melem\u001b[0m\u001b[0;34m[\u001b[0m\u001b[0;34m...\u001b[0m\u001b[0;34m]\u001b[0m \u001b[0;34m=\u001b[0m \u001b[0melem\u001b[0m \u001b[0;34m+\u001b[0m \u001b[0;36m10\u001b[0m\u001b[0;34m\u001b[0m\u001b[0m\n\u001b[0m\u001b[1;32m      3\u001b[0m \u001b[0;34m\u001b[0m\u001b[0m\n\u001b[1;32m      4\u001b[0m \u001b[0mprint\u001b[0m\u001b[0;34m(\u001b[0m\u001b[0mmy_array\u001b[0m\u001b[0;34m)\u001b[0m\u001b[0;34m\u001b[0m\u001b[0m\n",
      "\u001b[0;31mValueError\u001b[0m: assignment destination is read-only"
     ]
    }
   ],
   "source": [
    "for elem in np.nditer(my_array): # add 10 to every value in the array \n",
    "    elem[...] = elem + 10\n",
    "\n",
    "print(my_array)"
   ]
  },
  {
   "cell_type": "markdown",
   "metadata": {},
   "source": [
    "We can see that by default, the `nditer` function treats the input array as a read-only object so we can't modify the array elements. \n",
    "\n",
    "NOTE: We need the `Elipsis` object here because in variable assignment, Python changes a reference to the variable and does not modify the existing variable in place. Therefore, if we assigned the element of the array (`elem`) to a new value (i.e. `elem` = `elem` + 10), it would not change the variable `elem` in place. Instead, it would point the variable `elem` to reference a new value and no longer be an array element. To actually modify the element of the array in place, we need to use the `Elipsis` object. "
   ]
  },
  {
   "cell_type": "code",
   "execution_count": 423,
   "metadata": {},
   "outputs": [
    {
     "name": "stdout",
     "output_type": "stream",
     "text": [
      "[[10 11 12]\n",
      " [13 14 15]]\n"
     ]
    }
   ],
   "source": [
    "for elem in np.nditer(my_array, op_flags=[\"readwrite\"]): # add 10 to every value in the array \n",
    "    elem[...] = elem + 10\n",
    "\n",
    "print(my_array)"
   ]
  },
  {
   "cell_type": "markdown",
   "metadata": {},
   "source": [
    "We can see that by using the `op_flags` argument, we can modify the array elements. "
   ]
  },
  {
   "cell_type": "markdown",
   "metadata": {},
   "source": [
    "### 4.4.7 Group 5: NumPy Array Basic Operations:"
   ]
  },
  {
   "cell_type": "markdown",
   "metadata": {},
   "source": [
    "### 4.4.7.1 Broadcasting:"
   ]
  },
  {
   "cell_type": "markdown",
   "metadata": {},
   "source": [
    "__Overview:__\n",
    "- Before we explore basic operations with NumPy, we have to understand Broadcasting which is a key concept that underlies most of NumPy's operation routines \n",
    "- __[Broadcasting](https://docs.scipy.org/doc/numpy/user/basics.broadcasting.html):__ Broadcasting in NumPy describes how arrays with different shapes are handled during arithmetic operations\n",
    "- In general, the smaller array is \"broadcast\" across the larger array so that they eventually have compatible shapes\n",
    "- Broadcasting occurs according to two rules:\n",
    "> 1. If all input arrays do not have the same number of dimensions, a \"1\" will be repeatedly prepended to the shapes of the smaller arrays until all the arrays have the same number of dimensions\n",
    "> 2. An array of size 1 along a particular dimension acts as if they had the size of the array with the largest shape along that dimension \n",
    "- Two arrays are evaluated for compatibility by starting at the trailing dimensions (first dimension on the right) and then working forward, one dimension at a time. At each dimension, the 2 arrays (in that dimension) are evaluated for compatibility. The two dimensions are compatible if: \n",
    "> 1. The two dimensions are equal, or\n",
    "> 2. One of the two dimensions is equal to 1 \n",
    "\n",
    "NOTE: If at any point in the comparison of dimensions that either of two conditions above fails, the 2 arrays are not compatible and an error will be raised. \n",
    "\n",
    "__Helpful Points:__\n",
    "1. Recall that Broadcasting is what allows us to perform vectorized operations on arrays which reduce the need for loops\n",
    "2. Recall when we were working with Advanced Indexing in NumPy arrays that broadcasting was at play. Now you should be able to go back to that section and re-work the examples with more appreciation \n",
    "\n",
    "__Practice:__ Examples of Broadcasting in NumPy"
   ]
  },
  {
   "cell_type": "markdown",
   "metadata": {},
   "source": [
    "#### Part 1 (Broadcasting Rules):"
   ]
  },
  {
   "cell_type": "markdown",
   "metadata": {},
   "source": [
    "##### Example 1.1 (Broadcasting Rules - 1):"
   ]
  },
  {
   "cell_type": "markdown",
   "metadata": {},
   "source": [
    "`A      (2d array):  5 x 4`<br>\n",
    "`B      (1d array):      1`<br>\n",
    "`Result (2d array):  5 x 4`<br>"
   ]
  },
  {
   "cell_type": "markdown",
   "metadata": {},
   "source": [
    "Array A and B are compared according to the principles outlined above. Specifically,\n",
    "\n",
    "- Firsly, Array A is 2d and Array B is 1d, so a \"1\" is prepended to Array B so that they can both be 2d arrays\n",
    "- Secondly, starting at the trailing dimension, the two elements are compared for compatbility:\n",
    "> a. Array B (1) vs. Array A (4). According to the compatibility principles, they are compatible since one of the 2 dimensions is equal to 1. The result in this dimension takes the size of Array B (4) since it was the largest of the 2.<br>\n",
    "> b. Array B (1) vs. Array A (5). According to the compatibility principles, they are compatible since one of the 2 dimensions is equal to 1. The result in this dimension takes the size of Array B (5) since it was the largest of the 2. "
   ]
  },
  {
   "cell_type": "markdown",
   "metadata": {},
   "source": [
    "##### Example 1.2 (Broadcasting Rules - 2):"
   ]
  },
  {
   "cell_type": "markdown",
   "metadata": {},
   "source": [
    "`A      (3d array):  15 x 3 x 5`<br>\n",
    "`B      (2d array):       3 x 1`<br>\n",
    "`Result (3d array):  15 x 3 x 5`<br>"
   ]
  },
  {
   "cell_type": "markdown",
   "metadata": {},
   "source": [
    "Array A and B are compared according to the principles outlined above. Specifically,\n",
    "\n",
    "- Firsly, Array A is 3d and Array B is 2d, so a \"1\" is prepended to Array B so that they can both be 3d arrays\n",
    "- Secondly, starting at the trailing dimension, the two elements are compared for compatbility:\n",
    "> a. Array B (1) vs. Array A (5). According to the compatibility principles, they are compatible since one of the 2 dimensions is equal to 1. The result in this dimension takes the size of Array B (5) since it was the largest of the 2. <br>\n",
    "> b. Array B (3) vs. Array A (3). According to the compatibility principles, they are compatible since the 2 dimensions are equal. The result takes thid dimension (3).<br>\n",
    "> c. Array B (1) vs. Array A (15). According to the compatibility principles, they are compatible since one of the 2 dimensions is equal to 1. The result in this dimension takes the size of Array B (15) since it was the largest of the 2. "
   ]
  },
  {
   "cell_type": "markdown",
   "metadata": {},
   "source": [
    "##### Example 1.3 (Broadcasting Rules - 3):"
   ]
  },
  {
   "cell_type": "markdown",
   "metadata": {},
   "source": [
    "`A      (2d array):      2 x 1`<br>\n",
    "`B      (3d array):  8 x 4 x 3`<br>"
   ]
  },
  {
   "cell_type": "markdown",
   "metadata": {},
   "source": [
    "Array A and B are compared according to the principles outlined above. Specifically,\n",
    "\n",
    "- Firsly, Array A is 2d and Array B is 3d, so a \"1\" is prepended to Array A so that they can both be 3d arrays\n",
    "- Secondly, starting at the trailing dimension, the two elements are compared for compatbility:\n",
    "> a. Array B (3) vs. Array A (1). According to the compatibility principles, they are compatible since one of the 2 dimensions is equal to 1. The result in this dimension takes the size of Array B (3) since it was the largest of the 2. <br>\n",
    "> b. Array B (4) vs. Array A (2). According to the compatibility principles, they are not compatible since the 2 dimensions are equal nor is one of the 2 dimensions equal to 1.\n",
    "\n",
    "Therefore, we say that Array A and Array B are not \"broadcast-able\" with each other "
   ]
  },
  {
   "cell_type": "markdown",
   "metadata": {},
   "source": [
    "#### Part 2 (Practical Examples):"
   ]
  },
  {
   "cell_type": "markdown",
   "metadata": {},
   "source": [
    "##### Example 2.1 (Two Arrays with Same Shapes):"
   ]
  },
  {
   "cell_type": "code",
   "execution_count": 424,
   "metadata": {},
   "outputs": [
    {
     "name": "stdout",
     "output_type": "stream",
     "text": [
      "[[ 0  1  2  3  4  5]\n",
      " [ 6  7  8  9 10 11]]\n",
      "[[1. 1. 1. 1. 1. 1.]\n",
      " [1. 1. 1. 1. 1. 1.]]\n"
     ]
    }
   ],
   "source": [
    "array_1 = np.arange(12).reshape(2,6)\n",
    "array_2 = np.ones((2,6))\n",
    "print(array_1)\n",
    "print(array_2)"
   ]
  },
  {
   "cell_type": "code",
   "execution_count": 425,
   "metadata": {},
   "outputs": [
    {
     "data": {
      "text/plain": [
       "array([[ 1.,  2.,  3.,  4.,  5.,  6.],\n",
       "       [ 7.,  8.,  9., 10., 11., 12.]])"
      ]
     },
     "execution_count": 425,
     "metadata": {},
     "output_type": "execute_result"
    }
   ],
   "source": [
    "array_1 + array_2 # add 2 arrays"
   ]
  },
  {
   "cell_type": "markdown",
   "metadata": {},
   "source": [
    "We see that addition here is performed element-wise which requires the 2 arrays to have exactly the same shape. But what if you want to add 2 arrays, that don't have the same shape? See below"
   ]
  },
  {
   "cell_type": "markdown",
   "metadata": {},
   "source": [
    "##### Example 2.2 (Two Arrays with Different Shapes - 1):"
   ]
  },
  {
   "cell_type": "code",
   "execution_count": 426,
   "metadata": {},
   "outputs": [
    {
     "name": "stdout",
     "output_type": "stream",
     "text": [
      "[1 2 3]\n",
      "2\n"
     ]
    }
   ],
   "source": [
    "array_1 = np.arange(1,4)\n",
    "scalar_1 = 2\n",
    "print(array_1)\n",
    "print(scalar_1)"
   ]
  },
  {
   "cell_type": "code",
   "execution_count": 427,
   "metadata": {},
   "outputs": [
    {
     "data": {
      "text/plain": [
       "(3,)"
      ]
     },
     "execution_count": 427,
     "metadata": {},
     "output_type": "execute_result"
    }
   ],
   "source": [
    "array_1.shape"
   ]
  },
  {
   "cell_type": "code",
   "execution_count": 428,
   "metadata": {},
   "outputs": [
    {
     "data": {
      "text/plain": [
       "array([2, 4, 6])"
      ]
     },
     "execution_count": 428,
     "metadata": {},
     "output_type": "execute_result"
    }
   ],
   "source": [
    "array_1 * scalar_1 # multiply every element in the array by 2"
   ]
  },
  {
   "cell_type": "markdown",
   "metadata": {},
   "source": [
    "In this case, `scalar_1` is being \"stretched\" during arithmetic operation into an array with the same shape as `array_1`. See below for a visualization of this example: <img src=\"img26.gif\">\n",
    "\n",
    "Notice also that this is effectively a dot product, which is actually a stretch along a number line, or can be thought of as a proportionality. The smell of vectors really is getting stronger, isn't it?"
   ]
  },
  {
   "cell_type": "markdown",
   "metadata": {},
   "source": [
    "##### Example 2.3 (Two Arrays with Different Shapes - 2):"
   ]
  },
  {
   "cell_type": "code",
   "execution_count": 429,
   "metadata": {},
   "outputs": [
    {
     "name": "stdout",
     "output_type": "stream",
     "text": [
      "[[ 0.  0.  0.]\n",
      " [10. 10. 10.]\n",
      " [20. 20. 20.]\n",
      " [30. 30. 30.]]\n",
      "[1. 2. 3.]\n"
     ]
    }
   ],
   "source": [
    "a = np.array([[ 0.0, 0.0, 0.0],\n",
    "            [10.0,10.0,10.0],\n",
    "            [20.0,20.0,20.0],\n",
    "            [30.0,30.0,30.0]])\n",
    "b = np.array([1.0,2.0,3.0])\n",
    "print(a)\n",
    "print(b)"
   ]
  },
  {
   "cell_type": "code",
   "execution_count": 430,
   "metadata": {},
   "outputs": [
    {
     "name": "stdout",
     "output_type": "stream",
     "text": [
      "(4, 3) 2\n",
      "(3,) 1\n"
     ]
    }
   ],
   "source": [
    "print(a.shape, a.ndim) \n",
    "print(b.shape, b.ndim)"
   ]
  },
  {
   "cell_type": "code",
   "execution_count": 431,
   "metadata": {},
   "outputs": [
    {
     "data": {
      "text/plain": [
       "array([[ 1.,  2.,  3.],\n",
       "       [11., 12., 13.],\n",
       "       [21., 22., 23.],\n",
       "       [31., 32., 33.]])"
      ]
     },
     "execution_count": 431,
     "metadata": {},
     "output_type": "execute_result"
    }
   ],
   "source": [
    "a + b # add two arrays "
   ]
  },
  {
   "cell_type": "code",
   "execution_count": 432,
   "metadata": {},
   "outputs": [
    {
     "name": "stdout",
     "output_type": "stream",
     "text": [
      "(4, 3)\n"
     ]
    }
   ],
   "source": [
    "print((a+b).shape)"
   ]
  },
  {
   "cell_type": "markdown",
   "metadata": {},
   "source": [
    "In this case, Array A is 2d and Array B is 1d. Array B has \"1\" prepended so that it matches the number of dimensions as Array A. (This isn't visually or intuitively obvious at first, but a careful study and review of previous examples show this.) Then, the two arrays are compared for compatibility from their trailing dimensions:\n",
    "\n",
    "> a. Array B (3) vs. Array A (3). According to the compatibility principles, they are compatible since the 2 dimensions are equal. The result is equal to this value. <br>\n",
    "> b. Array B (1) vs. Array A (4). According to the compatibility principles, they are compatible since one of the 2 dimensions is equal to 1. The result in this dimension takes the size of Array A (4) since it was the largest of the 2. <br>\n",
    "\n",
    "Therefore, the result is an array of shape `(4,3)` and this is exactly what we see when add the two arrays together. \n",
    "\n",
    "`b` is \"stretched\" down 4 times so that it can be compatible with `a`. See below for a visualization of this example: <img src=\"img27.gif\">"
   ]
  },
  {
   "cell_type": "markdown",
   "metadata": {},
   "source": [
    "##### Example 2.4 (Two Arrays with Different Shapes - 3):"
   ]
  },
  {
   "cell_type": "code",
   "execution_count": 444,
   "metadata": {},
   "outputs": [
    {
     "name": "stdout",
     "output_type": "stream",
     "text": [
      "[ 0. 10. 20. 30.]\n",
      "[0. 1. 2.]\n"
     ]
    }
   ],
   "source": [
    "a = np.array([0.0,10.0,20.0,30.0])\n",
    "b = np.array([0.0,1.0,2.0])\n",
    "print(a)\n",
    "print(b)"
   ]
  },
  {
   "cell_type": "code",
   "execution_count": 445,
   "metadata": {},
   "outputs": [
    {
     "name": "stdout",
     "output_type": "stream",
     "text": [
      "(4,) 1\n",
      "(3,) 1\n"
     ]
    }
   ],
   "source": [
    "print(a.shape, a.ndim) \n",
    "print(b.shape, b.ndim)"
   ]
  },
  {
   "cell_type": "code",
   "execution_count": 446,
   "metadata": {
    "scrolled": true
   },
   "outputs": [
    {
     "ename": "ValueError",
     "evalue": "operands could not be broadcast together with shapes (4,) (3,) ",
     "output_type": "error",
     "traceback": [
      "\u001b[0;31m---------------------------------------------------------------------------\u001b[0m",
      "\u001b[0;31mValueError\u001b[0m                                Traceback (most recent call last)",
      "\u001b[0;32m<ipython-input-446-096341242e93>\u001b[0m in \u001b[0;36m<module>\u001b[0;34m()\u001b[0m\n\u001b[0;32m----> 1\u001b[0;31m \u001b[0ma\u001b[0m \u001b[0;34m+\u001b[0m \u001b[0mb\u001b[0m \u001b[0;31m# add two arrays\u001b[0m\u001b[0;34m\u001b[0m\u001b[0m\n\u001b[0m",
      "\u001b[0;31mValueError\u001b[0m: operands could not be broadcast together with shapes (4,) (3,) "
     ]
    }
   ],
   "source": [
    "a + b # add two arrays "
   ]
  },
  {
   "cell_type": "markdown",
   "metadata": {},
   "source": [
    "__The arrays `a` and `b` can not be broadcasted together because their trailing dimension value (3 for `b` and 4 for `a`) is incompatible by definition. Instead, we have to modify one of the arrays to make them compatible.__"
   ]
  },
  {
   "cell_type": "code",
   "execution_count": 447,
   "metadata": {},
   "outputs": [
    {
     "name": "stdout",
     "output_type": "stream",
     "text": [
      "[ 0. 10. 20. 30.]\n"
     ]
    }
   ],
   "source": [
    "print(a)"
   ]
  },
  {
   "cell_type": "code",
   "execution_count": 448,
   "metadata": {
    "scrolled": true
   },
   "outputs": [
    {
     "name": "stdout",
     "output_type": "stream",
     "text": [
      "[[ 0.]\n",
      " [10.]\n",
      " [20.]\n",
      " [30.]]\n"
     ]
    }
   ],
   "source": [
    "# add a new dimension to array a of length 1 \n",
    "a = a[:,np.newaxis]\n",
    "print(a)"
   ]
  },
  {
   "cell_type": "code",
   "execution_count": 449,
   "metadata": {},
   "outputs": [
    {
     "name": "stdout",
     "output_type": "stream",
     "text": [
      "(4, 1) 2\n"
     ]
    }
   ],
   "source": [
    "print(a.shape, a.ndim)"
   ]
  },
  {
   "cell_type": "code",
   "execution_count": 450,
   "metadata": {
    "scrolled": true
   },
   "outputs": [
    {
     "data": {
      "text/plain": [
       "array([[ 0.,  1.,  2.],\n",
       "       [10., 11., 12.],\n",
       "       [20., 21., 22.],\n",
       "       [30., 31., 32.]])"
      ]
     },
     "execution_count": 450,
     "metadata": {},
     "output_type": "execute_result"
    }
   ],
   "source": [
    "a + b # add two arrays again "
   ]
  },
  {
   "cell_type": "code",
   "execution_count": 451,
   "metadata": {},
   "outputs": [
    {
     "name": "stdout",
     "output_type": "stream",
     "text": [
      "(4, 3)\n"
     ]
    }
   ],
   "source": [
    "print((a+b).shape)"
   ]
  },
  {
   "cell_type": "markdown",
   "metadata": {},
   "source": [
    "See below for a visualization of this example: <img src=\"img28.gif\">"
   ]
  },
  {
   "cell_type": "markdown",
   "metadata": {},
   "source": [
    "### 4.4.7.2 Basic Operations:"
   ]
  },
  {
   "cell_type": "markdown",
   "metadata": {},
   "source": [
    "__Overview:__\n",
    "- NumPy offers an extensive list of operations that can be performed on NumPy Arrays. These operations are most commonly separated based on how their routines are operated:\n",
    "> 1. Element-Wise Operators: These operators perform some operation on every element of the array, one at a time. Most of these operators are considered __[Universal Functions](https://docs.scipy.org/doc/numpy-1.14.0/reference/ufuncs.html#available-ufuncs)__ and are broken into the following categories:\n",
    ">> a. __Math Operations:__ Such as `add`, `subtract`, `absolute`, `log`, `exp`, `sqrt`, etc.<br> \n",
    ">> b. __Trigonemtric Functions:__ Such as `sin`, `cos`, etc. <br>\n",
    ">> c. __Comparison Functions:__ Such as `greater`, `less_equal`, `logical_and`, etc.\n",
    "> 2. Axis Operators: These operators perform operation on an axis level (i.e. all rows or all columns) and can be broken into the following categories: \n",
    ">> a. __Ordering:__ Such as `argmax`, `argmin`, `sort`, etc.<br> \n",
    ">> b. __Questions:__ Such as `all`, `any`, etc. <br>\n",
    ">> c. __Operations:__ Such as `cumsum`, `sum`, etc.\n",
    "\n",
    "__Helpful Points:__\n",
    "1. Information on Basic Operations in NumPy can be found [here](https://docs.scipy.org/doc/numpy-dev/user/quickstart.html#basic-operations) __It's imressive.__\n",
    "2. Both types of operations will be explored below\n",
    "\n",
    "__Practice:__ Examples of Basic Operations in NumPy Arrays in Python "
   ]
  },
  {
   "cell_type": "markdown",
   "metadata": {},
   "source": [
    "#### Part 1 (Element-Wise Operators):"
   ]
  },
  {
   "cell_type": "code",
   "execution_count": 452,
   "metadata": {},
   "outputs": [
    {
     "name": "stdout",
     "output_type": "stream",
     "text": [
      "[[ 0  1  2  3]\n",
      " [ 4  5  6  7]\n",
      " [ 8  9 10 11]]\n",
      "[[12 13 14 15]\n",
      " [16 17 18 19]\n",
      " [20 21 22 23]]\n"
     ]
    }
   ],
   "source": [
    "my_array_1 = np.arange(12).reshape(3,4)\n",
    "my_array_2 = np.arange(12,24).reshape(3,4)\n",
    "print(my_array_1)\n",
    "print(my_array_2)"
   ]
  },
  {
   "cell_type": "markdown",
   "metadata": {},
   "source": [
    "##### Example 1.1 (Math Operations):\n",
    "\n",
    "The whole list of functions can be found [here](https://docs.scipy.org/doc/numpy-1.14.0/reference/ufuncs.html#math-operations). It is impressive."
   ]
  },
  {
   "cell_type": "code",
   "execution_count": 455,
   "metadata": {},
   "outputs": [
    {
     "data": {
      "text/plain": [
       "array([[12, 14, 16, 18],\n",
       "       [20, 22, 24, 26],\n",
       "       [28, 30, 32, 34]])"
      ]
     },
     "execution_count": 455,
     "metadata": {},
     "output_type": "execute_result"
    }
   ],
   "source": [
    "np.add(my_array_1, my_array_2) # add"
   ]
  },
  {
   "cell_type": "code",
   "execution_count": 456,
   "metadata": {},
   "outputs": [
    {
     "data": {
      "text/plain": [
       "array([[ 0.,  5., 10., 15.],\n",
       "       [20., 25., 30., 35.],\n",
       "       [40., 45., 50., 55.]])"
      ]
     },
     "execution_count": 456,
     "metadata": {},
     "output_type": "execute_result"
    }
   ],
   "source": [
    "np.multiply(my_array_1, 5.0) # multiply"
   ]
  },
  {
   "cell_type": "code",
   "execution_count": 457,
   "metadata": {},
   "outputs": [
    {
     "data": {
      "text/plain": [
       "array([[3.46410162, 3.60555128, 3.74165739, 3.87298335],\n",
       "       [4.        , 4.12310563, 4.24264069, 4.35889894],\n",
       "       [4.47213595, 4.58257569, 4.69041576, 4.79583152]])"
      ]
     },
     "execution_count": 457,
     "metadata": {},
     "output_type": "execute_result"
    }
   ],
   "source": [
    "np.sqrt(my_array_2) # sqrt"
   ]
  },
  {
   "cell_type": "code",
   "execution_count": 458,
   "metadata": {},
   "outputs": [
    {
     "data": {
      "text/plain": [
       "array([[  0,   1,   4,   9],\n",
       "       [ 16,  25,  36,  49],\n",
       "       [ 64,  81, 100, 121]])"
      ]
     },
     "execution_count": 458,
     "metadata": {},
     "output_type": "execute_result"
    }
   ],
   "source": [
    "np.square(my_array_1) # square"
   ]
  },
  {
   "cell_type": "code",
   "execution_count": 460,
   "metadata": {},
   "outputs": [
    {
     "data": {
      "text/plain": [
       "array([[1.62754791e+05, 4.42413392e+05, 1.20260428e+06, 3.26901737e+06],\n",
       "       [8.88611052e+06, 2.41549528e+07, 6.56599691e+07, 1.78482301e+08],\n",
       "       [4.85165195e+08, 1.31881573e+09, 3.58491285e+09, 9.74480345e+09]])"
      ]
     },
     "execution_count": 460,
     "metadata": {},
     "output_type": "execute_result"
    }
   ],
   "source": [
    "np.exp(my_array_2) # exp"
   ]
  },
  {
   "cell_type": "markdown",
   "metadata": {},
   "source": [
    "##### Example 1.2 (Trigonemtric Functions):\n",
    "\n",
    "See the whole list of functions [here](https://docs.scipy.org/doc/numpy-1.14.0/reference/ufuncs.html#trigonometric-functions)"
   ]
  },
  {
   "cell_type": "code",
   "execution_count": 461,
   "metadata": {},
   "outputs": [
    {
     "data": {
      "text/plain": [
       "array([[ 0.        ,  0.84147098,  0.90929743,  0.14112001],\n",
       "       [-0.7568025 , -0.95892427, -0.2794155 ,  0.6569866 ],\n",
       "       [ 0.98935825,  0.41211849, -0.54402111, -0.99999021]])"
      ]
     },
     "execution_count": 461,
     "metadata": {},
     "output_type": "execute_result"
    }
   ],
   "source": [
    "np.sin(my_array_1) # sin "
   ]
  },
  {
   "cell_type": "code",
   "execution_count": 462,
   "metadata": {},
   "outputs": [
    {
     "data": {
      "text/plain": [
       "array([[-0.63585993,  0.46302113,  7.24460662, -0.8559934 ],\n",
       "       [ 0.30063224,  3.49391565, -1.13731371,  0.15158947],\n",
       "       [ 2.23716094, -1.52749853,  0.00885166,  1.58815308]])"
      ]
     },
     "execution_count": 462,
     "metadata": {},
     "output_type": "execute_result"
    }
   ],
   "source": [
    "np.tan(my_array_2) # tan "
   ]
  },
  {
   "cell_type": "markdown",
   "metadata": {},
   "source": [
    "##### Example 1.3 (Comparison Functions):\n",
    "\n",
    "See the whole list of functions [here](https://docs.scipy.org/doc/numpy-1.14.0/reference/ufuncs.html#comparison-functions)"
   ]
  },
  {
   "cell_type": "code",
   "execution_count": 465,
   "metadata": {},
   "outputs": [
    {
     "name": "stdout",
     "output_type": "stream",
     "text": [
      "[[ 0  1  2  3]\n",
      " [ 4  5  6  7]\n",
      " [ 8  9 10 11]]\n",
      "[[12 13 14 15]\n",
      " [16 17 18 19]\n",
      " [20 21 22 23]]\n"
     ]
    }
   ],
   "source": [
    "print(my_array_1)\n",
    "print(my_array_2)"
   ]
  },
  {
   "cell_type": "code",
   "execution_count": 463,
   "metadata": {},
   "outputs": [
    {
     "data": {
      "text/plain": [
       "array([[False, False, False, False],\n",
       "       [False, False, False, False],\n",
       "       [False, False, False, False]])"
      ]
     },
     "execution_count": 463,
     "metadata": {},
     "output_type": "execute_result"
    }
   ],
   "source": [
    "np.greater(my_array_1, my_array_2) # greater than every element "
   ]
  },
  {
   "cell_type": "code",
   "execution_count": 464,
   "metadata": {},
   "outputs": [
    {
     "data": {
      "text/plain": [
       "array([[ True,  True,  True,  True],\n",
       "       [ True,  True,  True,  True],\n",
       "       [ True,  True,  True,  True]])"
      ]
     },
     "execution_count": 464,
     "metadata": {},
     "output_type": "execute_result"
    }
   ],
   "source": [
    "np.less_equal(my_array_1, my_array_2) # less than or equal to every element "
   ]
  },
  {
   "cell_type": "markdown",
   "metadata": {},
   "source": [
    "#### Part 2 (Axis Operators)"
   ]
  },
  {
   "cell_type": "code",
   "execution_count": 466,
   "metadata": {},
   "outputs": [
    {
     "name": "stdout",
     "output_type": "stream",
     "text": [
      "[[ 0  1  2  3]\n",
      " [ 4  5  6  7]\n",
      " [ 8  9 10 11]]\n",
      "[[12 13 14 15]\n",
      " [16 17 18 19]\n",
      " [20 21 22 23]]\n"
     ]
    }
   ],
   "source": [
    "my_array_1 = np.arange(12).reshape(3,4)\n",
    "my_array_2 = np.arange(12,24).reshape(3,4)\n",
    "print(my_array_1)\n",
    "print(my_array_2)"
   ]
  },
  {
   "cell_type": "markdown",
   "metadata": {},
   "source": [
    "##### Example 2.1 (Ordering):"
   ]
  },
  {
   "cell_type": "code",
   "execution_count": 467,
   "metadata": {},
   "outputs": [
    {
     "data": {
      "text/plain": [
       "11"
      ]
     },
     "execution_count": 467,
     "metadata": {},
     "output_type": "execute_result"
    }
   ],
   "source": [
    "np.argmax(my_array_1) # maximum argument "
   ]
  },
  {
   "cell_type": "code",
   "execution_count": 472,
   "metadata": {},
   "outputs": [
    {
     "data": {
      "text/plain": [
       "array([2, 2, 2, 2])"
      ]
     },
     "execution_count": 472,
     "metadata": {},
     "output_type": "execute_result"
    }
   ],
   "source": [
    "np.argmax(my_array_1, axis = 0) # maximum argumnent of axis 0 "
   ]
  },
  {
   "cell_type": "code",
   "execution_count": 473,
   "metadata": {},
   "outputs": [
    {
     "data": {
      "text/plain": [
       "23"
      ]
     },
     "execution_count": 473,
     "metadata": {},
     "output_type": "execute_result"
    }
   ],
   "source": [
    "np.max(my_array_2) # max value "
   ]
  },
  {
   "cell_type": "code",
   "execution_count": 474,
   "metadata": {},
   "outputs": [
    {
     "data": {
      "text/plain": [
       "array([[ 0,  1,  2,  3],\n",
       "       [ 4,  5,  6,  7],\n",
       "       [ 8,  9, 10, 11]])"
      ]
     },
     "execution_count": 474,
     "metadata": {},
     "output_type": "execute_result"
    }
   ],
   "source": [
    "np.sort(my_array_1) # sort values "
   ]
  },
  {
   "cell_type": "markdown",
   "metadata": {},
   "source": [
    "##### Example 2.2 (Questions):"
   ]
  },
  {
   "cell_type": "code",
   "execution_count": 475,
   "metadata": {},
   "outputs": [
    {
     "data": {
      "text/plain": [
       "False"
      ]
     },
     "execution_count": 475,
     "metadata": {},
     "output_type": "execute_result"
    }
   ],
   "source": [
    "np.all([[True,False],[True,True]]) # check if all are true "
   ]
  },
  {
   "cell_type": "code",
   "execution_count": 476,
   "metadata": {},
   "outputs": [
    {
     "data": {
      "text/plain": [
       "(array([0, 0, 0, 1, 1, 1, 1, 2, 2, 2, 2]),\n",
       " array([1, 2, 3, 0, 1, 2, 3, 0, 1, 2, 3]))"
      ]
     },
     "execution_count": 476,
     "metadata": {},
     "output_type": "execute_result"
    }
   ],
   "source": [
    "np.nonzero(my_array_1) # indices of elements that are non-zero "
   ]
  },
  {
   "cell_type": "markdown",
   "metadata": {},
   "source": [
    "##### Example 2.3 (Operations):"
   ]
  },
  {
   "cell_type": "code",
   "execution_count": 477,
   "metadata": {},
   "outputs": [
    {
     "name": "stdout",
     "output_type": "stream",
     "text": [
      "[[ 0  1  2  3]\n",
      " [ 4  5  6  7]\n",
      " [ 8  9 10 11]]\n",
      "[[12 13 14 15]\n",
      " [16 17 18 19]\n",
      " [20 21 22 23]]\n"
     ]
    }
   ],
   "source": [
    "my_array_1 = np.arange(12).reshape(3,4)\n",
    "my_array_2 = np.arange(12,24).reshape(3,4)\n",
    "print(my_array_1)\n",
    "print(my_array_2)"
   ]
  },
  {
   "cell_type": "code",
   "execution_count": 478,
   "metadata": {},
   "outputs": [
    {
     "data": {
      "text/plain": [
       "array([             12,             156,            2184,           32760,\n",
       "                524160,         8910720,       160392960,      3047466240,\n",
       "           60949324800,   1279935820800,  28158588057600, 647647525324800])"
      ]
     },
     "execution_count": 478,
     "metadata": {},
     "output_type": "execute_result"
    }
   ],
   "source": [
    "np.cumprod(my_array_2) # cumulative product by rows "
   ]
  },
  {
   "cell_type": "code",
   "execution_count": 479,
   "metadata": {},
   "outputs": [
    {
     "data": {
      "text/plain": [
       "array([ 0,  1,  3,  6, 10, 15, 21, 28, 36, 45, 55, 66])"
      ]
     },
     "execution_count": 479,
     "metadata": {},
     "output_type": "execute_result"
    }
   ],
   "source": [
    "np.cumsum(my_array_1) # cumulative sum by rows "
   ]
  },
  {
   "cell_type": "code",
   "execution_count": 480,
   "metadata": {},
   "outputs": [
    {
     "data": {
      "text/plain": [
       "66"
      ]
     },
     "execution_count": 480,
     "metadata": {},
     "output_type": "execute_result"
    }
   ],
   "source": [
    "np.sum(my_array_1) # sum of all values "
   ]
  },
  {
   "cell_type": "code",
   "execution_count": 481,
   "metadata": {},
   "outputs": [
    {
     "data": {
      "text/plain": [
       "array([48, 51, 54, 57])"
      ]
     },
     "execution_count": 481,
     "metadata": {},
     "output_type": "execute_result"
    }
   ],
   "source": [
    "np.sum(my_array_2, axis = 0) # sum of every column "
   ]
  },
  {
   "cell_type": "markdown",
   "metadata": {},
   "source": [
    "##### Problem 1 Revisited: \n",
    "\n",
    "Write a program to take a sentence and return the number of letters in each word to a list. For example, if you have the sentence: \"Slightery, slippery, tricky little snakes always steal the youngest fruit.\", your program should return the following list: `[9, 8, 6, 6, 6, 6, 5, 3, 8, 5`\n",
    "\n",
    "- Show how you can do this using a `map` + `lambda` function, but also with a traditional function definition with `def` (although this may be redundant, show it anyways so you get used to comparing `def` with `lambda` style functions \n",
    "- Some hints:\n",
    "> 1. First, initialize the sentence as a variable then use an appropriate string method to split the sentence into words\n",
    "> 2. Then, calculate the length of each word and return this to a list "
   ]
  },
  {
   "cell_type": "code",
   "execution_count": 1,
   "metadata": {},
   "outputs": [
    {
     "name": "stdout",
     "output_type": "stream",
     "text": [
      "[9, 9, 6, 6, 6, 6, 5, 3, 4, 7, 4]\n"
     ]
    }
   ],
   "source": [
    "# Write your code here\n",
    "sentence = \"Slithery, slippery, tricky little snakes always steal the most beloved egg.\"\n",
    "words = sentence.split()\n",
    "\n",
    "lengths = list(map(lambda word: len(word), words))\n",
    "print(lengths) #Notice that the period at the end of the sentence is counted."
   ]
  },
  {
   "cell_type": "code",
   "execution_count": 485,
   "metadata": {},
   "outputs": [
    {
     "name": "stdout",
     "output_type": "stream",
     "text": [
      "[10, 9, 6, 6, 6, 6, 5, 3, 8, 6]\n"
     ]
    }
   ],
   "source": [
    "# Write your code here\n",
    "def word_count(word):\n",
    "    return len(word)\n",
    "\n",
    "lengths = []\n",
    "for word in words:\n",
    "    lengths.append(word_count(word))\n",
    "\n",
    "print(lengths)"
   ]
  },
  {
   "cell_type": "markdown",
   "metadata": {},
   "source": [
    "##### Problem 2:\n",
    "\n",
    "Use list comprehension to \"flatten a list of lists\". This means that if you have a nested list (`[[1,2,3], [4,5,6], [7,8,9]]`), you want to achieve the following: `[1,2,3,4,5,6,7,8,9]` which is no longer nested. \n",
    "\n",
    "- Flatten the following list: `[[\"a\", \"b\",\"c\"], [1, 2, 3], [\"Allen\"]]` to achieve `['a', 'b', 'c', 1, 2, 3, 'Allen']`\n",
    "- Use List Comprehension and you will need a Nested For Loop equivalent \n",
    "- This is a very frequent \"problem\" to have so you should be familiar with how to handle this scenario"
   ]
  },
  {
   "cell_type": "code",
   "execution_count": 487,
   "metadata": {},
   "outputs": [
    {
     "data": {
      "text/plain": [
       "['a', 'b', 'c', 1, 2, 3, 'Allen']"
      ]
     },
     "execution_count": 487,
     "metadata": {},
     "output_type": "execute_result"
    }
   ],
   "source": [
    "# Write your code here\n",
    "nested_list = [[\"a\", \"b\",\"c\"], [1, 2, 3], [\"Allen\"]]\n",
    "[num for elem in nested_list for num in elem]"
   ]
  },
  {
   "cell_type": "code",
   "execution_count": null,
   "metadata": {},
   "outputs": [],
   "source": []
  }
 ],
 "metadata": {
  "kernelspec": {
   "display_name": "Python 3",
   "language": "python",
   "name": "python3"
  },
  "language_info": {
   "codemirror_mode": {
    "name": "ipython",
    "version": 3
   },
   "file_extension": ".py",
   "mimetype": "text/x-python",
   "name": "python",
   "nbconvert_exporter": "python",
   "pygments_lexer": "ipython3",
   "version": "3.7.0"
  },
  "toc": {
   "base_numbering": 1,
   "nav_menu": {},
   "number_sections": false,
   "sideBar": true,
   "skip_h1_title": false,
   "title_cell": "Table of Contents",
   "title_sidebar": "Contents",
   "toc_cell": true,
   "toc_position": {},
   "toc_section_display": true,
   "toc_window_display": true
  }
 },
 "nbformat": 4,
 "nbformat_minor": 2
}
