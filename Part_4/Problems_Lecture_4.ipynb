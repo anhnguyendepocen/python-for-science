{
 "cells": [
  {
   "cell_type": "markdown",
   "metadata": {},
   "source": [
    "# Beginner Python and Math for Data Science\n",
    "## Lecture 4\n",
    "### Advanced Beginner Concepts of Python and Introduction to Numpy"
   ]
  },
  {
   "cell_type": "markdown",
   "metadata": {},
   "source": [
    "### Problem 1 (version 1): \n",
    "\n",
    "Write a program to take a sentence and return the number of letters in each word to a list. For example, if you have the sentence: \"Allen prefers the spartan lifestyle to the intoxicating lull of a dull-toothed colony.\".\n",
    "\n",
    "- Show how you can do this using a `map` + `lambda` function, but also with a traditional function definition with `def` (although this may be redundant, show it anyways so you get used to comparing `def` with `lambda` style functions \n",
    "- Some hints:\n",
    "> 1. First, initialize the sentence as a variable then use an appropriate string method to split the sentence into words\n",
    "> 2. Then, calculate the length of each word and return this to a list "
   ]
  },
  {
   "cell_type": "code",
   "execution_count": 84,
   "metadata": {},
   "outputs": [
    {
     "name": "stdout",
     "output_type": "stream",
     "text": [
      "Tell me a sentence, mister: Tell WHO a sentence?!\n",
      "[4, 3, 1, 10]\n"
     ]
    }
   ],
   "source": [
    "# Write your code here\n",
    "print(list(map(lambda x: len(x), input(\"Tell me a sentence, mister: \").split())))\n",
    "\n"
   ]
  },
  {
   "cell_type": "markdown",
   "metadata": {},
   "source": [
    "### Problem 2 ( version 1):\n",
    "\n",
    "Use list comprehension to \"flatten a list of lists\". This means that if you have a nested list (`[[1,2,3], [4,5,6], [7,8,9]]`), you want to achieve the following: `[1,2,3,4,5,6,7,8,9]` which is no longer nested. "
   ]
  },
  {
   "cell_type": "code",
   "execution_count": 1,
   "metadata": {},
   "outputs": [
    {
     "name": "stdout",
     "output_type": "stream",
     "text": [
      "[1, 2, 3, 4, 5, 6, 7, 8, 9]\n",
      "[1, 2, 3, 4, 5, 6, 7, 8, 9]\n"
     ]
    }
   ],
   "source": [
    "# Write your code here\n",
    "stacked_list = [[1,2,3], [4,5,6], [7,8,9]]\n",
    "print([elements for sub_lists in stacked_list for elements in sub_lists])\n",
    "\n",
    "#Note to self: That was tricky! (but fun) Here's the same function using for loops, for reference:\n",
    "\n",
    "output_list = []\n",
    "for sub_lists in stacked_list:\n",
    "    for elements in sub_lists:\n",
    "        output_list.append(elements)       \n",
    "print(output_list)"
   ]
  },
  {
   "cell_type": "markdown",
   "metadata": {},
   "source": [
    "### Problem 1 (version 2): \n",
    "\n",
    "Write a program to take a sentence and return the number of letters in each word to a list. For example, if you have the sentence: \"Slightery, slippery, tricky little snakes always steal the youngest fruit.\", your program should return the following list: `[9, 8, 6, 6, 6, 6, 5, 3, 8, 5`\n",
    "\n",
    "- Show how you can do this using a `map` + `lambda` function, but also with a traditional function definition with `def` (although this may be redundant, show it anyways so you get used to comparing `def` with `lambda` style functions \n",
    "- Some hints:\n",
    "> 1. First, initialize the sentence as a variable then use an appropriate string method to split the sentence into words\n",
    "> 2. Then, calculate the length of each word and return this to a list "
   ]
  },
  {
   "cell_type": "code",
   "execution_count": 1,
   "metadata": {},
   "outputs": [
    {
     "name": "stdout",
     "output_type": "stream",
     "text": [
      "[9, 9, 6, 6, 6, 6, 5, 3, 4, 7, 4]\n"
     ]
    }
   ],
   "source": [
    "# Write your code here\n",
    "sentence = \"Slithery, slippery, tricky little snakes always steal the most beloved egg.\"\n",
    "words = sentence.split()\n",
    "\n",
    "lengths = list(map(lambda word: len(word), words))\n",
    "print(lengths) #Notice that the period at the end of the sentence is counted."
   ]
  },
  {
   "cell_type": "code",
   "execution_count": 485,
   "metadata": {},
   "outputs": [
    {
     "name": "stdout",
     "output_type": "stream",
     "text": [
      "[10, 9, 6, 6, 6, 6, 5, 3, 8, 6]\n"
     ]
    }
   ],
   "source": [
    "# Write your code here\n",
    "def word_count(word):\n",
    "    return len(word)\n",
    "\n",
    "lengths = []\n",
    "for word in words:\n",
    "    lengths.append(word_count(word))\n",
    "\n",
    "print(lengths)"
   ]
  },
  {
   "cell_type": "markdown",
   "metadata": {},
   "source": [
    "### Problem 2 (version 2):\n",
    "\n",
    "Use list comprehension to \"flatten a list of lists\". This means that if you have a nested list (`[[1,2,3], [4,5,6], [7,8,9]]`), you want to achieve the following: `[1,2,3,4,5,6,7,8,9]` which is no longer nested. \n",
    "\n",
    "- Flatten the following list: `[[\"a\", \"b\",\"c\"], [1, 2, 3], [\"Allen\"]]` to achieve `['a', 'b', 'c', 1, 2, 3, 'Allen']`\n",
    "- Use List Comprehension and you will need a Nested For Loop equivalent \n",
    "- This is a very frequent \"problem\" to have so you should be familiar with how to handle this scenario"
   ]
  },
  {
   "cell_type": "code",
   "execution_count": 487,
   "metadata": {},
   "outputs": [
    {
     "data": {
      "text/plain": [
       "['a', 'b', 'c', 1, 2, 3, 'Allen']"
      ]
     },
     "execution_count": 487,
     "metadata": {},
     "output_type": "execute_result"
    }
   ],
   "source": [
    "# Write your code here\n",
    "nested_list = [[\"a\", \"b\",\"c\"], [1, 2, 3], [\"Allen\"]]\n",
    "[num for elem in nested_list for num in elem]"
   ]
  },
  {
   "cell_type": "code",
   "execution_count": null,
   "metadata": {},
   "outputs": [],
   "source": []
  }
 ],
 "metadata": {
  "kernelspec": {
   "display_name": "Python 3",
   "language": "python",
   "name": "python3"
  },
  "language_info": {
   "codemirror_mode": {
    "name": "ipython",
    "version": 3
   },
   "file_extension": ".py",
   "mimetype": "text/x-python",
   "name": "python",
   "nbconvert_exporter": "python",
   "pygments_lexer": "ipython3",
   "version": "3.6.5"
  }
 },
 "nbformat": 4,
 "nbformat_minor": 2
}
